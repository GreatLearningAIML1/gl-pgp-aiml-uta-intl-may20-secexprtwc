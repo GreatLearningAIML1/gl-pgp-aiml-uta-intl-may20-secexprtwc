{
 "cells": [
  {
   "cell_type": "markdown",
   "metadata": {
    "id": "lzcEqJ0eMro_"
   },
   "source": [
    "# Project DescriptionTwitter US Airline Sentiment - Warren Camp\n"
   ]
  },
  {
   "cell_type": "markdown",
   "metadata": {
    "id": "AKGH64M2Mro_"
   },
   "source": [
    "### Data Description:"
   ]
  },
  {
   "cell_type": "markdown",
   "metadata": {
    "id": "ssduFBpXMro_"
   },
   "source": [
    "A sentiment analysis job about the problems of each major U.S. airline. Twitter data was scraped from\n",
    "February of 2015 and contributors were asked to first classify positive, negative, and neutral tweets, followed\n",
    "by categorizing negative reasons (such as \"late flight\" or \"rude service\").\n"
   ]
  },
  {
   "cell_type": "markdown",
   "metadata": {
    "id": "M8ZsMcNlMro_"
   },
   "source": [
    "###  Dataset: "
   ]
  },
  {
   "cell_type": "markdown",
   "metadata": {
    "id": "1KSNJM8sMro_"
   },
   "source": [
    "The project is from a dataset from Kaggle.\n",
    "Link to the Kaggle project site: https://www.kaggle.com/crowdflower/twitter-airline-sentiment\n",
    "The dataset has to be downloaded from the above Kaggle website.\n",
    "The dataset has the following columns:\n",
    " tweet_id\n",
    " airline_sentiment\n",
    " airline_sentiment_confidence\n",
    " negativereason\n",
    " negativereason_confidence\n",
    " airline\n",
    " airline_sentiment_gold\n",
    " name\n",
    " negativereason_gold\n",
    " retweet_count\n",
    " text\n",
    " tweet_coord\n",
    " tweet_created\n",
    " tweet_location\n",
    " user_timezone"
   ]
  },
  {
   "cell_type": "markdown",
   "metadata": {
    "id": "RN11mi9cMro_"
   },
   "source": [
    "### Steps and tasks:"
   ]
  },
  {
   "cell_type": "markdown",
   "metadata": {
    "id": "IPqfrXWVMro_"
   },
   "source": [
    "1. Import the libraries, load dataset, print shape of data, data description. (5 Marks)\n",
    "2. Understand of data-columns: (5 Marks)\n",
    "a. Drop all other columns except “text” and “airline_sentiment”.\n",
    "b. Check the shape of data.\n",
    "c. Print first 5 rows of data.\n",
    "3. Text pre-processing: Data preparation. (20 Marks)\n",
    "a. Html tag removal.\n",
    "b. Tokenization.\n",
    "c. Remove the numbers.\n",
    "d. Removal of Special Characters and Punctuations.\n",
    "e. Conversion to lowercase.\n",
    "f. Lemmatize or stemming.\n",
    "g. Join the words in the list to convert back to text string in the dataframe. (So that each row\n",
    "contains the data in text format.)\n",
    "h. Print first 5 rows of data after pre-processing.\n",
    "4. Vectorization: (10 Marks)\n",
    "a. Use CountVectorizer.\n",
    "b. Use TfidfVectorizer.\n",
    "5. Fit and evaluate model using both type of vectorization. (6+6 Marks)\n",
    "6. Summarize your understanding of the application of Various Pre-processing and Vectorization and\n",
    "performance of your model on this dataset. (8 Marks)"
   ]
  },
  {
   "cell_type": "code",
   "execution_count": null,
   "metadata": {
    "colab": {
     "base_uri": "https://localhost:8080/"
    },
    "id": "cwrf49fXMro_",
    "outputId": "3f1d423f-f35e-4a99-ac10-adba1a268613"
   },
   "outputs": [
    {
     "name": "stdout",
     "output_type": "stream",
     "text": [
      "pip 19.3.1 from /usr/local/lib/python3.6/dist-packages/pip (python 3.6)\n",
      "Requirement already satisfied: pyyaml in /usr/local/lib/python3.6/dist-packages (3.13)\n",
      "Requirement already satisfied: h5py in /usr/local/lib/python3.6/dist-packages (2.10.0)\n",
      "Requirement already satisfied: numpy>=1.7 in /usr/local/lib/python3.6/dist-packages (from h5py) (1.18.5)\n",
      "Requirement already satisfied: six in /usr/local/lib/python3.6/dist-packages (from h5py) (1.15.0)\n",
      "Requirement already satisfied: contractions in /usr/local/lib/python3.6/dist-packages (0.0.43)\n",
      "Requirement already satisfied: textsearch in /usr/local/lib/python3.6/dist-packages (from contractions) (0.0.17)\n",
      "Requirement already satisfied: pyahocorasick in /usr/local/lib/python3.6/dist-packages (from textsearch->contractions) (1.4.0)\n",
      "Requirement already satisfied: Unidecode in /usr/local/lib/python3.6/dist-packages (from textsearch->contractions) (1.1.1)\n"
     ]
    }
   ],
   "source": [
    "!pip3 --version\n",
    "!pip install pyyaml h5py  # Required to save models in HDF5 format\n",
    "!pip install contractions"
   ]
  },
  {
   "cell_type": "code",
   "execution_count": null,
   "metadata": {
    "colab": {
     "base_uri": "https://localhost:8080/"
    },
    "id": "7fXNFj5VMrpA",
    "outputId": "f7d9e046-a38e-4e6c-fca7-8a2d47c924b4"
   },
   "outputs": [
    {
     "name": "stdout",
     "output_type": "stream",
     "text": [
      "[nltk_data] Downloading package punkt to /root/nltk_data...\n",
      "[nltk_data]   Package punkt is already up-to-date!\n",
      "[nltk_data] Downloading package stopwords to /root/nltk_data...\n",
      "[nltk_data]   Package stopwords is already up-to-date!\n",
      "[nltk_data] Downloading package wordnet to /root/nltk_data...\n",
      "[nltk_data]   Package wordnet is already up-to-date!\n"
     ]
    }
   ],
   "source": [
    "# 1. Import Libraries\n",
    "import cv2\n",
    "import contractions                                     # Import contractions library.\n",
    "import re, string, unicodedata                          # Import Regex, string and unicodedata.\n",
    "import numpy as np\n",
    "import pandas as pd\n",
    "import matplotlib.pyplot as plt\n",
    "import seaborn as sns\n",
    "import sklearn\n",
    "import nltk                                             #Natural language processing tool-kit\n",
    "nltk.download('punkt')\n",
    "nltk.download('stopwords')                              # Download Stopwords.\n",
    "nltk.download('wordnet')\n",
    "from nltk.corpus import stopwords                       # Import stopwords.\n",
    "from nltk.tokenize import word_tokenize, sent_tokenize  # Import Tokenizer.\n",
    "from nltk.stem.wordnet import WordNetLemmatizer         # Import Lemmatizer. \n",
    "from nltk.corpus import stopwords                       #Stopwords corpus\n",
    "from nltk.stem import PorterStemmer                     #Stemmer\n",
    "from nltk.tokenize import word_tokenize \n",
    "from sklearn.feature_extraction.text import CountVectorizer          #For Bag of words\n",
    "from sklearn.feature_extraction.text import TfidfVectorizer          #For TF-IDF      \n",
    "from sklearn.model_selection import train_test_split\n",
    "from sklearn.ensemble import RandomForestClassifier\n",
    "from sklearn.model_selection import cross_val_score\n",
    "from sklearn.metrics import confusion_matrix, plot_confusion_matrix\n",
    "from google.colab import drive\n",
    "from google.colab.patches import cv2_imshow\n",
    "from bs4 import BeautifulSoup\n",
    "%matplotlib inline\n"
   ]
  },
  {
   "cell_type": "code",
   "execution_count": null,
   "metadata": {
    "colab": {
     "base_uri": "https://localhost:8080/"
    },
    "id": "hv_IjQlGMrpC",
    "outputId": "6f3e0a46-f84c-483a-b8f6-9faacddaf799"
   },
   "outputs": [
    {
     "name": "stdout",
     "output_type": "stream",
     "text": [
      "Drive already mounted at /content/drive; to attempt to forcibly remount, call drive.mount(\"/content/drive\", force_remount=True).\n"
     ]
    }
   ],
   "source": [
    "drive.mount('/content/drive')"
   ]
  },
  {
   "cell_type": "code",
   "execution_count": null,
   "metadata": {
    "colab": {
     "base_uri": "https://localhost:8080/",
     "height": 469
    },
    "id": "AMfCRc99MrpC",
    "outputId": "6b7fb8e2-f5f5-4850-ffb7-5bd6775c787d"
   },
   "outputs": [
    {
     "data": {
      "text/html": [
       "<div>\n",
       "<style scoped>\n",
       "    .dataframe tbody tr th:only-of-type {\n",
       "        vertical-align: middle;\n",
       "    }\n",
       "\n",
       "    .dataframe tbody tr th {\n",
       "        vertical-align: top;\n",
       "    }\n",
       "\n",
       "    .dataframe thead th {\n",
       "        text-align: right;\n",
       "    }\n",
       "</style>\n",
       "<table border=\"1\" class=\"dataframe\">\n",
       "  <thead>\n",
       "    <tr style=\"text-align: right;\">\n",
       "      <th></th>\n",
       "      <th>tweet_id</th>\n",
       "      <th>airline_sentiment</th>\n",
       "      <th>airline_sentiment_confidence</th>\n",
       "      <th>negativereason</th>\n",
       "      <th>negativereason_confidence</th>\n",
       "      <th>airline</th>\n",
       "      <th>airline_sentiment_gold</th>\n",
       "      <th>name</th>\n",
       "      <th>negativereason_gold</th>\n",
       "      <th>retweet_count</th>\n",
       "      <th>text</th>\n",
       "      <th>tweet_coord</th>\n",
       "      <th>tweet_created</th>\n",
       "      <th>tweet_location</th>\n",
       "      <th>user_timezone</th>\n",
       "    </tr>\n",
       "  </thead>\n",
       "  <tbody>\n",
       "    <tr>\n",
       "      <th>0</th>\n",
       "      <td>570306133677760513</td>\n",
       "      <td>neutral</td>\n",
       "      <td>1.0000</td>\n",
       "      <td>NaN</td>\n",
       "      <td>NaN</td>\n",
       "      <td>Virgin America</td>\n",
       "      <td>NaN</td>\n",
       "      <td>cairdin</td>\n",
       "      <td>NaN</td>\n",
       "      <td>0</td>\n",
       "      <td>@VirginAmerica What @dhepburn said.</td>\n",
       "      <td>NaN</td>\n",
       "      <td>2015-02-24 11:35:52 -0800</td>\n",
       "      <td>NaN</td>\n",
       "      <td>Eastern Time (US &amp; Canada)</td>\n",
       "    </tr>\n",
       "    <tr>\n",
       "      <th>1</th>\n",
       "      <td>570301130888122368</td>\n",
       "      <td>positive</td>\n",
       "      <td>0.3486</td>\n",
       "      <td>NaN</td>\n",
       "      <td>0.0000</td>\n",
       "      <td>Virgin America</td>\n",
       "      <td>NaN</td>\n",
       "      <td>jnardino</td>\n",
       "      <td>NaN</td>\n",
       "      <td>0</td>\n",
       "      <td>@VirginAmerica plus you've added commercials t...</td>\n",
       "      <td>NaN</td>\n",
       "      <td>2015-02-24 11:15:59 -0800</td>\n",
       "      <td>NaN</td>\n",
       "      <td>Pacific Time (US &amp; Canada)</td>\n",
       "    </tr>\n",
       "    <tr>\n",
       "      <th>2</th>\n",
       "      <td>570301083672813571</td>\n",
       "      <td>neutral</td>\n",
       "      <td>0.6837</td>\n",
       "      <td>NaN</td>\n",
       "      <td>NaN</td>\n",
       "      <td>Virgin America</td>\n",
       "      <td>NaN</td>\n",
       "      <td>yvonnalynn</td>\n",
       "      <td>NaN</td>\n",
       "      <td>0</td>\n",
       "      <td>@VirginAmerica I didn't today... Must mean I n...</td>\n",
       "      <td>NaN</td>\n",
       "      <td>2015-02-24 11:15:48 -0800</td>\n",
       "      <td>Lets Play</td>\n",
       "      <td>Central Time (US &amp; Canada)</td>\n",
       "    </tr>\n",
       "    <tr>\n",
       "      <th>3</th>\n",
       "      <td>570301031407624196</td>\n",
       "      <td>negative</td>\n",
       "      <td>1.0000</td>\n",
       "      <td>Bad Flight</td>\n",
       "      <td>0.7033</td>\n",
       "      <td>Virgin America</td>\n",
       "      <td>NaN</td>\n",
       "      <td>jnardino</td>\n",
       "      <td>NaN</td>\n",
       "      <td>0</td>\n",
       "      <td>@VirginAmerica it's really aggressive to blast...</td>\n",
       "      <td>NaN</td>\n",
       "      <td>2015-02-24 11:15:36 -0800</td>\n",
       "      <td>NaN</td>\n",
       "      <td>Pacific Time (US &amp; Canada)</td>\n",
       "    </tr>\n",
       "    <tr>\n",
       "      <th>4</th>\n",
       "      <td>570300817074462722</td>\n",
       "      <td>negative</td>\n",
       "      <td>1.0000</td>\n",
       "      <td>Can't Tell</td>\n",
       "      <td>1.0000</td>\n",
       "      <td>Virgin America</td>\n",
       "      <td>NaN</td>\n",
       "      <td>jnardino</td>\n",
       "      <td>NaN</td>\n",
       "      <td>0</td>\n",
       "      <td>@VirginAmerica and it's a really big bad thing...</td>\n",
       "      <td>NaN</td>\n",
       "      <td>2015-02-24 11:14:45 -0800</td>\n",
       "      <td>NaN</td>\n",
       "      <td>Pacific Time (US &amp; Canada)</td>\n",
       "    </tr>\n",
       "  </tbody>\n",
       "</table>\n",
       "</div>"
      ],
      "text/plain": [
       "             tweet_id  ...               user_timezone\n",
       "0  570306133677760513  ...  Eastern Time (US & Canada)\n",
       "1  570301130888122368  ...  Pacific Time (US & Canada)\n",
       "2  570301083672813571  ...  Central Time (US & Canada)\n",
       "3  570301031407624196  ...  Pacific Time (US & Canada)\n",
       "4  570300817074462722  ...  Pacific Time (US & Canada)\n",
       "\n",
       "[5 rows x 15 columns]"
      ]
     },
     "execution_count": 4,
     "metadata": {
      "tags": []
     },
     "output_type": "execute_result"
    }
   ],
   "source": [
    "# 1. Load data\n",
    "df = pd.read_csv('/content/drive/My Drive/Data/Tweets.csv')    # Load the dataset by providing the path to the file.\n",
    "df.head()"
   ]
  },
  {
   "cell_type": "code",
   "execution_count": null,
   "metadata": {
    "colab": {
     "base_uri": "https://localhost:8080/"
    },
    "id": "o9LrRBCCN0O5",
    "outputId": "e85cc2c7-dd17-434c-9125-4fcde5e2443d"
   },
   "outputs": [
    {
     "name": "stdout",
     "output_type": "stream",
     "text": [
      "df Shape:  (14640, 15)\n",
      "<class 'pandas.core.frame.DataFrame'>\n",
      "RangeIndex: 14640 entries, 0 to 14639\n",
      "Data columns (total 15 columns):\n",
      " #   Column                        Non-Null Count  Dtype  \n",
      "---  ------                        --------------  -----  \n",
      " 0   tweet_id                      14640 non-null  int64  \n",
      " 1   airline_sentiment             14640 non-null  object \n",
      " 2   airline_sentiment_confidence  14640 non-null  float64\n",
      " 3   negativereason                9178 non-null   object \n",
      " 4   negativereason_confidence     10522 non-null  float64\n",
      " 5   airline                       14640 non-null  object \n",
      " 6   airline_sentiment_gold        40 non-null     object \n",
      " 7   name                          14640 non-null  object \n",
      " 8   negativereason_gold           32 non-null     object \n",
      " 9   retweet_count                 14640 non-null  int64  \n",
      " 10  text                          14640 non-null  object \n",
      " 11  tweet_coord                   1019 non-null   object \n",
      " 12  tweet_created                 14640 non-null  object \n",
      " 13  tweet_location                9907 non-null   object \n",
      " 14  user_timezone                 9820 non-null   object \n",
      "dtypes: float64(2), int64(2), object(11)\n",
      "memory usage: 1.7+ MB\n",
      "None\n"
     ]
    }
   ],
   "source": [
    "# 1. Print data shape and description\n",
    "print('df Shape: ', df.shape)\n",
    "print(df.info())"
   ]
  },
  {
   "cell_type": "markdown",
   "metadata": {
    "id": "ehS_9v7gkXFG"
   },
   "source": [
    "### Observation: Tweets dataset contains 14,640 rows (features) and 15 columns (labels).\n"
   ]
  },
  {
   "cell_type": "markdown",
   "metadata": {
    "id": "fYDaLXbwTAyr"
   },
   "source": [
    "### 2. Understand the data"
   ]
  },
  {
   "cell_type": "code",
   "execution_count": null,
   "metadata": {
    "colab": {
     "base_uri": "https://localhost:8080/"
    },
    "id": "vetaccRKP1gw",
    "outputId": "201e6a12-097a-42ed-b942-e8acb5c88cc1"
   },
   "outputs": [
    {
     "data": {
      "text/plain": [
       "negative    0.626913\n",
       "neutral     0.211680\n",
       "positive    0.161407\n",
       "Name: airline_sentiment, dtype: float64"
      ]
     },
     "execution_count": 6,
     "metadata": {
      "tags": []
     },
     "output_type": "execute_result"
    }
   ],
   "source": [
    "# 2a. Drop all other columns except “text” and “airline_sentiment”\n",
    "X = df[['text', 'airline_sentiment']]\n",
    "X.airline_sentiment.value_counts()/len(X)\n"
   ]
  },
  {
   "cell_type": "code",
   "execution_count": null,
   "metadata": {
    "colab": {
     "base_uri": "https://localhost:8080/",
     "height": 392
    },
    "id": "velSanPJeLS_",
    "outputId": "4d262a63-9938-46c2-b268-1cf277a75518"
   },
   "outputs": [
    {
     "name": "stderr",
     "output_type": "stream",
     "text": [
      "/usr/local/lib/python3.6/dist-packages/seaborn/_decorators.py:43: FutureWarning: Pass the following variable as a keyword arg: x. From version 0.12, the only valid positional argument will be `data`, and passing other arguments without an explicit keyword will result in an error or misinterpretation.\n",
      "  FutureWarning\n"
     ]
    },
    {
     "data": {
      "image/png": "[encoded data removed]",
      "text/plain": [
       "<Figure size 360x360 with 1 Axes>"
      ]
     },
     "metadata": {
      "needs_background": "light",
      "tags": []
     },
     "output_type": "display_data"
    }
   ],
   "source": [
    "# Visualize the number of sentiments as negative, neutral, and positive\n",
    "plt.figure(figsize=(5,5))\n",
    "sns.countplot(X['airline_sentiment'], order = X.airline_sentiment.value_counts().index,palette= 'plasma')\n",
    "plt.show()"
   ]
  },
  {
   "cell_type": "markdown",
   "metadata": {
    "id": "zF1Ih7D__0ai"
   },
   "source": [
    "### Observation:  The data is embalanced with negative tweets greater than the sum of the two other types of tweets."
   ]
  },
  {
   "cell_type": "code",
   "execution_count": null,
   "metadata": {
    "colab": {
     "base_uri": "https://localhost:8080/"
    },
    "id": "ZKETEz6vR1Oc",
    "outputId": "bc559ac9-ee71-4fed-be0b-a4dd74713cd5"
   },
   "outputs": [
    {
     "name": "stdout",
     "output_type": "stream",
     "text": [
      "(14640, 2)\n"
     ]
    },
    {
     "data": {
      "text/plain": [
       "text                 0\n",
       "airline_sentiment    0\n",
       "dtype: int64"
      ]
     },
     "execution_count": 8,
     "metadata": {
      "tags": []
     },
     "output_type": "execute_result"
    }
   ],
   "source": [
    "# 2b.  Check the shape of data. \n",
    "print(X.shape)\n",
    "X.isnull().sum(axis=0)     "
   ]
  },
  {
   "cell_type": "markdown",
   "metadata": {
    "id": "3QGtCH1SAn-Q"
   },
   "source": [
    "### Observation: The data has no missing values and contains 14,640 tweets."
   ]
  },
  {
   "cell_type": "code",
   "execution_count": null,
   "metadata": {
    "colab": {
     "base_uri": "https://localhost:8080/"
    },
    "id": "Jzj8-VG_SHSI",
    "outputId": "3d057866-8e47-4691-f30c-c003e3b6426a"
   },
   "outputs": [
    {
     "name": "stdout",
     "output_type": "stream",
     "text": [
      "                                                                                                                             text airline_sentiment\n",
      "0                                                                                             @VirginAmerica What @dhepburn said.           neutral\n",
      "1                                                        @VirginAmerica plus you've added commercials to the experience... tacky.          positive\n",
      "2                                                         @VirginAmerica I didn't today... Must mean I need to take another trip!           neutral\n",
      "3  @VirginAmerica it's really aggressive to blast obnoxious \"entertainment\" in your guests' faces &amp; they have little recourse          negative\n",
      "4                                                                         @VirginAmerica and it's a really big bad thing about it          negative\n"
     ]
    }
   ],
   "source": [
    "# 2c. Print first 5 rows of data.\n",
    "pd.set_option('display.max_colwidth', None) # Display full dataframe information (Non-turncated Text column.)10\n",
    "print(X.head(5))"
   ]
  },
  {
   "cell_type": "markdown",
   "metadata": {
    "id": "0Hw-8vPpSl6Y"
   },
   "source": [
    "### 3. Text pre-processing: Data preparation\n"
   ]
  },
  {
   "cell_type": "code",
   "execution_count": null,
   "metadata": {
    "id": "spJWYUQa7DuT"
   },
   "outputs": [],
   "source": [
    "# 3a.\n",
    "sw = stopwords.words('english')\n",
    "\n",
    "customlist = ['not', \"couldn't\", 'didn', \"didn't\", 'doesn', \"doesn't\", 'hadn', \"hadn't\", 'hasn',\n",
    "        \"hasn't\", 'haven', \"haven't\", 'isn', \"isn't\", 'ma', 'mightn', \"mightn't\", 'mustn',\n",
    "        \"mustn't\", 'needn', \"needn't\", 'shan', \"shan't\", 'shouldn', \"shouldn't\", 'wasn',\n",
    "        \"wasn't\", 'weren', \"weren't\", 'won', \"won't\", 'wouldn', \"wouldn't\"]\n",
    "\n",
    "# Set custom stop-word's list as not, couldn't etc. words matter in Sentiment, so not removing them from original data.\n",
    "\n",
    "stopwords = list(set(sw) - set(customlist))  \n",
    "\n",
    "lemmatizer = WordNetLemmatizer()"
   ]
  },
  {
   "cell_type": "code",
   "execution_count": null,
   "metadata": {
    "id": "v2Up7Ji_StnS"
   },
   "outputs": [],
   "source": [
    "# Html tag removal, function to remove HTML tags\n",
    "def remove_html_tags(textcpy):\n",
    "    \"\"\"Remove HTML tags in string of text\"\"\"\n",
    "    return BeautifulSoup(textcpy, 'html.parser').get_text()\n",
    " "
   ]
  },
  {
   "cell_type": "code",
   "execution_count": null,
   "metadata": {
    "id": "yofI6uRGUYTw"
   },
   "outputs": [],
   "source": [
    "# Remove Underscore\n",
    "def remove_underscore (textcpy):\n",
    "    return re.sub(r'_', '', textcpy)"
   ]
  },
  {
   "cell_type": "code",
   "execution_count": null,
   "metadata": {
    "id": "rRX1llV6bUWE"
   },
   "outputs": [],
   "source": [
    "def remove_contractions(textcpy):\n",
    "    \"\"\"Remove contractions in string of text\"\"\"\n",
    "    return contractions.fix(textcpy)"
   ]
  },
  {
   "cell_type": "code",
   "execution_count": null,
   "metadata": {
    "id": "eUwhUiyOfKH9"
   },
   "outputs": [],
   "source": [
    "def remove_numbers(textcpy):\n",
    "  \"\"\"Remove numbers in string of text\"\"\"\n",
    "  return re.sub(r'\\d+', '', textcpy)\n"
   ]
  },
  {
   "cell_type": "code",
   "execution_count": null,
   "metadata": {
    "id": "owPaDeCs2hSV"
   },
   "outputs": [],
   "source": [
    "def to_lowercase(words):\n",
    "    \"\"\"Convert all characters to lowercase from list of tokenized words\"\"\"\n",
    "    new_words = []\n",
    "    for word in words:\n",
    "        new_word = word.lower()\n",
    "        new_words.append(new_word)\n",
    "    return new_words"
   ]
  },
  {
   "cell_type": "code",
   "execution_count": null,
   "metadata": {
    "id": "gHtuYPtU4L5B"
   },
   "outputs": [],
   "source": [
    "def remove_non_ascii(words):\n",
    "    \"\"\"Remove non-ASCII characters from list of tokenized words\"\"\"\n",
    "    new_words = []\n",
    "    for word in words:\n",
    "        new_word = unicodedata.normalize('NFKD', word).encode('ascii', 'ignore').decode('utf-8', 'ignore')\n",
    "        new_words.append(new_word)\n",
    "    return new_words    "
   ]
  },
  {
   "cell_type": "code",
   "execution_count": null,
   "metadata": {
    "id": "lWGfRPBM5cOA"
   },
   "outputs": [],
   "source": [
    "def remove_punctuation(words):\n",
    "    \"\"\"Remove punctuation from list of tokenized words\"\"\"\n",
    "    new_words = []\n",
    "    for word in words:\n",
    "        new_word = re.sub(r'[^\\w\\s]', '', word)\n",
    "        if new_word != '':\n",
    "            new_words.append(new_word)\n",
    "    return new_words\n"
   ]
  },
  {
   "cell_type": "code",
   "execution_count": null,
   "metadata": {
    "id": "WXVwjaQi6qkU"
   },
   "outputs": [],
   "source": [
    "def remove_stopwords(words):\n",
    "    \"\"\"Remove stop words from list of tokenized words\"\"\"\n",
    "    new_words = []\n",
    "    for word in words:\n",
    "        if word not in stopwords:\n",
    "            new_words.append(word)\n",
    "    return new_words"
   ]
  },
  {
   "cell_type": "code",
   "execution_count": null,
   "metadata": {
    "id": "NYJV2dd--Ci1"
   },
   "outputs": [],
   "source": [
    "def lemmatize_list(words):\n",
    "    new_words = []\n",
    "    for word in words:\n",
    "      new_words.append(lemmatizer.lemmatize(word, pos='v'))\n",
    "    return new_words"
   ]
  },
  {
   "cell_type": "code",
   "execution_count": null,
   "metadata": {
    "id": "Zj0EcN1-Jz61"
   },
   "outputs": [],
   "source": [
    "def join_words(words):          \n",
    "    return ' '.join(map(str, words))     \n"
   ]
  },
  {
   "cell_type": "markdown",
   "metadata": {
    "id": "lC-xpOnrenEN"
   },
   "source": [
    "### 3a. Remove HTML Tags\n"
   ]
  },
  {
   "cell_type": "code",
   "execution_count": null,
   "metadata": {
    "colab": {
     "base_uri": "https://localhost:8080/",
     "height": 317
    },
    "id": "_J_55EOOU78k",
    "outputId": "ced67023-0821-4f50-abf0-b6622cbf4ccd"
   },
   "outputs": [
    {
     "name": "stderr",
     "output_type": "stream",
     "text": [
      "/usr/local/lib/python3.6/dist-packages/ipykernel_launcher.py:1: SettingWithCopyWarning: \n",
      "A value is trying to be set on a copy of a slice from a DataFrame.\n",
      "Try using .loc[row_indexer,col_indexer] = value instead\n",
      "\n",
      "See the caveats in the documentation: https://pandas.pydata.org/pandas-docs/stable/user_guide/indexing.html#returning-a-view-versus-a-copy\n",
      "  \"\"\"Entry point for launching an IPython kernel.\n"
     ]
    },
    {
     "data": {
      "text/html": [
       "<div>\n",
       "<style scoped>\n",
       "    .dataframe tbody tr th:only-of-type {\n",
       "        vertical-align: middle;\n",
       "    }\n",
       "\n",
       "    .dataframe tbody tr th {\n",
       "        vertical-align: top;\n",
       "    }\n",
       "\n",
       "    .dataframe thead th {\n",
       "        text-align: right;\n",
       "    }\n",
       "</style>\n",
       "<table border=\"1\" class=\"dataframe\">\n",
       "  <thead>\n",
       "    <tr style=\"text-align: right;\">\n",
       "      <th></th>\n",
       "      <th>text</th>\n",
       "      <th>airline_sentiment</th>\n",
       "    </tr>\n",
       "  </thead>\n",
       "  <tbody>\n",
       "    <tr>\n",
       "      <th>0</th>\n",
       "      <td>@VirginAmerica What @dhepburn said.</td>\n",
       "      <td>neutral</td>\n",
       "    </tr>\n",
       "    <tr>\n",
       "      <th>1</th>\n",
       "      <td>@VirginAmerica plus you've added commercials to the experience... tacky.</td>\n",
       "      <td>positive</td>\n",
       "    </tr>\n",
       "    <tr>\n",
       "      <th>2</th>\n",
       "      <td>@VirginAmerica I didn't today... Must mean I need to take another trip!</td>\n",
       "      <td>neutral</td>\n",
       "    </tr>\n",
       "    <tr>\n",
       "      <th>3</th>\n",
       "      <td>@VirginAmerica it's really aggressive to blast obnoxious \"entertainment\" in your guests' faces &amp; they have little recourse</td>\n",
       "      <td>negative</td>\n",
       "    </tr>\n",
       "    <tr>\n",
       "      <th>4</th>\n",
       "      <td>@VirginAmerica and it's a really big bad thing about it</td>\n",
       "      <td>negative</td>\n",
       "    </tr>\n",
       "  </tbody>\n",
       "</table>\n",
       "</div>"
      ],
      "text/plain": [
       "                                                                                                                         text airline_sentiment\n",
       "0                                                                                         @VirginAmerica What @dhepburn said.           neutral\n",
       "1                                                    @VirginAmerica plus you've added commercials to the experience... tacky.          positive\n",
       "2                                                     @VirginAmerica I didn't today... Must mean I need to take another trip!           neutral\n",
       "3  @VirginAmerica it's really aggressive to blast obnoxious \"entertainment\" in your guests' faces & they have little recourse          negative\n",
       "4                                                                     @VirginAmerica and it's a really big bad thing about it          negative"
      ]
     },
     "execution_count": 21,
     "metadata": {
      "tags": []
     },
     "output_type": "execute_result"
    }
   ],
   "source": [
    "X['text'] = X['text'].apply(lambda i: remove_html_tags(i))\n",
    "X.head()"
   ]
  },
  {
   "cell_type": "markdown",
   "metadata": {
    "id": "OyZg8dFXew9t"
   },
   "source": [
    "### 3d. Removal of Special Characters and  Punctuations - Contractions"
   ]
  },
  {
   "cell_type": "code",
   "execution_count": null,
   "metadata": {
    "colab": {
     "base_uri": "https://localhost:8080/",
     "height": 317
    },
    "id": "Fr_EvK45bab_",
    "outputId": "508a58b2-9358-44b0-eebe-24f38caa3e57"
   },
   "outputs": [
    {
     "name": "stderr",
     "output_type": "stream",
     "text": [
      "/usr/local/lib/python3.6/dist-packages/ipykernel_launcher.py:1: SettingWithCopyWarning: \n",
      "A value is trying to be set on a copy of a slice from a DataFrame.\n",
      "Try using .loc[row_indexer,col_indexer] = value instead\n",
      "\n",
      "See the caveats in the documentation: https://pandas.pydata.org/pandas-docs/stable/user_guide/indexing.html#returning-a-view-versus-a-copy\n",
      "  \"\"\"Entry point for launching an IPython kernel.\n"
     ]
    },
    {
     "data": {
      "text/html": [
       "<div>\n",
       "<style scoped>\n",
       "    .dataframe tbody tr th:only-of-type {\n",
       "        vertical-align: middle;\n",
       "    }\n",
       "\n",
       "    .dataframe tbody tr th {\n",
       "        vertical-align: top;\n",
       "    }\n",
       "\n",
       "    .dataframe thead th {\n",
       "        text-align: right;\n",
       "    }\n",
       "</style>\n",
       "<table border=\"1\" class=\"dataframe\">\n",
       "  <thead>\n",
       "    <tr style=\"text-align: right;\">\n",
       "      <th></th>\n",
       "      <th>text</th>\n",
       "      <th>airline_sentiment</th>\n",
       "    </tr>\n",
       "  </thead>\n",
       "  <tbody>\n",
       "    <tr>\n",
       "      <th>0</th>\n",
       "      <td>@VirginAmerica What @dhepburn said.</td>\n",
       "      <td>neutral</td>\n",
       "    </tr>\n",
       "    <tr>\n",
       "      <th>1</th>\n",
       "      <td>@VirginAmerica plus you have added commercials to the experience... tacky.</td>\n",
       "      <td>positive</td>\n",
       "    </tr>\n",
       "    <tr>\n",
       "      <th>2</th>\n",
       "      <td>@VirginAmerica I did not today... Must mean I need to take another trip!</td>\n",
       "      <td>neutral</td>\n",
       "    </tr>\n",
       "    <tr>\n",
       "      <th>3</th>\n",
       "      <td>@VirginAmerica it is really aggressive to blast obnoxious \"entertainment\" in your guests' faces &amp; they have little recourse</td>\n",
       "      <td>negative</td>\n",
       "    </tr>\n",
       "    <tr>\n",
       "      <th>4</th>\n",
       "      <td>@VirginAmerica and it is a really big bad thing about it</td>\n",
       "      <td>negative</td>\n",
       "    </tr>\n",
       "  </tbody>\n",
       "</table>\n",
       "</div>"
      ],
      "text/plain": [
       "                                                                                                                          text airline_sentiment\n",
       "0                                                                                          @VirginAmerica What @dhepburn said.           neutral\n",
       "1                                                   @VirginAmerica plus you have added commercials to the experience... tacky.          positive\n",
       "2                                                     @VirginAmerica I did not today... Must mean I need to take another trip!           neutral\n",
       "3  @VirginAmerica it is really aggressive to blast obnoxious \"entertainment\" in your guests' faces & they have little recourse          negative\n",
       "4                                                                     @VirginAmerica and it is a really big bad thing about it          negative"
      ]
     },
     "execution_count": 22,
     "metadata": {
      "tags": []
     },
     "output_type": "execute_result"
    }
   ],
   "source": [
    "X['text'] = X['text'].apply(lambda i: remove_contractions(i))\n",
    "X.head()"
   ]
  },
  {
   "cell_type": "markdown",
   "metadata": {
    "id": "vqmzTzx9onar"
   },
   "source": [
    "### 3d. Removal of Special Characters - Underscore"
   ]
  },
  {
   "cell_type": "code",
   "execution_count": null,
   "metadata": {
    "colab": {
     "base_uri": "https://localhost:8080/",
     "height": 317
    },
    "id": "31WDZ2s0o_YG",
    "outputId": "a881ae03-fcaf-450d-a158-02bbc1bfc23e"
   },
   "outputs": [
    {
     "name": "stderr",
     "output_type": "stream",
     "text": [
      "/usr/local/lib/python3.6/dist-packages/ipykernel_launcher.py:1: SettingWithCopyWarning: \n",
      "A value is trying to be set on a copy of a slice from a DataFrame.\n",
      "Try using .loc[row_indexer,col_indexer] = value instead\n",
      "\n",
      "See the caveats in the documentation: https://pandas.pydata.org/pandas-docs/stable/user_guide/indexing.html#returning-a-view-versus-a-copy\n",
      "  \"\"\"Entry point for launching an IPython kernel.\n"
     ]
    },
    {
     "data": {
      "text/html": [
       "<div>\n",
       "<style scoped>\n",
       "    .dataframe tbody tr th:only-of-type {\n",
       "        vertical-align: middle;\n",
       "    }\n",
       "\n",
       "    .dataframe tbody tr th {\n",
       "        vertical-align: top;\n",
       "    }\n",
       "\n",
       "    .dataframe thead th {\n",
       "        text-align: right;\n",
       "    }\n",
       "</style>\n",
       "<table border=\"1\" class=\"dataframe\">\n",
       "  <thead>\n",
       "    <tr style=\"text-align: right;\">\n",
       "      <th></th>\n",
       "      <th>text</th>\n",
       "      <th>airline_sentiment</th>\n",
       "    </tr>\n",
       "  </thead>\n",
       "  <tbody>\n",
       "    <tr>\n",
       "      <th>0</th>\n",
       "      <td>@VirginAmerica What @dhepburn said.</td>\n",
       "      <td>neutral</td>\n",
       "    </tr>\n",
       "    <tr>\n",
       "      <th>1</th>\n",
       "      <td>@VirginAmerica plus you have added commercials to the experience... tacky.</td>\n",
       "      <td>positive</td>\n",
       "    </tr>\n",
       "    <tr>\n",
       "      <th>2</th>\n",
       "      <td>@VirginAmerica I did not today... Must mean I need to take another trip!</td>\n",
       "      <td>neutral</td>\n",
       "    </tr>\n",
       "    <tr>\n",
       "      <th>3</th>\n",
       "      <td>@VirginAmerica it is really aggressive to blast obnoxious \"entertainment\" in your guests' faces &amp; they have little recourse</td>\n",
       "      <td>negative</td>\n",
       "    </tr>\n",
       "    <tr>\n",
       "      <th>4</th>\n",
       "      <td>@VirginAmerica and it is a really big bad thing about it</td>\n",
       "      <td>negative</td>\n",
       "    </tr>\n",
       "  </tbody>\n",
       "</table>\n",
       "</div>"
      ],
      "text/plain": [
       "                                                                                                                          text airline_sentiment\n",
       "0                                                                                          @VirginAmerica What @dhepburn said.           neutral\n",
       "1                                                   @VirginAmerica plus you have added commercials to the experience... tacky.          positive\n",
       "2                                                     @VirginAmerica I did not today... Must mean I need to take another trip!           neutral\n",
       "3  @VirginAmerica it is really aggressive to blast obnoxious \"entertainment\" in your guests' faces & they have little recourse          negative\n",
       "4                                                                     @VirginAmerica and it is a really big bad thing about it          negative"
      ]
     },
     "execution_count": 23,
     "metadata": {
      "tags": []
     },
     "output_type": "execute_result"
    }
   ],
   "source": [
    "X['text'] = X['text'].apply(lambda i: remove_underscore(i))\n",
    "X.head()"
   ]
  },
  {
   "cell_type": "markdown",
   "metadata": {
    "id": "2XI7r5LqlfvF"
   },
   "source": [
    "### Observation: A review of the data indicated that underscores('_') were present.  A RE function was created to remove underscores because it is a special character."
   ]
  },
  {
   "cell_type": "markdown",
   "metadata": {
    "id": "s5n1H_iMfyjA"
   },
   "source": [
    "### 3c. Remove Numbers\n"
   ]
  },
  {
   "cell_type": "code",
   "execution_count": null,
   "metadata": {
    "colab": {
     "base_uri": "https://localhost:8080/",
     "height": 317
    },
    "id": "64hEaJSfgJDJ",
    "outputId": "b61ed57a-0577-4fb3-8bb4-694c009db060"
   },
   "outputs": [
    {
     "name": "stderr",
     "output_type": "stream",
     "text": [
      "/usr/local/lib/python3.6/dist-packages/ipykernel_launcher.py:1: SettingWithCopyWarning: \n",
      "A value is trying to be set on a copy of a slice from a DataFrame.\n",
      "Try using .loc[row_indexer,col_indexer] = value instead\n",
      "\n",
      "See the caveats in the documentation: https://pandas.pydata.org/pandas-docs/stable/user_guide/indexing.html#returning-a-view-versus-a-copy\n",
      "  \"\"\"Entry point for launching an IPython kernel.\n"
     ]
    },
    {
     "data": {
      "text/html": [
       "<div>\n",
       "<style scoped>\n",
       "    .dataframe tbody tr th:only-of-type {\n",
       "        vertical-align: middle;\n",
       "    }\n",
       "\n",
       "    .dataframe tbody tr th {\n",
       "        vertical-align: top;\n",
       "    }\n",
       "\n",
       "    .dataframe thead th {\n",
       "        text-align: right;\n",
       "    }\n",
       "</style>\n",
       "<table border=\"1\" class=\"dataframe\">\n",
       "  <thead>\n",
       "    <tr style=\"text-align: right;\">\n",
       "      <th></th>\n",
       "      <th>text</th>\n",
       "      <th>airline_sentiment</th>\n",
       "    </tr>\n",
       "  </thead>\n",
       "  <tbody>\n",
       "    <tr>\n",
       "      <th>0</th>\n",
       "      <td>@VirginAmerica What @dhepburn said.</td>\n",
       "      <td>neutral</td>\n",
       "    </tr>\n",
       "    <tr>\n",
       "      <th>1</th>\n",
       "      <td>@VirginAmerica plus you have added commercials to the experience... tacky.</td>\n",
       "      <td>positive</td>\n",
       "    </tr>\n",
       "    <tr>\n",
       "      <th>2</th>\n",
       "      <td>@VirginAmerica I did not today... Must mean I need to take another trip!</td>\n",
       "      <td>neutral</td>\n",
       "    </tr>\n",
       "    <tr>\n",
       "      <th>3</th>\n",
       "      <td>@VirginAmerica it is really aggressive to blast obnoxious \"entertainment\" in your guests' faces &amp; they have little recourse</td>\n",
       "      <td>negative</td>\n",
       "    </tr>\n",
       "    <tr>\n",
       "      <th>4</th>\n",
       "      <td>@VirginAmerica and it is a really big bad thing about it</td>\n",
       "      <td>negative</td>\n",
       "    </tr>\n",
       "  </tbody>\n",
       "</table>\n",
       "</div>"
      ],
      "text/plain": [
       "                                                                                                                          text airline_sentiment\n",
       "0                                                                                          @VirginAmerica What @dhepburn said.           neutral\n",
       "1                                                   @VirginAmerica plus you have added commercials to the experience... tacky.          positive\n",
       "2                                                     @VirginAmerica I did not today... Must mean I need to take another trip!           neutral\n",
       "3  @VirginAmerica it is really aggressive to blast obnoxious \"entertainment\" in your guests' faces & they have little recourse          negative\n",
       "4                                                                     @VirginAmerica and it is a really big bad thing about it          negative"
      ]
     },
     "execution_count": 24,
     "metadata": {
      "tags": []
     },
     "output_type": "execute_result"
    }
   ],
   "source": [
    "X['text'] = X['text'].apply(lambda i: remove_numbers(i))\n",
    "X.head()"
   ]
  },
  {
   "cell_type": "markdown",
   "metadata": {
    "id": "tN5AhDeGkNup"
   },
   "source": [
    "### 3b. Tokenize data"
   ]
  },
  {
   "cell_type": "code",
   "execution_count": null,
   "metadata": {
    "colab": {
     "base_uri": "https://localhost:8080/"
    },
    "id": "SnMQAVDGku1i",
    "outputId": "15980197-7278-49cd-e86e-ab81e3193d77"
   },
   "outputs": [
    {
     "name": "stdout",
     "output_type": "stream",
     "text": [
      "                                                                                                                                                       text airline_sentiment\n",
      "0                                                                                                            [@, VirginAmerica, What, @, dhepburn, said, .]           neutral\n",
      "1                                                               [@, VirginAmerica, plus, you, have, added, commercials, to, the, experience, ..., tacky, .]          positive\n",
      "2                                                              [@, VirginAmerica, I, did, not, today, ..., Must, mean, I, need, to, take, another, trip, !]           neutral\n",
      "3  [@, VirginAmerica, it, is, really, aggressive, to, blast, obnoxious, ``, entertainment, '', in, your, guests, ', faces, &, they, have, little, recourse]          negative\n",
      "4                                                                                    [@, VirginAmerica, and, it, is, a, really, big, bad, thing, about, it]          negative\n"
     ]
    },
    {
     "name": "stderr",
     "output_type": "stream",
     "text": [
      "/usr/local/lib/python3.6/dist-packages/ipykernel_launcher.py:1: SettingWithCopyWarning: \n",
      "A value is trying to be set on a copy of a slice from a DataFrame.\n",
      "Try using .loc[row_indexer,col_indexer] = value instead\n",
      "\n",
      "See the caveats in the documentation: https://pandas.pydata.org/pandas-docs/stable/user_guide/indexing.html#returning-a-view-versus-a-copy\n",
      "  \"\"\"Entry point for launching an IPython kernel.\n"
     ]
    }
   ],
   "source": [
    "X['text'] = X.apply(lambda row: nltk.word_tokenize(row['text']), axis=1) # Tokenization of data\n",
    "print(X.head())"
   ]
  },
  {
   "cell_type": "markdown",
   "metadata": {
    "id": "GhHPnMrliB7D"
   },
   "source": [
    "### 3e. Conversion to lowercase.\n"
   ]
  },
  {
   "cell_type": "code",
   "execution_count": null,
   "metadata": {
    "colab": {
     "base_uri": "https://localhost:8080/"
    },
    "id": "kzCtkqlNiJsp",
    "outputId": "3b351e5c-d381-48dd-a0dc-71d0c3596e0d"
   },
   "outputs": [
    {
     "name": "stdout",
     "output_type": "stream",
     "text": [
      "                                                                                                                                                       text airline_sentiment\n",
      "0                                                                                                            [@, virginamerica, what, @, dhepburn, said, .]           neutral\n",
      "1                                                               [@, virginamerica, plus, you, have, added, commercials, to, the, experience, ..., tacky, .]          positive\n",
      "2                                                              [@, virginamerica, i, did, not, today, ..., must, mean, i, need, to, take, another, trip, !]           neutral\n",
      "3  [@, virginamerica, it, is, really, aggressive, to, blast, obnoxious, ``, entertainment, '', in, your, guests, ', faces, &, they, have, little, recourse]          negative\n",
      "4                                                                                    [@, virginamerica, and, it, is, a, really, big, bad, thing, about, it]          negative\n"
     ]
    },
    {
     "name": "stderr",
     "output_type": "stream",
     "text": [
      "/usr/local/lib/python3.6/dist-packages/ipykernel_launcher.py:1: SettingWithCopyWarning: \n",
      "A value is trying to be set on a copy of a slice from a DataFrame.\n",
      "Try using .loc[row_indexer,col_indexer] = value instead\n",
      "\n",
      "See the caveats in the documentation: https://pandas.pydata.org/pandas-docs/stable/user_guide/indexing.html#returning-a-view-versus-a-copy\n",
      "  \"\"\"Entry point for launching an IPython kernel.\n"
     ]
    }
   ],
   "source": [
    "X['text'] = X.apply(lambda row: to_lowercase(row['text']), axis=1)\n",
    "print(X.head())"
   ]
  },
  {
   "cell_type": "markdown",
   "metadata": {
    "id": "--g4-e4r4-jd"
   },
   "source": [
    "### 3d. Removal of Non ASCII text"
   ]
  },
  {
   "cell_type": "code",
   "execution_count": null,
   "metadata": {
    "colab": {
     "base_uri": "https://localhost:8080/"
    },
    "id": "ck-ifjBX4cGm",
    "outputId": "486042e8-3e06-47b3-e42f-1170f5c948b6"
   },
   "outputs": [
    {
     "name": "stdout",
     "output_type": "stream",
     "text": [
      "                                                                                                                                                       text airline_sentiment\n",
      "0                                                                                                            [@, virginamerica, what, @, dhepburn, said, .]           neutral\n",
      "1                                                               [@, virginamerica, plus, you, have, added, commercials, to, the, experience, ..., tacky, .]          positive\n",
      "2                                                              [@, virginamerica, i, did, not, today, ..., must, mean, i, need, to, take, another, trip, !]           neutral\n",
      "3  [@, virginamerica, it, is, really, aggressive, to, blast, obnoxious, ``, entertainment, '', in, your, guests, ', faces, &, they, have, little, recourse]          negative\n",
      "4                                                                                    [@, virginamerica, and, it, is, a, really, big, bad, thing, about, it]          negative\n"
     ]
    },
    {
     "name": "stderr",
     "output_type": "stream",
     "text": [
      "/usr/local/lib/python3.6/dist-packages/ipykernel_launcher.py:1: SettingWithCopyWarning: \n",
      "A value is trying to be set on a copy of a slice from a DataFrame.\n",
      "Try using .loc[row_indexer,col_indexer] = value instead\n",
      "\n",
      "See the caveats in the documentation: https://pandas.pydata.org/pandas-docs/stable/user_guide/indexing.html#returning-a-view-versus-a-copy\n",
      "  \"\"\"Entry point for launching an IPython kernel.\n"
     ]
    }
   ],
   "source": [
    "X['text'] = X.apply(lambda row: remove_non_ascii(row['text']), axis=1)\n",
    "print(X.head())"
   ]
  },
  {
   "cell_type": "markdown",
   "metadata": {
    "id": "H1ePZCOB6b0r"
   },
   "source": [
    "### 3d. Removal of Special Characters and Punctuations."
   ]
  },
  {
   "cell_type": "code",
   "execution_count": null,
   "metadata": {
    "colab": {
     "base_uri": "https://localhost:8080/"
    },
    "id": "EXA8eyzG5rx2",
    "outputId": "17f6e62c-573b-471e-f345-06be41a51c78"
   },
   "outputs": [
    {
     "name": "stdout",
     "output_type": "stream",
     "text": [
      "                                                                                                                                      text airline_sentiment\n",
      "0                                                                                                    [virginamerica, what, dhepburn, said]           neutral\n",
      "1                                                         [virginamerica, plus, you, have, added, commercials, to, the, experience, tacky]          positive\n",
      "2                                                        [virginamerica, i, did, not, today, must, mean, i, need, to, take, another, trip]           neutral\n",
      "3  [virginamerica, it, is, really, aggressive, to, blast, obnoxious, entertainment, in, your, guests, faces, they, have, little, recourse]          negative\n",
      "4                                                                      [virginamerica, and, it, is, a, really, big, bad, thing, about, it]          negative\n"
     ]
    },
    {
     "name": "stderr",
     "output_type": "stream",
     "text": [
      "/usr/local/lib/python3.6/dist-packages/ipykernel_launcher.py:1: SettingWithCopyWarning: \n",
      "A value is trying to be set on a copy of a slice from a DataFrame.\n",
      "Try using .loc[row_indexer,col_indexer] = value instead\n",
      "\n",
      "See the caveats in the documentation: https://pandas.pydata.org/pandas-docs/stable/user_guide/indexing.html#returning-a-view-versus-a-copy\n",
      "  \"\"\"Entry point for launching an IPython kernel.\n"
     ]
    }
   ],
   "source": [
    "X['text'] = X.apply(lambda row: remove_punctuation(row['text']), axis=1)\n",
    "print(X.head())"
   ]
  },
  {
   "cell_type": "markdown",
   "metadata": {
    "id": "PRyXgnQ49eJN"
   },
   "source": [
    "### Remove Stopwords"
   ]
  },
  {
   "cell_type": "code",
   "execution_count": null,
   "metadata": {
    "colab": {
     "base_uri": "https://localhost:8080/"
    },
    "id": "-0e7e11A9MWe",
    "outputId": "8381ead5-4b4c-443d-80fe-fa16d0cf708b"
   },
   "outputs": [
    {
     "name": "stdout",
     "output_type": "stream",
     "text": [
      "                                                                                                    text airline_sentiment\n",
      "0                                                                        [virginamerica, dhepburn, said]           neutral\n",
      "1                                           [virginamerica, plus, added, commercials, experience, tacky]          positive\n",
      "2                                     [virginamerica, not, today, must, mean, need, take, another, trip]           neutral\n",
      "3  [virginamerica, really, aggressive, blast, obnoxious, entertainment, guests, faces, little, recourse]          negative\n",
      "4                                                               [virginamerica, really, big, bad, thing]          negative\n"
     ]
    },
    {
     "name": "stderr",
     "output_type": "stream",
     "text": [
      "/usr/local/lib/python3.6/dist-packages/ipykernel_launcher.py:1: SettingWithCopyWarning: \n",
      "A value is trying to be set on a copy of a slice from a DataFrame.\n",
      "Try using .loc[row_indexer,col_indexer] = value instead\n",
      "\n",
      "See the caveats in the documentation: https://pandas.pydata.org/pandas-docs/stable/user_guide/indexing.html#returning-a-view-versus-a-copy\n",
      "  \"\"\"Entry point for launching an IPython kernel.\n"
     ]
    }
   ],
   "source": [
    "X['text'] = X.apply(lambda row: remove_stopwords(row['text']), axis=1)\n",
    "print(X.head())"
   ]
  },
  {
   "cell_type": "markdown",
   "metadata": {
    "id": "RSJWvSJY-vdI"
   },
   "source": [
    "### 3f. Lemmatize list"
   ]
  },
  {
   "cell_type": "code",
   "execution_count": null,
   "metadata": {
    "colab": {
     "base_uri": "https://localhost:8080/"
    },
    "id": "Szvx2SBZ-zUC",
    "outputId": "bd1a0ba1-b70f-495a-90cb-419d35b769a9"
   },
   "outputs": [
    {
     "name": "stdout",
     "output_type": "stream",
     "text": [
      "                                                                                                   text airline_sentiment\n",
      "0                                                                        [virginamerica, dhepburn, say]           neutral\n",
      "1                                            [virginamerica, plus, add, commercials, experience, tacky]          positive\n",
      "2                                    [virginamerica, not, today, must, mean, need, take, another, trip]           neutral\n",
      "3  [virginamerica, really, aggressive, blast, obnoxious, entertainment, guests, face, little, recourse]          negative\n",
      "4                                                              [virginamerica, really, big, bad, thing]          negative\n"
     ]
    },
    {
     "name": "stderr",
     "output_type": "stream",
     "text": [
      "/usr/local/lib/python3.6/dist-packages/ipykernel_launcher.py:1: SettingWithCopyWarning: \n",
      "A value is trying to be set on a copy of a slice from a DataFrame.\n",
      "Try using .loc[row_indexer,col_indexer] = value instead\n",
      "\n",
      "See the caveats in the documentation: https://pandas.pydata.org/pandas-docs/stable/user_guide/indexing.html#returning-a-view-versus-a-copy\n",
      "  \"\"\"Entry point for launching an IPython kernel.\n"
     ]
    }
   ],
   "source": [
    "X['text'] = X.apply(lambda row: lemmatize_list(row['text']), axis=1)\n",
    "print(X.head())"
   ]
  },
  {
   "cell_type": "markdown",
   "metadata": {
    "id": "vH4EITrcAsZ5"
   },
   "source": [
    "### 3g. Join the words in the list to convert back to text string in the dataframe. "
   ]
  },
  {
   "cell_type": "code",
   "execution_count": null,
   "metadata": {
    "colab": {
     "base_uri": "https://localhost:8080/"
    },
    "id": "rU3PitAzJS9c",
    "outputId": "40b92b47-ee9d-4173-e6ff-61381510f588"
   },
   "outputs": [
    {
     "name": "stderr",
     "output_type": "stream",
     "text": [
      "/usr/local/lib/python3.6/dist-packages/ipykernel_launcher.py:1: SettingWithCopyWarning: \n",
      "A value is trying to be set on a copy of a slice from a DataFrame.\n",
      "Try using .loc[row_indexer,col_indexer] = value instead\n",
      "\n",
      "See the caveats in the documentation: https://pandas.pydata.org/pandas-docs/stable/user_guide/indexing.html#returning-a-view-versus-a-copy\n",
      "  \"\"\"Entry point for launching an IPython kernel.\n"
     ]
    }
   ],
   "source": [
    "X['text'] = X.apply(lambda row: join_words(row['text']), axis=1)"
   ]
  },
  {
   "cell_type": "markdown",
   "metadata": {
    "id": "MlaXgiJGA-1K"
   },
   "source": [
    "###  3h. Print first 5 rows of data after pre-processing."
   ]
  },
  {
   "cell_type": "code",
   "execution_count": null,
   "metadata": {
    "colab": {
     "base_uri": "https://localhost:8080/"
    },
    "id": "9Z1gymddB3GQ",
    "outputId": "01c87fd4-f647-432f-dc33-9009aaf17981"
   },
   "outputs": [
    {
     "name": "stdout",
     "output_type": "stream",
     "text": [
      "                                                                                        text airline_sentiment\n",
      "0                                                                 virginamerica dhepburn say           neutral\n",
      "1                                        virginamerica plus add commercials experience tacky          positive\n",
      "2                                   virginamerica not today must mean need take another trip           neutral\n",
      "3  virginamerica really aggressive blast obnoxious entertainment guests face little recourse          negative\n",
      "4                                                         virginamerica really big bad thing          negative\n"
     ]
    }
   ],
   "source": [
    "print(X.head(5))\n"
   ]
  },
  {
   "cell_type": "markdown",
   "metadata": {
    "id": "x318ZdOXJnZT"
   },
   "source": [
    "### Save the current X values if needed for future use or recovery."
   ]
  },
  {
   "cell_type": "code",
   "execution_count": null,
   "metadata": {
    "id": "nQ8A51VNQ607"
   },
   "outputs": [],
   "source": [
    "X_old = X"
   ]
  },
  {
   "cell_type": "code",
   "execution_count": null,
   "metadata": {
    "colab": {
     "base_uri": "https://localhost:8080/"
    },
    "id": "0xaLtNR0CahW",
    "outputId": "2c2d5b6c-9e85-4542-a2d8-cf31959fe201"
   },
   "outputs": [
    {
     "name": "stdout",
     "output_type": "stream",
     "text": [
      "(14640, 2)\n",
      "<class 'pandas.core.frame.DataFrame'>\n",
      "RangeIndex: 14640 entries, 0 to 14639\n",
      "Data columns (total 2 columns):\n",
      " #   Column             Non-Null Count  Dtype \n",
      "---  ------             --------------  ----- \n",
      " 0   text               14640 non-null  object\n",
      " 1   airline_sentiment  14640 non-null  object\n",
      "dtypes: object(2)\n",
      "memory usage: 228.9+ KB\n",
      "None\n"
     ]
    }
   ],
   "source": [
    "print(X_old.shape)\n",
    "print(X_old.info())"
   ]
  },
  {
   "cell_type": "markdown",
   "metadata": {
    "id": "qyXN4h9kc6n0"
   },
   "source": [
    "### 4. Vectorization "
   ]
  },
  {
   "cell_type": "markdown",
   "metadata": {
    "id": "C9H2I9gc6mQT"
   },
   "source": [
    "### 4a. Use CountVectorizer "
   ]
  },
  {
   "cell_type": "code",
   "execution_count": null,
   "metadata": {
    "id": "a-0zFhg46yyC"
   },
   "outputs": [],
   "source": [
    "cv = CountVectorizer()  \n",
    "X_features = cv.fit_transform(X.text)"
   ]
  },
  {
   "cell_type": "code",
   "execution_count": null,
   "metadata": {
    "colab": {
     "base_uri": "https://localhost:8080/"
    },
    "id": "r78MKTXyTwK1",
    "outputId": "e6be2203-4670-4fb0-9d0f-800594e5c5f5"
   },
   "outputs": [
    {
     "name": "stdout",
     "output_type": "stream",
     "text": [
      "['aa', 'aaaand', 'aaadvantage', 'aaalwayslate', 'aaba', 'aacom', 'aacustomerservice', 'aadavantage', 'aadelay', 'aadfw', 'aadv', 'aadvantage', 'aafail', 'aal', 'aano', 'aaron', 'aarp', 'aaso', 'aateam', 'aaus', 'ab', 'aback', 'abandon', 'abandonment', 'abassinet', 'abbreve', 'abc', 'abcdef', 'abcletjetbluestreamfeed', 'abcnetwork', 'abcnews', 'abcnewsbayarea', 'abcwtvd', 'abduct', 'abi', 'abidfw', 'abigailedge', 'abilities', 'ability', 'able', 'aboard', 'aboout', 'abound', 'abq', 'abroad', 'absolute', 'absolutely', 'absorb', 'absorber', 'absoulutely', 'absurd', 'absurdity', 'absurdly', 'abt', 'abundance', 'abuse', 'abysmal', 'ac', 'acarl', 'acc', 'accelerate', 'accept', 'acceptable', 'acces', 'access', 'accessibility', 'accessible', 'accident', 'accidentally', 'accidents', 'accomidating', 'accommodate', 'accommodation', 'accommodations', 'accompaniments', 'accompany', 'accomplish', 'accord', 'accordingly', 'account', 'accountability', 'accountable', 'accrue', 'acct', 'acctits', 'accts', 'accumulation', 'accurate', 'accurately', 'accuratetraveltimes', 'accuse', 'achieve', 'ack', 'acknowledge', 'acknowledgement', 'acknowledgment', 'acnewsguy', 'acosta', 'acoustic', 'acpt', 'acquire', 'acquisition', 'across', 'act', 'actingoutmgmnt', 'action', 'activate', 'active', 'activealy', 'actively', 'activities', 'activitiesprevention', 'activity', 'actual', 'actually', 'actualy', 'acu', 'acw', 'acy', 'ad', 'ada', 'adam', 'adamkarren', 'adams', 'adapt', 'add', 'addair', 'addition', 'additional', 'additionally', 'additonal', 'addr', 'address', 'addressusername', 'addtl', 'adjacent', 'adjust', 'adjustment', 'adjustments', 'admin', 'admiral', 'admirals', 'admiralsclub', 'admit', 'adolfo', 'adopt', 'adore', 'adress', 'ads', 'adult', 'adv', 'advan', 'advance', 'advantage', 'adventure', 'advertise', 'advice', 'advis', 'advise', 'advisories', 'advisory', 'advisorynow', 'advsry', 'aegeanairlines', 'aerocivilcol', 'aerojobmarket', 'aeroport', 'aex', 'af', 'affairs', 'affect', 'affiliate', 'afford', 'affordable', 'afiliates', 'aflame', 'aforementioned', 'afraid', 'african', 'aft', 'afterall', 'afternoon', 'afterward', 'aftr', 'againflying', 'againget', 'agcommunity', 'age', 'agencies', 'agency', 'agent', 'agentbooked', 'agents', 'agentsno', 'agentthen', 'agentwhat', 'aggiemensgolf', 'aggravate', 'aggravation', 'aggressive', 'agian', 'agnt', 'ago', 'agostill', 'agree', 'agreement', 'agt', 'agts', 'ah', 'aha', 'ahah', 'ahead', 'ahem', 'ahhhh', 'ahhhhh', 'ahold', 'ahoy', 'aiecraft', 'aif', 'ail', 'aim', 'air', 'airat', 'airborne', 'airbus', 'airbusintheus', 'airbusseatfproblems', 'aircanada', 'aircargo', 'aircraft', 'aircraftrunways', 'aircrafts', 'aircrft', 'airfare', 'airfares', 'airfarewatchdog', 'airline', 'airlineadviser', 'airlinegave', 'airlinegeeks', 'airlineguys', 'airlinehave', 'airlinequality', 'airliner', 'airlines', 'airlinesecurity', 'airmiles', 'airnzusa', 'airplane', 'airplanemodewason', 'airplanes', 'airport', 'airportcardio', 'airportfra', 'airporthave', 'airportheld', 'airports', 'airportwide', 'airpt', 'airserv', 'airside', 'airsouthwest', 'airspace', 'airstairs', 'airtahitinui', 'airtran', 'airway', 'airways', 'ais', 'aisle', 'aisles', 'aka', 'akron', 'al', 'alabama', 'alamo', 'alan', 'alanbledsoe', 'alarm', 'alas', 'alaska', 'alaskaair', 'alavera', 'alb', 'albany', 'albanyairport', 'albeit', 'albertbreer', 'albums', 'albuquer', 'albuquerque', 'alcohol', 'alert', 'alex', 'alfamilyoffour', 'ali', 'alicia', 'alifestory', 'align', 'alison', 'alist', 'alistey', 'alistpreferred', 'alittle', 'alittlebetter', 'alive', 'allan', 'allegiantair', 'allegianttravel', 'allende', 'allergic', 'allergies', 'allergy', 'alleviate', 'allgood', 'alliance', 'allll', 'allow', 'allowabl', 'allowable', 'allowance', 'allready', 'allrepresentativesbusy', 'allright', 'allyoucanjetpass', 'almost', 'alone', 'along', 'alot', 'already', 'alreadycrowded', 'alreadygot', 'alreadyrebookedonce', 'alright', 'als', 'also', 'alsonodrinkcartcomingaround', 'alsoyayforsnacks', 'alstdi', 'alt', 'alternate', 'alternative', 'alternatively', 'alternatives', 'although', 'altitude', 'altonbrownlive', 'alway', 'always', 'alwaysdelayed', 'alwaysdelayedonunited', 'alwayshappensthere', 'alwayslate', 'alynewton', 'amagrino', 'amarillo', 'amateur', 'amateurish', 'amateurs', 'amaze', 'amazingflightcrew', 'amazingly', 'amazon', 'ambassador', 'ambivalence', 'amen', 'amend', 'amenities', 'amenity', 'america', 'american', 'americanair', 'americanairbr', 'americanaireveryone', 'americanairif', 'americanairlines', 'americanairlinesfail', 'americanairlnes', 'americanairstill', 'americanairsucks', 'americandairlinessucks', 'americanforlife', 'americanisbetter', 'americanone', 'americans', 'americant', 'americanview', 'amex', 'amexserve', 'ami', 'amid', 'amiga', 'amiltx', 'aminaur', 'amirite', 'amm', 'ammisery', 'amnt', 'among', 'amongst', 'amount', 'ams', 'amshould', 'amso', 'amsound', 'amsterdam', 'amt', 'amtoday', 'amtrak', 'amy', 'amybruni', 'amypoehler', 'ana', 'analyst', 'analystdoc', 'analysts', 'analytics', 'anamarketers', 'anaphylaxis', 'anarchy', 'anchorage', 'andchexmix', 'anderson', 'andor', 'andrew', 'andrewbiga', 'andrewfallis', 'andrews', 'andrewwasila', 'android', 'andthewinneris', 'andyellwood', 'angel', 'angeles', 'angelo', 'anger', 'angle', 'angriest', 'angry', 'angryairtravel', 'angryandsober', 'angrybird', 'angrycustomer', 'angrytraveler', 'angstiest', 'anhour', 'animal', 'animals', 'anku', 'ann', 'anna', 'annamarie', 'annebevi', 'annettenaif', 'anni', 'anniversary', 'annnndddd', 'annnnddddd', 'annnnnd', 'announce', 'announcement', 'announcements', 'announcer', 'annoy', 'annricord', 'annual', 'another', 'anotherdisappointment', 'anotherfail', 'ans', 'ansleyhutson', 'answer', 'answeringdo', 'answerphone', 'answerthephone', 'answerthis', 'ant', 'anthony', 'anticipate', 'anticipation', 'anticonsumer', 'antigua', 'antitrust', 'antkneee', 'antonio', 'anxiety', 'anxious', 'anybody', 'anyhelp', 'anymore', 'anyone', 'anyonemin', 'anyonethere', 'anythin', 'anything', 'anythingjust', 'anytime', 'anyway', 'anyways', 'anywhere', 'aok', 'ap', 'apart', 'apathetic', 'apathy', 'apeared', 'api', 'apnea', 'apollochplayers', 'apologies', 'apologise', 'apologize', 'apology', 'apostrophe', 'apostrophefail', 'app', 'appal', 'apparent', 'apparently', 'appeal', 'appear', 'appease', 'applaud', 'applause', 'apple', 'applepay', 'appleton', 'applicable', 'application', 'applications', 'apply', 'appoint', 'appointment', 'appointments', 'appreciate', 'appreciation', 'approach', 'appropriate', 'appropriately', 'appropriation', 'approproately', 'approval', 'approvals', 'approve', 'approx', 'approximate', 'approximately', 'apps', 'appt', 'apr', 'april', 'aprilmay', 'apron', 'apt', 'apx', 'aquadilla', 'ar', 'arab', 'arbitrarily', 'arbitrary', 'arc', 'archaic', 'ardent', 'area', 'areas', 'arehis', 'arena', 'ares', 'areyounew', 'argentina', 'argg', 'argh', 'argue', 'argument', 'arise', 'arizona', 'arkansas', 'arm', 'arminrosen', 'armrest', 'army', 'around', 'arpt', 'arrange', 'arrangement', 'arrangements', 'arrival', 'arrivals', 'arrive', 'arrogant', 'art', 'article', 'artisanal', 'artluggage', 'aruba', 'arubaairport', 'aruna', 'arvls', 'asarcoesar', 'ase', 'asem', 'asgmnt', 'ash', 'asha', 'ashamed', 'ashevilleair', 'ashley', 'ashleykatherton', 'asia', 'aside', 'ask', 'askamex', 'askpaypal', 'asleep', 'aspen', 'aspenbaggagefail', 'ass', 'assault', 'assed', 'asses', 'asset', 'assets', 'asshole', 'assholes', 'assign', 'assignment', 'assignments', 'assist', 'assistance', 'assistanceyou', 'assistant', 'associate', 'assuage', 'assult', 'assume', 'assurance', 'assurances', 'assure', 'astoria', 'astound', 'asus', 'atc', 'atct', 'atgate', 'ath', 'athlete', 'athletes', 'atl', 'atlanta', 'atlantic', 'atlaus', 'atleast', 'atlhou', 'atlord', 'atrocious', 'att', 'attach', 'attackingbabymomma', 'attain', 'attdt', 'attempt', 'attend', 'attendant', 'attendantcan', 'attendants', 'attendees', 'attendent', 'attendents', 'attention', 'attentive', 'attentiveness', 'attire', 'attitude', 'attitudeissues', 'attitudes', 'attitudycustomer', 'attndt', 'atwonline', 'atx', 'au', 'auciello', 'auckland', 'auction', 'audience', 'audio', 'audition', 'auditorium', 'auf', 'aug', 'august', 'auh', 'aumilo', 'aunties', 'aunts', 'aurorabiz', 'aus', 'auscun', 'aussie', 'austic', 'austin', 'austinairport', 'austinbergstrom', 'austindallas', 'australia', 'austrian', 'author', 'authoritative', 'authority', 'authorize', 'auto', 'autoapplied', 'automate', 'automatic', 'automatically', 'automobile', 'autorebooked', 'autoreflight', 'autoresponse', 'av', 'avail', 'availab', 'availability', 'available', 'availableyour', 'avalible', 'avalonhollywood', 'avatars', 'avb', 'avduffy', 'avenue', 'average', 'avert', 'avgeek', 'aviation', 'avios', 'avis', 'aviv', 'avoid', 'avoidable', 'avon', 'avp', 'aw', 'await', 'awake', 'award', 'aware', 'away', 'awaynow', 'awe', 'aweful', 'awesome', 'awesomeee', 'awesomeness', 'awful', 'awfulcustomerservice', 'awfully', 'awfulness', 'awheelchair', 'awhile', 'awkward', 'awol', 'awrd', 'aww', 'awww', 'awwweesssooomee', 'ay', 'aye', 'ayyy', 'az', 'azzf', 'ba', 'baby', 'babyfood', 'bach', 'bachelorpartymishap', 'back', 'backend', 'backended', 'backfas', 'backhome', 'backlog', 'backpack', 'backroads', 'backtodelta', 'backtowinter', 'backup', 'backwards', 'backyard', 'bad', 'badairline', 'badbadbad', 'badbusiness', 'badbussiness', 'badcustomerexperience', 'badcustomerservice', 'badcustomersrvice', 'bademployeeproblem', 'badge', 'badly', 'badmgmt', 'badpolicy', 'badservice', 'badwebsite', 'bae', 'baejet', 'bafore', 'baftz', 'bag', 'bagage', 'bagawim', 'bagcould', 'baggage', 'baggagedrama', 'baggagefail', 'baggagefind', 'baggageissues', 'baggagelost', 'baggages', 'bagsflyfree', 'bagsflyfreebutnotwithme', 'bagtag', 'bahamas', 'bail', 'bailey', 'bait', 'baitandswitch', 'bake', 'balance', 'baldordash', 'baldwin', 'ball', 'ballbag', 'ballin', 'balloon', 'ballsturn', 'balt', 'baltimore', 'ban', 'banana', 'band', 'bandie', 'bandwidth', 'bangkok', 'bank', 'bankrupt', 'bankruptcies', 'bankruptcy', 'bar', 'barbados', 'barbara', 'barclay', 'barclaycardus', 'barclays', 'barcodes', 'barely', 'barelyexpired', 'bark', 'barklays', 'barnum', 'barrel', 'barrettkarabis', 'barrier', 'barriers', 'barzegar', 'base', 'bash', 'basic', 'basically', 'basics', 'basket', 'basketball', 'bass', 'bastards', 'bat', 'bathroom', 'bathrooms', 'batman', 'batteries', 'battery', 'battierccipuppy', 'battle', 'bausa', 'bay', 'bbbmedia', 'bbbnesdksia', 'bc', 'bcn', 'bcs', 'bcuz', 'bcz', 'bd', 'bday', 'bdindallas', 'bdl', 'bdldca', 'bdng', 'bdsm', 'beach', 'beamske', 'bean', 'beanie', 'beantownmatty', 'bear', 'bearable', 'beareavement', 'beat', 'beatriz', 'beatsmusic', 'beatstheothers', 'beautiful', 'beautifull', 'beautifully', 'beauty', 'bebetter', 'bec', 'becky', 'become', 'becuase', 'becuz', 'bed', 'bedofroses', 'beefjerky', 'beenhours', 'beer', 'beers', 'befor', 'beforeafter', 'beg', 'begin', 'begrudgingly', 'behalf', 'behave', 'behavior', 'behind', 'beijing', 'bein', 'beingsuckontarmacsucks', 'beis', 'belabor', 'belfast', 'belfastairport', 'belief', 'believable', 'believe', 'belize', 'bellagio', 'belligerent', 'belong', 'beloved', 'belt', 'belti', 'ben', 'benadryl', 'bench', 'bene', 'beneficial', 'benefit', 'benjaminokeefe', 'bensonhenderson', 'beought', 'ber', 'bereavement', 'bergstrom', 'berlin', 'bernhardtjh', 'bershawnjackson', 'besides', 'best', 'bestairline', 'bestairlineever', 'bestcrew', 'bestdressed', 'bestemployees', 'bestflightever', 'bestfriend', 'bestfriends', 'bestinclass', 'bestinclasssocial', 'bestplanesever', 'besty', 'bet', 'beta', 'betch', 'bethonors', 'betsy', 'better', 'betterfrom', 'bettween', 'betty', 'beverage', 'beverages', 'bevies', 'beware', 'beyond', 'bf', 'bfans', 'bff', 'bffs', 'bg', 'bgkwm', 'bgm', 'bgr', 'bham', 'bhm', 'bhxofficial', 'bible', 'biceps', 'bicycle', 'bid', 'big', 'bigger', 'biggest', 'biggie', 'bike', 'bil', 'bila', 'bill', 'billions', 'billmelate', 'bin', 'bind', 'bingo', 'bio', 'bird', 'birder', 'birmingham', 'birth', 'birthdate', 'birthday', 'birthdays', 'biscuits', 'bish', 'bitch', 'bitchslapped', 'bitchy', 'bitcoin', 'bite', 'bitty', 'biz', 'bizarre', 'bizness', 'biztravel', 'bk', 'bked', 'bkk', 'black', 'blackberry', 'blackhistorymonth', 'blacklist', 'blacklivesmatter', 'blackmail', 'blade', 'blah', 'blame', 'blameshiftoverload', 'blanc', 'blank', 'blanket', 'blast', 'blatant', 'blatantly', 'blatimore', 'blazer', 'bleed', 'blegh', 'bleh', 'bless', 'blind', 'blindside', 'bliss', 'blizzard', 'blizzue', 'bloat', 'block', 'blog', 'blood', 'bloody', 'bloodymary', 'bloombergnews', 'bloombergradio', 'blow', 'blue', 'blueblackish', 'bluecarpet', 'blueheros', 'bluemanity', 'bluetiful', 'blumanity', 'blush', 'bmi', 'bna', 'bnardu', 'bnasnow', 'bng', 'board', 'boarddeplane', 'boardingpass', 'boat', 'boatstyle', 'bobbi', 'bobwesson', 'body', 'boeing', 'boeingairplanes', 'boggle', 'bogota', 'bogotahouston', 'bohnjai', 'bohol', 'boil', 'boise', 'bold', 'boldflavors', 'bom', 'bone', 'bonnie', 'bonsinthesky', 'bonus', 'bonuses', 'boo', 'boofin', 'book', 'bookable', 'booklet', 'bookofnegroes', 'bool', 'boom', 'booo', 'boooo', 'boost', 'booster', 'boot', 'booze', 'boozefood', 'bop', 'bora', 'border', 'borderline', 'bore', 'borrow', 'bos', 'bosbna', 'bosclt', 'bosdca', 'bosfll', 'boslas', 'bosmco', 'bosnia', 'boson', 'bosphl', 'boss', 'bossan', 'bossf', 'bossju', 'boston', 'bostonbbb', 'bostondenver', 'bostongarden', 'bostonlogan', 'bot', 'botch', 'bother', 'bots', 'bottle', 'bottom', 'bougth', 'bounce', 'bouncer', 'boundless', 'bourbon', 'bout', 'bowl', 'box', 'boy', 'boycott', 'boyfriend', 'boyfriends', 'boys', 'bozos', 'bpdfpp', 'bqn', 'bqonpa', 'bracket', 'bradley', 'bradleyairport', 'brag', 'brain', 'brancato', 'brand', 'brandi', 'brandloveaffair', 'brandmance', 'brandssayingbae', 'branson', 'brave', 'bravo', 'brazil', 'brd', 'breach', 'bread', 'break', 'breakdown', 'breaker', 'breakfast', 'breakup', 'breast', 'breastfeed', 'breath', 'breathe', 'breavement', 'breeze', 'breezy', 'brendan', 'brendanpshannon', 'brent', 'bretharold', 'brewcrewfan', 'brian', 'brianregancomic', 'briansumers', 'bride', 'bridesmaid', 'bridge', 'brief', 'bright', 'brighter', 'brilliant', 'bring', 'bringbackrealstaff', 'bringbacktheluvtordu', 'bringin', 'bringyourown', 'brink', 'brisk', 'britishairways', 'brittany', 'brittanyobx', 'briughy', 'brizzyberg', 'bro', 'broad', 'broadway', 'brochure', 'broinlaw', 'brokeni', 'brokenpromises', 'brokenstolen', 'brokenwheel', 'brood', 'brooklyn', 'bros', 'brotha', 'brothaaaaaa', 'brother', 'brothers', 'brownsville', 'browser', 'browsers', 'brrr', 'bruh', 'bruins', 'brush', 'brussels', 'brutal', 'bryantmelton', 'bs', 'bshave', 'bso', 'bsuxlu', 'bt', 'btr', 'bttr', 'btv', 'btw', 'btwn', 'bubbly', 'buck', 'bucket', 'bucketobolts', 'budapest', 'buddies', 'buddy', 'budget', 'budweiserduels', 'bueno', 'buenos', 'buf', 'bufclt', 'buffalo', 'buffaloairport', 'buffaloniagara', 'bug', 'buggy', 'build', 'buisness', 'bulb', 'bulkhead', 'bull', 'bullshit', 'bully', 'bum', 'bummer', 'bump', 'bumper', 'bumphigh', 'bunch', 'bundle', 'bundleup', 'bur', 'burbank', 'burden', 'bureau', 'burger', 'burgundy', 'burlington', 'burn', 'burningman', 'burrito', 'burroughs', 'burst', 'bus', 'busads', 'busfirst', 'bush', 'bushleague', 'bushug', 'busiest', 'business', 'businessfirst', 'businessmodel', 'businesstravel', 'businesstrip', 'bussey', 'bussines', 'bust', 'busy', 'butnot', 'butt', 'button', 'buttonthatcalled', 'buy', 'buybacks', 'buyer', 'buytransfer', 'buzz', 'buzzkill', 'bw', 'bwahahaha', 'bwi', 'bwiairport', 'bwibos', 'bwiboston', 'bwiewrmco', 'bwilax', 'bwisjd', 'bwood', 'bye', 'byebyejetblue', 'byebyeusairline', 'byod', 'bypass', 'bz', 'bze', 'ca', 'cab', 'cabaret', 'cabcelled', 'cabin', 'cabine', 'cabinfever', 'cable', 'cableinternet', 'cabo', 'cac', 'cache', 'cae', 'caexhibitions', 'cafe', 'caffeine', 'cak', 'cakairport', 'cake', 'cakendeath', 'cal', 'calamity', 'calderon', 'calendar', 'calgary', 'cali', 'calibrate', 'california', 'call', 'callback', 'callbacks', 'callcentre', 'calledplease', 'callemail', 'caller', 'callers', 'callif', 'callmestanley', 'calm', 'calve', 'camera', 'cameragear', 'cameras', 'cameronroe', 'camp', 'campaign', 'campilley', 'campus', 'can', 'cana', 'canada', 'canadaair', 'canadian', 'canadians', 'cancel', 'cancer', 'cancld', 'cancun', 'candace', 'candice', 'candy', 'canister', 'canld', 'cannedtweet', 'cantblametheweather', 'canthurtasking', 'cantlogoutofunitedwifi', 'canx', 'cap', 'capaaviation', 'capabilities', 'capability', 'capable', 'capacity', 'capeair', 'capital', 'capitalize', 'capn', 'capt', 'captain', 'captive', 'captiveaudience', 'capture', 'car', 'caravannyc', 'card', 'cardholder', 'care', 'career', 'careless', 'caren', 'carerespond', 'careyon', 'cargo', 'caribbean', 'caribbejan', 'carlton', 'carlw', 'carmen', 'carol', 'carolina', 'carolinas', 'caroline', 'carousel', 'carpet', 'carrie', 'carrier', 'carriers', 'carrieunderwood', 'carry', 'carryon', 'carryonbagssloweverybodydown', 'carryons', 'cars', 'carseat', 'carsl', 'cart', 'carta', 'cartagena', 'cartago', 'case', 'casenothing', 'cash', 'casimir', 'casleah', 'casual', 'cat', 'catch', 'category', 'cater', 'caterobbie', 'catfoodbeerglue', 'cathay', 'cathaypacific', 'cathaypacificus', 'cathy', 'catsanddogslivingtogether', 'cattle', 'cattleslaughter', 'caucasity', 'cause', 'caution', 'cavalli', 'cavan', 'cave', 'cavs', 'caymanislands', 'cb', 'cbarrows', 'cbcallinaday', 'cbcnews', 'cbsbaltimore', 'cbsnews', 'cbsphilly', 'cbssoxfan', 'cc', 'ccicanine', 'ccndjp', 'cdg', 'cdglas', 'cdn', 'cdt', 'cease', 'cebu', 'cek', 'celebrate', 'celebration', 'celebs', 'cell', 'cellphone', 'cement', 'center', 'centerl', 'centerworst', 'central', 'centre', 'centric', 'centricity', 'cents', 'century', 'centuryca', 'ceo', 'cert', 'certain', 'certainly', 'certificate', 'certs', 'cessna', 'cesspool', 'cflanagian', 'cgjase', 'cgqueen', 'cgroup', 'cha', 'chaching', 'chain', 'chair', 'chairman', 'chairmanlove', 'chalk', 'challemann', 'challenge', 'champagne', 'championship', 'chance', 'change', 'changemassive', 'changer', 'changesdeval', 'channel', 'chantilly', 'chaos', 'chaotic', 'chaperone', 'chapman', 'chapter', 'char', 'charac', 'character', 'characterize', 'charge', 'charger', 'chargers', 'chariot', 'charity', 'charles', 'charleston', 'charlestonvery', 'charlote', 'charlotte', 'charm', 'chart', 'charter', 'charttopping', 'chase', 'chasefoster', 'chat', 'chathes', 'cheap', 'cheaper', 'cheapest', 'cheapflights', 'cheapoair', 'cheapoairchat', 'cheapslogannotmotto', 'cheat', 'cheatcustomers', 'check', 'checker', 'checkin', 'checkinbag', 'checkinout', 'checkins', 'checkout', 'checkouterror', 'checkpoint', 'cheer', 'cheertymedad', 'cheerupdates', 'cheese', 'cheesy', 'cheeze', 'chef', 'chemistry', 'cheque', 'cherry', 'chewey', 'chg', 'chgd', 'chge', 'chging', 'chi', 'chiberia', 'chibuf', 'chicago', 'chicagolaxphx', 'chicagomidway', 'chicagosmayor', 'chicagothanks', 'chicagotribune', 'chicken', 'chickenidiot', 'chief', 'child', 'childish', 'children', 'childrens', 'childridiculous', 'chill', 'chillpill', 'chilly', 'chillycvz', 'chimid', 'china', 'chinese', 'chip', 'chipper', 'chitocle', 'chk', 'chkd', 'chkin', 'chking', 'chkout', 'chl', 'chmom', 'chng', 'chnge', 'cho', 'chock', 'choclt', 'chocolate', 'choice', 'choices', 'choose', 'choosechicago', 'choosekind', 'choppiest', 'choppy', 'chrishasmadeusblush', 'christine', 'christinebpc', 'christmas', 'chrome', 'chromefirefox', 'chronicleherald', 'chronological', 'chrysichrysic', 'chs', 'chuckhole', 'churchmouse', 'churn', 'ciddfw', 'cigarettes', 'cinci', 'cincinnati', 'cincy', 'cincyjust', 'cinedrones', 'cinnabon', 'cinnabons', 'cinziannap', 'circle', 'circuit', 'circulation', 'circumstances', 'ciscojimfrench', 'cisnerosmedia', 'cistudios', 'cite', 'citi', 'cities', 'citizen', 'city', 'cityandsand', 'civilize', 'cjdjpdx', 'ckin', 'cking', 'claim', 'clarence', 'clarification', 'clarify', 'clarion', 'clarita', 'clarkey', 'clarkhoward', 'class', 'classic', 'classics', 'classiq', 'classwrite', 'classy', 'claudia', 'claudoakeshott', 'cld', 'cldnt', 'cle', 'clean', 'cleanliness', 'clear', 'clearance', 'clearly', 'clearvision', 'clesfo', 'cleveland', 'clever', 'clewould', 'click', 'client', 'clientnothappy', 'clients', 'clifton', 'clincher', 'cling', 'clinicpolly', 'cll', 'clockwork', 'clog', 'close', 'closepwcs', 'closer', 'closest', 'closet', 'closetoverhead', 'closure', 'clothe', 'clothessuit', 'cloud', 'clown', 'cls', 'clt', 'cltdouglas', 'cltnyc', 'club', 'clue', 'cluecould', 'clueless', 'clunky', 'cluster', 'clusterfucks', 'clutch', 'cmfatfeet', 'cmh', 'cmhiad', 'cmhoak', 'cmhord', 'cmon', 'cnbc', 'cncdld', 'cnceld', 'cncld', 'cncled', 'cnext', 'cng', 'cnn', 'cnnbrk', 'cnnmoney', 'cnx', 'cnxn', 'cnxns', 'co', 'coach', 'coachgs', 'coast', 'coastcoast', 'coat', 'coathanging', 'cobedien', 'cockpit', 'cockroaches', 'cocktail', 'cocktails', 'cockup', 'cod', 'code', 'codeshare', 'codycleverly', 'coffee', 'coffeemaker', 'coffeeneeded', 'coffin', 'coin', 'coincidence', 'coke', 'cold', 'colder', 'coldly', 'coles', 'colleague', 'colleagues', 'collect', 'collection', 'collectively', 'college', 'collide', 'colo', 'colombia', 'colombian', 'colonist', 'color', 'colossal', 'colour', 'coltsmissingbags', 'columbia', 'columbian', 'columbus', 'coma', 'combat', 'combative', 'combination', 'combine', 'combo', 'comcast', 'comclassic', 'come', 'comedian', 'comedic', 'comedy', 'comenity', 'comeon', 'comeonpeople', 'comethis', 'cometoaustin', 'comfort', 'comfortable', 'comfortably', 'comically', 'comin', 'comm', 'command', 'commence', 'commend', 'comment', 'commercial', 'commercials', 'commission', 'commit', 'commitment', 'commitments', 'common', 'comms', 'communicate', 'communication', 'communicationcompetition', 'communicationdetails', 'communicationfail', 'communicationiskey', 'communications', 'communist', 'community', 'commutation', 'commute', 'comp', 'compact', 'companion', 'companionpass', 'companionpasses', 'company', 'comparable', 'compare', 'comparison', 'compartments', 'compassion', 'compassionate', 'compatible', 'comped', 'compensate', 'compensation', 'compete', 'competent', 'competition', 'competitively', 'competitor', 'competitors', 'comping', 'complain', 'complainer', 'complainers', 'complaint', 'complaintquestions', 'complaints', 'complete', 'completely', 'complex', 'compliant', 'complicate', 'compliment', 'complimentary', 'complimentarybeveragesneeded', 'complt', 'compmech', 'compound', 'comps', 'compton', 'computer', 'computers', 'con', 'concentrate', 'concept', 'concern', 'concert', 'concierge', 'concourse', 'concrete', 'cond', 'condescend', 'condescension', 'condition', 'condo', 'condolences', 'condomrito', 'conection', 'conf', 'conference', 'conferencewe', 'confidence', 'confident', 'config', 'confirm', 'confirmation', 'confirmations', 'conflict', 'confrontational', 'confuse', 'confusion', 'congest', 'congrats', 'congratulation', 'congratulations', 'conjunction', 'conn', 'connect', 'connectfor', 'connecticut', 'connectin', 'connection', 'connections', 'connectns', 'connector', 'connectors', 'connetion', 'connex', 'connolly', 'consecutive', 'consequence', 'consider', 'considerable', 'considerably', 'considerate', 'consideration', 'consistency', 'consistent', 'consistently', 'consolation', 'console', 'constant', 'constantly', 'constitution', 'construction', 'constructive', 'consult', 'consultant', 'consumer', 'consumermarketing', 'consumers', 'consumption', 'cont', 'contaced', 'contact', 'contactcej', 'contactless', 'contagious', 'contain', 'container', 'contd', 'contempt', 'contend', 'content', 'contentmarketing', 'contest', 'context', 'continental', 'continentalair', 'continentalairlines', 'continentalunited', 'contingencies', 'contingency', 'continually', 'continue', 'continuesstill', 'continuous', 'contract', 'contractors', 'contradictory', 'contributiontopool', 'control', 'controllable', 'controllableirregularity', 'controller', 'controllers', 'controlthe', 'conv', 'convenience', 'convenient', 'conveniently', 'conversation', 'conversational', 'conversations', 'converse', 'conversion', 'convey', 'conveyer', 'conveyor', 'convince', 'convo', 'cooker', 'cookie', 'cookies', 'cookjaycook', 'cool', 'cooler', 'coordinate', 'cop', 'copa', 'copay', 'copilot', 'copy', 'copypaste', 'core', 'corevalues', 'corner', 'corny', 'corp', 'corpgreed', 'corporate', 'corporatepaid', 'corporation', 'correct', 'correcti', 'correctly', 'correctness', 'correlate', 'correspondence', 'corrupt', 'cory', 'corybronze', 'cos', 'coshared', 'cosmetic', 'cosmopolitan', 'cost', 'costa', 'costarica', 'costumer', 'costumers', 'costumerservice', 'costwhy', 'cot', 'cots', 'cough', 'could', 'couldwanted', 'count', 'counter', 'counterparts', 'countingdown', 'countingjust', 'countless', 'countries', 'country', 'county', 'couple', 'coupon', 'coupons', 'courier', 'courrier', 'course', 'court', 'courteous', 'courteroy', 'courtesy', 'courtney', 'courtsey', 'courtsnod', 'cousin', 'cousins', 'cover', 'coverage', 'covert', 'cowardly', 'cowboy', 'cowboycerrone', 'cowgirl', 'coworker', 'coworkers', 'cozy', 'cp', 'cpap', 'cpus', 'cr', 'crabby', 'crackerjack', 'crackers', 'craft', 'craftbeer', 'cram', 'cramp', 'cranky', 'crap', 'crape', 'crappiest', 'crappy', 'crash', 'crate', 'crave', 'crawl', 'craziness', 'crazinessintherockies', 'crazy', 'crazybitch', 'cream', 'create', 'creative', 'credentials', 'credibility', 'credit', 'creditcardsales', 'creditwhat', 'crew', 'crewe', 'crewi', 'crewmember', 'crewmembers', 'cri', 'crib', 'cricket', 'criminal', 'crisis', 'cristian', 'criteria', 'criticism', 'crjs', 'crook', 'cross', 'crossbrowser', 'crosswinds', 'crosswords', 'crowd', 'crucial', 'cruel', 'cruise', 'crumb', 'crummyservice', 'crutches', 'cruz', 'cry', 'crystal', 'cs', 'csfail', 'csm', 'cspkcats', 'csr', 'csrs', 'css', 'cst', 'cstmr', 'cstsvc', 'ct', 'cteam', 'ctg', 'ctl', 'ctr', 'cty', 'cuba', 'cud', 'cudtomers', 'cue', 'cultural', 'culture', 'cun', 'cunewr', 'cup', 'curb', 'curbside', 'curfew', 'curiosity', 'curious', 'current', 'currently', 'currentlysittingontarmac', 'curse', 'curt', 'curtesy', 'curvygirltravels', 'cus', 'cushion', 'cushy', 'cuss', 'cust', 'custexp', 'customary', 'customer', 'customerappreciation', 'customercan', 'customerexperience', 'customerfriendly', 'customerloyalty', 'customerrelations', 'customers', 'customerservice', 'customerservicefail', 'customerservicenot', 'customerserviceplease', 'customerservices', 'customerservicewin', 'customersfirst', 'customerstime', 'customs', 'custs', 'custserv', 'custservicehasnonumber', 'custy', 'cut', 'cute', 'cutest', 'cutoff', 'cuz', 'cuzco', 'cvg', 'cvgairport', 'cx', 'cxed', 'cxl', 'cxld', 'cxldprotection', 'cxp', 'cyberattack', 'cycle', 'cyncyn', 'cyndi', 'czamkoff', 'da', 'dad', 'dadboner', 'daddy', 'daddyshome', 'dadeland', 'dadoralive', 'dads', 'daiber', 'daily', 'daipresident', 'dakota', 'dal', 'dalaus', 'daldca', 'dale', 'dallas', 'dallasairporti', 'dallasaustin', 'dallasfort', 'dallaslovefield', 'dallasnews', 'dallasnext', 'dallasraisenow', 'dalmdw', 'damage', 'damageluggage', 'damion', 'damionflight', 'damn', 'damper', 'dan', 'danahajek', 'danbury', 'dance', 'dandy', 'dang', 'danger', 'dangerofgettingsnowedin', 'dangerous', 'dani', 'daniel', 'danihampton', 'danny', 'danroam', 'dare', 'dark', 'darn', 'darquenloveli', 'darrel', 'dart', 'dartmedia', 'daryl', 'data', 'date', 'datetime', 'datingrev', 'daughter', 'daughters', 'david', 'davidson', 'dawn', 'dawndavis', 'day', 'daycare', 'daydream', 'dayi', 'dayjustgotworse', 'daynot', 'dayreward', 'days', 'daysinn', 'dayslate', 'daysofhell', 'daysofoscar', 'daysofunitedfailures', 'daysplans', 'daystogo', 'daytona', 'daytonabeach', 'dc', 'dca', 'dcabos', 'dcadsm', 'dcaewr', 'dcam', 'dcamanual', 'dcapit', 'dcarsw', 'dcastl', 'dcoadavon', 'ddean', 'de', 'deactivate', 'dead', 'deadhead', 'deaf', 'deaffriendly', 'deal', 'deane', 'dear', 'death', 'debacle', 'debate', 'debbie', 'debit', 'deboards', 'deborah', 'dec', 'deceive', 'december', 'decency', 'decent', 'deceptive', 'decide', 'decision', 'decisions', 'deck', 'declaration', 'declare', 'decline', 'decorum', 'dedicate', 'dedication', 'deed', 'deedee', 'deem', 'deep', 'deeply', 'def', 'defcon', 'defective', 'defend', 'defer', 'defiantly', 'defibrillator', 'deficiency', 'definately', 'define', 'definitely', 'definition', 'definitive', 'deflator', 'degree', 'degrees', 'dehli', 'dehydrate', 'deice', 'deicer', 'del', 'delacy', 'delaney', 'delay', 'delayedcancelled', 'delayedconnection', 'delayedl', 'delayedno', 'delayedover', 'delayedovernight', 'delayedthat', 'delayforwhat', 'delaymissed', 'delaypending', 'delayscancelled', 'delayshandling', 'delayua', 'delete', 'delewr', 'delhi', 'deli', 'deliberate', 'delicious', 'delight', 'delightful', 'delinquent', 'deliver', 'deliveredhotel', 'delivery', 'delk', 'delongerry', 'delta', 'deltaassist', 'deltanews', 'deltapoints', 'delyd', 'demand', 'demo', 'demolish', 'demonstration', 'demote', 'den', 'denairport', 'denbna', 'dencle', 'dendal', 'dendfw', 'denewr', 'denise', 'denisejtaylor', 'denphl', 'denphx', 'dentedmissing', 'denver', 'denverairport', 'denverboston', 'deny', 'deoderant', 'deodorant', 'dep', 'depart', 'department', 'departments', 'departure', 'departures', 'depend', 'dependable', 'dependents', 'deplane', 'deplorable', 'deployment', 'depot', 'depress', 'depression', 'dept', 'derekaustin', 'derekc', 'derrick', 'des', 'descend', 'descent', 'describe', 'description', 'desert', 'deserve', 'design', 'designate', 'designer', 'desirable', 'desire', 'desition', 'desk', 'desks', 'desktop', 'desparately', 'desperate', 'desperately', 'despicable', 'despise', 'despite', 'dest', 'destfeel', 'destin', 'destination', 'destinationdragon', 'destinationdragons', 'destinationrude', 'destinations', 'destn', 'destroy', 'detail', 'detailsno', 'detective', 'detectors', 'deter', 'deteriorate', 'determination', 'determine', 'detroit', 'devaluation', 'devalue', 'devastate', 'develop', 'developers', 'development', 'device', 'devices', 'devotedyyours', 'devs', 'dfpietra', 'dfw', 'dfwairport', 'dfwclt', 'dfwlax', 'dfword', 'dgoodspeed', 'dgruber', 'dhepburn', 'dia', 'diabetic', 'dial', 'dialogue', 'dialup', 'diamond', 'diane', 'diapers', 'dice', 'dick', 'dickheads', 'dicks', 'dictionary', 'die', 'diego', 'diehardvirgin', 'diet', 'dietcoke', 'diff', 'differ', 'difference', 'different', 'differently', 'difficult', 'difficulties', 'difficultieswhat', 'difficulty', 'diffuse', 'dig', 'digg', 'digit', 'digital', 'dignity', 'dildo', 'dilemma', 'diligent', 'dim', 'dime', 'dimension', 'diminish', 'din', 'ding', 'dinner', 'dinosaurplane', 'dinosaurs', 'direct', 'directbag', 'directflights', 'direction', 'directional', 'directly', 'directtv', 'directv', 'dirt', 'dirtiest', 'dirty', 'disability', 'disable', 'disabledtraveler', 'disallow', 'disappear', 'disappoint', 'disappointment', 'disappointments', 'disappointmentyet', 'disapptment', 'disaster', 'disastrous', 'disbelief', 'discipline', 'disclose', 'discnctany', 'discomfort', 'disconnect', 'disconnection', 'disconnections', 'discontinue', 'discount', 'discourage', 'discourteous', 'discover', 'discovergrenada', 'discrimination', 'discuss', 'disgrace', 'disgraceful', 'disgruntle', 'disguise', 'disgust', 'disgutedindenver', 'dishearten', 'dishonest', 'dishonor', 'disinfectant', 'dislexia', 'dislike', 'disloyal', 'dismiss', 'disney', 'disneyland', 'disneyprincesshalfmarathon', 'disneyworld', 'disorganise', 'disorganization', 'disorganize', 'dispatch', 'dispatchalerts', 'dispatcher', 'dispatchissue', 'displace', 'display', 'displease', 'displeasure', 'disproportionate', 'dispute', 'disregard', 'disrespect', 'disrespectful', 'disrespectfully', 'disrupt', 'disruption', 'disruptions', 'dissapointed', 'dissapointing', 'dissapointment', 'dissaponted', 'dissatisfaction', 'dissatisfy', 'dissemination', 'disservice', 'disspointed', 'distance', 'distinguish', 'distress', 'distribution', 'distributor', 'disturb', 'disunite', 'disupdates', 'div', 'divadapouch', 'diverge', 'diversion', 'diversions', 'divert', 'divide', 'dividend', 'dividendmiles', 'dividendrewards', 'dividends', 'dividendsmember', 'divident', 'divider', 'dj', 'djevolutionhd', 'djimpact', 'djqkc', 'dkyde', 'dl', 'dlewis', 'dm', 'dmangen', 'dmbshows', 'dmd', 'dmed', 'dming', 'dmoukdarath', 'dmqf', 'dms', 'dmsc', 'dmstill', 'dmv', 'dns', 'dnt', 'dnxv', 'do', 'dobetter', 'dobetterjetblue', 'dobut', 'doc', 'docs', 'doctor', 'document', 'documentation', 'doesntfeellikestatusyet', 'dog', 'dogbuckeye', 'doi', 'doin', 'doke', 'doll', 'dollar', 'dollars', 'domestic', 'domingo', 'dominican', 'dominick', 'donaldaroberts', 'donate', 'donatert', 'donation', 'donedeal', 'donkey', 'donna', 'donotflyusair', 'donotflywiththem', 'dontchangeathing', 'dontdothistome', 'dontflythem', 'dontflyusairways', 'donthavehighhopes', 'dontmakemebeg', 'dontmakemegooutside', 'donts', 'donut', 'donuts', 'doo', 'doom', 'door', 'doorclose', 'dooronly', 'doors', 'doorstep', 'dope', 'dorm', 'dorns', 'dosequis', 'dot', 'dotnetnate', 'double', 'doublestandards', 'doubletriple', 'doubt', 'doubtful', 'doug', 'douglas', 'doumented', 'dounotwantmybusiness', 'down', 'downgrade', 'downhill', 'download', 'downmy', 'downnnnn', 'downright', 'downstairs', 'downthanks', 'downtown', 'doyourjob', 'dozen', 'dozens', 'dpdfpp', 'dpt', 'dpted', 'dr', 'draft', 'drag', 'dragon', 'dragons', 'drain', 'dramatically', 'draw', 'dre', 'dread', 'dreadful', 'dream', 'dreamliner', 'dreampath', 'drench', 'dresparkles', 'dress', 'drift', 'drink', 'drinker', 'drinksnack', 'drinkssnacks', 'drive', 'driver', 'drivers', 'drone', 'drop', 'droppeditoffyet', 'drunkpilots', 'drunks', 'drvrugby', 'drwinston', 'dry', 'dsearls', 'dsm', 'dtv', 'dtw', 'dtwase', 'dualcam', 'duanenclark', 'dub', 'dubai', 'dubjac', 'dublin', 'dublinairport', 'duck', 'ducttaped', 'dude', 'due', 'duecto', 'duffle', 'duh', 'duke', 'dull', 'dullesairport', 'dullessucks', 'dullestostatecollege', 'dulleswashington', 'dulleswe', 'dultch', 'dumasttg', 'dumb', 'dump', 'dungeon', 'dunkin', 'dunno', 'dupe', 'durango', 'dust', 'dustyob', 'duty', 'dvr', 'dvt', 'dwell', 'dxb', 'dynamite', 'ea', 'eager', 'eagle', 'ear', 'earlier', 'earliest', 'early', 'earlybird', 'earlybirdmeansnothing', 'earlyon', 'earn', 'earnedmybusiness', 'earphone', 'earring', 'earrings', 'earth', 'earthquake', 'ease', 'easier', 'easiest', 'easily', 'east', 'easter', 'eastern', 'easy', 'eat', 'eatgregeat', 'eatup', 'eb', 'ebhset', 'ebokeers', 'ebola', 'ebook', 'ec', 'ecertificate', 'eco', 'ecom', 'econ', 'economic', 'economy', 'ecuador', 'ed', 'edge', 'edgy', 'edinburgh', 'edit', 'edition', 'edplotts', 'edreamsen', 'educate', 'education', 'educational', 'ees', 'eff', 'effect', 'effective', 'efficencies', 'efficiency', 'efficient', 'efficiently', 'effin', 'effort', 'effortless', 'efforts', 'eg', 'ege', 'egregious', 'eh', 'ehsanismpowered', 'eight', 'either', 'ejacqui', 'ekvm', 'el', 'elaborate', 'elbow', 'elderly', 'elect', 'electric', 'electrical', 'electronic', 'electronics', 'eleonora', 'elevate', 'elevategold', 'elevator', 'eligible', 'elingeniero', 'elise', 'elite', 'eliz', 'eliza', 'elizabeth', 'ella', 'ellahenderson', 'ellamae', 'elm', 'elmira', 'elp', 'elpaso', 'els', 'else', 'elsewhere', 'elwoodblues', 'em', 'email', 'emailcall', 'emailingcallingdming', 'emailmailto', 'emailscalls', 'emailtext', 'emailtextphone', 'emaleesugano', 'emb', 'embarrass', 'embarrassment', 'embassy', 'embed', 'embody', 'emboss', 'embraersa', 'emer', 'emerald', 'emerg', 'emerge', 'emergencies', 'emergency', 'emeyerson', 'emily', 'emilydonneiiy', 'emilylyonss', 'emirates', 'emmaclifford', 'emotional', 'emp', 'empathetic', 'empathize', 'empathy', 'emphasize', 'empl', 'emplid', 'employ', 'employee', 'employeefaceless', 'employeerelations', 'employees', 'employeeslack', 'employeeworking', 'employer', 'empty', 'emrey', 'ems', 'emv', 'emxlyy', 'en', 'encounter', 'encourage', 'encouragement', 'end', 'endless', 'endlessly', 'enemy', 'energy', 'enforce', 'enforcement', 'engadget', 'engage', 'engagement', 'engagements', 'engine', 'engineer', 'england', 'english', 'englishspanish', 'enhance', 'enjoy', 'enjoyable', 'enormous', 'enough', 'enoughisenough', 'enquire', 'enrage', 'enrol', 'enroll', 'enroute', 'ensue', 'ensure', 'enter', 'enterprise', 'entertain', 'entertainment', 'entertainmnt', 'entire', 'entirely', 'entitle', 'entrance', 'entree', 'entrees', 'entrust', 'entry', 'enuf', 'environment', 'envoy', 'enzo', 'eom', 'eould', 'ep', 'epic', 'epicfail', 'epicfailunited', 'epicfailure', 'epipens', 'epitimeoffail', 'eps', 'eqm', 'eqp', 'equal', 'equality', 'equalizer', 'equally', 'equip', 'equipment', 'equivalent', 'erase', 'erewards', 'eri', 'ericbradleypt', 'erickofiejones', 'erie', 'erieairport', 'eriewr', 'eriord', 'erj', 'ernievigil', 'err', 'error', 'errored', 'erroring', 'errors', 'ers', 'erw', 'es', 'escalate', 'escape', 'escort', 'eservice', 'esp', 'especially', 'espinosa', 'espncoachmack', 'essence', 'essential', 'essentially', 'essentials', 'est', 'establish', 'estelle', 'estellevw', 'estimate', 'estplatinumeventually', 'et', 'eta', 'etailwest', 'etc', 'etd', 'eternal', 'eternally', 'eternity', 'ethan', 'ethics', 'ethiopia', 'eticket', 'etihad', 'etiquette', 'eu', 'europe', 'european', 'euros', 'evacuate', 'evaluate', 'evansville', 'evasive', 'evedid', 'even', 'evenlate', 'evenmorespace', 'evenmoreview', 'evennotified', 'event', 'eventhoughitsdegreesathome', 'eventprof', 'events', 'eventually', 'ever', 'everglades', 'evermoreroom', 'every', 'everybody', 'everyone', 'everyones', 'everything', 'everythingsgonnabealright', 'everytime', 'everywhere', 'evidence', 'evidently', 'evil', 'evn', 'evolve', 'evoucher', 'evr', 'evry', 'evrytime', 'evv', 'ew', 'ewk', 'ewr', 'ewrbrudel', 'ewrfll', 'ewriad', 'ewrlax', 'ewrmco', 'ewrord', 'ewrpdx', 'ewrsti', 'ex', 'exacerbate', 'exact', 'exactly', 'example', 'exams', 'exasperate', 'exboyfriend', 'exceed', 'excellence', 'excellent', 'excellentcustomerservice', 'except', 'exception', 'exceptional', 'exceptionally', 'exceptionalservice', 'exceptions', 'excess', 'exchange', 'exchangecredit', 'excite', 'excitement', 'exclusive', 'exclusively', 'excruciatingly', 'excusable', 'excuse', 'excusegeez', 'exe', 'exec', 'execplat', 'execution', 'executive', 'executiveplatinummeansnothing', 'executives', 'exercise', 'exeu', 'exhaust', 'exhaustion', 'exhibit', 'exhorbitantfees', 'exicted', 'exist', 'existence', 'existent', 'exit', 'exitrow', 'exp', 'expand', 'expansion', 'expect', 'expectations', 'expedia', 'expediathere', 'expedient', 'expedite', 'expeditious', 'expens', 'expense', 'expensive', 'experience', 'experts', 'expiration', 'expire', 'expireswhy', 'explain', 'explanation', 'explanations', 'explore', 'explorer', 'expose', 'expowest', 'express', 'exps', 'extend', 'extension', 'extent', 'extenuate', 'extinct', 'extortion', 'extra', 'extractions', 'extralight', 'extraordinaire', 'extraordinary', 'extraspeed', 'extravaganza', 'extreme', 'extremely', 'ey', 'eye', 'eyeglasses', 'eyewitness', 'eyw', 'eyyyy', 'ezee', 'ezemanalyst', 'fa', 'faa', 'faaaannntastic', 'faail', 'faanews', 'fab', 'fabrice', 'fabulous', 'face', 'facebook', 'facepalm', 'facilities', 'fact', 'facts', 'fail', 'failagain', 'failback', 'failingyourcustomer', 'failover', 'failphone', 'failure', 'failures', 'faint', 'fair', 'fairbanks', 'faire', 'fairfax', 'fairly', 'fairway', 'faith', 'faithful', 'fake', 'fakeawards', 'fakesincerity', 'fakesnow', 'fall', 'fallow', 'false', 'falseadvertising', 'fam', 'familiar', 'families', 'family', 'familyfriends', 'familywe', 'famous', 'fan', 'fancy', 'fantastic', 'fantasy', 'faq', 'far', 'farce', 'fare', 'farecompare', 'farelock', 'fargo', 'fargoairport', 'farm', 'farmington', 'fas', 'fashion', 'fast', 'fastcompany', 'fasten', 'faster', 'fastest', 'fat', 'fate', 'father', 'fattire', 'fattuesday', 'fault', 'faulty', 'faundation', 'faus', 'fav', 'fave', 'faves', 'favor', 'favorite', 'favoriteairline', 'fax', 'fay', 'fb', 'fc', 'fcking', 'fcmostinnovative', 'fcuk', 'fdk', 'fe', 'fear', 'feat', 'feature', 'feb', 'february', 'februaryfreezefox', 'februaryi', 'feces', 'feck', 'federal', 'fedex', 'fedexed', 'fedora', 'fedup', 'fee', 'feed', 'feedback', 'feel', 'feelbetter', 'feelingtheluv', 'feelsgood', 'feeltheheat', 'feesbut', 'feet', 'feeyou', 'fehqne', 'fell', 'fella', 'felt', 'feltthelove', 'female', 'fend', 'fendforyourself', 'fendurself', 'fendyourself', 'fernheinig', 'feroute', 'ferrissalameh', 'ferry', 'festival', 'festivities', 'fete', 'fewer', 'ff', 'ffl', 'ffstatusdontmatter', 'fgkxv', 'fhkte', 'fi', 'fiance', 'fiancee', 'fiasco', 'fib', 'fiction', 'fidencio', 'fidifamilies', 'field', 'fifth', 'fifty', 'fight', 'figure', 'file', 'fill', 'film', 'filmcrew', 'filmjobnoequipment', 'filter', 'filthy', 'filthyplane', 'fin', 'final', 'finale', 'finalize', 'finally', 'finals', 'finalstretch', 'financial', 'find', 'findanothergate', 'finder', 'findurgrip', 'fine', 'finest', 'finger', 'fingerscrossed', 'finish', 'finleybklyncfs', 'finnair', 'fiorettindward', 'fiousairways', 'fire', 'firefighters', 'firefox', 'firevan', 'firm', 'first', 'firstboth', 'firstclass', 'firstlove', 'firststari', 'firsttimeflyingwamo', 'firstworldproblems', 'fiscal', 'fish', 'fispahani', 'fist', 'fistfight', 'fit', 'fitbit', 'fitz', 'five', 'fiveword', 'fix', 'fixthis', 'fixyourstuff', 'fjbfsc', 'fkn', 'fkqw', 'fkxb', 'fl', 'fla', 'flag', 'flail', 'flamethrowers', 'flashlight', 'flat', 'flatiron', 'flatter', 'flavor', 'flaw', 'flawless', 'fleek', 'fleet', 'flex', 'flexibility', 'flexibilitycompassion', 'flexible', 'flght', 'flgjt', 'flgt', 'flier', 'flierfriendly', 'fliers', 'flight', 'flightation', 'flightations', 'flightattendant', 'flightaware', 'flightcancelled', 'flightchange', 'flightchecked', 'flightchng', 'flightd', 'flightdelay', 'flightdincompetence', 'flightedflight', 'flightedmechprobs', 'flightedrescheduled', 'flightedsnow', 'flightedstill', 'flightfail', 'flightflew', 'flightget', 'flightglobal', 'flightingdelaying', 'flightlanding', 'flightlation', 'flightlations', 'flightlationyou', 'flightled', 'flightledcan', 'flightleddelayed', 'flightledflight', 'flightling', 'flightly', 'flightmarch', 'flightn', 'flightncy', 'flightness', 'flightnever', 'flightnightmare', 'flightno', 'flightplease', 'flightr', 'flightrs', 'flightsairports', 'flightsdelays', 'flightsmilespoints', 'flightspots', 'flightsrefunds', 'flightst', 'flightsthis', 'flightsyear', 'flighttold', 'fligt', 'fligth', 'fligths', 'flintstone', 'flip', 'flipside', 'flite', 'fll', 'fllairport', 'fllight', 'floor', 'florida', 'floridavacation', 'flow', 'flower', 'flsfoewr', 'flt', 'fltkeeping', 'flts', 'flu', 'fluctuate', 'fluid', 'fluster', 'flutter', 'fly', 'flyanaofficial', 'flyaway', 'flybetter', 'flydelta', 'flydeltanexttime', 'flyeia', 'flyer', 'flyerfriendly', 'flyers', 'flyfi', 'flyfrontier', 'flyin', 'flyingainteasy', 'flyingitforward', 'flyingretro', 'flyingwithus', 'flyitforward', 'flyjetblue', 'flyknoxville', 'flylaxairport', 'flymidway', 'flynashville', 'flyohare', 'flypbi', 'flypdx', 'flyquiet', 'flyrepublicair', 'flysaa', 'flysfo', 'flysouthwest', 'flysw', 'flyswa', 'flythefriendlyskies', 'flythroughs', 'flytpa', 'flyunited', 'flyus', 'flywe', 'flywhonotblue', 'flyyow', 'fm', 'fmjtyl', 'fml', 'fnd', 'fneqm', 'fo', 'focus', 'fog', 'foh', 'fold', 'folder', 'foldup', 'folk', 'folks', 'follow', 'followback', 'followdm', 'followers', 'followup', 'fong', 'food', 'foodallergies', 'foodallergy', 'foodnetwork', 'fool', 'foolish', 'foot', 'footage', 'footrest', 'force', 'forcedovernight', 'forecast', 'foreign', 'forelock', 'foresight', 'forever', 'foreveranyone', 'forevercold', 'foreverrrrrr', 'forfeit', 'forget', 'forgive', 'form', 'formal', 'formality', 'formally', 'format', 'former', 'formsmaddening', 'formula', 'forsythfactor', 'fort', 'forth', 'fortunately', 'fortunemagazine', 'forty', 'foru', 'forum', 'forward', 'foster', 'four', 'fourhour', 'fourth', 'fouryrold', 'fouty', 'foxnews', 'fpmy', 'fr', 'fra', 'fracat', 'fraction', 'fraif', 'frame', 'fran', 'france', 'franchise', 'francisco', 'frank', 'frankfurt', 'frankly', 'fransico', 'fransisco', 'fraud', 'frauds', 'freak', 'freakin', 'freaky', 'freberg', 'fred', 'freddie', 'freddieawards', 'free', 'freecomedyshow', 'freeconcert', 'freedrinkcoupons', 'freeflight', 'freejust', 'freeneversucks', 'freeze', 'french', 'freq', 'frequency', 'frequent', 'frequentflyer', 'frequentflyerappreciates', 'frequentflyers', 'frequently', 'fresh', 'fresno', 'freyabevanfund', 'freyasfund', 'fri', 'fricken', 'friday', 'fridgethat', 'friend', 'friendliest', 'friendly', 'friendlyfriday', 'friendlyskies', 'friendlysky', 'friendlyteam', 'friends', 'frighten', 'frigid', 'frigidfriday', 'fritz', 'frm', 'fro', 'fromthefrontseat', 'fron', 'front', 'frontend', 'frontier', 'frontrunner', 'froschtravel', 'froward', 'frown', 'frowny', 'frozentoilet', 'frozenwater', 'fruit', 'frustrate', 'frustratingly', 'frustration', 'frustrations', 'frzz', 'fsd', 'fsqthg', 'fsve', 'fszyo', 'ft', 'ftl', 'ftlauderdale', 'ftlauderdalesun', 'ftmyers', 'ftw', 'fu', 'fuccc', 'fuck', 'fucken', 'fuckin', 'fuckinf', 'fuckinlame', 'fuckoff', 'fudgers', 'fudgin', 'fuel', 'fuk', 'fuking', 'fulfil', 'fulfill', 'full', 'fulldo', 'fullfa', 'fullfare', 'fullprice', 'fully', 'fullyear', 'fun', 'func', 'function', 'functional', 'functionality', 'functionally', 'fund', 'funeral', 'funerals', 'funflightattendants', 'funited', 'funny', 'funnycaptain', 'furious', 'furnish', 'furrow', 'furryfiesta', 'fuselage', 'fustrated', 'fusturated', 'future', 'fuyukaidesuyo', 'fvfyw', 'fwa', 'fwd', 'fwhei', 'fwiw', 'fwwef', 'fyi', 'fyvrfn', 'ga', 'gabriela', 'gaga', 'gagent', 'gah', 'gain', 'gaincustomers', 'gainesville', 'gal', 'gala', 'galaxy', 'galley', 'game', 'gameboy', 'gang', 'gangway', 'gap', 'garage', 'garbage', 'garcia', 'garciachicago', 'garden', 'gary', 'garywerk', 'gas', 'gastoncounty', 'gate', 'gather', 'gatwick', 'gay', 'gb', 'gc', 'gcvwj', 'gd', 'gear', 'gee', 'geeeeezzzzz', 'geekandahalf', 'geeks', 'geekstiel', 'geez', 'geg', 'geiger', 'gem', 'gems', 'general', 'generally', 'generate', 'generic', 'geneva', 'genious', 'genius', 'gent', 'gentleman', 'gently', 'gents', 'genuine', 'genuinely', 'geography', 'george', 'georgia', 'geraghty', 'geraldine', 'german', 'germany', 'germs', 'gerne', 'gerrielliott', 'gesture', 'get', 'getaway', 'getconnected', 'gether', 'getittogether', 'getmartyhome', 'getmehome', 'getmeoffrhisfuckinplane', 'getmeoffthisbird', 'getmeoffthisplane', 'getmeontop', 'getmeoutofhere', 'getmeouttahere', 'getmorehands', 'getphilz', 'gettin', 'gettingbetter', 'gettingimpatient', 'gettingoffplane', 'gettingthirsty', 'getyouracttogether', 'getyourlife', 'gf', 'gfc', 'gg', 'ggqzqd', 'ggreenwald', 'ghettofab', 'gi', 'giannilee', 'giant', 'giants', 'gif', 'gift', 'gig', 'giggle', 'gills', 'gin', 'girl', 'girlfriend', 'girls', 'girlsweekend', 'gist', 'give', 'givethemraises', 'givethoseladiesraise', 'gj', 'gjqxj', 'gjt', 'glad', 'gladly', 'gladys', 'glamco', 'glance', 'glasgow', 'glass', 'glassdoor', 'glassslipperchallenge', 'glenn', 'glitch', 'glitches', 'glitchy', 'global', 'globalfc', 'globe', 'gloves', 'glow', 'gluten', 'gma', 'gmail', 'gmailcom', 'gng', 'gnight', 'gnv', 'go', 'goal', 'gobankrupt', 'god', 'goddamn', 'godelta', 'gofundme', 'gogh', 'gogo', 'gohelp', 'goin', 'goingforgreat', 'goingforgreatnessfail', 'goingtovegas', 'gold', 'golden', 'goldentickets', 'golds', 'goldsapphire', 'golf', 'golfbags', 'golfunited', 'golfwithwoody', 'gonenow', 'gong', 'gonnabealongnight', 'good', 'goodbye', 'goodcustomerservice', 'goodday', 'goodenoughmother', 'goodenufmother', 'goodflight', 'goodgenes', 'goodgriefpeople', 'goodhumored', 'goodluckamericanair', 'goodness', 'goodnight', 'goods', 'goodthingscome', 'goodwill', 'google', 'goose', 'goosebayairport', 'gooutofbusiness', 'gopatriots', 'gopro', 'gopuregrenada', 'gorgeous', 'gosh', 'gotcha', 'goto', 'gottogetbetter', 'gov', 'government', 'governor', 'govt', 'gpu', 'gr', 'grab', 'grace', 'gracias', 'gracious', 'grade', 'grader', 'graduate', 'graduation', 'gramp', 'grand', 'grandbabies', 'grandcanyon', 'grandcayman', 'grandfather', 'grandkids', 'grandma', 'grandmother', 'grandmothers', 'grandpa', 'grandparents', 'grant', 'graphic', 'graphics', 'gras', 'grasshopper', 'grassy', 'grateful', 'gratitude', 'gray', 'great', 'greatcustomerservice', 'greater', 'greatest', 'greatgranny', 'greatjob', 'greatly', 'greatservice', 'greed', 'greedy', 'greeeaat', 'green', 'greenfield', 'greensboro', 'greenville', 'greet', 'greetingz', 'greg', 'gregm', 'gregwallace', 'grey', 'greyhoundbus', 'grief', 'grievance', 'grind', 'gripeo', 'grk', 'grkm', 'grnd', 'groan', 'gross', 'grossedout', 'grossthe', 'grouchy', 'ground', 'groundoutside', 'group', 'groupa', 'grow', 'grp', 'grr', 'grrrr', 'grrrrrr', 'grrrrrrrr', 'grt', 'gru', 'gruber', 'grumpy', 'grumpykim', 'gs', 'gsa', 'gso', 'gsp', 'gt', 'gth', 'gtsvyb', 'guacamole', 'guam', 'guarantee', 'guardia', 'guatemala', 'guc', 'guess', 'guesstimate', 'guessweflyingdelta', 'guest', 'guests', 'guidance', 'guide', 'guidelines', 'guilty', 'guiltypleasures', 'guinea', 'guitar', 'guitars', 'gum', 'gun', 'gunna', 'guru', 'gusty', 'guy', 'guyana', 'guysi', 'guyssee', 'guyyyys', 'gvn', 'ha', 'haa', 'habitrails', 'habitually', 'hack', 'hah', 'haha', 'hahah', 'hahaha', 'hahahah', 'hahahaha', 'hahahahaha', 'hahnot', 'hail', 'hair', 'haiti', 'half', 'halfthought', 'halfway', 'hall', 'ham', 'hammer', 'hamsters', 'hand', 'handbag', 'handedly', 'handicap', 'handily', 'handle', 'handler', 'handlers', 'handoff', 'handshake', 'handy', 'hang', 'hangar', 'hanger', 'hangup', 'haning', 'hannah', 'hanneslohmann', 'happen', 'happend', 'happenedwhat', 'happier', 'happily', 'happiness', 'happy', 'happybirthday', 'happycamper', 'happycustomer', 'happyflier', 'happyflight', 'happyfriday', 'happythem', 'happytohelp', 'happytweet', 'harass', 'harbor', 'hard', 'hardcase', 'hardearned', 'harder', 'hardest', 'hardly', 'hardtodo', 'hardworking', 'harf', 'harris', 'harsh', 'hartford', 'hashtag', 'hassle', 'hasty', 'hat', 'hatch', 'hate', 'hateful', 'haul', 'havana', 'havin', 'havoc', 'hawaii', 'hawaiian', 'hawaiianair', 'hay', 'haydensteamboat', 'hayleymad', 'hazard', 'hd', 'hdn', 'hdndl', 'hdsportsguy', 'head', 'headache', 'headaches', 'headerelevateusernumofpointsavailable', 'headline', 'headphone', 'headphones', 'heal', 'health', 'healthbenefitsofplants', 'hear', 'heart', 'heartbroken', 'heartlanta', 'heartless', 'hearts', 'heat', 'heathrow', 'heathrowairport', 'heathrownewark', 'heattrap', 'heaven', 'heavenlychc', 'heavily', 'heavy', 'heck', 'hectic', 'heel', 'hegshmeg', 'heh', 'heidimacey', 'height', 'heinekenusacorp', 'helacohlc', 'helene', 'hell', 'hella', 'heller', 'hello', 'helloare', 'hellobrittney', 'help', 'helpaa', 'helpcomplaint', 'helper', 'helpful', 'helpfuli', 'helpfulness', 'helpimstuck', 'helpinfo', 'helpless', 'helplindsey', 'helpline', 'helpmeplease', 'helppls', 'helpthanks', 'helpva', 'helsinkiairport', 'hemisphere', 'hemispheres', 'hemispheresmag', 'hemophilia', 'hence', 'henrikwagner', 'hep', 'hepl', 'herb', 'herba', 'herbal', 'herd', 'herman', 'herndon', 'hero', 'heroes', 'hesitant', 'hey', 'heymynameissean', 'heyo', 'heyyyy', 'hfjkto', 'hgeronemus', 'hhagerty', 'hhp', 'hi', 'hiccup', 'hide', 'higgs', 'high', 'highbuddyyy', 'higher', 'higherandhigher', 'highest', 'highhopes', 'highlight', 'highly', 'highway', 'hii', 'hike', 'hilarious', 'hill', 'hillaconlin', 'hilo', 'hilton', 'hiltonworldwide', 'hime', 'himy', 'hinder', 'hint', 'hip', 'hipster', 'hipunis', 'hirasmusbidragi', 'hire', 'hiremorepeople', 'hiremorepoeple', 'historical', 'historically', 'history', 'hit', 'hitawall', 'hitch', 'hizouse', 'hkg', 'hlp', 'hm', 'hmm', 'hmmm', 'hn', 'hnl', 'ho', 'hoagy', 'hockey', 'hof', 'hog', 'hold', 'holder', 'holders', 'holdon', 'holdtime', 'holdup', 'hole', 'holiday', 'holla', 'holler', 'hollow', 'hollymais', 'hollywood', 'holton', 'holy', 'holz', 'home', 'homeandreadyfornexttrip', 'homefamily', 'homegirl', 'homeintentional', 'homeless', 'homeschool', 'hometown', 'homeward', 'homewardbound', 'homosexual', 'hon', 'honalulu', 'honest', 'honestly', 'honesty', 'honey', 'honeymoon', 'honolulu', 'honor', 'honorable', 'honour', 'honululu', 'hoo', 'hood', 'hoodlums', 'hook', 'hoom', 'hooooo', 'hoop', 'hooray', 'hoot', 'hop', 'hope', 'hopeful', 'hopefully', 'hopeidonotgetsick', 'hopeless', 'hopethegearmakesitintact', 'hopetogetanswersoon', 'hopin', 'hopingpraying', 'hopkins', 'horizon', 'hormonal', 'hormones', 'horrendous', 'horrible', 'horribleattitudes', 'horriblecustomerservice', 'horribleservice', 'horriblewent', 'horribly', 'horrid', 'horrific', 'horror', 'horse', 'hosp', 'hospice', 'hospitality', 'hospitals', 'host', 'hostage', 'hostel', 'hostile', 'hot', 'hotel', 'hotelhow', 'hotelliving', 'hotels', 'hotelstonight', 'hotl', 'hotlanta', 'hotline', 'hotmailcom', 'hotspot', 'hotter', 'hotterandlongerthanhell', 'hou', 'hour', 'hourandtenminutedelay', 'hourdelay', 'hourflight', 'hourflights', 'hournever', 'hours', 'hourslove', 'hourwait', 'hourwaitsucks', 'house', 'houston', 'houstonbogota', 'houstonbush', 'hover', 'however', 'howhardcanthatreallybe', 'howisthatpossible', 'howwhy', 'hp', 'hpn', 'hr', 'hrdelay', 'hrl', 'hrmin', 'hrs', 'hrsminonhold', 'hs', 'hstg', 'hsv', 'html', 'hts', 'http', 'https', 'hub', 'hubby', 'hubbys', 'hubs', 'huffpostbiz', 'hug', 'huge', 'hugeeeee', 'hugely', 'hughes', 'huh', 'human', 'humanity', 'humans', 'humiliate', 'humor', 'humour', 'humphrey', 'hundred', 'hundreds', 'hungary', 'hungry', 'hungupnohelp', 'hunkydory', 'hunt', 'huntsville', 'hurricane', 'hurry', 'hurt', 'hury', 'husain', 'husainhaqqani', 'husband', 'huston', 'hutchinsjim', 'huxleyesque', 'hv', 'hve', 'hyperlinked', 'hypocrisy', 'iad', 'iadore', 'iadsat', 'iah', 'iahdfw', 'iahhnl', 'iahmnl', 'iamtedking', 'iata', 'iatanbul', 'iberia', 'ice', 'icecream', 'iceday', 'iceland', 'icelandair', 'ichangedyourdiaper', 'icloud', 'iconography', 'icu', 'icy', 'icyflight', 'id', 'idaho', 'idea', 'ideal', 'ideas', 'identical', 'ideologias', 'ideserveareward', 'idiot', 'idiotic', 'idiots', 'idk', 'idlovetoask', 'idnumber', 'idols', 'idonotcare', 'idontwannalivewithoutyourlove', 'idontwanttocallback', 'ids', 'iep', 'ifc', 'ife', 'ifeeldumb', 'iflyalot', 'iflyoakland', 'iflyswa', 'ifthesneverstopped', 'igiveup', 'ignorant', 'ignore', 'igotmonte', 'iha', 'ihatemergers', 'ihop', 'iiiii', 'ijustwanttobeinboston', 'ijustwanttosleep', 'il', 'ilchp', 'ill', 'illegal', 'illiterate', 'illness', 'illogical', 'ilm', 'ilookyoung', 'ilovejetblue', 'ils', 'image', 'imagine', 'imaginedragons', 'imateacher', 'imdetermined', 'imessage', 'imjustsaying', 'imma', 'immediate', 'immediately', 'immensely', 'imo', 'impact', 'impair', 'impatience', 'impatient', 'impediment', 'impend', 'impersonal', 'impersonator', 'implement', 'impolite', 'important', 'importantflight', 'impossible', 'impossibly', 'impress', 'impression', 'impressions', 'impressive', 'improper', 'improve', 'improvement', 'improvements', 'improvetheprocess', 'imranr', 'imtired', 'inability', 'inaccessibility', 'inaccurate', 'inaccuratemisleading', 'inactivity', 'inadequate', 'inappropriate', 'inappropriately', 'inbaggage', 'inbound', 'inbox', 'inbrowser', 'inc', 'incapable', 'incase', 'incedentals', 'incentive', 'inch', 'inchecking', 'incident', 'incidentally', 'incidentals', 'incidents', 'incl', 'inclement', 'inclemental', 'incls', 'include', 'inclusion', 'income', 'incoming', 'incompetence', 'incompetenceunderstaffing', 'incompetency', 'incompetent', 'incompetentmanagers', 'incompetentrude', 'incomprehensible', 'inconceivable', 'inconsiderate', 'inconsistent', 'inconvenience', 'inconvenient', 'inconveniently', 'inconvience', 'incorrect', 'incorrectly', 'increase', 'incredible', 'incredibly', 'increments', 'incubator', 'incur', 'ind', 'indeed', 'indenial', 'independence', 'india', 'indian', 'indianapolis', 'indicate', 'indication', 'indignation', 'individual', 'indm', 'induce', 'industry', 'indy', 'inebriate', 'inedible', 'ineedabeer', 'ineedcoffee', 'inefficiency', 'inefficient', 'ineligible', 'inept', 'inevitable', 'inexcusable', 'inexpensive', 'inexperienced', 'infant', 'infants', 'infanttoddler', 'inferior', 'infinite', 'infinity', 'inflatable', 'inflate', 'inflation', 'inflexible', 'inflght', 'inflight', 'influx', 'info', 'infobag', 'infographic', 'inform', 'information', 'informative', 'infrastructure', 'infringement', 'infuriate', 'ing', 'ingredients', 'inhumane', 'initial', 'initiate', 'initiative', 'injure', 'injuries', 'injury', 'inlaws', 'inline', 'inner', 'innovacion', 'innovation', 'inop', 'inoperable', 'inout', 'inperson', 'inpolite', 'input', 'inputted', 'inquire', 'inquiries', 'inquiry', 'ins', 'insane', 'insanely', 'insanity', 'insensitive', 'insert', 'inside', 'insider', 'insight', 'insist', 'inspect', 'inspiration', 'inspire', 'inst', 'insta', 'instagram', 'instal', 'installation', 'instance', 'instant', 'instantly', 'instead', 'institutional', 'instruct', 'instructions', 'instrument', 'insubstantial', 'insufficient', 'insulin', 'insult', 'insurance', 'insure', 'int', 'intact', 'integrate', 'integration', 'integrity', 'intel', 'intelligence', 'intelligent', 'intend', 'intent', 'intention', 'intentionally', 'interaction', 'interchangeably', 'intercom', 'intercontinental', 'interest', 'interestingagent', 'interfere', 'interim', 'interior', 'interiors', 'intern', 'internal', 'internally', 'international', 'internationally', 'internet', 'internjohnradio', 'internship', 'internships', 'interpret', 'interrogate', 'interrupt', 'interupt', 'interview', 'intimate', 'intl', 'intlcheckin', 'intraeu', 'intro', 'intrusive', 'intuit', 'intuitlife', 'inv', 'invalid', 'inventory', 'invest', 'investigate', 'investigatedmy', 'investigation', 'investment', 'investor', 'investors', 'invitation', 'invitational', 'invite', 'invoice', 'involuntarily', 'involve', 'iny', 'iol', 'ionlyflyblue', 'ios', 'iove', 'iowa', 'ipad', 'ipaddo', 'iphone', 'ipodtouch', 'iraiq', 'irate', 'ireland', 'irene', 'irina', 'irmafromdallas', 'iron', 'irony', 'irregularity', 'irreplaceable', 'irresponsible', 'irritate', 'irrlcd', 'irrops', 'isabelle', 'isdelayed', 'ish', 'ishouldhavedriven', 'isis', 'isit', 'isitsummeryet', 'isitthegarykellyway', 'isjx', 'island', 'islandexpert', 'islands', 'isle', 'isolate', 'isp', 'israel', 'issue', 'issuenot', 'issuesmy', 'issuesshe', 'istanbul', 'istead', 'isthisreal', 'isthisyourfirsttry', 'italian', 'italy', 'item', 'items', 'itenary', 'itfits', 'ithaca', 'ithelpsabit', 'ithica', 'itin', 'itineraries', 'itinerary', 'itineraryconfirmation', 'itis', 'ito', 'itover', 'itproblems', 'itravelalot', 'itsaaronchriz', 'itscold', 'itscostingmeincome', 'itslaloca', 'itsthelittlethings', 'itthis', 'itunesmusic', 'itwasminttobe', 'iusair', 'iusedtoloveu', 'iv', 'ivebeen', 'ivr', 'iwantcoffee', 'iwantmymoneyback', 'iwas', 'iwoulddoanythingforlove', 'iy', 'jabevan', 'jac', 'jack', 'jackass', 'jacket', 'jackkairys', 'jackpot', 'jackson', 'jacksonville', 'jaclax', 'jacqueline', 'jacquelyn', 'jacquie', 'jail', 'jailbreak', 'jaipur', 'jal', 'jam', 'jamaica', 'jamesasworth', 'jameskraw', 'jameswester', 'jamie', 'jan', 'jana', 'jane', 'janet', 'janna', 'jannasaurusrex', 'january', 'japan', 'jaramillo', 'jason', 'jasonwhitely', 'javascript', 'jax', 'jaxbna', 'jayfranceschi', 'jaynegelman', 'jayvig', 'jb', 'jbeatz', 'jbi', 'jblu', 'jburg', 'jcolenc', 'jdbwaffles', 'jdhadp', 'jealous', 'jeanette', 'jeanine', 'jeans', 'jedediah', 'jedediahbila', 'jeff', 'jeffhofmann', 'jeffsmisek', 'jennifercascino', 'jenniferdawnpro', 'jenniferwalshpr', 'jennings', 'jeokoo', 'jeopardy', 'jerk', 'jersey', 'jessicajaymes', 'jesus', 'jet', 'jetbae', 'jetblue', 'jetblueanyone', 'jetblueblues', 'jetbluebos', 'jetbluebruins', 'jetbluecheeps', 'jetbluefail', 'jetbluefame', 'jetblueforever', 'jetbluehatesbtv', 'jetbluejfk', 'jetbluemember', 'jetbluemess', 'jetbluerocks', 'jetblues', 'jetbluesofly', 'jetbluesucks', 'jetbridge', 'jetgreen', 'jetred', 'jetscrew', 'jetsetter', 'jetway', 'jetways', 'jetwaywhy', 'jewel', 'jezziegoldz', 'jfk', 'jfklas', 'jfklax', 'jfklhr', 'jfkman', 'jfksea', 'jfksfo', 'jh', 'jhamilton', 'jhughes', 'jilt', 'jim', 'jimcramer', 'jimdaytv', 'jimmy', 'jimtrotternfl', 'jindalcmc', 'jj', 'jk', 'jkf', 'jlhalldc', 'jlittle', 'jln', 'jmercadomma', 'jms', 'joanna', 'joanne', 'job', 'jobfail', 'jobslose', 'jockey', 'joe', 'john', 'johnnosta', 'johnwayneair', 'join', 'joke', 'jokeboston', 'jokers', 'jokerunning', 'jokesonus', 'jon', 'joni', 'joplin', 'jordnnicole', 'jorge', 'jose', 'josephtreis', 'journal', 'journalist', 'journey', 'joy', 'joyadventuremom', 'jp', 'jparkermastin', 'jperhi', 'js', 'jsom', 'jsumiyasu', 'jt', 'jtrexsocial', 'jua', 'juan', 'judas', 'judeo', 'juice', 'jul', 'julesdameron', 'julgood', 'julian', 'juliasinton', 'julie', 'july', 'jump', 'jun', 'junction', 'june', 'junkspam', 'junsep', 'jurassic', 'justdippin', 'justdoit', 'justgetmehome', 'justifiable', 'justify', 'justifythissupport', 'justsayin', 'justsaying', 'justwantmybed', 'justwrong', 'justynmoro', 'jvmchat', 'jvstatus', 'jwa', 'jxst', 'kaha', 'kailua', 'kaneshow', 'kangaroos', 'kanne', 'kansas', 'kaps', 'karaax', 'karabuxthomps', 'karajusto', 'karen', 'karinslee', 'karma', 'kat', 'kate', 'kathryn', 'kathrynsotelo', 'katie', 'kats', 'kauai', 'kax', 'kay', 'kc', 'kci', 'kciairport', 'kconti', 'kdepetro', 'keambleam', 'keep', 'keepem', 'keeper', 'keepingit', 'keepingtraditionsalive', 'keepit', 'keepitclassy', 'keepitmovin', 'keepitup', 'keepmy', 'keepusguessing', 'keithlaw', 'kelly', 'kelsey', 'kentuckymbb', 'ker', 'kerry', 'ketr', 'kevin', 'kevinswan', 'kevolt', 'kewl', 'key', 'kgonzales', 'kick', 'kickin', 'kid', 'kidnap', 'kieranmahan', 'kill', 'killeen', 'killin', 'kim', 'kin', 'kind', 'kinda', 'kinder', 'kindle', 'kindly', 'kindness', 'king', 'kingscollegelondon', 'kiosk', 'kiosks', 'kiosksbag', 'kirkwoodtiger', 'kiss', 'kit', 'kitchen', 'kitties', 'kitty', 'kj', 'kkwhb', 'kleankanteen', 'kleinerin', 'kmdw', 'kmm', 'kmmvlkm', 'kms', 'kn', 'knack', 'knees', 'knock', 'know', 'knowexpect', 'knowledge', 'knowledgeprovide', 'knoxville', 'koalax', 'koalaxphlord', 'koalaxphxord', 'kooples', 'korea', 'kosher', 'kp', 'kphl', 'kravitz', 'krescate', 'kristicapel', 'kristie', 'kristy', 'ksml', 'kta', 'kthxbai', 'ktm', 'ktn', 'kuala', 'kudos', 'kul', 'kung', 'kurt', 'ky', 'kybilc', 'kylecomer', 'kylejudah', 'kys', 'la', 'label', 'labor', 'labrador', 'labyrinth', 'lack', 'lacma', 'ladan', 'ladies', 'lady', 'ladygaga', 'laflying', 'lag', 'lagos', 'laguardia', 'laguardiaair', 'laguardiadal', 'laish', 'laissez', 'lake', 'lala', 'lame', 'lamp', 'lan', 'land', 'landedyou', 'landonschott', 'lane', 'lanes', 'language', 'languages', 'lap', 'lapse', 'laptop', 'laptoplarge', 'large', 'larger', 'largesize', 'largest', 'larry', 'las', 'lasairport', 'lasalle', 'lasbuf', 'lasden', 'lasfllsju', 'lassfo', 'last', 'lastella', 'lastflightofthenight', 'lastflightwithyouever', 'lastly', 'lastnight', 'lasttweetaboutthis', 'late', 'latimes', 'latinamerican', 'latrice', 'latte', 'latter', 'lauderdale', 'lauderdalebogota', 'laugh', 'laughter', 'launch', 'launder', 'laundry', 'laura', 'laurasbrown', 'lauren', 'laurieameacham', 'lav', 'lavatory', 'lavoratories', 'law', 'laws', 'lawsuit', 'lawyer', 'lawyerup', 'lax', 'laxdub', 'laxewr', 'laxiad', 'laxjfk', 'laxlas', 'laxm', 'laxmad', 'laxnyc', 'laxogglax', 'laxsna', 'laxsyd', 'laxwhen', 'lay', 'layout', 'layover', 'layovers', 'lazy', 'lb', 'lbairport', 'lbb', 'lbc', 'lbs', 'lburley', 'ld', 'lea', 'lead', 'leader', 'leadership', 'league', 'leah', 'leak', 'leanin', 'learn', 'learncustomerservice', 'lease', 'least', 'leastthebeverageswillbecold', 'leather', 'leatherseats', 'leathery', 'leave', 'leavingtomm', 'leeannhealey', 'leeds', 'leeway', 'leg', 'legacy', 'legal', 'legalize', 'legally', 'legit', 'legitimate', 'legitimately', 'legroom', 'legs', 'leighemery', 'leinenkugels', 'leisure', 'lekvhg', 'lem', 'lend', 'length', 'lengthy', 'lenses', 'leopoldsic', 'lesliewolfson', 'less', 'lesscustomer', 'lessen', 'lesson', 'let', 'letdown', 'letitgo', 'letsgo', 'letsgoalready', 'letsgohome', 'letsworktogether', 'letter', 'levd', 'level', 'leverage', 'levi', 'lex', 'lexington', 'lft', 'lfw', 'lga', 'lgabwi', 'lgacleden', 'lgafllpoor', 'lgaiah', 'lgaord', 'lgasat', 'lgb', 'lgbtcan', 'lgjwb', 'lh', 'lhr', 'lhrdfw', 'lhriah', 'lhrord', 'lhrt', 'liable', 'liar', 'liars', 'liberty', 'library', 'license', 'lick', 'lie', 'lieflat', 'life', 'lifeisgood', 'lifeline', 'lifeneedsfrosting', 'lifesaver', 'lifestop', 'lifethreatening', 'lifetime', 'lifevests', 'lift', 'liftin', 'light', 'lightbulb', 'lightly', 'lightning', 'lightyears', 'like', 'likeagirl', 'likelihood', 'likely', 'likingyoulessandless', 'lil', 'lile', 'lilly', 'lima', 'limbo', 'limit', 'lin', 'lindaswc', 'lindsay', 'lindsey', 'line', 'linesforever', 'lineup', 'lingo', 'link', 'linkemail', 'lip', 'lipstick', 'lisa', 'lisapal', 'list', 'listen', 'lister', 'listsomeone', 'lite', 'literally', 'litter', 'little', 'littlebirds', 'live', 'liveatfirefly', 'lively', 'liveonfox', 'livepersonplease', 'livery', 'livethelegend', 'livewelltraveled', 'livid', 'livvyports', 'liza', 'lizaapproved', 'lizautter', 'lloyd', 'lly', 'lmao', 'lmaooo', 'lmaoooo', 'lmfao', 'lmfaooo', 'lmfaooooo', 'lmk', 'lmuschel', 'lnded', 'lo', 'load', 'loan', 'loaner', 'loanr', 'lobstermac', 'loc', 'local', 'localize', 'locally', 'locals', 'locate', 'location', 'locations', 'locator', 'lock', 'lodge', 'lodgingfood', 'loft', 'lofty', 'log', 'logan', 'loganairports', 'loganex', 'logic', 'logical', 'logically', 'login', 'logistically', 'logistics', 'logo', 'logout', 'lol', 'lolol', 'lololololol', 'lolz', 'lon', 'london', 'londonfashionweek', 'lone', 'loner', 'long', 'longbeachairport', 'longbeachcity', 'longday', 'longer', 'longstanding', 'longterm', 'look', 'lookforwardtoflywithaa', 'lookin', 'looong', 'loooooong', 'loop', 'loose', 'lopezlaymari', 'lord', 'los', 'lose', 'loser', 'losers', 'loss', 'lostacustomer', 'lostandforgotten', 'lostbags', 'lostfound', 'lostinlove', 'lostluggage', 'lostmybusiness', 'lostrevenue', 'loststolen', 'lostsuitcase', 'lot', 'lotttttttt', 'lou', 'loud', 'louder', 'loudly', 'loudspeaker', 'louis', 'louisville', 'lounge', 'louprice', 'lousy', 'love', 'lovedflyingwiththem', 'lovedoll', 'lovedragonss', 'loveeee', 'lovegratitudempower', 'loveisintheair', 'lovejetblue', 'loveloughneagh', 'loveluv', 'lovely', 'lovesongfriday', 'lovesouthwest', 'lovesouthwestair', 'lovetotravel', 'low', 'lowdown', 'lower', 'lowercase', 'loweredexpectations', 'lowest', 'lowstandards', 'loyal', 'loyalmosaicmember', 'loyalrrmember', 'loyalty', 'lpalumbo', 'lpdstock', 'lr', 'lrunscupcakes', 'lsuquinlanduhon', 'lsusoftball', 'ltaljx', 'ltr', 'lubbock', 'lucas', 'lucia', 'luck', 'luckily', 'lucky', 'lucycat', 'lucymay', 'lufthansa', 'lug', 'luggage', 'luggagecancelled', 'luggagegate', 'luggages', 'lukemcintosh', 'lukewyckoff', 'lumpur', 'lunch', 'lunchtime', 'lung', 'lungs', 'lusaka', 'luv', 'luvagent', 'luved', 'luvforsw', 'luvin', 'luvintheair', 'luvisbetter', 'luvsw', 'luvswa', 'luvthem', 'luxclark', 'luxuries', 'luxuriesaesthetics', 'luxurious', 'luxury', 'luz', 'lvdfw', 'lve', 'lx', 'lxa', 'lynchburg', 'lynn', 'maarten', 'maatkare', 'mac', 'macario', 'machine', 'mad', 'madam', 'madbee', 'madden', 'maddieflood', 'madhouse', 'madness', 'madnyc', 'madrid', 'maf', 'mag', 'magazine', 'magic', 'magical', 'magically', 'maiden', 'mail', 'mailbox', 'maimi', 'main', 'maine', 'mainline', 'maint', 'maintain', 'maintenance', 'maintenece', 'mait', 'major', 'majority', 'make', 'makechange', 'makeitright', 'makeovertime', 'makers', 'makessense', 'makestoomuchsense', 'makeup', 'makingloveoutofnothingatall', 'makingthingseasy', 'malaysia', 'malcome', 'male', 'malfunction', 'malhoit', 'malik', 'mall', 'mallowfairy', 'malpensa', 'maltese', 'mammoth', 'man', 'manage', 'management', 'manager', 'managers', 'manana', 'manch', 'manchester', 'manchesterbwi', 'mandarinjourney', 'mandatory', 'maneuver', 'manifest', 'manilla', 'manner', 'manners', 'manually', 'manuel', 'manuelc', 'manufacture', 'many', 'map', 'mar', 'marathon', 'marccopely', 'march', 'marciaveronicaa', 'marcos', 'marcus', 'mardi', 'mardigras', 'margo', 'maria', 'marie', 'marieharf', 'marinadomine', 'mario', 'marisol', 'mark', 'market', 'marketwatch', 'markie', 'markiepost', 'maro', 'marriage', 'marriott', 'marriottrewards', 'marry', 'marsh', 'marsha', 'marshal', 'marshall', 'martha', 'martin', 'marty', 'martysg', 'marvinatorsb', 'marxsterbcow', 'mary', 'maryellagreen', 'maryjo', 'mash', 'mask', 'mason', 'mass', 'massage', 'massive', 'massivefail', 'master', 'mastercard', 'mat', 'match', 'matchgot', 'math', 'matteboss', 'matter', 'matthewebel', 'mattthomasnews', 'mauererpower', 'maui', 'maverick', 'max', 'maxabrahms', 'maxfitgirl', 'maximization', 'may', 'maybe', 'maybeijustlost', 'maybemange', 'maysep', 'maysvillenyc', 'mayweather', 'mayweatherpacquiao', 'mbas', 'mbj', 'mbps', 'mbr', 'mc', 'mccaren', 'mccarran', 'mcdonnell', 'mce', 'mcgraw', 'mci', 'mckinnie', 'mclarren', 'mcmullen', 'mco', 'mcokeep', 'md', 'mdbeei', 'mddc', 'mde', 'mdtmy', 'mdw', 'mdwfll', 'mdwmci', 'mdwsan', 'meagan', 'meal', 'meals', 'mean', 'meaningful', 'meanit', 'meantime', 'meanwhile', 'measles', 'measly', 'measure', 'measurements', 'meat', 'mech', 'mechanic', 'mechanical', 'mechanicalissue', 'mechanics', 'med', 'medal', 'medallion', 'media', 'medical', 'medicalissue', 'medically', 'medication', 'medicine', 'mediocre', 'medium', 'meds', 'medusafridays', 'meelan', 'meerikangas', 'meet', 'meetingsinterviews', 'meetthefleet', 'mega', 'megelizabeth', 'megentripodi', 'meggersrocks', 'megzezzo', 'meh', 'mejia', 'mel', 'melaniespring', 'melbourne', 'melinda', 'melissa', 'melissaafrancis', 'mellani', 'mellie', 'melt', 'mem', 'memake', 'member', 'members', 'membership', 'memgrizz', 'memo', 'memorial', 'memories', 'memorize', 'memory', 'memphis', 'men', 'menow', 'ment', 'mental', 'mentality', 'mention', 'menu', 'menus', 'mercy', 'mere', 'merge', 'merger', 'mergerdisaster', 'mergers', 'meright', 'meseems', 'mesit', 'mess', 'message', 'messcng', 'metal', 'metars', 'method', 'methods', 'metro', 'mex', 'mexico', 'mfps', 'mga', 'mgmt', 'mgood', 'mgr', 'mht', 'mhtforlife', 'mhtt', 'mi', 'mia', 'miacur', 'miaewr', 'mialga', 'miami', 'miamiphl', 'miamore', 'miasfo', 'miatoiah', 'miboston', 'michael', 'michaelbcoleman', 'michele', 'michelle', 'microsecond', 'mid', 'midb', 'middle', 'middleeast', 'mideast', 'midght', 'midland', 'midnight', 'midnite', 'midoexhibition', 'midterm', 'midtravel', 'midway', 'midwaychicago', 'might', 'mightmismybrosgraduation', 'mighty', 'miguel', 'mike', 'mikeabramson', 'mikehertz', 'mikes', 'milage', 'milageplus', 'milan', 'mild', 'mile', 'mileage', 'mileageplus', 'mileagerun', 'milehighselfieclub', 'miler', 'miles', 'milesaaver', 'milesstatus', 'milesthank', 'milesthe', 'milestone', 'military', 'million', 'millions', 'milwaukee', 'mimosa', 'min', 'mind', 'mindset', 'mine', 'minefits', 'minenow', 'minflight', 'minhour', 'mini', 'minimal', 'minimum', 'minneapolis', 'minor', 'minors', 'mins', 'minsit', 'minssss', 'mint', 'mintalicious', 'mintyfresh', 'minute', 'minutes', 'miracle', 'miracles', 'miraculously', 'miranda', 'miriam', 'mis', 'misbehavior', 'miscalculation', 'miscnx', 'miscommunicated', 'misconnected', 'miscount', 'miserable', 'miserablemorning', 'miserably', 'misery', 'misfortune', 'misguide', 'mishaps', 'misinformation', 'misjudge', 'mislead', 'mismanagement', 'misplace', 'mispurchase', 'misread', 'miss', 'missedconnection', 'missedflight', 'missedupgrades', 'missedwork', 'missin', 'missingstollen', 'missingtheoscars', 'mission', 'missmykids', 'misspell', 'mistake', 'mistakefurious', 'mistreat', 'mistreatment', 'misunderstand', 'mitchell', 'mitchellairport', 'mitchsunderland', 'mite', 'mites', 'mix', 'mixtape', 'mk', 'mke', 'mkt', 'mktg', 'mkwlkr', 'ml', 'mli', 'mllovelace', 'mltple', 'mmm', 'mn', 'mnth', 'moar', 'mobay', 'mobil', 'mobile', 'mobileboarding', 'mobility', 'mod', 'model', 'modelodenegocio', 'moderate', 'modifications', 'modify', 'moines', 'mojave', 'mold', 'mom', 'moment', 'moments', 'momma', 'mommy', 'moms', 'momsgoodeats', 'mon', 'monday', 'monetary', 'money', 'moneyelsewhere', 'moneynotspentonunited', 'monfr', 'monica', 'monika', 'monitor', 'monkey', 'monopoly', 'mons', 'monsoon', 'mont', 'montana', 'montego', 'monterey', 'montereyregionalairport', 'month', 'monthly', 'monthold', 'months', 'montreal', 'montrose', 'mood', 'moodlight', 'moodlighting', 'moodlitmonday', 'mooks', 'moon', 'moose', 'mor', 'morn', 'morning', 'morons', 'morrow', 'morrw', 'mortify', 'mos', 'mosaic', 'mosaicmecrazy', 'mosiac', 'mosiacfail', 'mostbut', 'mostly', 'mot', 'motel', 'mother', 'motherinlaw', 'motherpollock', 'motion', 'motor', 'motto', 'motvida', 'mountains', 'mouse', 'mouth', 'move', 'moveaboutthecountry', 'movement', 'movements', 'moveup', 'movie', 'movies', 'mp', 'mpagent', 'mph', 'mphx', 'mpls', 'mpwnc', 'mqxc', 'mr', 'mrandyep', 'mrerickv', 'mrjustyn', 'mrn', 'mrobinson', 'mrrenevendez', 'ms', 'msbgu', 'msg', 'msgs', 'msn', 'msnbc', 'msp', 'msscottwg', 'msy', 'msydca', 'mt', 'mtg', 'mtgs', 'mths', 'mtn', 'mty', 'muc', 'much', 'muchas', 'muchneeded', 'mug', 'muh', 'multi', 'multibillion', 'multicity', 'multimedia', 'multimillion', 'multinational', 'multiple', 'multipledooropeningandclosing', 'multiplier', 'multix', 'mumbai', 'mumble', 'mundane', 'munich', 'murder', 'murdock', 'murphyjulie', 'murraysawchuck', 'muscle', 'music', 'musical', 'musician', 'musicians', 'must', 'muzak', 'mv', 'mvmt', 'mvp', 'mwa', 'mwangbickler', 'mx', 'mxo', 'mxpjfk', 'mybday', 'myers', 'mypompanobeach', 'myrcltord', 'myrtle', 'myselfothers', 'mysterious', 'mysteriously', 'mystery', 'mytimeismoney', 'myvxexperience', 'myyb', 'na', 'nabisco', 'nada', 'nade', 'nader', 'naelah', 'nah', 'naiamiaa', 'nail', 'nakedmeetings', 'name', 'nan', 'nanceebing', 'nancy', 'nanosmattering', 'nantucket', 'naomicooper', 'nap', 'napkins', 'naples', 'narayanan', 'narita', 'narrow', 'narrower', 'narrowly', 'nas', 'nasbwi', 'nascar', 'nasdaq', 'nashinmypants', 'nashville', 'nashvilledenver', 'nashvilleshould', 'nassau', 'nastiest', 'nasty', 'natca', 'nathankillam', 'nation', 'national', 'nationalairpor', 'nationalize', 'nationwide', 'natl', 'natprodexpo', 'natt', 'natural', 'nature', 'naval', 'navigate', 'navimumbai', 'navy', 'nawww', 'nba', 'nbc', 'nbd', 'nbr', 'nbsnewsr', 'nburnside', 'nc', 'nd', 'ndary', 'ne', 'near', 'nearby', 'nearly', 'necessary', 'necessities', 'necessity', 'need', 'needcoffee', 'neededwhy', 'needknow', 'needlessly', 'needtobehonest', 'needtocatchmynextflight', 'needtogethome', 'negative', 'negativedegrees', 'negatively', 'neglect', 'negligence', 'negligent', 'negotiate', 'negroni', 'neighbor', 'neither', 'nelsjeff', 'nelson', 'nephew', 'neptune', 'nerd', 'nerdbird', 'nerds', 'nerve', 'nervous', 'net', 'netherlands', 'netneutrality', 'network', 'neuer', 'neurosurgery', 'nev', 'neveind', 'never', 'neveragain', 'neverchange', 'neverfails', 'neverflyaaagain', 'neverflyunited', 'neverflyusairways', 'neverflyvirgin', 'neverflyvirginforbusiness', 'nevergettinghome', 'neverontime', 'nevertakeno', 'nevertoldus', 'neveryamind', 'new', 'newairplanes', 'newamerican', 'newamericanairline', 'newamericanstinks', 'newark', 'newarkbrussels', 'newarkliberty', 'newarklondon', 'newborns', 'newburg', 'newburgh', 'newest', 'newflight', 'newlifetimecustomer', 'newly', 'neworleans', 'newplanesmell', 'news', 'newsbusiness', 'newsflt', 'newspaper', 'newsvp', 'newyork', 'next', 'nexttime', 'nexttimeiwillflysouthwest', 'nexus', 'nftyconvention', 'nght', 'nh', 'nhl', 'nhlbruins', 'nhlonnbcsports', 'nice', 'nicedismissive', 'nicely', 'nicer', 'nicest', 'nick', 'nickcunningham', 'nickel', 'nicole', 'niece', 'nigeria', 'nigga', 'niggaz', 'night', 'nightdeplaned', 'nightlife', 'nightmare', 'nightmarish', 'nights', 'nikon', 'ninadavuluri', 'nine', 'nines', 'nippon', 'nit', 'nite', 'nitenot', 'nitrogen', 'nix', 'nixchangefees', 'nj', 'njb', 'njvbp', 'nl', 'nlrphoto', 'nm', 'nma', 'nmagoodlife', 'nmaryland', 'nny', 'noaccountability', 'noah', 'noair', 'noairport', 'noanswer', 'noapology', 'nobackup', 'nobaggagefees', 'nobody', 'noc', 'nocareforcustomers', 'nocharge', 'nochill', 'noclothesnoinfo', 'nocoatcloset', 'nocommunication', 'nocompensation', 'nocrew', 'nocustomerservice', 'nodrinks', 'noenertainmenton', 'noexcuses', 'noexcusesaccepted', 'nofee', 'nofilterneeded', 'nofood', 'nofun', 'nofunatall', 'nogate', 'nogearnotraining', 'nogood', 'nohelp', 'nohelponboard', 'nohotel', 'noise', 'nojetblue', 'nokidhungry', 'nola', 'nolaorlando', 'nolo', 'nolove', 'noloveforsurfers', 'noltnancy', 'noluv', 'nominate', 'nomoaa', 'nomoreaggravation', 'nomorecheckedbags', 'nomorevirgin', 'non', 'nondelayed', 'none', 'nonempty', 'nonenglish', 'noneother', 'nonetheless', 'nonewplanes', 'nonexistent', 'nonperformance', 'nonprofit', 'nonprofitcan', 'nonprofits', 'nonrefundable', 'nonsense', 'nonservice', 'nonstop', 'nonstops', 'nonumber', 'nonupgrade', 'nonvegan', 'nonweather', 'noob', 'noodles', 'noon', 'noone', 'noooo', 'nooooo', 'noooooooooooooooooo', 'noooooooooooooooooooooope', 'nooption', 'nope', 'noplacelikehome', 'norahm', 'noreimbursement', 'noreply', 'norfolk', 'norm', 'norma', 'normal', 'normally', 'norris', 'north', 'northeast', 'northern', 'norush', 'norway', 'nose', 'nosecuritylines', 'nosedive', 'noservice', 'noshadetothedmv', 'noshow', 'nostalgic', 'nosupport', 'not', 'notafanofyourmerger', 'notahappycustomer', 'notahappytraveler', 'notanymore', 'notbabysitters', 'notbut', 'notch', 'notcomingback', 'notcool', 'note', 'notevenjv', 'notfair', 'notfriendly', 'notgoodenough', 'nothanks', 'nothappy', 'nothelpful', 'nothin', 'nothing', 'nothingand', 'nothinghoping', 'nothings', 'nothini', 'notice', 'notification', 'notifications', 'notify', 'notimpressed', 'notion', 'notmadeofmoney', 'notmyfault', 'notnice', 'notokay', 'notourfaultyoudontuseyourgatesright', 'notpghtimothy', 'notsatisfied', 'notsurprising', 'nottrue', 'notwheelsup', 'nov', 'novel', 'november', 'novemberdecember', 'nowarmclothes', 'nowfrustrated', 'nowhere', 'nowhereland', 'noworse', 'noworstairline', 'noxtralegroom', 'nozzle', 'npbhd', 'nrhodes', 'nrosenb', 'nrt', 'nsw', 'nt', 'nthin', 'ntrustopen', 'nudgenudge', 'nullify', 'num', 'number', 'numberphone', 'numerical', 'numerous', 'nut', 'nutella', 'nutsaboutsouthwest', 'nuw', 'nvm', 'nvr', 'nw', 'nwk', 'nwn', 'nws', 'nxt', 'ny', 'nyc', 'nycas', 'nycbuenos', 'nycjfk', 'nyers', 'nyfw', 'nyjets', 'nynjairports', 'nyt', 'nytimes', 'nzherald', 'oaaret', 'oahu', 'oak', 'oakland', 'oatmeal', 'obama', 'obey', 'obj', 'obnoxious', 'obscene', 'observation', 'observe', 'observer', 'obsess', 'obsolete', 'obtain', 'obvious', 'obviously', 'oc', 'occasion', 'occupy', 'occur', 'ocean', 'oct', 'octavia', 'octaviannightmare', 'october', 'odd', 'odds', 'ods', 'offcalls', 'offend', 'offenders', 'offensive', 'offensively', 'offer', 'offeringat', 'office', 'officer', 'offices', 'official', 'officially', 'offline', 'offload', 'ofi', 'often', 'ogg', 'oh', 'ohare', 'ohboy', 'ohead', 'ohing', 'ohio', 'ohioprobz', 'ohk', 'ohno', 'oil', 'ok', 'okaaaaay', 'okay', 'okayyyy', 'okc', 'okcdirects', 'okcprofessionals', 'okcthunder', 'okee', 'okie', 'olavarria', 'old', 'older', 'oldplanes', 'oldpolicieswaybetter', 'olds', 'oldseatnocushion', 'olive', 'olives', 'olympic', 'oma', 'omaha', 'omg', 'omgee', 'onboad', 'onboard', 'onboardalerted', 'onbrd', 'oncall', 'ondemand', 'one', 'oneasy', 'onechildfourbags', 'onehouronhold', 'onelove', 'ones', 'onestop', 'oneway', 'oneworld', 'onfleek', 'ongoing', 'onhold', 'onholdfordays', 'onholdforever', 'onholdwith', 'onion', 'online', 'onlineapp', 'onlineuseless', 'onlinewas', 'onlyblue', 'onlyinamerica', 'onlywaytofly', 'onmultiple', 'onplane', 'ons', 'ont', 'ontario', 'ontarmac', 'ontime', 'onto', 'ooh', 'ooookay', 'oops', 'op', 'opal', 'opaque', 'open', 'openskies', 'operate', 'operation', 'operational', 'operations', 'operator', 'operators', 'opinion', 'opinions', 'opportunities', 'opportunity', 'oppose', 'opposite', 'oprah', 'ops', 'opsec', 'opt', 'optimistic', 'optin', 'option', 'options', 'optout', 'orange', 'orangecounty', 'orbitz', 'ord', 'orddca', 'ordeal', 'order', 'ordewr', 'ordlga', 'ordlhr', 'ordnoise', 'ordnrt', 'ordpvg', 'ordseriously', 'ordsfo', 'ordwe', 'ordywg', 'oregon', 'oreos', 'orf', 'org', 'organization', 'organizational', 'organizations', 'organize', 'orig', 'origami', 'origin', 'original', 'originally', 'originate', 'origindestinationdates', 'orl', 'orlando', 'orlandosentinel', 'orleans', 'orphan', 'orphanage', 'orthodoc', 'os', 'oscar', 'oscarnight', 'oscars', 'oscarscountdown', 'oscarworthy', 'others', 'otherwise', 'othr', 'otis', 'ots', 'ottawa', 'ou', 'ouch', 'ought', 'oui', 'ourguest', 'ourprincess', 'oust', 'outage', 'outbound', 'outbreak', 'outcome', 'outdated', 'outdoor', 'outfit', 'outin', 'outlets', 'outline', 'outlook', 'outofbusiness', 'outofdate', 'outoftouchwithreality', 'outpost', 'outrage', 'outrageous', 'outright', 'outside', 'outsource', 'outstanding', 'outta', 'outtage', 'outward', 'overall', 'overbk', 'overbook', 'overbooked', 'overbookedgng', 'overcarry', 'overcharge', 'overchging', 'overfill', 'overflight', 'overflow', 'overhaul', 'overhead', 'overheads', 'overhear', 'overheat', 'overkill', 'overload', 'overlook', 'overnight', 'overprice', 'overreact', 'overseas', 'overselling', 'oversize', 'oversized', 'oversleep', 'oversold', 'overtime', 'overweight', 'overwhelm', 'overzealous', 'oveur', 'ow', 'owe', 'owen', 'own', 'owner', 'ownership', 'oxgen', 'oy', 'oyu', 'oz', 'ozs', 'pa', 'pac', 'pace', 'pacific', 'pacificbiznews', 'pacify', 'pack', 'package', 'packermama', 'packingayak', 'pacquiao', 'pact', 'pad', 'padresst', 'pafe', 'page', 'paigeworthy', 'pain', 'painandsuffering', 'painful', 'painfully', 'painless', 'paint', 'pair', 'pal', 'palm', 'pamgrout', 'pamper', 'panam', 'panamerican', 'panchojoe', 'pandora', 'pandu', 'panic', 'pant', 'panynj', 'paper', 'paperwork', 'par', 'parachuteguy', 'paradise', 'parameters', 'paranoid', 'parent', 'parentsonboard', 'parhetic', 'paris', 'parizad', 'park', 'parker', 'parody', 'parryaftab', 'part', 'partial', 'participate', 'particular', 'particularly', 'particulars', 'partly', 'partner', 'partnerrewards', 'partnership', 'partnerships', 'party', 'pascucci', 'paseengers', 'pasengers', 'paso', 'pass', 'passbook', 'passenegers', 'passenger', 'passengerbillofrights', 'passengers', 'passengersarepeople', 'passengerslose', 'passion', 'passive', 'passngr', 'passport', 'password', 'past', 'pasta', 'paste', 'pastmypatienceexpirationdate', 'pastor', 'pat', 'patch', 'path', 'pathetic', 'patheticcx', 'patience', 'patienceiswearingthin', 'patiencerunningout', 'patient', 'patiently', 'patriarc', 'patrichruben', 'patricia', 'patrick', 'patron', 'patronize', 'pattern', 'pattonoswalt', 'paul', 'paulbev', 'paulgordonbrown', 'paulo', 'paw', 'pax', 'paxex', 'pay', 'paycheck', 'payment', 'payments', 'paymytab', 'paypal', 'payton', 'paytontaylor', 'pb', 'pbi', 'pbiboston', 'pbijfk', 'pbpinftworth', 'pdquigley', 'pdw', 'pdx', 'pe', 'peace', 'peach', 'peak', 'peanut', 'peanuts', 'peanutsandtoons', 'peanutsnuts', 'peanutsonaplatter', 'peanuttreenut', 'pearl', 'peas', 'peculiar', 'pedophile', 'pedro', 'peel', 'peep', 'peer', 'peeve', 'peggy', 'pek', 'pen', 'penalize', 'penalty', 'pending', 'penguin', 'pennies', 'pennypincher', 'pensacola', 'people', 'peopleon', 'pepper', 'pepperidge', 'per', 'percentage', 'pereira', 'perfect', 'perfectly', 'perfectomobile', 'perform', 'performance', 'perhaps', 'perhr', 'period', 'periods', 'periolodicly', 'perk', 'permanent', 'permanently', 'permission', 'permissions', 'persist', 'persistence', 'person', 'personable', 'personal', 'personality', 'personalize', 'personally', 'personnel', 'perspective', 'perth', 'pesky', 'pet', 'peter', 'peterpiatetsky', 'peterstraubmma', 'petition', 'petty', 'pgashow', 'pgatour', 'pgfryz', 'pgh', 'ph', 'phantom', 'phdmama', 'phenomenal', 'phew', 'phf', 'phi', 'phil', 'philacarservice', 'philadelphia', 'philippines', 'phillip', 'philly', 'philpete', 'phishing', 'phl', 'phlairport', 'phlbos', 'phlcrw', 'phldfw', 'phlmco', 'phlmia', 'phlord', 'phlsfo', 'phltolas', 'phltoslc', 'phn', 'pho', 'phoenix', 'phomia', 'phone', 'phonedied', 'phoneeeee', 'phoneinperson', 'phonenot', 'phoneonline', 'phoneonly', 'photo', 'photography', 'photos', 'phrase', 'phrps', 'phx', 'phxphl', 'phxskyharbor', 'physical', 'physically', 'pia', 'pic', 'pick', 'pickng', 'pics', 'picture', 'pid', 'pie', 'piece', 'piela', 'pig', 'pigeon', 'piggy', 'pile', 'pillow', 'pilot', 'pilyoc', 'pimentel', 'pin', 'ping', 'pink', 'pip', 'pir', 'piss', 'pissedvery', 'pisspoor', 'pistol', 'pit', 'pita', 'pitiad', 'pitt', 'pitts', 'pittsburg', 'pittsburgh', 'pity', 'pivotalcf', 'pizza', 'pj', 'pjs', 'pkg', 'place', 'placedranked', 'plague', 'plain', 'plainly', 'plan', 'planb', 'plane', 'planebroken', 'planehow', 'planeno', 'planeso', 'planestrainsandautomobiles', 'planet', 'planewide', 'planner', 'plant', 'plastic', 'plat', 'plate', 'platinum', 'platinummember', 'platinums', 'platitudes', 'platter', 'play', 'playa', 'player', 'players', 'playlist', 'playsoon', 'plead', 'pleasant', 'pleasantly', 'please', 'pleasecomeback', 'pleaseeee', 'pleaseeeeee', 'pleasegod', 'pleasehelp', 'pleasehurryup', 'pleasemy', 'pleasent', 'pleasure', 'pleasurerelief', 'plebes', 'pleeeease', 'pleeeeease', 'pleeeeeeeease', 'plenty', 'plitt', 'pln', 'plot', 'plough', 'plow', 'pls', 'plse', 'plt', 'plug', 'plumber', 'plunder', 'plus', 'plz', 'pm', 'pmcan', 'pmwe', 'pn', 'pnr', 'pns', 'pnut', 'poc', 'pocket', 'podium', 'point', 'pointer', 'pointless', 'pointsme', 'pointsmileage', 'pointy', 'poison', 'poisonpill', 'poker', 'pole', 'police', 'policies', 'policiescost', 'policy', 'policyfees', 'polite', 'politely', 'pooch', 'pool', 'poop', 'poor', 'poorcommunication', 'poorcustomerservice', 'poorcustumerservice', 'poorest', 'poorform', 'poorly', 'poorlyhandled', 'poornoncommunication', 'poorplanning', 'poorservice', 'pop', 'popular', 'populate', 'pordes', 'porn', 'port', 'portable', 'portal', 'portauprince', 'portcolumbuscmh', 'portfolio', 'portion', 'portland', 'portlandjetport', 'portray', 'portsmouth', 'pos', 'position', 'positive', 'posmia', 'possession', 'possessions', 'possiable', 'possibilities', 'possibility', 'possible', 'possibly', 'post', 'postcode', 'postmasters', 'postpone', 'postsecretcom', 'potable', 'potatoes', 'poteettj', 'potential', 'potentially', 'potus', 'poughkeepsie', 'pound', 'pout', 'powder', 'power', 'pp', 'ppl', 'pple', 'pqd', 'pqds', 'pqm', 'pqms', 'pr', 'practical', 'practice', 'praise', 'prank', 'pray', 'prayer', 'praywinn', 'prbound', 'prchase', 'prds', 'pre', 'preboard', 'preboarding', 'preboards', 'prebook', 'prebooked', 'precheck', 'prechk', 'preciate', 'preciation', 'precious', 'precioustime', 'precipitation', 'preclude', 'predawn', 'predict', 'predictable', 'predictive', 'preemptive', 'preexist', 'pref', 'prefer', 'preferably', 'preference', 'preferences', 'prefference', 'preflight', 'prefundia', 'pregame', 'preggo', 'pregnant', 'pregnantwithtwins', 'prem', 'premgold', 'premier', 'premiere', 'premierk', 'premium', 'preoccupy', 'preparation', 'preparations', 'prepare', 'preparedness', 'prepay', 'prepurchase', 'prerecord', 'preregistration', 'prerookie', 'pres', 'presceo', 'prescreen', 'preselect', 'present', 'presentation', 'president', 'presidential', 'press', 'pressure', 'pressurecooker', 'pressurization', 'presumably', 'pretend', 'pretsa', 'pretty', 'prettyplease', 'pretzels', 'prev', 'prevent', 'preventable', 'preventative', 'previous', 'previously', 'prfriendly', 'pri', 'price', 'pricediscrimination', 'priceless', 'priceline', 'pricewise', 'pricey', 'pricy', 'pride', 'prime', 'prince', 'princess', 'princesses', 'princesshalf', 'principle', 'print', 'printer', 'printers', 'prior', 'priorities', 'prioritize', 'priority', 'prison', 'priv', 'private', 'privilege', 'prize', 'prn', 'pro', 'proactive', 'proactively', 'prob', 'probability', 'probably', 'probablynot', 'problem', 'problematic', 'problems', 'problemsbtw', 'problemsolvers', 'problemss', 'probls', 'probs', 'procedure', 'procedures', 'proceed', 'process', 'produce', 'product', 'productivity', 'prof', 'professional', 'professionalism', 'professionalnice', 'professionals', 'professor', 'professorpaul', 'professors', 'proficient', 'profile', 'profit', 'profitability', 'profitable', 'profitbeforepeople', 'profsolutions', 'program', 'programhorrible', 'programmers', 'progress', 'prohibit', 'project', 'prolly', 'prolong', 'prom', 'promise', 'promo', 'promofly', 'promos', 'promote', 'promotethatgirl', 'promotion', 'promotions', 'promotionscodes', 'prompt', 'promptly', 'pronounce', 'proof', 'prop', 'proper', 'properly', 'property', 'proportion', 'proposal', 'proposition', 'pros', 'prospective', 'protect', 'protection', 'protest', 'protocol', 'protocols', 'proud', 'prove', 'provide', 'providence', 'providenciales', 'provider', 'provo', 'ps', 'pseudovoucher', 'psgrs', 'psngrs', 'psp', 'pssgrs', 'pssngrs', 'pst', 'psych', 'psychological', 'pt', 'ptfo', 'pto', 'pts', 'pty', 'pu', 'public', 'publicity', 'publicly', 'publish', 'puerto', 'puj', 'pull', 'pulldown', 'pullin', 'pulse', 'pummel', 'pump', 'punish', 'punishedforflying', 'punta', 'puppy', 'pura', 'purchase', 'purchaseerrorinvalidloyaltymemberaccountstatus', 'pure', 'purely', 'purifier', 'purpose', 'purse', 'push', 'pushback', 'pushy', 'put', 'pv', 'pvd', 'pvdiad', 'pvr', 'pwm', 'qantas', 'qlyss', 'qmfd', 'qqbmug', 'qro', 'qs', 'qsvgru', 'quadruple', 'qualification', 'qualify', 'quality', 'quantas', 'quarter', 'que', 'query', 'question', 'queue', 'quiche', 'quick', 'quicker', 'quickest', 'quickie', 'quickly', 'quiet', 'quietly', 'quintana', 'quirkiness', 'quirky', 'quit', 'quite', 'quito', 'quotations', 'quote', 'qvnmb', 'rabbit', 'race', 'rachel', 'rachelle', 'racist', 'rack', 'rad', 'radio', 'radish', 'raeann', 'raft', 'rag', 'ragandisney', 'rage', 'rail', 'rain', 'rainsleet', 'rainy', 'raise', 'rajuchinthala', 'raleigh', 'ralph', 'ram', 'ramada', 'ramp', 'rampers', 'random', 'randomactsofcorporategreed', 'randomly', 'range', 'rank', 'rant', 'rap', 'rapid', 'rapidly', 'rapidrewards', 'rapids', 'rare', 'rarely', 'rat', 'ratchet', 'rate', 'ratepolicy', 'rather', 'rave', 'ravioli', 'ray', 'rayja', 'razor', 'rcd', 'rcmoficial', 'rcvd', 'rd', 'rdtimethishashappened', 'rdu', 'reaccommodation', 'reach', 'reachable', 'reachingnewlows', 'react', 'reactions', 'reactivate', 'reactive', 'read', 'readded', 'reader', 'readers', 'readily', 'ready', 'reagan', 'reaganairport', 'real', 'realise', 'realistic', 'realistically', 'reality', 'realize', 'really', 'reallytallchris', 'realtime', 'reappear', 'rear', 'rearrange', 'reason', 'reasonable', 'reasonably', 'reassess', 'reassign', 'reativation', 'rebecca', 'reboard', 'reboarded', 'reboarding', 'rebook', 'rebooked', 'rebookplease', 'rebooks', 'reboot', 'rebuild', 'rec', 'recap', 'reccewife', 'receipt', 'receive', 'recent', 'recently', 'recharge', 'recheck', 'rechecked', 'recheduled', 'recieved', 'reciprocate', 'reckless', 'reclaim', 'reclameaqui', 'recline', 'recognition', 'recognize', 'recommend', 'recommendation', 'reconsider', 'record', 'recoup', 'recourse', 'recover', 'recovery', 'recruit', 'recruiter', 'rectify', 'recvd', 'recycle', 'red', 'redcarpet', 'reddit', 'redeem', 'redeempoints', 'redemption', 'redesign', 'redeye', 'redheaded', 'redirect', 'redo', 'redreserve', 'redsox', 'reduce', 'reduction', 'redwineisbetter', 'reebok', 'reebooked', 'reek', 'reevaluate', 'ref', 'refer', 'reference', 'referral', 'reflect', 'reflection', 'reflight', 'reform', 'refrain', 'refresh', 'refresher', 'refreshments', 'refsd', 'refuel', 'refund', 'refundable', 'refundplease', 'refundprocedurenottoopainful', 'refurbish', 'refuse', 'regain', 'regard', 'regardless', 'regina', 'regional', 'register', 'registration', 'regrading', 'regret', 'regular', 'regularly', 'regulation', 'regulations', 'rehman', 'reign', 'reimburse', 'reimbursement', 'reinforcements', 'reinstate', 'reinterview', 'reinvest', 'reissue', 'reiterate', 'reject', 'relate', 'relations', 'relationship', 'relationships', 'relative', 'relatives', 'relax', 'relay', 'release', 'relevant', 'reliability', 'reliable', 'reliablefriendly', 'relief', 'relieve', 'reload', 'reluctant', 'rely', 'rem', 'remain', 'remark', 'remedy', 'remember', 'remind', 'reminder', 'remorse', 'remote', 'remotely', 'removal', 'remove', 'renew', 'renhotels', 'reno', 'renoairport', 'rent', 'rental', 'rentals', 'renttherunway', 'reopen', 'rep', 'repaint', 'repair', 'repartee', 'repay', 'repeat', 'repeatably', 'repeatedly', 'repexper', 'replace', 'replacement', 'replicate', 'reply', 'replyingi', 'report', 'reporter', 'reposted', 'reposting', 'repping', 'reprehensible', 'represent', 'representative', 'representatives', 'reproach', 'reps', 'republic', 'republican', 'repurchase', 'reputation', 'reqing', 'reqs', 'request', 'require', 'requirement', 'requirements', 'requiresshe', 'reread', 'reroute', 'rerouted', 'rerouting', 'res', 'resch', 'resched', 'reschedule', 'reschedulemyflight', 'reschedulereplane', 'rescue', 'research', 'reseat', 'resell', 'resend', 'resending', 'resent', 'reserv', 'reservation', 'reservationchange', 'reservations', 'reserve', 'reset', 'reside', 'resole', 'resolution', 'resolutions', 'resolve', 'resort', 'resource', 'resources', 'resourcesratings', 'respect', 'respectful', 'respond', 'response', 'responseplease', 'responses', 'responseservice', 'responsetough', 'responsibility', 'responsibilitytoo', 'responsible', 'responsive', 'responsiveness', 'responsivethoughts', 'ressie', 'rest', 'restaff', 'restate', 'restless', 'restore', 'restr', 'restriction', 'restrictions', 'restrm', 'restroom', 'restrooms', 'restructure', 'result', 'resume', 'retailbagholder', 'retailer', 'retain', 'retake', 'retard', 'rethink', 'reticketed', 'retire', 'retract', 'retrain', 'retribution', 'retrieve', 'retrn', 'retroactively', 'rett', 'return', 'retweet', 'retweeted', 'retweets', 'reunion', 'reunite', 'reupgrade', 'reuse', 'reuters', 'rev', 'reveal', 'revenue', 'revers', 'reverse', 'revert', 'revieving', 'review', 'revision', 'revisit', 'revive', 'revue', 'reward', 'rez', 'rhonda', 'ri', 'ric', 'rica', 'ricardo', 'ricdfw', 'rich', 'richard', 'rick', 'ricky', 'rico', 'ricoh', 'rid', 'ride', 'ridic', 'ridicule', 'ridiculous', 'ridiculously', 'ridiculousness', 'ridiculousor', 'riedel', 'rifle', 'right', 'rigorous', 'rikrik', 'rim', 'ring', 'ringling', 'rio', 'riot', 'rip', 'ripme', 'ripoff', 'ripoffs', 'ripskymall', 'rise', 'risk', 'rita', 'ritacomo', 'ritz', 'rival', 'rivet', 'rizzilient', 'rjs', 'rldelahunty', 'rly', 'rmoug', 'rn', 'rncahill', 'rnd', 'rndtrp', 'rno', 'rnodfw', 'rnp', 'road', 'roadmap', 'roads', 'roadtrip', 'roadwarrior', 'roanoke', 'roast', 'rob', 'robbedexplain', 'robbogart', 'robcnyc', 'robert', 'robertdwyer', 'robertfor', 'roberto', 'roberts', 'robin', 'robinreda', 'robocalls', 'robot', 'robotic', 'robotweeting', 'robprice', 'robthecameraman', 'robyn', 'roc', 'rocif', 'rock', 'rockers', 'rockies', 'rockingthetweets', 'rockinwellness', 'rockstar', 'rockstars', 'rocky', 'rodeo', 'roger', 'rolemodel', 'roll', 'rollaboard', 'rollerboards', 'rollercoaster', 'rollers', 'roo', 'rookie', 'room', 'rosetta', 'rotary', 'rotten', 'rough', 'round', 'roundtrip', 'roundtrips', 'rout', 'route', 'router', 'routine', 'routinely', 'row', 'roxydigital', 'royal', 'royally', 'rozana', 'rqstd', 'rr', 'rs', 'rscheduling', 'rsrv', 'rsw', 'rt', 'rtb', 'rtn', 'rtrn', 'rtw', 'ru', 'rub', 'rubber', 'rubbish', 'rude', 'rudely', 'rudelyreturning', 'rudeness', 'rudeservice', 'rudest', 'rudestaff', 'ruin', 'ruiningmy', 'rule', 'rulesshouldbend', 'rum', 'rumor', 'run', 'runaround', 'rundisney', 'runners', 'runnin', 'runningonthreehoursofsleep', 'runway', 'runways', 'rush', 'russ', 'russell', 'russellswriting', 'russelneiss', 'russia', 'ruth', 'ruthslobodin', 'rwg', 'rwrd', 'rx', 'ryand', 'rylietolbert', 'sa', 'sabe', 'sabotage', 'sabre', 'sac', 'sacintlairport', 'sacraig', 'sacramento', 'sad', 'sadden', 'sadie', 'sadly', 'safari', 'safe', 'safely', 'safer', 'safety', 'safetyconcerns', 'safetyfirst', 'saga', 'sagerooski', 'saharasams', 'saianel', 'saidi', 'sail', 'sailor', 'saipan', 'salad', 'sale', 'sales', 'salisbury', 'sally', 'salt', 'salvage', 'sam', 'samantha', 'samartzis', 'samchampion', 'sameday', 'sammijons', 'samoore', 'sample', 'samsonite', 'san', 'sand', 'sandiego', 'sandra', 'sandwich', 'sanfrancisco', 'sanitize', 'sanitizer', 'sanity', 'sanm', 'sansfo', 'santa', 'santo', 'sao', 'sap', 'sapphire', 'sarah', 'sarahpompei', 'sarahzou', 'sarcasm', 'sarcastic', 'sarcastically', 'sardine', 'sarita', 'sass', 'satellite', 'satesq', 'satisfaction', 'satisfactorily', 'satisfactory', 'satisfy', 'sato', 'saturday', 'saturdays', 'sauce', 'sauna', 'sauvignon', 'sav', 'savannah', 'save', 'saveface', 'saver', 'savethediagonals', 'savethoseseats', 'saveus', 'saviour', 'savr', 'saw', 'saxonandparole', 'say', 'sayin', 'saysorrychris', 'sb', 'sba', 'sbn', 'sby', 'sc', 'scale', 'scalpel', 'scam', 'scan', 'scandal', 'scar', 'scare', 'scareair', 'scareways', 'scarf', 'scary', 'scatter', 'scavenger', 'scenario', 'scenarios', 'scene', 'scenes', 'scent', 'sch', 'schd', 'sche', 'sched', 'schedule', 'schedulecontact', 'scheme', 'schiphol', 'school', 'schooler', 'schoolgirl', 'science', 'sciencebehindtheexperience', 'scl', 'scm', 'scold', 'scooby', 'scoop', 'scoot', 'scope', 'scotch', 'scott', 'scotthroth', 'scramble', 'scratch', 'screakjmf', 'scream', 'screen', 'screencap', 'screensand', 'screenshot', 'screw', 'scroll', 'scrum', 'scumbag', 'scvpools', 'sd', 'sdf', 'sdfairport', 'sdq', 'se', 'sea', 'seabos', 'seahou', 'seam', 'sean', 'seanmfmadden', 'seanvrose', 'search', 'season', 'seasonal', 'seat', 'seatac', 'seatarmrest', 'seatback', 'seatbelt', 'seatmate', 'seatstray', 'seattle', 'seattlebound', 'seau', 'sec', 'second', 'secondary', 'secondly', 'secret', 'secrets', 'secs', 'section', 'sector', 'secure', 'security', 'sedholm', 'seductive', 'see', 'seek', 'seem', 'seemless', 'seet', 'seetonight', 'seevery', 'seg', 'segment', 'segs', 'seguinej', 'segway', 'select', 'selection', 'selectionchange', 'selections', 'self', 'selfcheck', 'selfie', 'selfies', 'selfinterest', 'selfservice', 'selfupgraded', 'sell', 'sellmypointssoon', 'sellout', 'selves', 'semantics', 'semester', 'send', 'sendambien', 'sendingposting', 'senior', 'sense', 'senseless', 'sensitive', 'sentierimelinda', 'sentiment', 'sentimental', 'sentinel', 'sep', 'separate', 'separately', 'sept', 'september', 'ser', 'serenitynow', 'series', 'serious', 'seriously', 'seriousness', 'serv', 'serve', 'servers', 'service', 'servicecare', 'servicedog', 'servicefail', 'servicelooks', 'serviceopen', 'session', 'sests', 'set', 'setorii', 'settle', 'setup', 'sev', 'seven', 'several', 'severally', 'severe', 'severely', 'sex', 'sexual', 'sexually', 'sexy', 'sf', 'sfo', 'sfodfw', 'sfoewr', 'sfofll', 'sfojfk', 'sfolax', 'sfolaxsalclo', 'sfoord', 'sfopdx', 'sfosea', 'sfotobos', 'sfoyyj', 'sgf', 'sh', 'shade', 'shadier', 'shady', 'shaft', 'shake', 'shaker', 'shaky', 'shall', 'sham', 'shamble', 'shame', 'shameful', 'shameonyou', 'shampoo', 'shanese', 'shanghai', 'shannon', 'shannonbloom', 'shannonwoodward', 'shaquille', 'share', 'sharktank', 'sharon', 'sharp', 'shatter', 'shavon', 'shawn', 'sheer', 'sheesh', 'sheila', 'shelf', 'shelleyandmarcrock', 'shenanigans', 'sherocks', 'shesaidrun', 'shhhh', 'shift', 'shin', 'ship', 'shirt', 'shit', 'shitshow', 'shitty', 'shittydeal', 'shivadelrahim', 'shiver', 'shiz', 'shld', 'shock', 'shocker', 'shoddy', 'shoe', 'shoot', 'shop', 'short', 'shortage', 'shortcomings', 'shortcuts', 'shortly', 'shortshorts', 'shortstaffed', 'shots', 'shotwest', 'shoulda', 'shoulder', 'shouldhavedriven', 'shouldhaveflowndelta', 'shouldhaveflownjetblue', 'shouldigetoutandpush', 'shouldwearmasks', 'shout', 'shoutout', 'show', 'showentered', 'shower', 'showexpert', 'showsomerespect', 'showup', 'shrimp', 'shrinerack', 'shrug', 'sht', 'shuck', 'shuffle', 'shulemstern', 'shut', 'shuttle', 'shv', 'siberia', 'sibling', 'siblings', 'sick', 'sickcrew', 'side', 'sidewhy', 'sigh', 'sight', 'sign', 'signage', 'signal', 'significant', 'significantly', 'signin', 'signon', 'signup', 'sil', 'silence', 'silicon', 'sill', 'silly', 'silver', 'silverairways', 'silverairwsys', 'silverstatus', 'sime', 'similar', 'simonroesner', 'simple', 'simplify', 'simply', 'simultaneously', 'since', 'sincere', 'sincerely', 'sine', 'sing', 'singapore', 'singer', 'single', 'sink', 'sinuses', 'siouxfalls', 'sir', 'sirius', 'sis', 'sister', 'sisters', 'sit', 'site', 'siteapp', 'sitecomplicated', 'siteit', 'sitters', 'sittin', 'sittingontheplane', 'sittingonthetarmac', 'situation', 'situations', 'situationsyour', 'sivi', 'six', 'size', 'sizer', 'sj', 'sjc', 'sjo', 'sjoiad', 'sju', 'skateboard', 'sked', 'ski', 'skibootbag', 'skift', 'skilled', 'skillful', 'skills', 'skin', 'skip', 'skiplagged', 'skipper', 'sky', 'skycap', 'skycaps', 'skymall', 'skypewell', 'skyscanner', 'skyteam', 'skytrax', 'skyw', 'skywest', 'slacksoftuk', 'slam', 'slapintheface', 'slash', 'slaycancerwithdragons', 'slc', 'slcairport', 'sld', 'sledge', 'sleekmoney', 'sleep', 'sleepbut', 'sleepless', 'sleepy', 'sleet', 'slew', 'slice', 'slide', 'slight', 'slightly', 'slime', 'slip', 'sliver', 'slog', 'slogan', 'sloooooow', 'sloooowresponses', 'slop', 'sloppy', 'slot', 'slow', 'slowdown', 'slower', 'slowest', 'slowfi', 'slowly', 'slowness', 'sm', 'sma', 'small', 'smaller', 'smallerthinner', 'smallest', 'smalls', 'smart', 'smarter', 'smash', 'smell', 'smelly', 'smf', 'smfh', 'smh', 'smile', 'smisek', 'smite', 'smith', 'smm', 'smoke', 'smoooothest', 'smooth', 'smoothest', 'smoothflight', 'smoothie', 'smoothly', 'smoothoperation', 'smoothtransition', 'sms', 'smth', 'smugsmirk', 'smusportmgt', 'smyc', 'sna', 'snack', 'snacksthank', 'snafu', 'snag', 'snaord', 'snap', 'snapchat', 'sneak', 'sneaky', 'snit', 'snobby', 'snoop', 'snow', 'snowball', 'snowbama', 'snowboard', 'snowbound', 'snowfall', 'snowforce', 'snowice', 'snowstorm', 'snowstorms', 'snowwillnevermelt', 'snowy', 'soak', 'sob', 'sobewff', 'soc', 'social', 'socialtantrum', 'society', 'sock', 'socketyou', 'soda', 'sodone', 'sofly', 'soft', 'software', 'sohappy', 'sol', 'solar', 'solate', 'sole', 'solid', 'solo', 'solution', 'solutions', 'solve', 'sombrons', 'somebody', 'somehow', 'someone', 'someoneawesome', 'someones', 'something', 'sometime', 'sometimes', 'somewhat', 'somewhere', 'somthing', 'son', 'song', 'songs', 'sons', 'sonyasloanmd', 'soon', 'sooner', 'sooo', 'soooo', 'sooooo', 'soooooo', 'sooooooo', 'sop', 'soreback', 'sorry', 'sorrynotsorry', 'sort', 'sorta', 'sorude', 'sosmart', 'sotelo', 'soul', 'soulandinspiration', 'souljacoy', 'sound', 'soundofmusic', 'sour', 'sourhwest', 'sous', 'south', 'southbendinwhere', 'southern', 'southwest', 'southwestair', 'southwestairlines', 'southwestairwasthere', 'southwestfail', 'southwestluv', 'southwestluvsweeps', 'southwestoliver', 'southwestrally', 'southwestrocks', 'southwestsmoothie', 'southwestsucks', 'southwestverity', 'southworst', 'sox', 'sozldj', 'sp', 'space', 'spade', 'spaghetti', 'spagnuolo', 'spain', 'spam', 'spamjunk', 'span', 'spanish', 'spare', 'sparkle', 'speak', 'spec', 'special', 'specialist', 'specially', 'specialolympics', 'specials', 'specific', 'specifically', 'specifics', 'specify', 'speciifc', 'spectacular', 'spectacularfed', 'speechless', 'speed', 'speedy', 'spell', 'spend', 'spf', 'spice', 'spill', 'spin', 'spirit', 'spiritairlines', 'spiritairpr', 'spite', 'spk', 'split', 'spoil', 'sponsor', 'sponsorship', 'spontaneously', 'spook', 'spooky', 'sporadically', 'sport', 'sportsbiz', 'spot', 'spotify', 'spotty', 'spousaldiscriminationangry', 'sprawl', 'spread', 'spreadtheword', 'spring', 'sprinkle', 'sprint', 'spruce', 'spur', 'spvsr', 'square', 'squarely', 'squash', 'squawk', 'squeak', 'squish', 'sr', 'sre', 'srq', 'srsly', 'srv', 'srvc', 'ssal', 'st', 'stable', 'stacey', 'stacy', 'stacycrossb', 'staduim', 'staff', 'staffcust', 'staffer', 'staffers', 'stafford', 'stage', 'stagnant', 'stahhppp', 'stahp', 'stain', 'stairs', 'stall', 'stamp', 'stand', 'standard', 'standards', 'standby', 'standbye', 'standbys', 'star', 'staralliance', 'starboard', 'starbucks', 'stare', 'starryeyesdev', 'start', 'startingbloc', 'startle', 'startups', 'starve', 'stat', 'state', 'statement', 'static', 'staticy', 'station', 'stationary', 'stats', 'status', 'statusawaiting', 'statusdelays', 'statusmatch', 'statusmatchpaidoff', 'stay', 'stbernard', 'stclass', 'stdby', 'steal', 'steam', 'steamboat', 'steel', 'steep', 'steer', 'stellar', 'stellarservice', 'step', 'stephenrodrick', 'stepitup', 'stepup', 'steve', 'stevelord', 'stevie', 'steward', 'stewardess', 'stewardesses', 'stewart', 'sti', 'stick', 'sticker', 'stickingtodelta', 'stiiiil', 'still', 'stillbagless', 'stillmakingmepoorthough', 'stillnobags', 'stillnotonmyflight', 'stillwaiting', 'stingiest', 'stingy', 'stink', 'stl', 'stlatl', 'stlaus', 'stlbos', 'stlouis', 'stmt', 'stndby', 'stock', 'stocker', 'stockhouse', 'stoke', 'stone', 'stonewall', 'stop', 'stopover', 'storage', 'store', 'stories', 'storm', 'story', 'stow', 'stowaway', 'stpatricksfoundation', 'straight', 'straighten', 'straightend', 'strand', 'strandedattheairport', 'strandedinnashville', 'strandednyc', 'strandusindenver', 'strange', 'stranger', 'strangers', 'strategy', 'stray', 'stream', 'streamline', 'street', 'streets', 'streetwise', 'strength', 'stress', 'stressful', 'stressors', 'stretch', 'strict', 'strike', 'string', 'strip', 'strive', 'stroller', 'strollers', 'strong', 'strongly', 'strtd', 'structure', 'struggle', 'strut', 'stt', 'sttimeflyer', 'stubborn', 'stubbornly', 'stucked', 'stuckinmemphis', 'stuckintampa', 'stuckintheloop', 'stuckon', 'stuckonaplane', 'student', 'students', 'study', 'stuff', 'stuffy', 'stun', 'stupid', 'stupidity', 'stupidly', 'style', 'stylesheets', 'sub', 'submit', 'suboptimal', 'suboption', 'subpar', 'subscribe', 'subscription', 'subsequent', 'subsequently', 'substandard', 'substantial', 'substitute', 'subterfuge', 'subtlety', 'success', 'successful', 'suck', 'sucksi', 'sudden', 'suddenly', 'sue', 'suffer', 'sufficiently', 'sugafly', 'sugar', 'suggest', 'suggestion', 'suggestions', 'suicide', 'suit', 'suitcase', 'suitcases', 'suite', 'suitshirts', 'sukhdeep', 'sum', 'summer', 'summit', 'sun', 'sunburn', 'sunday', 'sundayfunday', 'sundays', 'sundown', 'sunglasses', 'sunkist', 'sunny', 'sunrise', 'sunrises', 'sunscreen', 'sunset', 'sunshine', 'suntimes', 'suntoshi', 'super', 'superb', 'superben', 'superfast', 'superhero', 'superior', 'superiors', 'superstars', 'supertzar', 'supervisor', 'supervisors', 'superyan', 'supp', 'supply', 'support', 'supporter', 'suppose', 'supposedly', 'suprise', 'supv', 'supvrs', 'supvsr', 'surat', 'surcharge', 'sure', 'suree', 'surely', 'surf', 'surfboard', 'surfboardbag', 'surfer', 'surgeries', 'surgery', 'surgeryhelp', 'surliness', 'surly', 'surname', 'surprise', 'surprisingly', 'surreal', 'surround', 'survey', 'surveyemail', 'survive', 'susan', 'suspect', 'suspend', 'suuperg', 'suuuuper', 'sux', 'svc', 'svcs', 'svllindia', 'svu', 'sw', 'swa', 'swaculture', 'swadiversity', 'swag', 'swagglikebean', 'swair', 'swallow', 'swamistake', 'swamp', 'swanky', 'swap', 'swapic', 'sway', 'swear', 'sweat', 'sweatshirt', 'sweaty', 'sweep', 'sweepstakes', 'sweet', 'sweetheart', 'sweethearts', 'sweetingr', 'sweetmel', 'swell', 'sweresomuchfun', 'swfan', 'swift', 'swimsuits', 'swindle', 'swing', 'swipe', 'swiss', 'switch', 'switchingboth', 'switchsbux', 'swivel', 'swoop', 'swrr', 'swu', 'swvyilxklrogfsja', 'sxm', 'sxmclt', 'sxsw', 'sxu', 'syastem', 'sydney', 'sydneyairport', 'sylvie', 'sympathetic', 'sympathize', 'sympathy', 'sync', 'synch', 'synergy', 'synonymous', 'syr', 'syracuse', 'sys', 'syscon', 'system', 'systemic', 'systems', 'systemwide', 'sytycd', 'ta', 'tab', 'tabitha', 'table', 'tablet', 'tablets', 'tabs', 'tacky', 'tactic', 'tactics', 'tad', 'tag', 'tahiti', 'tail', 'tailfin', 'tailfinthursday', 'tailwind', 'tailwinds', 'taiwan', 'take', 'takemeback', 'takemehome', 'takeoff', 'takeresponsibility', 'takerswe', 'takingthistothetop', 'takr', 'talent', 'talents', 'talk', 'talktoahuman', 'tallahassee', 'taller', 'tamara', 'tammy', 'tampa', 'tan', 'tandoori', 'tank', 'tanpa', 'tap', 'tara', 'target', 'tarmac', 'tarmack', 'tarmat', 'tasha', 'taste', 'tasty', 'tatiana', 'tatianaking', 'tattoo', 'tax', 'taxi', 'taxis', 'taxiway', 'taylor', 'taylorlumsden', 'taylormdowns', 'tb', 'tbd', 'tbt', 'tbuccherifrnce', 'tcf', 'tckt', 'tcmparty', 'tcoaaumkazy', 'tcoaavvoreph', 'tcoaayavgb', 'tcoaceboelpa', 'tcoachoxkpjp', 'tcoaczwmuoon', 'tcoadfulmh', 'tcoagpbvwt', 'tcoagrkncpf', 'tcoahlxhhkiyn', 'tcoaitzlnd', 'tcoaiycwvoq', 'tcoaiyzwtza', 'tcoajmbhjvaa', 'tcoambsig', 'tcoamcuiewo', 'tcoaneqxzrbp', 'tcoanohokl', 'tcoanvbjipx', 'tcoaoeaeszdlx', 'tcoaprqan', 'tcoaprzspxige', 'tcoaptzpurop', 'tcoapyzlsquu', 'tcoaqjnhwnac', 'tcoaqzwecokk', 'tcoarvaylmfc', 'tcoasuwxkv', 'tcoaswqwufz', 'tcoasyqetdjp', 'tcoatdsmhf', 'tcoateafncr', 'tcoatfrkpgoy', 'tcoatwyifhzy', 'tcoaucsykfuhd', 'tcoaufmxdaj', 'tcoaugjscmolu', 'tcoaurnpwd', 'tcoavbdstjujs', 'tcoavrffhmcv', 'tcoavrtowtyzk', 'tcoavyqdmpiy', 'tcoawgjkjiiac', 'tcoaxpnxiqb', 'tcoaxryeiwzh', 'tcoaycflalxv', 'tcoaygaoebuu', 'tcoaygidcfa', 'tcoayosjhzmc', 'tcoaypyaduya', 'tcoazltjhflv', 'tcoaztdaer', 'tcobagfdc', 'tcobaperumne', 'tcobayepzkmiz', 'tcobbaonxtxd', 'tcobbdtldx', 'tcobbhtlzghc', 'tcobbjkmtyul', 'tcobbmpabort', 'tcobbzijwfdl', 'tcobcwckwtnle', 'tcobdtvrgcy', 'tcobduauzfhw', 'tcobebkxbt', 'tcobeqotlnugc', 'tcobfpfweyku', 'tcobgtjfmneot', 'tcobhooiytzq', 'tcobjnzeix', 'tcobkmfeyqol', 'tcobmokxj', 'tcobmunraoni', 'tcobnflhpxtmw', 'tcobngplijt', 'tcobohmhcb', 'tcobrcsjbxgs', 'tcobrtathau', 'tcobrtqcxk', 'tcobswrpmq', 'tcobtbawqtln', 'tcobtkyrbyj', 'tcobttgmyna', 'tcobttnoxu', 'tcobtvpxtzju', 'tcobuwjtvuwkm', 'tcobvfaxdubaq', 'tcobxhirugzv', 'tcobxiygt', 'tcobyvdiosua', 'tcobzqzqxdc', 'tcobzwgpadve', 'tcocafcxgfi', 'tcocbvfkbkx', 'tcoccefapl', 'tcocdxroae', 'tcocdzhtydak', 'tcocehroeurc', 'tcocevypb', 'tcocexrk', 'tcocfhtkr', 'tcocfiekxa', 'tcocfzdjmnui', 'tcocgfvgzb', 'tcochgyyrvka', 'tcochnmjymgh', 'tcocicfrlqbe', 'tcocihqnllcm', 'tcocjuxpk', 'tcockzbvfh', 'tcoclobqwmxr', 'tcoclupdprhp', 'tcoclvlhfguzw', 'tcocmjriwopo', 'tcocmqezxvdh', 'tcocmroiypc', 'tcocnctlgef', 'tcocpiosphm', 'tcocpypgfnd', 'tcocpzbo', 'tcocqmmnuem', 'tcocrfrwpcsx', 'tcocsddccmvbd', 'tcocshrqq', 'tcocsnrpvyb', 'tcoctpdkqulm', 'tcocvbaolcbl', 'tcocwhyfoow', 'tcocxrzhcdtvz', 'tcocxttxvlmp', 'tcocyoonzftdc', 'tcocyprhegok', 'tcoczornyhn', 'tcodaaarqbxw', 'tcodajwzhlvyu', 'tcodbcvepnqc', 'tcodbesbnzg', 'tcodcoboknee', 'tcodcwerzkr', 'tcoddqqgqni', 'tcodergpdwsj', 'tcodewithpew', 'tcodfmvmibhx', 'tcodhhomgkix', 'tcodhrfuijyp', 'tcodiufepnq', 'tcodjhxvjt', 'tcodjjjnslht', 'tcodkzlupqi', 'tcodlhhbg', 'tcodmjhm', 'tcodndoepqukz', 'tcodnifcgwe', 'tcodnmsblzumr', 'tcodnstitrzwy', 'tcodocmvotwti', 'tcodoruxbqla', 'tcodphqrgkdoa', 'tcodplqmhqgd', 'tcodpqouatdf', 'tcodpxyogtej', 'tcodqjlvzh', 'tcodqnnrfv', 'tcodqnyaktg', 'tcodqzlrjop', 'tcodroctpdy', 'tcodrwdjhai', 'tcodsceeenj', 'tcodsdebodmel', 'tcodtheyofxrb', 'tcodtlguqkak', 'tcoduhbjjhx', 'tcodvsltqzkmq', 'tcodwesexidr', 'tcodwnfibtr', 'tcodwvdvqxbb', 'tcodxicoyioxf', 'tcodxnrxdks', 'tcodxuxdbfd', 'tcodzegapfqw', 'tcodzgjfiik', 'tcodzkcauzu', 'tcoeaxlqzwvh', 'tcoebxckfjd', 'tcoebxwgt', 'tcoecbicf', 'tcoeczhcmmvi', 'tcoedgctbls', 'tcoeeofthgaj', 'tcoeeqwvammiy', 'tcoeerekdffq', 'tcoefphishb', 'tcoegaejtrglb', 'tcoegkvfokogj', 'tcoeigajyzcw', 'tcoeishcnpro', 'tcoeiwsybfu', 'tcoekejbv', 'tcoelatntcir', 'tcoelhxuvuj', 'tcoeltboljul', 'tcoemextq', 'tcoemrubuwzd', 'tcoenaxbues', 'tcoenhkeuutd', 'tcoeniqgbuzj', 'tcoenxvrkbu', 'tcoepqqonhoh', 'tcoeqepkkpsxm', 'tcoeqqinfszh', 'tcoerntotr', 'tcoerzhtkqz', 'tcoesdxdvr', 'tcoesmmnizek', 'tcoessfoowt', 'tcoesuuhiajm', 'tcoetfjqiwuvt', 'tcoeueyxawcv', 'tcoeulsdurbu', 'tcoewjoklji', 'tcoewwgigdx', 'tcoewxwxidtfx', 'tcofanygnux', 'tcofbtemfwrsp', 'tcofcopxfvj', 'tcofdsnvkiem', 'tcofdtnyctrb', 'tcofecivwq', 'tcofefhpmfple', 'tcoffanixjhwh', 'tcoffczygjs', 'tcofgjbexd', 'tcofgrbpazsix', 'tcofheslpmu', 'tcofinqfhue', 'tcofixywxyb', 'tcofjkvqmbmas', 'tcoflbgzzkd', 'tcoflcnnnusd', 'tcoflfulcbq', 'tcoflwmgdahxu', 'tcofmipwdhi', 'tcofmrmn', 'tcofmzzoltv', 'tcofnqxybtk', 'tcofornpfky', 'tcofqxelbon', 'tcofraqdpkyga', 'tcofrdcayda', 'tcofrghglmkqf', 'tcofrhuxibii', 'tcofrrfxccwz', 'tcoftlzwtvo', 'tcoftpdawbd', 'tcofttfyfmvco', 'tcoftvnwwqf', 'tcofuchzrzjg', 'tcofupfuayir', 'tcofvlxirhf', 'tcofvudmhpf', 'tcofvyzjldton', 'tcofwcyhgdj', 'tcofwkjble', 'tcofwzclbvug', 'tcofxbijlxat', 'tcofxnvba', 'tcofyfrzbk', 'tcofyvaioul', 'tcogapbamuc', 'tcogbdrolsi', 'tcogbeasz', 'tcogbhgwt', 'tcogbiwugfnm', 'tcogcwvfuopl', 'tcogdkaedhf', 'tcogdzadxzbya', 'tcogegnghmie', 'tcogguaajvdf', 'tcogguigtz', 'tcoghabyep', 'tcoghjbpgg', 'tcogialyl', 'tcogiennyqn', 'tcogkgkzlawpr', 'tcogkyufqh', 'tcogkzrei', 'tcoglxfwpnqh', 'tcogmlotimh', 'tcognpkqb', 'tcogodfaknb', 'tcogonmrwemi', 'tcogouzrdtzf', 'tcogoyxtmj', 'tcogqpgzgw', 'tcogrkbjbxlk', 'tcogrnmyuqe', 'tcogrsdl', 'tcogsaozgtv', 'tcogsbjcgm', 'tcogsnqsqz', 'tcogtumhbh', 'tcoguywqh', 'tcogvgkhbxrb', 'tcogwwrvbrq', 'tcogxdqortss', 'tcogxmmmubb', 'tcogxqbtckbr', 'tcogxvfumniz', 'tcogzgqdtjj', 'tcohajlkqjw', 'tcohapgbostu', 'tcohaqcgdgc', 'tcohbccot', 'tcohbsjsfh', 'tcohcemwcqj', 'tcohcnnwxqqr', 'tcohdoximnz', 'tcohepknpuzwu', 'tcohezjkzsk', 'tcohfajzffl', 'tcohfjynvtvj', 'tcohfofiyhi', 'tcohgveqhghy', 'tcohhctie', 'tcohhnjjje', 'tcohhoxqpsuba', 'tcohhtoz', 'tcohiboavxy', 'tcohiflaxe', 'tcohiscndmgz', 'tcohjglwl', 'tcohjkqchn', 'tcohjucpl', 'tcohkowohd', 'tcohlmoksxl', 'tcohlngbtx', 'tcohlzahxkdsn', 'tcohmmqczkcf', 'tcohovuaisg', 'tcohpgxyzrwo', 'tcohprppcvhx', 'tcohpsieaokwh', 'tcohpsqvrjk', 'tcohqdbiruvg', 'tcohqdtkatue', 'tcohqhdadfvk', 'tcohrdktqy', 'tcohrvuktpvn', 'tcohsmpbsfuf', 'tcohuclxluvh', 'tcohuezhcv', 'tcohujcjg', 'tcohxlnvzknp', 'tcohxsdpha', 'tcohxsnvfbbh', 'tcohxvvisvww', 'tcohyraoauu', 'tcohyvrfhjht', 'tcoialicehft', 'tcoibkyjbcjm', 'tcoibvvtzlse', 'tcoidrakenoh', 'tcoiegobcepp', 'tcoifespcbztm', 'tcoigdgcttm', 'tcoigkogywksr', 'tcoigsvzvrbbn', 'tcoihwnfkz', 'tcoiidrblnoox', 'tcoiimtjxcvlg', 'tcoiitojhuikh', 'tcoijxltkx', 'tcoikbpgxwi', 'tcoikcgaxxfa', 'tcoikqbdzatn', 'tcoilqzmmjiyq', 'tcoimdckodfx', 'tcoimrhivyr', 'tcoimrlauih', 'tcoimvmpnqxai', 'tcoinbpbdw', 'tcoincncavn', 'tcoinnpkkyby', 'tcoipaamztz', 'tcoipgeicsm', 'tcoiqnvyfpgp', 'tcoiquppvqs', 'tcoirixaifjjx', 'tcoirtih', 'tcoirynmbdu', 'tcoisfmizat', 'tcoiskihge', 'tcoiutzvhco', 'tcoiuxrgc', 'tcoivdiwqsf', 'tcoivgpzsjtkw', 'tcoivwfbtue', 'tcoiwoigrlhxb', 'tcoixmtmizc', 'tcoiyuzmpuvs', 'tcoizfofgjzui', 'tcojaskyplwt', 'tcojbdkxdefz', 'tcojbmvvhaa', 'tcojbyvmsod', 'tcojcedikyu', 'tcojcjlrfd', 'tcojdvktcqx', 'tcojehw', 'tcojeuodeyj', 'tcojgduusdz', 'tcojgorvdis', 'tcojhaukyv', 'tcojhbjdver', 'tcojhxwmutxg', 'tcojiclvdts', 'tcojieycatek', 'tcojipggom', 'tcojixksjkk', 'tcojjdosfyibm', 'tcojjtxyxg', 'tcojknwugj', 'tcojkqmdfqgf', 'tcojlhmxukb', 'tcojloiblnair', 'tcojmgeyxby', 'tcojmgqkgrf', 'tcojmhmkdivl', 'tcojmnkjbmc', 'tcojnqnbkhut', 'tcojnvkqgv', 'tcojorescfbx', 'tcojpdnsgrt', 'tcojqhgjtmw', 'tcojrbzlhrwy', 'tcojtxyhqhfjj', 'tcojurhzrqc', 'tcojutcdrljl', 'tcojvjzzaa', 'tcojwlglrw', 'tcokacyawdbw', 'tcokaejgchd', 'tcokbbbfxmk', 'tcokbhymgkap', 'tcokbtzvjub', 'tcokcddoduff', 'tcokcqebeejs', 'tcokcqnwixucm', 'tcokcvubuyexc', 'tcokdhrufsw', 'tcokdmqjps', 'tcokdzqczlpyr', 'tcokekpdmgif', 'tcokeyrpflhil', 'tcokfdwqrklw', 'tcokfkjfztgi', 'tcokfuyyokufv', 'tcokhgjofgpx', 'tcokhmkotz', 'tcokhzrccypa', 'tcokigfkvxxdq', 'tcokixrnk', 'tcokjiljaebv', 'tcokjkuvjcmo', 'tcokkayxaps', 'tcokkedjnrtwo', 'tcokkeixifp', 'tcokkwiwia', 'tcoklbaimes', 'tcoklfywwmq', 'tcoklxivnbcyh', 'tcokmanldqbh', 'tcokmhzrjfe', 'tcokmqulyge', 'tcokneqe', 'tcokngeep', 'tcoknpjelzl', 'tcoknuvuovhub', 'tcokpmrf', 'tcokpyhckal', 'tcokqlhvapg', 'tcokqnrrpa', 'tcokshtueq', 'tcoksrfnw', 'tcoktawbiuuro', 'tcoktkhsmgy', 'tcoktsskj', 'tcokubotmrr', 'tcokumtbger', 'tcokvfwajvvid', 'tcokvkdyrxa', 'tcokvxslcqlp', 'tcokwuekukbc', 'tcolaiggefkj', 'tcolarkcvcs', 'tcolazaoay', 'tcolchvjolidg', 'tcoldxnqqq', 'tcolednocdqee', 'tcolehgtzxz', 'tcolenaowfyvu', 'tcolfgrnifut', 'tcolfspefey', 'tcolftqdsy', 'tcolfwafad', 'tcolhsnlgie', 'tcolhwfbkfyni', 'tcolifnzku', 'tcolioocpteq', 'tcoliqwoblfbt', 'tcoliwecasoe', 'tcoljlarive', 'tcoljydkorq', 'tcoljzdthdbv', 'tcoljzxznkg', 'tcolkfhhyhw', 'tcollwioxvo', 'tcollwjazioa', 'tcolmopxkxch', 'tcolneghdgn', 'tcoloecogmvd', 'tcololghpcdu', 'tcololuwfci', 'tcolpvfhkyf', 'tcolqjtjvoys', 'tcolscwphph', 'tcolsxjiouvr', 'tcolsybglfj', 'tcoltfqudxc', 'tcoltpykfvrq', 'tcoltwhmoldr', 'tcoltxjkbo', 'tcolugmfvwsa', 'tcolulgnweffh', 'tcolvhwqdka', 'tcolvirtdtqly', 'tcolwotkiekgu', 'tcolwwdackhx', 'tcolxwbsfxfj', 'tcolycarltfhl', 'tcolyoocxmsh', 'tcolyqrbhcyu', 'tcolzfgutxiyn', 'tcomaqwnlniu', 'tcomarcnocwzn', 'tcomavigetbbw', 'tcombbjwgoap', 'tcombcehcszx', 'tcombhvfqbt', 'tcombipgszq', 'tcombkmdnw', 'tcombltalrbs', 'tcombvjflpbm', 'tcomcsidzpnz', 'tcomdbdyomrs', 'tcomdnedze', 'tcomeoalcipdd', 'tcomeozboxl', 'tcomfmnkmvotr', 'tcomfrabgna', 'tcomfsshuhue', 'tcomhaxxaed', 'tcomhhsruplv', 'tcomjkpgvxmpc', 'tcomjtksfuhg', 'tcomkpognntyc', 'tcomljacpmch', 'tcommcwkqpgy', 'tcommmqffa', 'tcomntptr', 'tcomnywrkbs', 'tcomphoavrxc', 'tcompiyuojr', 'tcompliodygn', 'tcomqfmxebxt', 'tcomrawqdwd', 'tcomrfbjtepef', 'tcomrvblxs', 'tcomthmwaobu', 'tcomtsplmv', 'tcomuwcpxtxj', 'tcomvyoizrpde', 'tcomwbkka', 'tcomwitrikf', 'tcomwnbglxq', 'tcomwpggrezp', 'tcomwsgolgo', 'tcomwsogucp', 'tcomydnvbzaz', 'tcomynzitcovn', 'tcomyywafkfi', 'tcomzzfgqfhu', 'tconageakpa', 'tconbpcjcpew', 'tconbvztyzi', 'tconbzjcdr', 'tconbzkhizfv', 'tconcboncsi', 'tconceself', 'tconcguzdgdaq', 'tconcrmqibiwo', 'tcondtljzpu', 'tconehnsdckty', 'tconexdbcrhg', 'tconfaqhhrj', 'tconfjauwvz', 'tconfvelcygz', 'tconggnwiar', 'tcongxaloml', 'tconhizlzmk', 'tconhmcrjchb', 'tconivwftzw', 'tconjgagds', 'tconkafbjyari', 'tconkdcsxu', 'tconklozcntto', 'tconklwssvrq', 'tconlrfouay', 'tconlzsehnee', 'tconmbhngnmki', 'tconmvnnfkb', 'tconofgtqhyn', 'tconopqxisbs', 'tconosjza', 'tconosvli', 'tconpsuejdc', 'tconpxbobmr', 'tconrpwmgyve', 'tconsacfqcdq', 'tconsjwvttjgo', 'tconsuiipvw', 'tconsusfsbpv', 'tcontglwnqvm', 'tcontuixdbyr', 'tconuhplnxriq', 'tconustgpelsf', 'tconuvclmada', 'tconvgenpib', 'tconvkirgkp', 'tconvlnglnmgn', 'tconwffkafy', 'tconwinfuc', 'tconwvxdgmf', 'tconxqijcojnj', 'tconxzhbbmt', 'tconycsjruv', 'tconytuxfqf', 'tconyvvxd', 'tconzdxrvszwv', 'tconzhqoazo', 'tcooadrfaoq', 'tcooaflfrwxb', 'tcooajmnucha', 'tcooapiau', 'tcooardjjgrrd', 'tcoobfjbpca', 'tcoobqirobuj', 'tcoocjsvssqf', 'tcoocqkjfxua', 'tcoodlalledh', 'tcoofpfvqpoy', 'tcoofwabws', 'tcoohcfvdhr', 'tcooilncfweyg', 'tcooiuqttz', 'tcoojeptw', 'tcoojrsdwpkk', 'tcooktukjyo', 'tcoomviega', 'tcoonhxhcobk', 'tcoonklzvmt', 'tcoooejdjop', 'tcooqtohjl', 'tcooquksoso', 'tcooqzwclla', 'tcooryeegek', 'tcooscoflol', 'tcooscrefw', 'tcoosifhprt', 'tcoosoxhfwy', 'tcoosrlhfho', 'tcootfzcyguq', 'tcootlzakd', 'tcoottyrymzd', 'tcooumclrxdn', 'tcoouxcbo', 'tcoowlainimy', 'tcoowmaxoyehz', 'tcooxmcwgab', 'tcooxsabtvtb', 'tcooxwktsgi', 'tcooxyjnpjm', 'tcooylgeaoy', 'tcooyllrzqum', 'tcoozrqpcr', 'tcopadcjxlzl', 'tcopdnbaakxh', 'tcopdntgbxc', 'tcopdrllre', 'tcopeefzwzc', 'tcopeqpqmpp', 'tcopeucbmij', 'tcopfsenjkpw', 'tcopfsluxegw', 'tcopgoeuxnspi', 'tcopgwukrpmox', 'tcopgysasw', 'tcophiifnjit', 'tcophqjzapkx', 'tcophumlxur', 'tcopivxeanjy', 'tcopkaxunyfn', 'tcopkfibttzf', 'tcopkiqhi', 'tcopkyzhnnrh', 'tcoplsopihu', 'tcopnbajfkmhg', 'tcopnwjfps', 'tcopofsxojsy', 'tcoponjjide', 'tcoppvarchf', 'tcoprgysvurm', 'tcoproebcn', 'tcoprrtow', 'tcopskxzvea', 'tcopsqrpsil', 'tcoptsbkacdj', 'tcopucbvlve', 'tcopujvcelng', 'tcopulpiw', 'tcopvczxthm', 'tcopvghjxkp', 'tcopvkchnr', 'tcopweudlczg', 'tcopxdelnql', 'tcopxexilsjbs', 'tcopxfhqkps', 'tcopxhqoksr', 'tcopyalebgkjt', 'tcopyjaoaynx', 'tcopzalwtrez', 'tcopzgcjchn', 'tcoqajtkik', 'tcoqamiwfsw', 'tcoqavvlaxlkl', 'tcoqbynpctf', 'tcoqdebyahqfm', 'tcoqdljhsloi', 'tcoqdlyuxazg', 'tcoqdxftqqt', 'tcoqeadamw', 'tcoqefkfwzod', 'tcoqfochqez', 'tcoqgmfcbyt', 'tcoqgtcaoju', 'tcoqgwkdewv', 'tcoqjbcvjzq', 'tcoqjklabprg', 'tcoqjlzrywfj', 'tcoqkkjdfobos', 'tcoqkquraggoo', 'tcoqllrep', 'tcoqmdqbaig', 'tcoqnnzyspk', 'tcoqnodugfqk', 'tcoqpawnlip', 'tcoqpownuv', 'tcoqqlzkjkzr', 'tcoqranzimhtr', 'tcoqrxvzfrdz', 'tcoqrxzbgbtq', 'tcoqsbdavuy', 'tcoqsqmmkf', 'tcoquzvmkrtr', 'tcoqvsffrdu', 'tcoqwebeemvg', 'tcoqwfmoqdql', 'tcoqwtilya', 'tcoqxedzvhh', 'tcoqxnoaqtyn', 'tcoqxteqzmyz', 'tcoqxvmvug', 'tcoqxvwgl', 'tcoqxwwpa', 'tcoqyezhjgsb', 'tcoqygxgmdsn', 'tcoragncwbk', 'tcorbnstuij', 'tcorcdhqj', 'tcordjmwflg', 'tcoreddvc', 'tcorfxlvkgdh', 'tcorgywjbbhm', 'tcorhkamxvf', 'tcorhwktqfo', 'tcoribqrcyd', 'tcorinzyskki', 'tcorklqxxawhc', 'tcorkorhvrz', 'tcorkprxtgvfl', 'tcorkvczbpdce', 'tcorkwugmanm', 'tcorlpjchb', 'tcorlwbjma', 'tcorlzebkx', 'tcormpkogwu', 'tcormznivgmg', 'tcoromzqavi', 'tcoroqaveoi', 'tcorpdbpxwnd', 'tcorpzyfe', 'tcorqbpmwettq', 'tcortqyjcvtq', 'tcorvcdannme', 'tcorxhomm', 'tcorxjxqrxz', 'tcorxmjwooqi', 'tcorxzmyy', 'tcoryxbplgmnk', 'tcorzsvzurlw', 'tcosbaaricyq', 'tcosbehibmk', 'tcosbgbnouxy', 'tcoscqujbvsta', 'tcosctomh', 'tcosdlynmss', 'tcosdmwvrzr', 'tcosdylukrpt', 'tcosdyttzd', 'tcosedmjhiw', 'tcoseswagum', 'tcoseulpvfn', 'tcosfjduahxz', 'tcosfpcbyym', 'tcosgckbopata', 'tcosgiqqfvso', 'tcoshhtvioti', 'tcosiczxoez', 'tcosjqemdtqma', 'tcosjveelween', 'tcoskebqktxvx', 'tcoskkewqhssg', 'tcoskrlyrzo', 'tcoskwxqaqb', 'tcoslbdrxfn', 'tcosllyibevq', 'tcosoiqrnaj', 'tcosotlxqsrp', 'tcosrmqbrzd', 'tcossbaujtouw', 'tcossuvwwkyhh', 'tcostktjxan', 'tcostqyv', 'tcosuprlfoit', 'tcoswbgrcc', 'tcoswwhyhen', 'tcoswzmfxnu', 'tcosxvagbrtli', 'tcosywlmtzek', 'tcoszrpioa', 'tcotbsjquw', 'tcotefhpuwmdj', 'tcotejrntfw', 'tcoteshxng', 'tcotfanxbhcf', 'tcotfhvaz', 'tcotfjfmshak', 'tcotfpcgrej', 'tcotfyybhjhl', 'tcotgcksbh', 'tcotgnknld', 'tcotgsbdfps', 'tcotgsljjng', 'tcothcrkurt', 'tcothsldya', 'tcotjbnwztq', 'tcotjdzamhpew', 'tcotjuumdd', 'tcotkabtwf', 'tcotkaopdtsq', 'tcotkauygcpms', 'tcotkvcmhbpim', 'tcotkvmhbkec', 'tcotlgoihqkvs', 'tcotlpbaupik', 'tcotmccexyaaq', 'tcotmrjywi', 'tcotmthvfdc', 'tcotncxcldm', 'tcotnkixxrxhb', 'tcotnyuipha', 'tcotopqmvqnjp', 'tcotpzhjxhbt', 'tcotqbgamfpc', 'tcotqctkci', 'tcotrdrcre', 'tcotrgemtebz', 'tcotrqlpeinzw', 'tcotrvfncedl', 'tcotrypzebc', 'tcotskorsn', 'tcotsvgbrlf', 'tcotsvibtvth', 'tcottbtyilo', 'tcottlwzgiyag', 'tcottxrsynlxr', 'tcottzejvhy', 'tcotujxjazn', 'tcotutglid', 'tcotvbzbzvhg', 'tcotvkpyxqv', 'tcotwetpxuppn', 'tcotxhyjllg', 'tcotxutsfkj', 'tcotycgaeo', 'tcotynchoelac', 'tcotyxaztmqu', 'tcotzimqzlg', 'tcotzzjhuibch', 'tcotzzvbmbs', 'tcouadoual', 'tcouaicfjrms', 'tcouaywrras', 'tcoubcoasyws', 'tcoucfbbqr', 'tcoucveuhurz', 'tcoucvnilmbx', 'tcouczplhl', 'tcouczzpyphk', 'tcoudpqfliqo', 'tcouduwmde', 'tcoueggknza', 'tcoufafqhsf', 'tcoufbdraxeo', 'tcoufyxxkisa', 'tcougfckermrw', 'tcouhumaskldv', 'tcouhuwuosc', 'tcouhxricrx', 'tcouiesrghho', 'tcouimypzh', 'tcoujfszikd', 'tcoujtvtcpa', 'tcoukdjjijrow', 'tcoukmedz', 'tcouldhwfkfo', 'tcounxqotzik', 'tcouoaryqpu', 'tcoupazefdl', 'tcoupocmmulun', 'tcouppabxrq', 'tcouqgwqsffu', 'tcouqoopjpwg', 'tcourcyfcplx', 'tcourungy', 'tcourzvbpjko', 'tcoutdfqfwpa', 'tcoutfdhxapu', 'tcoutgrrwaaa', 'tcouvieuidf', 'tcouxwpadugs', 'tcouyduegx', 'tcouygewnosr', 'tcovahdekvoke', 'tcovbfieoqjc', 'tcovbuxfpckfa', 'tcovckeulgj', 'tcovdfdodqvgx', 'tcovdtlomtwu', 'tcoveemacm', 'tcovftuyjhx', 'tcovglxykwqg', 'tcovgnxckg', 'tcovgqoihtrkh', 'tcovhfjgneozo', 'tcovhgkitzsaw', 'tcovhpgtdwpk', 'tcovjfvksgcq', 'tcovkjsjrm', 'tcovlcikvip', 'tcovmquurzupw', 'tcovnckgzxl', 'tcovnjjiao', 'tcovoeqsepqh', 'tcovolmeja', 'tcovosizhsl', 'tcovouufrnjs', 'tcovoxcghciji', 'tcovpdrplxja', 'tcovpkdsi', 'tcovpqemxuq', 'tcovpvphmtzc', 'tcovpymmv', 'tcovqmdmzafuj', 'tcovqnpdoi', 'tcovqtyzamzu', 'tcovqwkyxsw', 'tcovradykep', 'tcovrklai', 'tcovrqdpqepfw', 'tcovsbrbicx', 'tcovskxyamnom', 'tcovtfmknad', 'tcovtmusjvu', 'tcovtqemli', 'tcovudwjmlyb', 'tcovulbzxtrx', 'tcovuxfrunu', 'tcovuxswjkiy', 'tcovvcfyhkvb', 'tcovvzksmfkvw', 'tcovwpttlh', 'tcovwvgvngq', 'tcovxnjmv', 'tcovxvbctdlf', 'tcovyuanhiqr', 'tcovzvugmkjw', 'tcowaakjumxa', 'tcowajkeyt', 'tcowbhbljjks', 'tcowbjawxxd', 'tcowbmhrlbvl', 'tcowbqiwaou', 'tcowbzorrnc', 'tcowcsazzqpae', 'tcowdaktmrmj', 'tcowdyekvbze', 'tcowepflly', 'tcowezumdimyf', 'tcowgyztnjcxm', 'tcowhagpknnlf', 'tcowhoaewhws', 'tcowhufmiytd', 'tcowjiigztiwg', 'tcowjocfsu', 'tcowjyasdn', 'tcowmotkqhxp', 'tcowmtmspry', 'tcowmxfzc', 'tcowndceoqlk', 'tcownlaybl', 'tcownytzsrn', 'tcowowxhpuqv', 'tcowqzztiemx', 'tcowrwqrublps', 'tcowsgyckciio', 'tcowtapxa', 'tcowulbcncr', 'tcowvgppymz', 'tcowxowzhpgfl', 'tcowxstvpzg', 'tcowznpqmh', 'tcoxaizwisml', 'tcoxaspqdsqhe', 'tcoxatoxbnsfa', 'tcoxbkvcraokn', 'tcoxblwgwa', 'tcoxbodakak', 'tcoxbqqqbrgvf', 'tcoxcjqrb', 'tcoxcvqxykg', 'tcoxdjzkcgb', 'tcoxdlbibclp', 'tcoxedeckgmw', 'tcoxeqyahfvz', 'tcoxfmpnaaje', 'tcoxfwxsrwkha', 'tcoxgfstjtmo', 'tcoxggcntcom', 'tcoxgnyhgafz', 'tcoxgpaayfdwt', 'tcoxhcacjax', 'tcoxhlcmtff', 'tcoxhsuupheze', 'tcoxijifymvqp', 'tcoxijyrpslzk', 'tcoxilzqdwe', 'tcoxjenanye', 'tcoxjvunzz', 'tcoxkiykqj', 'tcoxltvzst', 'tcoxmaqcucwzl', 'tcoxmavgw', 'tcoxmrvrlgeg', 'tcoxmztfix', 'tcoxnruovts', 'tcoxpmigqjn', 'tcoxrdtovnl', 'tcoxrsvagijn', 'tcoxsywmdvu', 'tcoxtdydbh', 'tcoxusbjfv', 'tcoxvbjczlmda', 'tcoxvnnmltiw', 'tcoxwjolflh', 'tcoxxmjxqep', 'tcoxxppzoj', 'tcoxxqscjll', 'tcoxxsaombdgs', 'tcoxxydimnp', 'tcoxzbajmiekx', 'tcoxzqegnef', 'tcoxzqssjtrb', 'tcoxzrkwvq', 'tcoxzyphkfgr', 'tcoyaormfkac', 'tcoybmbgsdhn', 'tcoybvxaowkv', 'tcoybyackc', 'tcoyccitaeps', 'tcoycodikpt', 'tcoycvsiod', 'tcoyfnhmwyff', 'tcoyhkzkyzrr', 'tcoyiwguktr', 'tcoyiwlhqhzgp', 'tcoylngxqx', 'tcoymftwuyhr', 'tcoymmhkcbr', 'tcoynczutzz', 'tcoyokkhhqcmp', 'tcoyounxtqp', 'tcoypbkcirbxu', 'tcoyponyprzl', 'tcoypvpvdltys', 'tcoyqehcqzt', 'tcoyqhkljabn', 'tcoysahvxzk', 'tcoysqbvqmgb', 'tcoywxrfngr', 'tcoyxdqjnnl', 'tcoyxnpnoav', 'tcoyxswfqtgp', 'tcoyyzdpbvu', 'tcoyzhzrqmi', 'tcoyzxfeau', 'tcozaqltf', 'tcozaxbh', 'tcozcbjyolsn', 'tcozdkxnktou', 'tcozfqmpgxvs', 'tcozfroinpszi', 'tcozfwjgtxzt', 'tcozgoqoxjbqy', 'tcozgqebfk', 'tcozhgqprsg', 'tcozhmfdiw', 'tcozhxokaqa', 'tcozikuoxgnw', 'tcozirazudc', 'tcozjlztua', 'tcozjvilw', 'tcozkoeclgiu', 'tcozksxitdn', 'tcozlbvexmcj', 'tcozmjkalzl', 'tcoznmwxdiu', 'tcoznsujpbv', 'tcozofwldqxbe', 'tcozoicegli', 'tcozouowgvq', 'tcozpjrkwbk', 'tcozpzpoeon', 'tcozqutusepw', 'tcozsdgzydnde', 'tcozstyuqj', 'tcozsuztnaijq', 'tcoztkeeup', 'tcoztrdwvnl', 'tcozvcfpohl', 'tcozvfmxnuelj', 'tcozvpttrk', 'tcozzkqwwbjz', 'tcozznfwkkwp', 'tcozzpsywve', 'tcunningham', 'tea', 'teach', 'team', 'teamnkh', 'teamspirit', 'teamtreehouse', 'teamusa', 'tear', 'tech', 'technical', 'technically', 'technology', 'teco', 'ted', 'tedious', 'teem', 'teen', 'teenager', 'teens', 'teeth', 'tel', 'telaviv', 'telephone', 'teleportation', 'television', 'tell', 'telleveryone', 'tellpurchase', 'tellyourstory', 'temorris', 'temp', 'temper', 'temperature', 'template', 'temporary', 'temps', 'tempt', 'ten', 'tennetexan', 'tennis', 'tense', 'tent', 'tequila', 'term', 'terminal', 'terminals', 'terminology', 'terra', 'terri', 'terrible', 'terriblebeen', 'terriblecommunication', 'terriblecustomerservice', 'terribleno', 'terribleservice', 'terribly', 'terrific', 'terrifyingly', 'terror', 'terry', 'terrybrokebad', 'test', 'texarkana', 'texas', 'texasisclosed', 'text', 'texted', 'texting', 'texts', 'teyana', 'tf', 'tfgreenairport', 'tfw', 'tgcyalate', 'tgif', 'th', 'thai', 'thaiairways', 'thailand', 'thank', 'thankful', 'thankfully', 'thankgoodness', 'thankjesus', 'thankme', 'thanksamericanairlines', 'thanksare', 'thanksdave', 'thanksdc', 'thanksjetblue', 'thanksm', 'thanksunited', 'thanku', 'thankyou', 'thankyouforeverything', 'thansk', 'thanx', 'thapril', 'thatisall', 'thatlol', 'thatthis', 'thaw', 'theacademy', 'theairhelper', 'thebachelor', 'thecandacesmith', 'thee', 'theellenshow', 'theend', 'thefaaonline', 'theflight', 'theft', 'thefutureisweird', 'thehaileytate', 'thehipmunk', 'thehours', 'thelodge', 'themagicalstranger', 'theme', 'themenofbusiness', 'themestimated', 'themhence', 'thenatek', 'thenationaluae', 'thenewaa', 'thenewamerican', 'thepoopqueen', 'therealaviation', 'therefore', 'thereisafirstforeverything', 'therofo', 'thestarter', 'thetakeover', 'thete', 'thetroubadour', 'theuso', 'thevdt', 'theverge', 'thewayoftheid', 'theworst', 'theworstairline', 'theworstairlineever', 'theyareallbetter', 'theycouldatleastofferfreebooze', 'theydontanswer', 'thick', 'thicken', 'thier', 'thieve', 'thin', 'thing', 'thingafteranother', 'things', 'thingsishouldknow', 'thingsyoucantmakeup', 'thingwill', 'think', 'thinkbus', 'thinkdo', 'third', 'thirty', 'thirtylives', 'thisgreen', 'thisiscoach', 'thislinehasntmovedforanhour', 'thismosaicnothappy', 'thks', 'thman', 'thng', 'thnk', 'thnkx', 'thnx', 'tho', 'thomas', 'thor', 'though', 'thoughtful', 'thoughts', 'thousand', 'thousands', 'thousandth', 'thparty', 'thre', 'thread', 'threat', 'threaten', 'three', 'threehourslate', 'thrill', 'thrombosis', 'throne', 'throug', 'throughout', 'throw', 'throwback', 'thrower', 'thru', 'tht', 'thth', 'thtimemonthsold', 'thu', 'thur', 'thurs', 'thursday', 'thus', 'thx', 'thxu', 'thy', 'ti', 'tia', 'tic', 'tick', 'ticket', 'tickethotel', 'ticketsforjax', 'tickt', 'tiday', 'tide', 'tie', 'tier', 'tiffany', 'tiffanyandco', 'tifffyhuang', 'tight', 'tightconnection', 'tighter', 'tiks', 'til', 'till', 'tilleymonsta', 'tim', 'timbennettg', 'timbit', 'timco', 'time', 'timedout', 'timehave', 'timei', 'timeliness', 'timely', 'timemoney', 'timenot', 'timerest', 'timesenough', 'timeshand', 'timesomeone', 'timeswitch', 'timethat', 'timezones', 'timieyancey', 'tinaisback', 'tinder', 'tinderchamp', 'tindertips', 'tinmanironman', 'tiny', 'tip', 'tire', 'tiredandwanttogohome', 'tiredcustomer', 'tiredofthis', 'tiredofwaiting', 'tisk', 'tissue', 'title', 'tix', 'tixs', 'tjycqh', 'tk', 'tke', 'tks', 'tkt', 'tkts', 'tlc', 'tld', 'tlh', 'tmadcle', 'tminus', 'tmm', 'tmobile', 'tmr', 'tmrw', 'tmw', 'tn', 'tnx', 'toby', 'tock', 'today', 'todayrather', 'todays', 'todaytomorrow', 'toddler', 'toddlers', 'toe', 'tofrom', 'together', 'toilet', 'toiletries', 'toilets', 'tok', 'token', 'tokyo', 'tokyomarathon', 'tokyonarita', 'toledo', 'tolerable', 'toll', 'tollfree', 'tom', 'tomo', 'tomoro', 'tomorro', 'tomorrow', 'tomorrowplane', 'tomorrows', 'tomorrowwould', 'tomrw', 'tomvh', 'ton', 'tone', 'tongueincheek', 'tonic', 'tonight', 'tonite', 'tonnes', 'tons', 'tonysimsmma', 'tool', 'toolittletoolate', 'toolong', 'tooooo', 'toothpaste', 'top', 'topdown', 'topflight', 'toplay', 'topnews', 'torileggieri', 'toronto', 'torture', 'tory', 'tos', 'toss', 'tot', 'total', 'totalfail', 'totally', 'totallyconfused', 'touch', 'touchdown', 'tough', 'toughtomakeplans', 'tour', 'tourist', 'tourists', 'tout', 'tovery', 'tow', 'toward', 'towards', 'tower', 'town', 'towns', 'toyingwithouremotions', 'tpa', 'tpadfwaus', 'tpadfwlax', 'tpallini', 'trace', 'track', 'tracker', 'trade', 'traditionally', 'traditions', 'traffic', 'trafficfuel', 'train', 'transaction', 'transactional', 'transactions', 'transatlantic', 'transcontinental', 'transf', 'transfer', 'transferable', 'transformative', 'transit', 'transition', 'translation', 'transpacific', 'transparency', 'transparent', 'transpire', 'transport', 'transportation', 'trap', 'trappedhouston', 'trash', 'trashy', 'travel', 'travelbank', 'traveler', 'travelers', 'travelfail', 'travelhelp', 'travelingwithsmallkids', 'traveller', 'travellers', 'travelocity', 'traveloneworld', 'travelpoints', 'travelportland', 'travelproblems', 'travelpulse', 'travelpurchased', 'travelzoo', 'travis', 'travisamex', 'tray', 'trbl', 'treacherous', 'treasure', 'treat', 'treatment', 'tree', 'tremendous', 'tremendously', 'trend', 'triage', 'trial', 'trials', 'tribute', 'tricities', 'trick', 'trickle', 'triflight', 'trip', 'tripadvisor', 'tripitpro', 'triple', 'tripnever', 'tripofalifetime', 'trite', 'trivia', 'trivialize', 'tropic', 'troubadour', 'trouble', 'troubleshoot', 'troubleshot', 'troy', 'tru', 'trublue', 'truck', 'true', 'trueblue', 'truebluecolors', 'truebluelove', 'truebluememberlife', 'truebluepoints', 'truly', 'trump', 'trust', 'truth', 'truthful', 'truthh', 'truutall', 'trvl', 'trvlove', 'try', 'tryagain', 'tryin', 'tryn', 'tryna', 'tryng', 'tsa', 'tsanightmare', 'tsapre', 'tsaprecheck', 'tshirt', 'tsk', 'tsparrow', 'tt', 'ttinac', 'tu', 'tuck', 'tucson', 'tue', 'tues', 'tuesday', 'tuftsenergyconf', 'tug', 'tul', 'tuldal', 'tulsa', 'tulsanot', 'tumitravel', 'tummy', 'tune', 'turbulence', 'turkish', 'turn', 'turnaround', 'turquoise', 'turrible', 'tus', 'tusdfw', 'tux', 'tv', 'tvmovie', 'tvs', 'tvsmusic', 'tvu', 'twa', 'tweak', 'tweet', 'tweeter', 'tweetin', 'twelve', 'twenty', 'twice', 'twicegot', 'twiiter', 'twin', 'twist', 'twitter', 'twitterdm', 'twitteremailweb', 'twitterhug', 'twitterliterate', 'twitterz', 'two', 'twtr', 'tx', 'txfd', 'txt', 'txtemail', 'txting', 'ty', 'type', 'typical', 'typically', 'typo', 'tyr', 'tys', 'tyspent', 'tysvm', 'tyvm', 'tywinter', 'ua', 'ual', 'ubergizmo', 'ubetter', 'uctraveladvisor', 'ud', 'udub', 'uggh', 'ugh', 'uh', 'uhmmm', 'uhuhgroup', 'uk', 'ultimately', 'um', 'umm', 'ummmm', 'umosaicmecrazy', 'ump', 'umpteen', 'un', 'unable', 'unacceptable', 'unacceptablei', 'unaccomidating', 'unaccommodating', 'unaccompanied', 'unaccounted', 'unaccpetable', 'unamerican', 'unamericanairlines', 'unannounced', 'unanswered', 'unansweredquestions', 'unanticipated', 'unapologetic', 'unavailable', 'unavoidable', 'unaware', 'unbalance', 'unbelieavle', 'unbelievable', 'unbelievably', 'uncalled', 'uncaring', 'uncertainty', 'uncharacteristic', 'uncle', 'unclear', 'uncomfortable', 'uncompromising', 'unconscionable', 'uncontrollable', 'uncontrollably', 'uncool', 'uncourteous', 'uncvsduke', 'und', 'undefined', 'undelay', 'undelayed', 'undergo', 'undermine', 'underserved', 'understaffed', 'understaffing', 'understand', 'understandable', 'understandably', 'understatement', 'underway', 'underweight', 'undetermined', 'undies', 'undignified', 'undo', 'undrstnd', 'undue', 'uneducated', 'unempathetic', 'unemployment', 'uneventful', 'unexpactable', 'unexpected', 'unexplained', 'unfair', 'unfamiliar', 'unfold', 'unfollow', 'unfollowing', 'unforeseeable', 'unfortunate', 'unfortunately', 'unfriendly', 'unfriendlyskies', 'unhappy', 'unhappycustomer', 'unhappyspend', 'unhappytraveler', 'unheard', 'unhelpful', 'unhelpfulness', 'uniform', 'unimpressed', 'uninformed', 'unite', 'unitedagainstunited', 'unitedairline', 'unitedairlines', 'unitedairlinessuck', 'unitedairlinessucks', 'unitedairlinessux', 'unitedappeals', 'unitedbreaksguitars', 'unitedcom', 'unitedfail', 'unitedfails', 'unitedfirst', 'unitedflyerhd', 'unitedhatesusall', 'unitedk', 'unitedlies', 'unitedrebooked', 'unitedsucks', 'unitedsucksdick', 'unitedunimpressed', 'unitedvusa', 'unitedwithivy', 'unitedworstever', 'universally', 'universalorl', 'university', 'unknowledgeable', 'unknown', 'unless', 'unlike', 'unlikely', 'unload', 'unlucky', 'unman', 'unmet', 'unmissable', 'unmonitored', 'unmoving', 'unnecessarily', 'unnecessary', 'unnerve', 'unnoticed', 'unobaseball', 'unorganized', 'unplanned', 'unpleasant', 'unpleased', 'unprecedented', 'unpredictable', 'unprepared', 'unproductive', 'unprofessional', 'unprofessionalism', 'unprofessionally', 'unreachable', 'unreal', 'unrealistic', 'unreasonable', 'unrelate', 'unreliable', 'unresolved', 'unrivalled', 'unsafe', 'unsat', 'unscheduled', 'unsecured', 'unserved', 'unserviceable', 'unsettle', 'unsmiling', 'unsolicited', 'unspecified', 'unsuccessful', 'unsuitable', 'unsure', 'unsympathetic', 'unt', 'untd', 'untrained', 'untrue', 'untruthful', 'untz', 'unusable', 'unused', 'unusual', 'unveil', 'unwilling', 'unwind', 'unwise', 'up', 'upc', 'upcoming', 'update', 'updateyourwebsite', 'upfare', 'upgd', 'upgrade', 'upgrademe', 'upgrd', 'uphold', 'upinairclaire', 'uplink', 'upload', 'upon', 'uppp', 'upsellladen', 'upset', 'upstate', 'upwherewebelong', 'ur', 'urge', 'urgency', 'urgent', 'urgently', 'us', 'usa', 'usaa', 'usable', 'usage', 'usair', 'usaireays', 'usairheads', 'usairsucks', 'usairway', 'usairways', 'usairwayscenter', 'usairwayscom', 'usairwaysfail', 'usairwaysfailscustomers', 'usairwaysfflyer', 'usairwaysmobilecom', 'usairwaysssuck', 'usairwayssuck', 'usairwayssucks', 'usairwis', 'usaiways', 'usatoday', 'usatodaytravel', 'usaw', 'usb', 'uschamber', 'usd', 'usdelayways', 'use', 'useable', 'useful', 'useles', 'useless', 'useopen', 'user', 'username', 'userperceived', 'users', 'usexpresspsa', 'usingthisword', 'usnavy', 'usual', 'usually', 'usuck', 'usurious', 'ususdo', 'usvi', 'usxlon', 'utah', 'utdallas', 'ute', 'utevgw', 'utilize', 'utmost', 'utterly', 'uvf', 'uwo', 'ux', 'uxzj', 'va', 'vabeatsjblue', 'vaca', 'vacancies', 'vacate', 'vacatime', 'vacatinn', 'vacation', 'vacationfail', 'vacay', 'vague', 'vaileagle', 'vainglorygame', 'valentine', 'valentines', 'valentinesday', 'valet', 'valid', 'validity', 'vallarta', 'valley', 'valleys', 'valuable', 'valuables', 'value', 'van', 'vancouver', 'vanessaannz', 'vanish', 'vanity', 'vape', 'various', 'vary', 'vastly', 'vcp', 'vday', 'veer', 'veg', 'vegan', 'vegas', 'vegaschicago', 'vegecomgirl', 'vegetarian', 'vegetarianproblems', 'veggies', 'vein', 'velcro', 'velour', 'velourlive', 'vendor', 'venetia', 'venezuela', 'vent', 'ventilation', 'venture', 'verbal', 'verbally', 'verbiage', 'verification', 'verify', 'verizonwireless', 'vermont', 'versa', 'versace', 'version', 'versions', 'versus', 'veryimportantproject', 'veryloyalcustomer', 'vet', 'veterans', 'vetr', 'via', 'viable', 'vibe', 'vibrant', 'vice', 'vicky', 'victim', 'victoria', 'vida', 'video', 'videos', 'vieques', 'view', 'vile', 'village', 'villages', 'vincenzolandino', 'vincesviews', 'vindictivetk', 'vineyard', 'vino', 'vinyl', 'vinylvegas', 'violation', 'vip', 'vipliveinthevieyard', 'vipswagbags', 'viracopos', 'viraltech', 'virgin', 'virginamerica', 'virginamericacom', 'virginatlantic', 'virginia', 'virginmedia', 'virtual', 'virtually', 'virus', 'visa', 'visible', 'visibly', 'vision', 'visit', 'visors', 'visualclubconceptscom', 'vital', 'vitaminwater', 'vm', 'vmail', 'vmsg', 'vocab', 'vodkatonics', 'voice', 'voicemail', 'void', 'volkswagen', 'volleyball', 'volt', 'volume', 'volumes', 'voluntarily', 'volunteer', 'vomit', 'vote', 'voucher', 'vouchercompensation', 'voucherconfirmation', 'vouchermiles', 'vouchers', 'vouchersany', 'voucherwhatajoke', 'vow', 'vp', 'vrm', 'vs', 'vt', 'vueloes', 'vueloses', 'vulnerable', 'vusaaustralia', 'vx', 'vxsafetydance', 'wa', 'waa', 'waaaaaaiting', 'wack', 'wag', 'wager', 'wah', 'wail', 'wait', 'waitabout', 'waitin', 'waitingagain', 'waitingcan', 'waitingforbags', 'waitinginphilly', 'waitingonapilot', 'waitingsince', 'waitingso', 'waitlisted', 'waive', 'waiver', 'waivers', 'waivethefee', 'wake', 'wakinginmemphis', 'waldorf', 'walk', 'walkaround', 'walkway', 'wall', 'wallet', 'wallstreet', 'wallstslumlord', 'walmart', 'waltdisneyworld', 'walton', 'wamo', 'wander', 'wannaa', 'wannagohome', 'want', 'wantcharge', 'wantmymoneyback', 'ward', 'warehouse', 'warm', 'warmer', 'warmest', 'warmth', 'warmweather', 'warn', 'warrant', 'warriors', 'wasappreciated', 'washington', 'washingtondc', 'waspaid', 'waste', 'wastedeffort', 'wastedtime', 'wasteoftime', 'wat', 'watch', 'water', 'waterbury', 'wating', 'watson', 'wave', 'way', 'waybig', 'wayi', 'wayne', 'ways', 'wayway', 'wbroken', 'wbuses', 'wc', 'wcancelled', 'wclass', 'wcomm', 'wcompanies', 'wcomputer', 'wconnection', 'wcustomer', 'wcx', 'wd', 'wdeicingthree', 'wdelays', 'wdw', 'weak', 'weakservice', 'weaktea', 'weappreciateyou', 'wear', 'weary', 'weasel', 'weather', 'weatherbackup', 'weathercall', 'weatherflight', 'weatherless', 'weatherrelate', 'weave', 'web', 'webbernaturals', 'weblink', 'webpage', 'website', 'websites', 'wed', 'wednesday', 'wedontcarebecauseyoupaidalready', 'wee', 'week', 'weekday', 'weekend', 'weekly', 'weeklycommuteonaa', 'weeks', 'weepysweetmonty', 'weigh', 'weight', 'weird', 'welcome', 'welfare', 'well', 'wellbeing', 'welldone', 'wellen', 'welllllll', 'wellplayed', 'wellpriced', 'welp', 'wemosaictogether', 'wendell', 'wendi', 'wens', 'wentook', 'werenot', 'werenotincalianymore', 'wererunning', 'werin', 'wernicke', 'wervirgin', 'west', 'westagard', 'westchester', 'western', 'westjet', 'westpalmbeach', 'westpalmbeachbound', 'wet', 'wether', 'wewantcomps', 'wewanttoknow', 'wewillsee', 'weyburn', 'wfares', 'wflights', 'whack', 'whammie', 'whatacluster', 'whatajoke', 'whatcustomerservice', 'whatever', 'whatfrozenpipes', 'whatgives', 'whathappend', 'whatsoever', 'whatstatus', 'whatstheholdup', 'whch', 'wheel', 'wheelchair', 'wheelchairs', 'wheelsup', 'wheeze', 'whenever', 'whenitsnowsitpours', 'whereabouts', 'whereas', 'whereby', 'whereismybag', 'whereisthelove', 'wheresmybag', 'wheresmyrefund', 'wheresthecustomerserviceat', 'wheresthepilot', 'whether', 'whichever', 'whichisworsedenordfw', 'whilst', 'whine', 'whiny', 'whip', 'whiplash', 'whiskey', 'whisper', 'white', 'whitterbug', 'whoa', 'whoever', 'whole', 'wholly', 'whoooo', 'whoot', 'whose', 'whrsthecoach', 'wht', 'whyabcwhy', 'whyairtravelsucks', 'whyareyouyelling', 'whybeaaff', 'whydidntiflysouthwest', 'whyfly', 'whyisusairalwaysdelayed', 'whyjeff', 'whyyounoloveme', 'whyyy', 'wichita', 'wide', 'wiedersehen', 'wife', 'wifes', 'wifey', 'wifi', 'wifiless', 'wifimissed', 'wiggle', 'wigs', 'wiil', 'wikipearl', 'wilco', 'will', 'williams', 'willie', 'willl', 'willmake', 'willneverflywithyou', 'wilmington', 'wilson', 'win', 'winclement', 'wind', 'windchill', 'window', 'windows', 'windy', 'wine', 'wing', 'wink', 'winkwink', 'winner', 'winners', 'winnipeg', 'winston', 'winstonsalem', 'winter', 'winterops', 'winterstorm', 'winterweather', 'winwin', 'wipe', 'wire', 'wireless', 'wise', 'wiser', 'wish', 'wishmyflightwaslonger', 'wit', 'withhold', 'within', 'without', 'witness', 'witty', 'wiyh', 'wjere', 'wk', 'wkids', 'wknd', 'wkrb', 'wks', 'wlcm', 'wld', 'wlil', 'wmass', 'wmcactionnews', 'wmiles', 'wmnlife', 'wmom', 'wmy', 'wn', 'wno', 'wnonworking', 'wnothing', 'wo', 'woase', 'woaw', 'woeful', 'woman', 'women', 'wonder', 'wonderful', 'wonderfully', 'wong', 'wonked', 'wontflyagainwithyou', 'woo', 'woodland', 'woody', 'woof', 'woohoo', 'wopen', 'word', 'work', 'workaround', 'worker', 'workers', 'workforce', 'workforces', 'workhard', 'workin', 'workingfamily', 'workng', 'workout', 'worksnicely', 'world', 'worldhungry', 'worlds', 'worldwide', 'worm', 'worrisome', 'worry', 'worse', 'worst', 'worstairline', 'worstairlineever', 'worstairlineinamerica', 'worstcustomerservice', 'worstcustomerserviceever', 'worstcustservice', 'worstever', 'worstflight', 'worstflightever', 'worstflightexperienceever', 'worstservice', 'worstthingever', 'worsttraveldayever', 'worsttripofmylife', 'worstunitedflightsever', 'worth', 'worthless', 'worthy', 'wother', 'wothers', 'would', 'wouldbe', 'wouldt', 'wound', 'wour', 'wout', 'wow', 'wowjust', 'wowthx', 'wpg', 'wproj', 'wrap', 'wrath', 'wreck', 'wrench', 'wreservations', 'wreso', 'wrestle', 'wretched', 'write', 'writers', 'wrong', 'wronganswer', 'wrongfully', 'wrongiswrong', 'ws', 'wsj', 'wsjplus', 'wsmall', 'wsomeone', 'wsupervisor', 'wtf', 'wtfodds', 'wth', 'wthat', 'wthe', 'wthem', 'wthis', 'wtop', 'wtw', 'wudda', 'wupgrade', 'wut', 'wway', 'wx', 'wylie', 'wyoming', 'wyou', 'xd', 'xdaily', 'xday', 'xfinity', 'xjared', 'xld', 'xm', 'xmas', 'xna', 'xox', 'xoxo', 'xt', 'xtra', 'xw', 'xweekly', 'xx', 'xxvm', 'xxx', 'xzmscw', 'ya', 'yaayy', 'yaffasolin', 'yards', 'yasss', 'yasssss', 'yay', 'yayayay', 'yday', 'yea', 'yeah', 'year', 'yearly', 'yearold', 'yearround', 'years', 'yearslate', 'yeehaw', 'yeg', 'yell', 'yellow', 'yeniettelswood', 'yep', 'yepused', 'yer', 'yes', 'yeseniahernandez', 'yesnot', 'yessir', 'yest', 'yesterday', 'yesterdayrubber', 'yet', 'yhzewr', 'yield', 'yikes', 'yo', 'yoga', 'yogurt', 'york', 'yorkshire', 'youareonyourown', 'youcandobetter', 'youcouldntmakethis', 'youdidit', 'youi', 'youk', 'youknowyouwantto', 'young', 'younger', 'youragentshavenoclue', 'yourairlinesucks', 'youredoingitwrong', 'youretheworst', 'yourlocalnyer', 'yourock', 'yourphonesystemsucks', 'yourstoryhere', 'yous', 'yousuck', 'yout', 'youth', 'yow', 'yponthebeat', 'ypu', 'yr', 'yrold', 'yroldtwins', 'yrs', 'ystday', 'ystrdy', 'yuck', 'yucki', 'yulord', 'yuma', 'yummy', 'yup', 'yvonne', 'yvonneokaka', 'yvr', 'yxe', 'yxu', 'yyc', 'yyj', 'yyz', 'yyzua', 'zabsonre', 'zackscom', 'zakkohane', 'zambia', 'zccu', 'zero', 'zfv', 'zigzag', 'zip', 'zipper', 'zj', 'zkatcher', 'zombie', 'zone', 'zoom', 'zrh', 'zrhairport', 'zukes', 'zurich', 'zurichnew']\n"
     ]
    }
   ],
   "source": [
    " print(cv.get_feature_names())"
   ]
  },
  {
   "cell_type": "markdown",
   "metadata": {
    "id": "H8Zgn04JnJyv"
   },
   "source": [
    "### Observation: A review of the features names indicated the data preparation was successful."
   ]
  },
  {
   "cell_type": "code",
   "execution_count": null,
   "metadata": {
    "id": "rEJTKnwUSf_y"
   },
   "outputs": [],
   "source": [
    "X_features = X_features.toarray()                        # Convert the data features to array."
   ]
  },
  {
   "cell_type": "code",
   "execution_count": null,
   "metadata": {
    "colab": {
     "base_uri": "https://localhost:8080/"
    },
    "id": "VSkHPulhTKn6",
    "outputId": "72ef8bca-88ef-404b-a189-c2635ca05d49"
   },
   "outputs": [
    {
     "data": {
      "text/plain": [
       "numpy.ndarray"
      ]
     },
     "execution_count": 38,
     "metadata": {
      "tags": []
     },
     "output_type": "execute_result"
    }
   ],
   "source": [
    "type(X_features)"
   ]
  },
  {
   "cell_type": "markdown",
   "metadata": {
    "id": "Lxh0x_qBpCXA"
   },
   "source": [
    "### Observation: X_features is a sparse matrix, that is most of the values are 0."
   ]
  },
  {
   "cell_type": "code",
   "execution_count": null,
   "metadata": {
    "colab": {
     "base_uri": "https://localhost:8080/"
    },
    "id": "qyscHLHvTTM3",
    "outputId": "f41ea892-f235-4ddd-adda-11d29982d211"
   },
   "outputs": [
    {
     "data": {
      "text/plain": [
       "(14640, 12052)"
      ]
     },
     "execution_count": 39,
     "metadata": {
      "tags": []
     },
     "output_type": "execute_result"
    }
   ],
   "source": [
    "X_features.shape"
   ]
  },
  {
   "cell_type": "markdown",
   "metadata": {
    "id": "Arw_OF_soT63"
   },
   "source": [
    "### Observation: features contain 12,052 words.  No limit was placed on the number of features."
   ]
  },
  {
   "cell_type": "code",
   "execution_count": null,
   "metadata": {
    "colab": {
     "base_uri": "https://localhost:8080/"
    },
    "id": "XurqWEEDReGG",
    "outputId": "5199c409-22eb-4a58-dbc1-8f4262b1c084"
   },
   "outputs": [
    {
     "data": {
      "text/plain": [
       "array([[0, 0, 0, 0],\n",
       "       [0, 0, 0, 0],\n",
       "       [0, 0, 0, 0],\n",
       "       [0, 0, 0, 0]])"
      ]
     },
     "execution_count": 40,
     "metadata": {
      "tags": []
     },
     "output_type": "execute_result"
    }
   ],
   "source": [
    "X_features[1:5, 1:5]"
   ]
  },
  {
   "cell_type": "code",
   "execution_count": null,
   "metadata": {
    "colab": {
     "base_uri": "https://localhost:8080/"
    },
    "id": "1pCfRT84UNWB",
    "outputId": "cdedd3bb-cc11-4010-a6b1-4159a7cbab09"
   },
   "outputs": [
    {
     "name": "stdout",
     "output_type": "stream",
     "text": [
      "[1 2 1 ... 1 0 1]\n",
      "(14640,)\n",
      "int64\n"
     ]
    }
   ],
   "source": [
    "# Convert airline_sentiment to integer encoded labels\n",
    "from numpy import array\n",
    "from sklearn.preprocessing import LabelEncoder\n",
    "from sklearn.preprocessing import OneHotEncoder\n",
    "values = array(X.airline_sentiment)\n",
    "label_encoder = LabelEncoder()\n",
    "integer_encoded_labels = label_encoder.fit_transform(values)\n",
    "print(integer_encoded_labels)\n",
    "print(integer_encoded_labels.shape)\n",
    "print(integer_encoded_labels.dtype)"
   ]
  },
  {
   "cell_type": "code",
   "execution_count": null,
   "metadata": {
    "colab": {
     "base_uri": "https://localhost:8080/"
    },
    "id": "KzvZVe3s0Bkx",
    "outputId": "68d178f9-0499-4a4a-809e-a19dac95e5b0"
   },
   "outputs": [
    {
     "name": "stdout",
     "output_type": "stream",
     "text": [
      "(14640, 3)\n",
      "[[0 1 0]\n",
      " [0 0 1]\n",
      " [0 1 0]\n",
      " ...\n",
      " [0 1 0]\n",
      " [1 0 0]\n",
      " [0 1 0]]\n"
     ]
    }
   ],
   "source": [
    "# Convert airline_sentiment to onehot encoded labels\n",
    "onehot_encoder = OneHotEncoder(sparse=False)\n",
    "integer_encoded_labels = integer_encoded_labels.reshape(len(integer_encoded_labels), 1)\n",
    "onehot_encoded = onehot_encoder.fit_transform(integer_encoded_labels)\n",
    "labels = onehot_encoded\n",
    "labels = labels.astype('int')\n",
    "print(labels.shape)\n",
    "print(labels)\n"
   ]
  },
  {
   "cell_type": "markdown",
   "metadata": {
    "id": "aIQLgYiZJzus"
   },
   "source": [
    "### 5a. Fit and evaluate model using both type of vectorization."
   ]
  },
  {
   "cell_type": "code",
   "execution_count": null,
   "metadata": {
    "id": "1Q-WCQ26XXxp"
   },
   "outputs": [],
   "source": [
    "import time\n",
    "algo= []\n",
    "tr = []\n",
    "te = []\n",
    "recall = []\n",
    "precision = []\n",
    "elapsed = []\n",
    "target_names = {'negative' : 1, 'neutral' : 2, 'positive' : 3}"
   ]
  },
  {
   "cell_type": "markdown",
   "metadata": {
    "id": "V8P2hFDnh-hN"
   },
   "source": [
    "### Using Logistic Regression to build model for the classification of reviews."
   ]
  },
  {
   "cell_type": "code",
   "execution_count": null,
   "metadata": {
    "colab": {
     "base_uri": "https://localhost:8080/"
    },
    "id": "AkQ9Eqcql7WI",
    "outputId": "7fecfb8e-883f-4c78-a55e-65965ae0858a"
   },
   "outputs": [
    {
     "name": "stdout",
     "output_type": "stream",
     "text": [
      "Train Score:  0.9354020296643247\n",
      "Test Score:  0.787568306010929\n",
      "Elapsed Time: 299.762082561\n"
     ]
    }
   ],
   "source": [
    "t = time.process_time()\n",
    "from sklearn.linear_model import LogisticRegression\n",
    "from sklearn.metrics import recall_score, precision_score, accuracy_score\n",
    "X_train, X_test, y_train, y_test = train_test_split(X_features, integer_encoded_labels, test_size=0.3, random_state=7)\n",
    "\n",
    "lrc = LogisticRegression(random_state=7, max_iter=1000, solver='saga', n_jobs=4, multi_class='auto')\n",
    "lrc.fit(X_train, np.ravel(y_train,order='C'))\n",
    "\n",
    "print('Train Score: ', lrc.score(X_train, y_train))\n",
    "print('Test Score: ', lrc.score(X_test, y_test)) \n",
    "elapsed_time = time.process_time() - t\n",
    "print('Elapsed Time:', elapsed_time)"
   ]
  },
  {
   "cell_type": "code",
   "execution_count": null,
   "metadata": {
    "id": "hqztSdNw7pFK"
   },
   "outputs": [],
   "source": [
    "result_lrc = lrc.predict(X_test)\n",
    "algo = ['Logistic Regression']\n",
    "elapsed = [elapsed_time]\n",
    "tr = [lrc.score(X_train, y_train)]\n",
    "te = [lrc.score(X_test, y_test)]\n",
    "recall = [recall_score(y_test, result_lrc, average='micro')]\n",
    "precision = [precision_score(y_test, result_lrc, average='micro')]"
   ]
  },
  {
   "cell_type": "code",
   "execution_count": null,
   "metadata": {
    "colab": {
     "base_uri": "https://localhost:8080/",
     "height": 631
    },
    "id": "FGj3QTCPEHDL",
    "outputId": "6ae10120-1ef8-4c2b-ef56-4a7eb5e0143e"
   },
   "outputs": [
    {
     "name": "stdout",
     "output_type": "stream",
     "text": [
      "              precision    recall  f1-score      support\n",
      "negative       0.855227  0.893319  0.873858  2784.000000\n",
      "neutral        0.611303  0.569892  0.589872   930.000000\n",
      "positive       0.716370  0.651917  0.682625   678.000000\n",
      "accuracy       0.787568  0.787568  0.787568     0.787568\n",
      "macro avg      0.727633  0.705043  0.715452  4392.000000\n",
      "weighted avg   0.782141  0.787568  0.784204  4392.000000\n",
      "[[2487  218   79]\n",
      " [ 304  530   96]\n",
      " [ 117  119  442]]\n"
     ]
    },
    {
     "data": {
      "text/plain": [
       "<matplotlib.axes._subplots.AxesSubplot at 0x7f952719ee48>"
      ]
     },
     "execution_count": 46,
     "metadata": {
      "tags": []
     },
     "output_type": "execute_result"
    },
    {
     "data": {
      "image/png": "[encoded data removed]",
      "text/plain": [
       "<Figure size 720x504 with 2 Axes>"
      ]
     },
     "metadata": {
      "needs_background": "light",
      "tags": []
     },
     "output_type": "display_data"
    }
   ],
   "source": [
    "# Confusion Matrix, Classification report, \n",
    "from sklearn.metrics import classification_report\n",
    "results_log = classification_report(y_test, result_lrc, target_names=target_names, output_dict=True)\n",
    "results_df_log = pd.DataFrame(results_log).transpose()\n",
    "print(results_df_log)\n",
    "\n",
    "conf_mat = confusion_matrix(y_test, result_lrc)\n",
    "print(conf_mat)\n",
    "\n",
    "df_cm = pd.DataFrame(conf_mat, index = [i for i in target_names],\n",
    "                  columns = [i for i in target_names])\n",
    "plt.figure(figsize = (10,7))\n",
    "sns.heatmap(df_cm, annot=True, fmt='g')"
   ]
  },
  {
   "cell_type": "markdown",
   "metadata": {
    "id": "IPjyQfM_Qp9n"
   },
   "source": [
    "### Using Random Forest to build model for the classification of reviews."
   ]
  },
  {
   "cell_type": "code",
   "execution_count": null,
   "metadata": {
    "colab": {
     "base_uri": "https://localhost:8080/"
    },
    "id": "nrV1sR6-LDo1",
    "outputId": "b65b45a5-424b-4170-8f9a-c613070e9148"
   },
   "outputs": [
    {
     "name": "stdout",
     "output_type": "stream",
     "text": [
      "Train Score:  0.9966822794691648\n",
      "Test Score:  0.7780054644808743\n",
      "Elapsed Time: 118.23265923899999\n"
     ]
    }
   ],
   "source": [
    "t = time.process_time()\n",
    "from sklearn.ensemble import RandomForestClassifier\n",
    "from sklearn.metrics import recall_score, precision_score, roc_auc_score, accuracy_score\n",
    "X_train, X_test, y_train, y_test = train_test_split(X_features, integer_encoded_labels, test_size=0.3, random_state=7)\n",
    "\n",
    "forest = RandomForestClassifier(n_estimators=100, n_jobs=4)\n",
    "forest = forest.fit(X_train, np.ravel(y_train,order='C'))\n",
    "\n",
    "print('Train Score: ', forest.score(X_train, y_train))\n",
    "print('Test Score: ', forest.score(X_test, y_test)) \n",
    "elapsed_time = time.process_time() - t\n",
    "print('Elapsed Time:', elapsed_time)"
   ]
  },
  {
   "cell_type": "code",
   "execution_count": null,
   "metadata": {
    "id": "TwLk58A3CLhe"
   },
   "outputs": [],
   "source": [
    "result_forest = forest.predict(X_test)\n",
    "algo.append('RandomForest')\n",
    "elapsed.append(elapsed_time)\n",
    "tr.append(forest.score(X_train, y_train))\n",
    "te.append(forest.score(X_test, y_test))\n",
    "recall.append(recall_score(y_test, result_forest, average='micro'))\n",
    "precision.append(precision_score(y_test, result_forest, average='micro'))"
   ]
  },
  {
   "cell_type": "code",
   "execution_count": null,
   "metadata": {
    "colab": {
     "base_uri": "https://localhost:8080/"
    },
    "id": "m-c0AxgeLbq7",
    "outputId": "faf3fb43-d927-432d-c191-72258d288466"
   },
   "outputs": [
    {
     "name": "stdout",
     "output_type": "stream",
     "text": [
      "              precision    recall  f1-score      support\n",
      "negative       0.823833  0.918822  0.868738  2784.000000\n",
      "neutral        0.630728  0.503226  0.559809   930.000000\n",
      "positive       0.717431  0.576696  0.639411   678.000000\n",
      "accuracy       0.778005  0.778005  0.778005     0.778005\n",
      "macro avg      0.723997  0.666248  0.689319  4392.000000\n",
      "weighted avg   0.766518  0.778005  0.767921  4392.000000\n"
     ]
    }
   ],
   "source": [
    "# Print and plot Confusion matirx to get an idea of how the distribution of the prediction is, among all the classes.\n",
    "results_log = classification_report(y_test, result_forest, target_names=target_names, output_dict=True)\n",
    "results_df_log = pd.DataFrame(results_log).transpose()\n",
    "print(results_df_log)"
   ]
  },
  {
   "cell_type": "code",
   "execution_count": null,
   "metadata": {
    "colab": {
     "base_uri": "https://localhost:8080/"
    },
    "id": "2TUhXu3cWGzs",
    "outputId": "1684bee3-5da4-4abc-9085-90710a4bffdf"
   },
   "outputs": [
    {
     "name": "stdout",
     "output_type": "stream",
     "text": [
      "[[2558  160   66]\n",
      " [ 374  468   88]\n",
      " [ 173  114  391]]\n"
     ]
    }
   ],
   "source": [
    "# Confusion Matrix\n",
    "conf_mat_forest = confusion_matrix(y_test, result_forest)\n",
    "print(conf_mat_forest)"
   ]
  },
  {
   "cell_type": "code",
   "execution_count": null,
   "metadata": {
    "colab": {
     "base_uri": "https://localhost:8080/",
     "height": 446
    },
    "id": "6M00gwAh9qmX",
    "outputId": "e29f43e5-111e-4855-d350-207f5360d311"
   },
   "outputs": [
    {
     "data": {
      "text/plain": [
       "<matplotlib.axes._subplots.AxesSubplot at 0x7f9526e859b0>"
      ]
     },
     "execution_count": 51,
     "metadata": {
      "tags": []
     },
     "output_type": "execute_result"
    },
    {
     "data": {
      "image/png": "[encoded data removed]",
      "text/plain": [
       "<Figure size 720x504 with 2 Axes>"
      ]
     },
     "metadata": {
      "needs_background": "light",
      "tags": []
     },
     "output_type": "display_data"
    }
   ],
   "source": [
    "df_cm = pd.DataFrame(conf_mat_forest, index = [i for i in target_names],\n",
    "                  columns = [i for i in target_names])\n",
    "plt.figure(figsize = (10,7)) \n",
    "sns.heatmap(df_cm, annot=True, fmt='g')"
   ]
  },
  {
   "cell_type": "markdown",
   "metadata": {
    "id": "yZ1_bj07Q6PR"
   },
   "source": [
    "### Using AdaBoost to build model for the classification of reviews."
   ]
  },
  {
   "cell_type": "code",
   "execution_count": null,
   "metadata": {
    "colab": {
     "base_uri": "https://localhost:8080/"
    },
    "id": "iPbqDwO_T-QP",
    "outputId": "f0a7d84f-ea55-45b4-950e-e86d29cad015"
   },
   "outputs": [
    {
     "name": "stdout",
     "output_type": "stream",
     "text": [
      "Train Score:  0.8187939110070258\n",
      "Test Score:  0.7511384335154827\n",
      "Elapsed Time: 1598.508077256\n"
     ]
    }
   ],
   "source": [
    "t = time.process_time()\n",
    "from sklearn.ensemble import AdaBoostClassifier\n",
    "from sklearn.tree import DecisionTreeClassifier\n",
    "X_train, X_test, y_train, y_test = train_test_split(X_features, integer_encoded_labels, test_size=0.3, random_state=7)\n",
    "\n",
    "abc = AdaBoostClassifier(DecisionTreeClassifier(max_depth=3), random_state=7, n_estimators= 250, learning_rate=0.1)\n",
    "abc.fit(X_train, np.ravel(y_train,order='C'))\n",
    "\n",
    "print('Train Score: ', abc.score(X_train, y_train))\n",
    "print('Test Score: ', abc.score(X_test, y_test))\n",
    "elapsed_time = time.process_time() - t\n",
    "print('Elapsed Time:', elapsed_time)"
   ]
  },
  {
   "cell_type": "code",
   "execution_count": null,
   "metadata": {
    "id": "M6NUCO0mHyYQ"
   },
   "outputs": [],
   "source": [
    "result_abc = abc.predict(X_test)\n",
    "algo.append('AdaBoost')\n",
    "elapsed.append(elapsed_time)\n",
    "tr.append(abc.score(X_train, y_train))\n",
    "te.append(abc.score(X_test, y_test))\n",
    "recall.append(recall_score(y_test,result_abc, average='micro'))\n",
    "precision.append(precision_score(y_test, result_abc, average='micro'))"
   ]
  },
  {
   "cell_type": "code",
   "execution_count": null,
   "metadata": {
    "colab": {
     "base_uri": "https://localhost:8080/",
     "height": 632
    },
    "id": "39lmWojnXMI0",
    "outputId": "3205bb1a-76bd-423e-8702-effade7c026f"
   },
   "outputs": [
    {
     "name": "stdout",
     "output_type": "stream",
     "text": [
      "              precision    recall  f1-score      support\n",
      "negative       0.800507  0.906609  0.850261  2784.000000\n",
      "neutral        0.560584  0.412903  0.475542   930.000000\n",
      "positive       0.705776  0.576696  0.634740   678.000000\n",
      "accuracy       0.751138  0.751138  0.751138     0.751138\n",
      "macro avg      0.688956  0.632070  0.653514  4392.000000\n",
      "weighted avg   0.735080  0.751138  0.737644  4392.000000\n",
      "[[2524  181   79]\n",
      " [ 462  384   84]\n",
      " [ 167  120  391]]\n"
     ]
    },
    {
     "data": {
      "text/plain": [
       "<matplotlib.axes._subplots.AxesSubplot at 0x7f9526e85be0>"
      ]
     },
     "execution_count": 54,
     "metadata": {
      "tags": []
     },
     "output_type": "execute_result"
    },
    {
     "data": {
      "image/png": "[encoded data removed]",
      "text/plain": [
       "<Figure size 720x504 with 2 Axes>"
      ]
     },
     "metadata": {
      "needs_background": "light",
      "tags": []
     },
     "output_type": "display_data"
    }
   ],
   "source": [
    "# Confusion Matrix, Classification report, \n",
    "results_log = classification_report(y_test, result_abc, target_names=target_names, output_dict=True)\n",
    "results_df_log = pd.DataFrame(results_log).transpose()\n",
    "print(results_df_log)\n",
    "\n",
    "conf_mat_abc = confusion_matrix(y_test, result_abc)\n",
    "print(conf_mat_abc)\n",
    "\n",
    "df_cm = pd.DataFrame(conf_mat_abc, index = [i for i in target_names],\n",
    "                  columns = [i for i in target_names])\n",
    "plt.figure(figsize = (10,7))\n",
    "sns.heatmap(df_cm, annot=True, fmt='g')"
   ]
  },
  {
   "cell_type": "markdown",
   "metadata": {
    "id": "CpJkiJFaXWki"
   },
   "source": [
    "### Gradient Boosting Classifier"
   ]
  },
  {
   "cell_type": "code",
   "execution_count": null,
   "metadata": {
    "colab": {
     "base_uri": "https://localhost:8080/"
    },
    "id": "W6Ta1wXQUUwq",
    "outputId": "41b50400-e6c3-48b8-98dc-769df40ca669"
   },
   "outputs": [
    {
     "name": "stdout",
     "output_type": "stream",
     "text": [
      "Train Score:  0.8476775956284153\n",
      "Test Score:  0.7691256830601093\n",
      "Elapsed Time: 5322.985971751999\n"
     ]
    }
   ],
   "source": [
    "t = time.process_time()\n",
    "from sklearn.ensemble import GradientBoostingClassifier\n",
    "X_train, X_test, y_train, y_test = train_test_split(X_features, integer_encoded_labels, test_size=0.3, random_state=7)\n",
    "\n",
    "gbc = GradientBoostingClassifier(random_state=7, n_estimators=250, max_depth=5, min_samples_leaf=3)\n",
    "gbc.fit(X_train, np.ravel(y_train,order='C'))\n",
    "\n",
    "print('Train Score: ', gbc.score(X_train, y_train))\n",
    "print('Test Score: ', gbc.score(X_test, y_test))\n",
    "elapsed_time = time.process_time() - t\n",
    "print('Elapsed Time:', elapsed_time)"
   ]
  },
  {
   "cell_type": "code",
   "execution_count": null,
   "metadata": {
    "id": "QUe8B28o9XMb"
   },
   "outputs": [],
   "source": [
    "result_gbc = gbc.predict(X_test)\n",
    "algo.append('Gradient Boosting')\n",
    "elapsed.append(elapsed_time)\n",
    "tr.append(gbc.score(X_train, y_train))\n",
    "te.append(gbc.score(X_test, y_test))\n",
    "recall.append(recall_score(y_test, result_gbc, average='micro'))\n",
    "precision.append(precision_score(y_test, result_gbc, average='micro'))"
   ]
  },
  {
   "cell_type": "code",
   "execution_count": null,
   "metadata": {
    "colab": {
     "base_uri": "https://localhost:8080/"
    },
    "id": "QLiNbJCb7vwB",
    "outputId": "fd36c94c-e05c-48c6-f7b7-140c9d8617f0"
   },
   "outputs": [
    {
     "name": "stdout",
     "output_type": "stream",
     "text": [
      "              precision    recall  f1-score      support\n",
      "negative       0.807161  0.923132  0.861260  2784.000000\n",
      "neutral        0.628800  0.422581  0.505466   930.000000\n",
      "positive       0.711835  0.612094  0.658208   678.000000\n",
      "accuracy       0.769126  0.769126  0.769126     0.769126\n",
      "macro avg      0.715932  0.652602  0.674978  4392.000000\n",
      "weighted avg   0.754678  0.769126  0.754576  4392.000000\n"
     ]
    }
   ],
   "source": [
    "# Confusion Matrix\n",
    "results_log = classification_report(y_test, result_gbc, target_names=target_names, output_dict=True)\n",
    "results_df_log = pd.DataFrame(results_log).transpose()\n",
    "print(results_df_log)"
   ]
  },
  {
   "cell_type": "code",
   "execution_count": null,
   "metadata": {
    "colab": {
     "base_uri": "https://localhost:8080/"
    },
    "id": "lKWw92EOWcfd",
    "outputId": "ee54af53-481e-44ce-f8c1-df955ec4e0b3"
   },
   "outputs": [
    {
     "name": "stdout",
     "output_type": "stream",
     "text": [
      "[[2570  130   84]\n",
      " [ 453  393   84]\n",
      " [ 161  102  415]]\n"
     ]
    }
   ],
   "source": [
    "conf_mat_gbc = confusion_matrix(y_test, result_gbc)\n",
    "print(conf_mat_gbc)"
   ]
  },
  {
   "cell_type": "code",
   "execution_count": null,
   "metadata": {
    "colab": {
     "base_uri": "https://localhost:8080/",
     "height": 446
    },
    "id": "_rmxqYamDavo",
    "outputId": "57b97f4e-f612-4be9-e16a-ddd88728b4de"
   },
   "outputs": [
    {
     "data": {
      "text/plain": [
       "<matplotlib.axes._subplots.AxesSubplot at 0x7f9527180438>"
      ]
     },
     "execution_count": 59,
     "metadata": {
      "tags": []
     },
     "output_type": "execute_result"
    },
    {
     "data": {
      "image/png": "[encoded data removed]",
      "text/plain": [
       "<Figure size 720x504 with 2 Axes>"
      ]
     },
     "metadata": {
      "needs_background": "light",
      "tags": []
     },
     "output_type": "display_data"
    }
   ],
   "source": [
    "df_cm = pd.DataFrame(conf_mat_gbc, index = [i for i in target_names],\n",
    "                  columns = [i for i in target_names])\n",
    "plt.figure(figsize = (10,7))\n",
    "sns.heatmap(df_cm, annot=True, fmt='g')"
   ]
  },
  {
   "cell_type": "code",
   "execution_count": null,
   "metadata": {
    "colab": {
     "base_uri": "https://localhost:8080/"
    },
    "id": "duj8hhVSHdAq",
    "outputId": "eb4f02ed-2773-4177-a5af-4dbc77583ea7"
   },
   "outputs": [
    {
     "name": "stdout",
     "output_type": "stream",
     "text": [
      "\n",
      " CountVectorizer Comparsion Classification Results \n",
      "\n",
      "                     TrainScore  TestScore    Recall  Precision  ElapsedTime\n",
      "Model                                                                       \n",
      "Logistic Regression    0.935402   0.787568  0.787568   0.787568   299.762083\n",
      "RandomForest           0.996682   0.778005  0.778005   0.778005   118.232659\n",
      "AdaBoost               0.818794   0.751138  0.751138   0.751138  1598.508077\n",
      "Gradient Boosting      0.847678   0.769126  0.769126   0.769126  5322.985972\n"
     ]
    }
   ],
   "source": [
    "# DataFrame to compare results.\n",
    "print('\\n CountVectorizer Comparsion Classification Results \\n')\n",
    "results_vec = pd.DataFrame()\n",
    "results_vec['Model'] = algo\n",
    "results_vec['TrainScore'] = tr\n",
    "results_vec['TestScore'] = te\n",
    "results_vec['Recall'] = recall\n",
    "results_vec['Precision'] = precision\n",
    "results_vec['ElapsedTime'] = elapsed\n",
    "results_vec = results_vec.set_index('Model')\n",
    "print(results_vec)"
   ]
  },
  {
   "cell_type": "markdown",
   "metadata": {
    "id": "9fnQ_5Hru3LG"
   },
   "source": [
    "### Observation: Best results were obtained with Logistic Regression with a test score of .788.  Logistic Regression also had the second lowest elapsed time of 299.  It appears that the Random Forest suffers from overfitting with a training score of .996682.  Minimum tuning was perperformed, therefore it is reasonable to expect that better performance is possible."
   ]
  },
  {
   "cell_type": "markdown",
   "metadata": {
    "id": "1lN_jmaK6-m7"
   },
   "source": [
    "### 4b. Use TfidfVectorizer."
   ]
  },
  {
   "cell_type": "code",
   "execution_count": null,
   "metadata": {
    "colab": {
     "base_uri": "https://localhost:8080/"
    },
    "id": "gN7xUXtSJ79o",
    "outputId": "9f2df8af-917d-4b73-e5d1-ab2fa3189f63"
   },
   "outputs": [
    {
     "name": "stdout",
     "output_type": "stream",
     "text": [
      "['aa', 'aaaand', 'aaadvantage', 'aaalwayslate', 'aaba', 'aacom', 'aacustomerservice', 'aadavantage', 'aadelay', 'aadfw', 'aadv', 'aadvantage', 'aafail', 'aal', 'aano', 'aaron', 'aarp', 'aaso', 'aateam', 'aaus', 'ab', 'aback', 'abandon', 'abandonment', 'abassinet', 'abbreve', 'abc', 'abcdef', 'abcletjetbluestreamfeed', 'abcnetwork', 'abcnews', 'abcnewsbayarea', 'abcwtvd', 'abduct', 'abi', 'abidfw', 'abigailedge', 'abilities', 'ability', 'able', 'aboard', 'aboout', 'abound', 'abq', 'abroad', 'absolute', 'absolutely', 'absorb', 'absorber', 'absoulutely', 'absurd', 'absurdity', 'absurdly', 'abt', 'abundance', 'abuse', 'abysmal', 'ac', 'acarl', 'acc', 'accelerate', 'accept', 'acceptable', 'acces', 'access', 'accessibility', 'accessible', 'accident', 'accidentally', 'accidents', 'accomidating', 'accommodate', 'accommodation', 'accommodations', 'accompaniments', 'accompany', 'accomplish', 'accord', 'accordingly', 'account', 'accountability', 'accountable', 'accrue', 'acct', 'acctits', 'accts', 'accumulation', 'accurate', 'accurately', 'accuratetraveltimes', 'accuse', 'achieve', 'ack', 'acknowledge', 'acknowledgement', 'acknowledgment', 'acnewsguy', 'acosta', 'acoustic', 'acpt', 'acquire', 'acquisition', 'across', 'act', 'actingoutmgmnt', 'action', 'activate', 'active', 'activealy', 'actively', 'activities', 'activitiesprevention', 'activity', 'actual', 'actually', 'actualy', 'acu', 'acw', 'acy', 'ad', 'ada', 'adam', 'adamkarren', 'adams', 'adapt', 'add', 'addair', 'addition', 'additional', 'additionally', 'additonal', 'addr', 'address', 'addressusername', 'addtl', 'adjacent', 'adjust', 'adjustment', 'adjustments', 'admin', 'admiral', 'admirals', 'admiralsclub', 'admit', 'adolfo', 'adopt', 'adore', 'adress', 'ads', 'adult', 'adv', 'advan', 'advance', 'advantage', 'adventure', 'advertise', 'advice', 'advis', 'advise', 'advisories', 'advisory', 'advisorynow', 'advsry', 'aegeanairlines', 'aerocivilcol', 'aerojobmarket', 'aeroport', 'aex', 'af', 'affairs', 'affect', 'affiliate', 'afford', 'affordable', 'afiliates', 'aflame', 'aforementioned', 'afraid', 'african', 'aft', 'afterall', 'afternoon', 'afterward', 'aftr', 'againflying', 'againget', 'agcommunity', 'age', 'agencies', 'agency', 'agent', 'agentbooked', 'agents', 'agentsno', 'agentthen', 'agentwhat', 'aggiemensgolf', 'aggravate', 'aggravation', 'aggressive', 'agian', 'agnt', 'ago', 'agostill', 'agree', 'agreement', 'agt', 'agts', 'ah', 'aha', 'ahah', 'ahead', 'ahem', 'ahhhh', 'ahhhhh', 'ahold', 'ahoy', 'aiecraft', 'aif', 'ail', 'aim', 'air', 'airat', 'airborne', 'airbus', 'airbusintheus', 'airbusseatfproblems', 'aircanada', 'aircargo', 'aircraft', 'aircraftrunways', 'aircrafts', 'aircrft', 'airfare', 'airfares', 'airfarewatchdog', 'airline', 'airlineadviser', 'airlinegave', 'airlinegeeks', 'airlineguys', 'airlinehave', 'airlinequality', 'airliner', 'airlines', 'airlinesecurity', 'airmiles', 'airnzusa', 'airplane', 'airplanemodewason', 'airplanes', 'airport', 'airportcardio', 'airportfra', 'airporthave', 'airportheld', 'airports', 'airportwide', 'airpt', 'airserv', 'airside', 'airsouthwest', 'airspace', 'airstairs', 'airtahitinui', 'airtran', 'airway', 'airways', 'ais', 'aisle', 'aisles', 'aka', 'akron', 'al', 'alabama', 'alamo', 'alan', 'alanbledsoe', 'alarm', 'alas', 'alaska', 'alaskaair', 'alavera', 'alb', 'albany', 'albanyairport', 'albeit', 'albertbreer', 'albums', 'albuquer', 'albuquerque', 'alcohol', 'alert', 'alex', 'alfamilyoffour', 'ali', 'alicia', 'alifestory', 'align', 'alison', 'alist', 'alistey', 'alistpreferred', 'alittle', 'alittlebetter', 'alive', 'allan', 'allegiantair', 'allegianttravel', 'allende', 'allergic', 'allergies', 'allergy', 'alleviate', 'allgood', 'alliance', 'allll', 'allow', 'allowabl', 'allowable', 'allowance', 'allready', 'allrepresentativesbusy', 'allright', 'allyoucanjetpass', 'almost', 'alone', 'along', 'alot', 'already', 'alreadycrowded', 'alreadygot', 'alreadyrebookedonce', 'alright', 'als', 'also', 'alsonodrinkcartcomingaround', 'alsoyayforsnacks', 'alstdi', 'alt', 'alternate', 'alternative', 'alternatively', 'alternatives', 'although', 'altitude', 'altonbrownlive', 'alway', 'always', 'alwaysdelayed', 'alwaysdelayedonunited', 'alwayshappensthere', 'alwayslate', 'alynewton', 'amagrino', 'amarillo', 'amateur', 'amateurish', 'amateurs', 'amaze', 'amazingflightcrew', 'amazingly', 'amazon', 'ambassador', 'ambivalence', 'amen', 'amend', 'amenities', 'amenity', 'america', 'american', 'americanair', 'americanairbr', 'americanaireveryone', 'americanairif', 'americanairlines', 'americanairlinesfail', 'americanairlnes', 'americanairstill', 'americanairsucks', 'americandairlinessucks', 'americanforlife', 'americanisbetter', 'americanone', 'americans', 'americant', 'americanview', 'amex', 'amexserve', 'ami', 'amid', 'amiga', 'amiltx', 'aminaur', 'amirite', 'amm', 'ammisery', 'amnt', 'among', 'amongst', 'amount', 'ams', 'amshould', 'amso', 'amsound', 'amsterdam', 'amt', 'amtoday', 'amtrak', 'amy', 'amybruni', 'amypoehler', 'ana', 'analyst', 'analystdoc', 'analysts', 'analytics', 'anamarketers', 'anaphylaxis', 'anarchy', 'anchorage', 'andchexmix', 'anderson', 'andor', 'andrew', 'andrewbiga', 'andrewfallis', 'andrews', 'andrewwasila', 'android', 'andthewinneris', 'andyellwood', 'angel', 'angeles', 'angelo', 'anger', 'angle', 'angriest', 'angry', 'angryairtravel', 'angryandsober', 'angrybird', 'angrycustomer', 'angrytraveler', 'angstiest', 'anhour', 'animal', 'animals', 'anku', 'ann', 'anna', 'annamarie', 'annebevi', 'annettenaif', 'anni', 'anniversary', 'annnndddd', 'annnnddddd', 'annnnnd', 'announce', 'announcement', 'announcements', 'announcer', 'annoy', 'annricord', 'annual', 'another', 'anotherdisappointment', 'anotherfail', 'ans', 'ansleyhutson', 'answer', 'answeringdo', 'answerphone', 'answerthephone', 'answerthis', 'ant', 'anthony', 'anticipate', 'anticipation', 'anticonsumer', 'antigua', 'antitrust', 'antkneee', 'antonio', 'anxiety', 'anxious', 'anybody', 'anyhelp', 'anymore', 'anyone', 'anyonemin', 'anyonethere', 'anythin', 'anything', 'anythingjust', 'anytime', 'anyway', 'anyways', 'anywhere', 'aok', 'ap', 'apart', 'apathetic', 'apathy', 'apeared', 'api', 'apnea', 'apollochplayers', 'apologies', 'apologise', 'apologize', 'apology', 'apostrophe', 'apostrophefail', 'app', 'appal', 'apparent', 'apparently', 'appeal', 'appear', 'appease', 'applaud', 'applause', 'apple', 'applepay', 'appleton', 'applicable', 'application', 'applications', 'apply', 'appoint', 'appointment', 'appointments', 'appreciate', 'appreciation', 'approach', 'appropriate', 'appropriately', 'appropriation', 'approproately', 'approval', 'approvals', 'approve', 'approx', 'approximate', 'approximately', 'apps', 'appt', 'apr', 'april', 'aprilmay', 'apron', 'apt', 'apx', 'aquadilla', 'ar', 'arab', 'arbitrarily', 'arbitrary', 'arc', 'archaic', 'ardent', 'area', 'areas', 'arehis', 'arena', 'ares', 'areyounew', 'argentina', 'argg', 'argh', 'argue', 'argument', 'arise', 'arizona', 'arkansas', 'arm', 'arminrosen', 'armrest', 'army', 'around', 'arpt', 'arrange', 'arrangement', 'arrangements', 'arrival', 'arrivals', 'arrive', 'arrogant', 'art', 'article', 'artisanal', 'artluggage', 'aruba', 'arubaairport', 'aruna', 'arvls', 'asarcoesar', 'ase', 'asem', 'asgmnt', 'ash', 'asha', 'ashamed', 'ashevilleair', 'ashley', 'ashleykatherton', 'asia', 'aside', 'ask', 'askamex', 'askpaypal', 'asleep', 'aspen', 'aspenbaggagefail', 'ass', 'assault', 'assed', 'asses', 'asset', 'assets', 'asshole', 'assholes', 'assign', 'assignment', 'assignments', 'assist', 'assistance', 'assistanceyou', 'assistant', 'associate', 'assuage', 'assult', 'assume', 'assurance', 'assurances', 'assure', 'astoria', 'astound', 'asus', 'atc', 'atct', 'atgate', 'ath', 'athlete', 'athletes', 'atl', 'atlanta', 'atlantic', 'atlaus', 'atleast', 'atlhou', 'atlord', 'atrocious', 'att', 'attach', 'attackingbabymomma', 'attain', 'attdt', 'attempt', 'attend', 'attendant', 'attendantcan', 'attendants', 'attendees', 'attendent', 'attendents', 'attention', 'attentive', 'attentiveness', 'attire', 'attitude', 'attitudeissues', 'attitudes', 'attitudycustomer', 'attndt', 'atwonline', 'atx', 'au', 'auciello', 'auckland', 'auction', 'audience', 'audio', 'audition', 'auditorium', 'auf', 'aug', 'august', 'auh', 'aumilo', 'aunties', 'aunts', 'aurorabiz', 'aus', 'auscun', 'aussie', 'austic', 'austin', 'austinairport', 'austinbergstrom', 'austindallas', 'australia', 'austrian', 'author', 'authoritative', 'authority', 'authorize', 'auto', 'autoapplied', 'automate', 'automatic', 'automatically', 'automobile', 'autorebooked', 'autoreflight', 'autoresponse', 'av', 'avail', 'availab', 'availability', 'available', 'availableyour', 'avalible', 'avalonhollywood', 'avatars', 'avb', 'avduffy', 'avenue', 'average', 'avert', 'avgeek', 'aviation', 'avios', 'avis', 'aviv', 'avoid', 'avoidable', 'avon', 'avp', 'aw', 'await', 'awake', 'award', 'aware', 'away', 'awaynow', 'awe', 'aweful', 'awesome', 'awesomeee', 'awesomeness', 'awful', 'awfulcustomerservice', 'awfully', 'awfulness', 'awheelchair', 'awhile', 'awkward', 'awol', 'awrd', 'aww', 'awww', 'awwweesssooomee', 'ay', 'aye', 'ayyy', 'az', 'azzf', 'ba', 'baby', 'babyfood', 'bach', 'bachelorpartymishap', 'back', 'backend', 'backended', 'backfas', 'backhome', 'backlog', 'backpack', 'backroads', 'backtodelta', 'backtowinter', 'backup', 'backwards', 'backyard', 'bad', 'badairline', 'badbadbad', 'badbusiness', 'badbussiness', 'badcustomerexperience', 'badcustomerservice', 'badcustomersrvice', 'bademployeeproblem', 'badge', 'badly', 'badmgmt', 'badpolicy', 'badservice', 'badwebsite', 'bae', 'baejet', 'bafore', 'baftz', 'bag', 'bagage', 'bagawim', 'bagcould', 'baggage', 'baggagedrama', 'baggagefail', 'baggagefind', 'baggageissues', 'baggagelost', 'baggages', 'bagsflyfree', 'bagsflyfreebutnotwithme', 'bagtag', 'bahamas', 'bail', 'bailey', 'bait', 'baitandswitch', 'bake', 'balance', 'baldordash', 'baldwin', 'ball', 'ballbag', 'ballin', 'balloon', 'ballsturn', 'balt', 'baltimore', 'ban', 'banana', 'band', 'bandie', 'bandwidth', 'bangkok', 'bank', 'bankrupt', 'bankruptcies', 'bankruptcy', 'bar', 'barbados', 'barbara', 'barclay', 'barclaycardus', 'barclays', 'barcodes', 'barely', 'barelyexpired', 'bark', 'barklays', 'barnum', 'barrel', 'barrettkarabis', 'barrier', 'barriers', 'barzegar', 'base', 'bash', 'basic', 'basically', 'basics', 'basket', 'basketball', 'bass', 'bastards', 'bat', 'bathroom', 'bathrooms', 'batman', 'batteries', 'battery', 'battierccipuppy', 'battle', 'bausa', 'bay', 'bbbmedia', 'bbbnesdksia', 'bc', 'bcn', 'bcs', 'bcuz', 'bcz', 'bd', 'bday', 'bdindallas', 'bdl', 'bdldca', 'bdng', 'bdsm', 'beach', 'beamske', 'bean', 'beanie', 'beantownmatty', 'bear', 'bearable', 'beareavement', 'beat', 'beatriz', 'beatsmusic', 'beatstheothers', 'beautiful', 'beautifull', 'beautifully', 'beauty', 'bebetter', 'bec', 'becky', 'become', 'becuase', 'becuz', 'bed', 'bedofroses', 'beefjerky', 'beenhours', 'beer', 'beers', 'befor', 'beforeafter', 'beg', 'begin', 'begrudgingly', 'behalf', 'behave', 'behavior', 'behind', 'beijing', 'bein', 'beingsuckontarmacsucks', 'beis', 'belabor', 'belfast', 'belfastairport', 'belief', 'believable', 'believe', 'belize', 'bellagio', 'belligerent', 'belong', 'beloved', 'belt', 'belti', 'ben', 'benadryl', 'bench', 'bene', 'beneficial', 'benefit', 'benjaminokeefe', 'bensonhenderson', 'beought', 'ber', 'bereavement', 'bergstrom', 'berlin', 'bernhardtjh', 'bershawnjackson', 'besides', 'best', 'bestairline', 'bestairlineever', 'bestcrew', 'bestdressed', 'bestemployees', 'bestflightever', 'bestfriend', 'bestfriends', 'bestinclass', 'bestinclasssocial', 'bestplanesever', 'besty', 'bet', 'beta', 'betch', 'bethonors', 'betsy', 'better', 'betterfrom', 'bettween', 'betty', 'beverage', 'beverages', 'bevies', 'beware', 'beyond', 'bf', 'bfans', 'bff', 'bffs', 'bg', 'bgkwm', 'bgm', 'bgr', 'bham', 'bhm', 'bhxofficial', 'bible', 'biceps', 'bicycle', 'bid', 'big', 'bigger', 'biggest', 'biggie', 'bike', 'bil', 'bila', 'bill', 'billions', 'billmelate', 'bin', 'bind', 'bingo', 'bio', 'bird', 'birder', 'birmingham', 'birth', 'birthdate', 'birthday', 'birthdays', 'biscuits', 'bish', 'bitch', 'bitchslapped', 'bitchy', 'bitcoin', 'bite', 'bitty', 'biz', 'bizarre', 'bizness', 'biztravel', 'bk', 'bked', 'bkk', 'black', 'blackberry', 'blackhistorymonth', 'blacklist', 'blacklivesmatter', 'blackmail', 'blade', 'blah', 'blame', 'blameshiftoverload', 'blanc', 'blank', 'blanket', 'blast', 'blatant', 'blatantly', 'blatimore', 'blazer', 'bleed', 'blegh', 'bleh', 'bless', 'blind', 'blindside', 'bliss', 'blizzard', 'blizzue', 'bloat', 'block', 'blog', 'blood', 'bloody', 'bloodymary', 'bloombergnews', 'bloombergradio', 'blow', 'blue', 'blueblackish', 'bluecarpet', 'blueheros', 'bluemanity', 'bluetiful', 'blumanity', 'blush', 'bmi', 'bna', 'bnardu', 'bnasnow', 'bng', 'board', 'boarddeplane', 'boardingpass', 'boat', 'boatstyle', 'bobbi', 'bobwesson', 'body', 'boeing', 'boeingairplanes', 'boggle', 'bogota', 'bogotahouston', 'bohnjai', 'bohol', 'boil', 'boise', 'bold', 'boldflavors', 'bom', 'bone', 'bonnie', 'bonsinthesky', 'bonus', 'bonuses', 'boo', 'boofin', 'book', 'bookable', 'booklet', 'bookofnegroes', 'bool', 'boom', 'booo', 'boooo', 'boost', 'booster', 'boot', 'booze', 'boozefood', 'bop', 'bora', 'border', 'borderline', 'bore', 'borrow', 'bos', 'bosbna', 'bosclt', 'bosdca', 'bosfll', 'boslas', 'bosmco', 'bosnia', 'boson', 'bosphl', 'boss', 'bossan', 'bossf', 'bossju', 'boston', 'bostonbbb', 'bostondenver', 'bostongarden', 'bostonlogan', 'bot', 'botch', 'bother', 'bots', 'bottle', 'bottom', 'bougth', 'bounce', 'bouncer', 'boundless', 'bourbon', 'bout', 'bowl', 'box', 'boy', 'boycott', 'boyfriend', 'boyfriends', 'boys', 'bozos', 'bpdfpp', 'bqn', 'bqonpa', 'bracket', 'bradley', 'bradleyairport', 'brag', 'brain', 'brancato', 'brand', 'brandi', 'brandloveaffair', 'brandmance', 'brandssayingbae', 'branson', 'brave', 'bravo', 'brazil', 'brd', 'breach', 'bread', 'break', 'breakdown', 'breaker', 'breakfast', 'breakup', 'breast', 'breastfeed', 'breath', 'breathe', 'breavement', 'breeze', 'breezy', 'brendan', 'brendanpshannon', 'brent', 'bretharold', 'brewcrewfan', 'brian', 'brianregancomic', 'briansumers', 'bride', 'bridesmaid', 'bridge', 'brief', 'bright', 'brighter', 'brilliant', 'bring', 'bringbackrealstaff', 'bringbacktheluvtordu', 'bringin', 'bringyourown', 'brink', 'brisk', 'britishairways', 'brittany', 'brittanyobx', 'briughy', 'brizzyberg', 'bro', 'broad', 'broadway', 'brochure', 'broinlaw', 'brokeni', 'brokenpromises', 'brokenstolen', 'brokenwheel', 'brood', 'brooklyn', 'bros', 'brotha', 'brothaaaaaa', 'brother', 'brothers', 'brownsville', 'browser', 'browsers', 'brrr', 'bruh', 'bruins', 'brush', 'brussels', 'brutal', 'bryantmelton', 'bs', 'bshave', 'bso', 'bsuxlu', 'bt', 'btr', 'bttr', 'btv', 'btw', 'btwn', 'bubbly', 'buck', 'bucket', 'bucketobolts', 'budapest', 'buddies', 'buddy', 'budget', 'budweiserduels', 'bueno', 'buenos', 'buf', 'bufclt', 'buffalo', 'buffaloairport', 'buffaloniagara', 'bug', 'buggy', 'build', 'buisness', 'bulb', 'bulkhead', 'bull', 'bullshit', 'bully', 'bum', 'bummer', 'bump', 'bumper', 'bumphigh', 'bunch', 'bundle', 'bundleup', 'bur', 'burbank', 'burden', 'bureau', 'burger', 'burgundy', 'burlington', 'burn', 'burningman', 'burrito', 'burroughs', 'burst', 'bus', 'busads', 'busfirst', 'bush', 'bushleague', 'bushug', 'busiest', 'business', 'businessfirst', 'businessmodel', 'businesstravel', 'businesstrip', 'bussey', 'bussines', 'bust', 'busy', 'butnot', 'butt', 'button', 'buttonthatcalled', 'buy', 'buybacks', 'buyer', 'buytransfer', 'buzz', 'buzzkill', 'bw', 'bwahahaha', 'bwi', 'bwiairport', 'bwibos', 'bwiboston', 'bwiewrmco', 'bwilax', 'bwisjd', 'bwood', 'bye', 'byebyejetblue', 'byebyeusairline', 'byod', 'bypass', 'bz', 'bze', 'ca', 'cab', 'cabaret', 'cabcelled', 'cabin', 'cabine', 'cabinfever', 'cable', 'cableinternet', 'cabo', 'cac', 'cache', 'cae', 'caexhibitions', 'cafe', 'caffeine', 'cak', 'cakairport', 'cake', 'cakendeath', 'cal', 'calamity', 'calderon', 'calendar', 'calgary', 'cali', 'calibrate', 'california', 'call', 'callback', 'callbacks', 'callcentre', 'calledplease', 'callemail', 'caller', 'callers', 'callif', 'callmestanley', 'calm', 'calve', 'camera', 'cameragear', 'cameras', 'cameronroe', 'camp', 'campaign', 'campilley', 'campus', 'can', 'cana', 'canada', 'canadaair', 'canadian', 'canadians', 'cancel', 'cancer', 'cancld', 'cancun', 'candace', 'candice', 'candy', 'canister', 'canld', 'cannedtweet', 'cantblametheweather', 'canthurtasking', 'cantlogoutofunitedwifi', 'canx', 'cap', 'capaaviation', 'capabilities', 'capability', 'capable', 'capacity', 'capeair', 'capital', 'capitalize', 'capn', 'capt', 'captain', 'captive', 'captiveaudience', 'capture', 'car', 'caravannyc', 'card', 'cardholder', 'care', 'career', 'careless', 'caren', 'carerespond', 'careyon', 'cargo', 'caribbean', 'caribbejan', 'carlton', 'carlw', 'carmen', 'carol', 'carolina', 'carolinas', 'caroline', 'carousel', 'carpet', 'carrie', 'carrier', 'carriers', 'carrieunderwood', 'carry', 'carryon', 'carryonbagssloweverybodydown', 'carryons', 'cars', 'carseat', 'carsl', 'cart', 'carta', 'cartagena', 'cartago', 'case', 'casenothing', 'cash', 'casimir', 'casleah', 'casual', 'cat', 'catch', 'category', 'cater', 'caterobbie', 'catfoodbeerglue', 'cathay', 'cathaypacific', 'cathaypacificus', 'cathy', 'catsanddogslivingtogether', 'cattle', 'cattleslaughter', 'caucasity', 'cause', 'caution', 'cavalli', 'cavan', 'cave', 'cavs', 'caymanislands', 'cb', 'cbarrows', 'cbcallinaday', 'cbcnews', 'cbsbaltimore', 'cbsnews', 'cbsphilly', 'cbssoxfan', 'cc', 'ccicanine', 'ccndjp', 'cdg', 'cdglas', 'cdn', 'cdt', 'cease', 'cebu', 'cek', 'celebrate', 'celebration', 'celebs', 'cell', 'cellphone', 'cement', 'center', 'centerl', 'centerworst', 'central', 'centre', 'centric', 'centricity', 'cents', 'century', 'centuryca', 'ceo', 'cert', 'certain', 'certainly', 'certificate', 'certs', 'cessna', 'cesspool', 'cflanagian', 'cgjase', 'cgqueen', 'cgroup', 'cha', 'chaching', 'chain', 'chair', 'chairman', 'chairmanlove', 'chalk', 'challemann', 'challenge', 'champagne', 'championship', 'chance', 'change', 'changemassive', 'changer', 'changesdeval', 'channel', 'chantilly', 'chaos', 'chaotic', 'chaperone', 'chapman', 'chapter', 'char', 'charac', 'character', 'characterize', 'charge', 'charger', 'chargers', 'chariot', 'charity', 'charles', 'charleston', 'charlestonvery', 'charlote', 'charlotte', 'charm', 'chart', 'charter', 'charttopping', 'chase', 'chasefoster', 'chat', 'chathes', 'cheap', 'cheaper', 'cheapest', 'cheapflights', 'cheapoair', 'cheapoairchat', 'cheapslogannotmotto', 'cheat', 'cheatcustomers', 'check', 'checker', 'checkin', 'checkinbag', 'checkinout', 'checkins', 'checkout', 'checkouterror', 'checkpoint', 'cheer', 'cheertymedad', 'cheerupdates', 'cheese', 'cheesy', 'cheeze', 'chef', 'chemistry', 'cheque', 'cherry', 'chewey', 'chg', 'chgd', 'chge', 'chging', 'chi', 'chiberia', 'chibuf', 'chicago', 'chicagolaxphx', 'chicagomidway', 'chicagosmayor', 'chicagothanks', 'chicagotribune', 'chicken', 'chickenidiot', 'chief', 'child', 'childish', 'children', 'childrens', 'childridiculous', 'chill', 'chillpill', 'chilly', 'chillycvz', 'chimid', 'china', 'chinese', 'chip', 'chipper', 'chitocle', 'chk', 'chkd', 'chkin', 'chking', 'chkout', 'chl', 'chmom', 'chng', 'chnge', 'cho', 'chock', 'choclt', 'chocolate', 'choice', 'choices', 'choose', 'choosechicago', 'choosekind', 'choppiest', 'choppy', 'chrishasmadeusblush', 'christine', 'christinebpc', 'christmas', 'chrome', 'chromefirefox', 'chronicleherald', 'chronological', 'chrysichrysic', 'chs', 'chuckhole', 'churchmouse', 'churn', 'ciddfw', 'cigarettes', 'cinci', 'cincinnati', 'cincy', 'cincyjust', 'cinedrones', 'cinnabon', 'cinnabons', 'cinziannap', 'circle', 'circuit', 'circulation', 'circumstances', 'ciscojimfrench', 'cisnerosmedia', 'cistudios', 'cite', 'citi', 'cities', 'citizen', 'city', 'cityandsand', 'civilize', 'cjdjpdx', 'ckin', 'cking', 'claim', 'clarence', 'clarification', 'clarify', 'clarion', 'clarita', 'clarkey', 'clarkhoward', 'class', 'classic', 'classics', 'classiq', 'classwrite', 'classy', 'claudia', 'claudoakeshott', 'cld', 'cldnt', 'cle', 'clean', 'cleanliness', 'clear', 'clearance', 'clearly', 'clearvision', 'clesfo', 'cleveland', 'clever', 'clewould', 'click', 'client', 'clientnothappy', 'clients', 'clifton', 'clincher', 'cling', 'clinicpolly', 'cll', 'clockwork', 'clog', 'close', 'closepwcs', 'closer', 'closest', 'closet', 'closetoverhead', 'closure', 'clothe', 'clothessuit', 'cloud', 'clown', 'cls', 'clt', 'cltdouglas', 'cltnyc', 'club', 'clue', 'cluecould', 'clueless', 'clunky', 'cluster', 'clusterfucks', 'clutch', 'cmfatfeet', 'cmh', 'cmhiad', 'cmhoak', 'cmhord', 'cmon', 'cnbc', 'cncdld', 'cnceld', 'cncld', 'cncled', 'cnext', 'cng', 'cnn', 'cnnbrk', 'cnnmoney', 'cnx', 'cnxn', 'cnxns', 'co', 'coach', 'coachgs', 'coast', 'coastcoast', 'coat', 'coathanging', 'cobedien', 'cockpit', 'cockroaches', 'cocktail', 'cocktails', 'cockup', 'cod', 'code', 'codeshare', 'codycleverly', 'coffee', 'coffeemaker', 'coffeeneeded', 'coffin', 'coin', 'coincidence', 'coke', 'cold', 'colder', 'coldly', 'coles', 'colleague', 'colleagues', 'collect', 'collection', 'collectively', 'college', 'collide', 'colo', 'colombia', 'colombian', 'colonist', 'color', 'colossal', 'colour', 'coltsmissingbags', 'columbia', 'columbian', 'columbus', 'coma', 'combat', 'combative', 'combination', 'combine', 'combo', 'comcast', 'comclassic', 'come', 'comedian', 'comedic', 'comedy', 'comenity', 'comeon', 'comeonpeople', 'comethis', 'cometoaustin', 'comfort', 'comfortable', 'comfortably', 'comically', 'comin', 'comm', 'command', 'commence', 'commend', 'comment', 'commercial', 'commercials', 'commission', 'commit', 'commitment', 'commitments', 'common', 'comms', 'communicate', 'communication', 'communicationcompetition', 'communicationdetails', 'communicationfail', 'communicationiskey', 'communications', 'communist', 'community', 'commutation', 'commute', 'comp', 'compact', 'companion', 'companionpass', 'companionpasses', 'company', 'comparable', 'compare', 'comparison', 'compartments', 'compassion', 'compassionate', 'compatible', 'comped', 'compensate', 'compensation', 'compete', 'competent', 'competition', 'competitively', 'competitor', 'competitors', 'comping', 'complain', 'complainer', 'complainers', 'complaint', 'complaintquestions', 'complaints', 'complete', 'completely', 'complex', 'compliant', 'complicate', 'compliment', 'complimentary', 'complimentarybeveragesneeded', 'complt', 'compmech', 'compound', 'comps', 'compton', 'computer', 'computers', 'con', 'concentrate', 'concept', 'concern', 'concert', 'concierge', 'concourse', 'concrete', 'cond', 'condescend', 'condescension', 'condition', 'condo', 'condolences', 'condomrito', 'conection', 'conf', 'conference', 'conferencewe', 'confidence', 'confident', 'config', 'confirm', 'confirmation', 'confirmations', 'conflict', 'confrontational', 'confuse', 'confusion', 'congest', 'congrats', 'congratulation', 'congratulations', 'conjunction', 'conn', 'connect', 'connectfor', 'connecticut', 'connectin', 'connection', 'connections', 'connectns', 'connector', 'connectors', 'connetion', 'connex', 'connolly', 'consecutive', 'consequence', 'consider', 'considerable', 'considerably', 'considerate', 'consideration', 'consistency', 'consistent', 'consistently', 'consolation', 'console', 'constant', 'constantly', 'constitution', 'construction', 'constructive', 'consult', 'consultant', 'consumer', 'consumermarketing', 'consumers', 'consumption', 'cont', 'contaced', 'contact', 'contactcej', 'contactless', 'contagious', 'contain', 'container', 'contd', 'contempt', 'contend', 'content', 'contentmarketing', 'contest', 'context', 'continental', 'continentalair', 'continentalairlines', 'continentalunited', 'contingencies', 'contingency', 'continually', 'continue', 'continuesstill', 'continuous', 'contract', 'contractors', 'contradictory', 'contributiontopool', 'control', 'controllable', 'controllableirregularity', 'controller', 'controllers', 'controlthe', 'conv', 'convenience', 'convenient', 'conveniently', 'conversation', 'conversational', 'conversations', 'converse', 'conversion', 'convey', 'conveyer', 'conveyor', 'convince', 'convo', 'cooker', 'cookie', 'cookies', 'cookjaycook', 'cool', 'cooler', 'coordinate', 'cop', 'copa', 'copay', 'copilot', 'copy', 'copypaste', 'core', 'corevalues', 'corner', 'corny', 'corp', 'corpgreed', 'corporate', 'corporatepaid', 'corporation', 'correct', 'correcti', 'correctly', 'correctness', 'correlate', 'correspondence', 'corrupt', 'cory', 'corybronze', 'cos', 'coshared', 'cosmetic', 'cosmopolitan', 'cost', 'costa', 'costarica', 'costumer', 'costumers', 'costumerservice', 'costwhy', 'cot', 'cots', 'cough', 'could', 'couldwanted', 'count', 'counter', 'counterparts', 'countingdown', 'countingjust', 'countless', 'countries', 'country', 'county', 'couple', 'coupon', 'coupons', 'courier', 'courrier', 'course', 'court', 'courteous', 'courteroy', 'courtesy', 'courtney', 'courtsey', 'courtsnod', 'cousin', 'cousins', 'cover', 'coverage', 'covert', 'cowardly', 'cowboy', 'cowboycerrone', 'cowgirl', 'coworker', 'coworkers', 'cozy', 'cp', 'cpap', 'cpus', 'cr', 'crabby', 'crackerjack', 'crackers', 'craft', 'craftbeer', 'cram', 'cramp', 'cranky', 'crap', 'crape', 'crappiest', 'crappy', 'crash', 'crate', 'crave', 'crawl', 'craziness', 'crazinessintherockies', 'crazy', 'crazybitch', 'cream', 'create', 'creative', 'credentials', 'credibility', 'credit', 'creditcardsales', 'creditwhat', 'crew', 'crewe', 'crewi', 'crewmember', 'crewmembers', 'cri', 'crib', 'cricket', 'criminal', 'crisis', 'cristian', 'criteria', 'criticism', 'crjs', 'crook', 'cross', 'crossbrowser', 'crosswinds', 'crosswords', 'crowd', 'crucial', 'cruel', 'cruise', 'crumb', 'crummyservice', 'crutches', 'cruz', 'cry', 'crystal', 'cs', 'csfail', 'csm', 'cspkcats', 'csr', 'csrs', 'css', 'cst', 'cstmr', 'cstsvc', 'ct', 'cteam', 'ctg', 'ctl', 'ctr', 'cty', 'cuba', 'cud', 'cudtomers', 'cue', 'cultural', 'culture', 'cun', 'cunewr', 'cup', 'curb', 'curbside', 'curfew', 'curiosity', 'curious', 'current', 'currently', 'currentlysittingontarmac', 'curse', 'curt', 'curtesy', 'curvygirltravels', 'cus', 'cushion', 'cushy', 'cuss', 'cust', 'custexp', 'customary', 'customer', 'customerappreciation', 'customercan', 'customerexperience', 'customerfriendly', 'customerloyalty', 'customerrelations', 'customers', 'customerservice', 'customerservicefail', 'customerservicenot', 'customerserviceplease', 'customerservices', 'customerservicewin', 'customersfirst', 'customerstime', 'customs', 'custs', 'custserv', 'custservicehasnonumber', 'custy', 'cut', 'cute', 'cutest', 'cutoff', 'cuz', 'cuzco', 'cvg', 'cvgairport', 'cx', 'cxed', 'cxl', 'cxld', 'cxldprotection', 'cxp', 'cyberattack', 'cycle', 'cyncyn', 'cyndi', 'czamkoff', 'da', 'dad', 'dadboner', 'daddy', 'daddyshome', 'dadeland', 'dadoralive', 'dads', 'daiber', 'daily', 'daipresident', 'dakota', 'dal', 'dalaus', 'daldca', 'dale', 'dallas', 'dallasairporti', 'dallasaustin', 'dallasfort', 'dallaslovefield', 'dallasnews', 'dallasnext', 'dallasraisenow', 'dalmdw', 'damage', 'damageluggage', 'damion', 'damionflight', 'damn', 'damper', 'dan', 'danahajek', 'danbury', 'dance', 'dandy', 'dang', 'danger', 'dangerofgettingsnowedin', 'dangerous', 'dani', 'daniel', 'danihampton', 'danny', 'danroam', 'dare', 'dark', 'darn', 'darquenloveli', 'darrel', 'dart', 'dartmedia', 'daryl', 'data', 'date', 'datetime', 'datingrev', 'daughter', 'daughters', 'david', 'davidson', 'dawn', 'dawndavis', 'day', 'daycare', 'daydream', 'dayi', 'dayjustgotworse', 'daynot', 'dayreward', 'days', 'daysinn', 'dayslate', 'daysofhell', 'daysofoscar', 'daysofunitedfailures', 'daysplans', 'daystogo', 'daytona', 'daytonabeach', 'dc', 'dca', 'dcabos', 'dcadsm', 'dcaewr', 'dcam', 'dcamanual', 'dcapit', 'dcarsw', 'dcastl', 'dcoadavon', 'ddean', 'de', 'deactivate', 'dead', 'deadhead', 'deaf', 'deaffriendly', 'deal', 'deane', 'dear', 'death', 'debacle', 'debate', 'debbie', 'debit', 'deboards', 'deborah', 'dec', 'deceive', 'december', 'decency', 'decent', 'deceptive', 'decide', 'decision', 'decisions', 'deck', 'declaration', 'declare', 'decline', 'decorum', 'dedicate', 'dedication', 'deed', 'deedee', 'deem', 'deep', 'deeply', 'def', 'defcon', 'defective', 'defend', 'defer', 'defiantly', 'defibrillator', 'deficiency', 'definately', 'define', 'definitely', 'definition', 'definitive', 'deflator', 'degree', 'degrees', 'dehli', 'dehydrate', 'deice', 'deicer', 'del', 'delacy', 'delaney', 'delay', 'delayedcancelled', 'delayedconnection', 'delayedl', 'delayedno', 'delayedover', 'delayedovernight', 'delayedthat', 'delayforwhat', 'delaymissed', 'delaypending', 'delayscancelled', 'delayshandling', 'delayua', 'delete', 'delewr', 'delhi', 'deli', 'deliberate', 'delicious', 'delight', 'delightful', 'delinquent', 'deliver', 'deliveredhotel', 'delivery', 'delk', 'delongerry', 'delta', 'deltaassist', 'deltanews', 'deltapoints', 'delyd', 'demand', 'demo', 'demolish', 'demonstration', 'demote', 'den', 'denairport', 'denbna', 'dencle', 'dendal', 'dendfw', 'denewr', 'denise', 'denisejtaylor', 'denphl', 'denphx', 'dentedmissing', 'denver', 'denverairport', 'denverboston', 'deny', 'deoderant', 'deodorant', 'dep', 'depart', 'department', 'departments', 'departure', 'departures', 'depend', 'dependable', 'dependents', 'deplane', 'deplorable', 'deployment', 'depot', 'depress', 'depression', 'dept', 'derekaustin', 'derekc', 'derrick', 'des', 'descend', 'descent', 'describe', 'description', 'desert', 'deserve', 'design', 'designate', 'designer', 'desirable', 'desire', 'desition', 'desk', 'desks', 'desktop', 'desparately', 'desperate', 'desperately', 'despicable', 'despise', 'despite', 'dest', 'destfeel', 'destin', 'destination', 'destinationdragon', 'destinationdragons', 'destinationrude', 'destinations', 'destn', 'destroy', 'detail', 'detailsno', 'detective', 'detectors', 'deter', 'deteriorate', 'determination', 'determine', 'detroit', 'devaluation', 'devalue', 'devastate', 'develop', 'developers', 'development', 'device', 'devices', 'devotedyyours', 'devs', 'dfpietra', 'dfw', 'dfwairport', 'dfwclt', 'dfwlax', 'dfword', 'dgoodspeed', 'dgruber', 'dhepburn', 'dia', 'diabetic', 'dial', 'dialogue', 'dialup', 'diamond', 'diane', 'diapers', 'dice', 'dick', 'dickheads', 'dicks', 'dictionary', 'die', 'diego', 'diehardvirgin', 'diet', 'dietcoke', 'diff', 'differ', 'difference', 'different', 'differently', 'difficult', 'difficulties', 'difficultieswhat', 'difficulty', 'diffuse', 'dig', 'digg', 'digit', 'digital', 'dignity', 'dildo', 'dilemma', 'diligent', 'dim', 'dime', 'dimension', 'diminish', 'din', 'ding', 'dinner', 'dinosaurplane', 'dinosaurs', 'direct', 'directbag', 'directflights', 'direction', 'directional', 'directly', 'directtv', 'directv', 'dirt', 'dirtiest', 'dirty', 'disability', 'disable', 'disabledtraveler', 'disallow', 'disappear', 'disappoint', 'disappointment', 'disappointments', 'disappointmentyet', 'disapptment', 'disaster', 'disastrous', 'disbelief', 'discipline', 'disclose', 'discnctany', 'discomfort', 'disconnect', 'disconnection', 'disconnections', 'discontinue', 'discount', 'discourage', 'discourteous', 'discover', 'discovergrenada', 'discrimination', 'discuss', 'disgrace', 'disgraceful', 'disgruntle', 'disguise', 'disgust', 'disgutedindenver', 'dishearten', 'dishonest', 'dishonor', 'disinfectant', 'dislexia', 'dislike', 'disloyal', 'dismiss', 'disney', 'disneyland', 'disneyprincesshalfmarathon', 'disneyworld', 'disorganise', 'disorganization', 'disorganize', 'dispatch', 'dispatchalerts', 'dispatcher', 'dispatchissue', 'displace', 'display', 'displease', 'displeasure', 'disproportionate', 'dispute', 'disregard', 'disrespect', 'disrespectful', 'disrespectfully', 'disrupt', 'disruption', 'disruptions', 'dissapointed', 'dissapointing', 'dissapointment', 'dissaponted', 'dissatisfaction', 'dissatisfy', 'dissemination', 'disservice', 'disspointed', 'distance', 'distinguish', 'distress', 'distribution', 'distributor', 'disturb', 'disunite', 'disupdates', 'div', 'divadapouch', 'diverge', 'diversion', 'diversions', 'divert', 'divide', 'dividend', 'dividendmiles', 'dividendrewards', 'dividends', 'dividendsmember', 'divident', 'divider', 'dj', 'djevolutionhd', 'djimpact', 'djqkc', 'dkyde', 'dl', 'dlewis', 'dm', 'dmangen', 'dmbshows', 'dmd', 'dmed', 'dming', 'dmoukdarath', 'dmqf', 'dms', 'dmsc', 'dmstill', 'dmv', 'dns', 'dnt', 'dnxv', 'do', 'dobetter', 'dobetterjetblue', 'dobut', 'doc', 'docs', 'doctor', 'document', 'documentation', 'doesntfeellikestatusyet', 'dog', 'dogbuckeye', 'doi', 'doin', 'doke', 'doll', 'dollar', 'dollars', 'domestic', 'domingo', 'dominican', 'dominick', 'donaldaroberts', 'donate', 'donatert', 'donation', 'donedeal', 'donkey', 'donna', 'donotflyusair', 'donotflywiththem', 'dontchangeathing', 'dontdothistome', 'dontflythem', 'dontflyusairways', 'donthavehighhopes', 'dontmakemebeg', 'dontmakemegooutside', 'donts', 'donut', 'donuts', 'doo', 'doom', 'door', 'doorclose', 'dooronly', 'doors', 'doorstep', 'dope', 'dorm', 'dorns', 'dosequis', 'dot', 'dotnetnate', 'double', 'doublestandards', 'doubletriple', 'doubt', 'doubtful', 'doug', 'douglas', 'doumented', 'dounotwantmybusiness', 'down', 'downgrade', 'downhill', 'download', 'downmy', 'downnnnn', 'downright', 'downstairs', 'downthanks', 'downtown', 'doyourjob', 'dozen', 'dozens', 'dpdfpp', 'dpt', 'dpted', 'dr', 'draft', 'drag', 'dragon', 'dragons', 'drain', 'dramatically', 'draw', 'dre', 'dread', 'dreadful', 'dream', 'dreamliner', 'dreampath', 'drench', 'dresparkles', 'dress', 'drift', 'drink', 'drinker', 'drinksnack', 'drinkssnacks', 'drive', 'driver', 'drivers', 'drone', 'drop', 'droppeditoffyet', 'drunkpilots', 'drunks', 'drvrugby', 'drwinston', 'dry', 'dsearls', 'dsm', 'dtv', 'dtw', 'dtwase', 'dualcam', 'duanenclark', 'dub', 'dubai', 'dubjac', 'dublin', 'dublinairport', 'duck', 'ducttaped', 'dude', 'due', 'duecto', 'duffle', 'duh', 'duke', 'dull', 'dullesairport', 'dullessucks', 'dullestostatecollege', 'dulleswashington', 'dulleswe', 'dultch', 'dumasttg', 'dumb', 'dump', 'dungeon', 'dunkin', 'dunno', 'dupe', 'durango', 'dust', 'dustyob', 'duty', 'dvr', 'dvt', 'dwell', 'dxb', 'dynamite', 'ea', 'eager', 'eagle', 'ear', 'earlier', 'earliest', 'early', 'earlybird', 'earlybirdmeansnothing', 'earlyon', 'earn', 'earnedmybusiness', 'earphone', 'earring', 'earrings', 'earth', 'earthquake', 'ease', 'easier', 'easiest', 'easily', 'east', 'easter', 'eastern', 'easy', 'eat', 'eatgregeat', 'eatup', 'eb', 'ebhset', 'ebokeers', 'ebola', 'ebook', 'ec', 'ecertificate', 'eco', 'ecom', 'econ', 'economic', 'economy', 'ecuador', 'ed', 'edge', 'edgy', 'edinburgh', 'edit', 'edition', 'edplotts', 'edreamsen', 'educate', 'education', 'educational', 'ees', 'eff', 'effect', 'effective', 'efficencies', 'efficiency', 'efficient', 'efficiently', 'effin', 'effort', 'effortless', 'efforts', 'eg', 'ege', 'egregious', 'eh', 'ehsanismpowered', 'eight', 'either', 'ejacqui', 'ekvm', 'el', 'elaborate', 'elbow', 'elderly', 'elect', 'electric', 'electrical', 'electronic', 'electronics', 'eleonora', 'elevate', 'elevategold', 'elevator', 'eligible', 'elingeniero', 'elise', 'elite', 'eliz', 'eliza', 'elizabeth', 'ella', 'ellahenderson', 'ellamae', 'elm', 'elmira', 'elp', 'elpaso', 'els', 'else', 'elsewhere', 'elwoodblues', 'em', 'email', 'emailcall', 'emailingcallingdming', 'emailmailto', 'emailscalls', 'emailtext', 'emailtextphone', 'emaleesugano', 'emb', 'embarrass', 'embarrassment', 'embassy', 'embed', 'embody', 'emboss', 'embraersa', 'emer', 'emerald', 'emerg', 'emerge', 'emergencies', 'emergency', 'emeyerson', 'emily', 'emilydonneiiy', 'emilylyonss', 'emirates', 'emmaclifford', 'emotional', 'emp', 'empathetic', 'empathize', 'empathy', 'emphasize', 'empl', 'emplid', 'employ', 'employee', 'employeefaceless', 'employeerelations', 'employees', 'employeeslack', 'employeeworking', 'employer', 'empty', 'emrey', 'ems', 'emv', 'emxlyy', 'en', 'encounter', 'encourage', 'encouragement', 'end', 'endless', 'endlessly', 'enemy', 'energy', 'enforce', 'enforcement', 'engadget', 'engage', 'engagement', 'engagements', 'engine', 'engineer', 'england', 'english', 'englishspanish', 'enhance', 'enjoy', 'enjoyable', 'enormous', 'enough', 'enoughisenough', 'enquire', 'enrage', 'enrol', 'enroll', 'enroute', 'ensue', 'ensure', 'enter', 'enterprise', 'entertain', 'entertainment', 'entertainmnt', 'entire', 'entirely', 'entitle', 'entrance', 'entree', 'entrees', 'entrust', 'entry', 'enuf', 'environment', 'envoy', 'enzo', 'eom', 'eould', 'ep', 'epic', 'epicfail', 'epicfailunited', 'epicfailure', 'epipens', 'epitimeoffail', 'eps', 'eqm', 'eqp', 'equal', 'equality', 'equalizer', 'equally', 'equip', 'equipment', 'equivalent', 'erase', 'erewards', 'eri', 'ericbradleypt', 'erickofiejones', 'erie', 'erieairport', 'eriewr', 'eriord', 'erj', 'ernievigil', 'err', 'error', 'errored', 'erroring', 'errors', 'ers', 'erw', 'es', 'escalate', 'escape', 'escort', 'eservice', 'esp', 'especially', 'espinosa', 'espncoachmack', 'essence', 'essential', 'essentially', 'essentials', 'est', 'establish', 'estelle', 'estellevw', 'estimate', 'estplatinumeventually', 'et', 'eta', 'etailwest', 'etc', 'etd', 'eternal', 'eternally', 'eternity', 'ethan', 'ethics', 'ethiopia', 'eticket', 'etihad', 'etiquette', 'eu', 'europe', 'european', 'euros', 'evacuate', 'evaluate', 'evansville', 'evasive', 'evedid', 'even', 'evenlate', 'evenmorespace', 'evenmoreview', 'evennotified', 'event', 'eventhoughitsdegreesathome', 'eventprof', 'events', 'eventually', 'ever', 'everglades', 'evermoreroom', 'every', 'everybody', 'everyone', 'everyones', 'everything', 'everythingsgonnabealright', 'everytime', 'everywhere', 'evidence', 'evidently', 'evil', 'evn', 'evolve', 'evoucher', 'evr', 'evry', 'evrytime', 'evv', 'ew', 'ewk', 'ewr', 'ewrbrudel', 'ewrfll', 'ewriad', 'ewrlax', 'ewrmco', 'ewrord', 'ewrpdx', 'ewrsti', 'ex', 'exacerbate', 'exact', 'exactly', 'example', 'exams', 'exasperate', 'exboyfriend', 'exceed', 'excellence', 'excellent', 'excellentcustomerservice', 'except', 'exception', 'exceptional', 'exceptionally', 'exceptionalservice', 'exceptions', 'excess', 'exchange', 'exchangecredit', 'excite', 'excitement', 'exclusive', 'exclusively', 'excruciatingly', 'excusable', 'excuse', 'excusegeez', 'exe', 'exec', 'execplat', 'execution', 'executive', 'executiveplatinummeansnothing', 'executives', 'exercise', 'exeu', 'exhaust', 'exhaustion', 'exhibit', 'exhorbitantfees', 'exicted', 'exist', 'existence', 'existent', 'exit', 'exitrow', 'exp', 'expand', 'expansion', 'expect', 'expectations', 'expedia', 'expediathere', 'expedient', 'expedite', 'expeditious', 'expens', 'expense', 'expensive', 'experience', 'experts', 'expiration', 'expire', 'expireswhy', 'explain', 'explanation', 'explanations', 'explore', 'explorer', 'expose', 'expowest', 'express', 'exps', 'extend', 'extension', 'extent', 'extenuate', 'extinct', 'extortion', 'extra', 'extractions', 'extralight', 'extraordinaire', 'extraordinary', 'extraspeed', 'extravaganza', 'extreme', 'extremely', 'ey', 'eye', 'eyeglasses', 'eyewitness', 'eyw', 'eyyyy', 'ezee', 'ezemanalyst', 'fa', 'faa', 'faaaannntastic', 'faail', 'faanews', 'fab', 'fabrice', 'fabulous', 'face', 'facebook', 'facepalm', 'facilities', 'fact', 'facts', 'fail', 'failagain', 'failback', 'failingyourcustomer', 'failover', 'failphone', 'failure', 'failures', 'faint', 'fair', 'fairbanks', 'faire', 'fairfax', 'fairly', 'fairway', 'faith', 'faithful', 'fake', 'fakeawards', 'fakesincerity', 'fakesnow', 'fall', 'fallow', 'false', 'falseadvertising', 'fam', 'familiar', 'families', 'family', 'familyfriends', 'familywe', 'famous', 'fan', 'fancy', 'fantastic', 'fantasy', 'faq', 'far', 'farce', 'fare', 'farecompare', 'farelock', 'fargo', 'fargoairport', 'farm', 'farmington', 'fas', 'fashion', 'fast', 'fastcompany', 'fasten', 'faster', 'fastest', 'fat', 'fate', 'father', 'fattire', 'fattuesday', 'fault', 'faulty', 'faundation', 'faus', 'fav', 'fave', 'faves', 'favor', 'favorite', 'favoriteairline', 'fax', 'fay', 'fb', 'fc', 'fcking', 'fcmostinnovative', 'fcuk', 'fdk', 'fe', 'fear', 'feat', 'feature', 'feb', 'february', 'februaryfreezefox', 'februaryi', 'feces', 'feck', 'federal', 'fedex', 'fedexed', 'fedora', 'fedup', 'fee', 'feed', 'feedback', 'feel', 'feelbetter', 'feelingtheluv', 'feelsgood', 'feeltheheat', 'feesbut', 'feet', 'feeyou', 'fehqne', 'fell', 'fella', 'felt', 'feltthelove', 'female', 'fend', 'fendforyourself', 'fendurself', 'fendyourself', 'fernheinig', 'feroute', 'ferrissalameh', 'ferry', 'festival', 'festivities', 'fete', 'fewer', 'ff', 'ffl', 'ffstatusdontmatter', 'fgkxv', 'fhkte', 'fi', 'fiance', 'fiancee', 'fiasco', 'fib', 'fiction', 'fidencio', 'fidifamilies', 'field', 'fifth', 'fifty', 'fight', 'figure', 'file', 'fill', 'film', 'filmcrew', 'filmjobnoequipment', 'filter', 'filthy', 'filthyplane', 'fin', 'final', 'finale', 'finalize', 'finally', 'finals', 'finalstretch', 'financial', 'find', 'findanothergate', 'finder', 'findurgrip', 'fine', 'finest', 'finger', 'fingerscrossed', 'finish', 'finleybklyncfs', 'finnair', 'fiorettindward', 'fiousairways', 'fire', 'firefighters', 'firefox', 'firevan', 'firm', 'first', 'firstboth', 'firstclass', 'firstlove', 'firststari', 'firsttimeflyingwamo', 'firstworldproblems', 'fiscal', 'fish', 'fispahani', 'fist', 'fistfight', 'fit', 'fitbit', 'fitz', 'five', 'fiveword', 'fix', 'fixthis', 'fixyourstuff', 'fjbfsc', 'fkn', 'fkqw', 'fkxb', 'fl', 'fla', 'flag', 'flail', 'flamethrowers', 'flashlight', 'flat', 'flatiron', 'flatter', 'flavor', 'flaw', 'flawless', 'fleek', 'fleet', 'flex', 'flexibility', 'flexibilitycompassion', 'flexible', 'flght', 'flgjt', 'flgt', 'flier', 'flierfriendly', 'fliers', 'flight', 'flightation', 'flightations', 'flightattendant', 'flightaware', 'flightcancelled', 'flightchange', 'flightchecked', 'flightchng', 'flightd', 'flightdelay', 'flightdincompetence', 'flightedflight', 'flightedmechprobs', 'flightedrescheduled', 'flightedsnow', 'flightedstill', 'flightfail', 'flightflew', 'flightget', 'flightglobal', 'flightingdelaying', 'flightlanding', 'flightlation', 'flightlations', 'flightlationyou', 'flightled', 'flightledcan', 'flightleddelayed', 'flightledflight', 'flightling', 'flightly', 'flightmarch', 'flightn', 'flightncy', 'flightness', 'flightnever', 'flightnightmare', 'flightno', 'flightplease', 'flightr', 'flightrs', 'flightsairports', 'flightsdelays', 'flightsmilespoints', 'flightspots', 'flightsrefunds', 'flightst', 'flightsthis', 'flightsyear', 'flighttold', 'fligt', 'fligth', 'fligths', 'flintstone', 'flip', 'flipside', 'flite', 'fll', 'fllairport', 'fllight', 'floor', 'florida', 'floridavacation', 'flow', 'flower', 'flsfoewr', 'flt', 'fltkeeping', 'flts', 'flu', 'fluctuate', 'fluid', 'fluster', 'flutter', 'fly', 'flyanaofficial', 'flyaway', 'flybetter', 'flydelta', 'flydeltanexttime', 'flyeia', 'flyer', 'flyerfriendly', 'flyers', 'flyfi', 'flyfrontier', 'flyin', 'flyingainteasy', 'flyingitforward', 'flyingretro', 'flyingwithus', 'flyitforward', 'flyjetblue', 'flyknoxville', 'flylaxairport', 'flymidway', 'flynashville', 'flyohare', 'flypbi', 'flypdx', 'flyquiet', 'flyrepublicair', 'flysaa', 'flysfo', 'flysouthwest', 'flysw', 'flyswa', 'flythefriendlyskies', 'flythroughs', 'flytpa', 'flyunited', 'flyus', 'flywe', 'flywhonotblue', 'flyyow', 'fm', 'fmjtyl', 'fml', 'fnd', 'fneqm', 'fo', 'focus', 'fog', 'foh', 'fold', 'folder', 'foldup', 'folk', 'folks', 'follow', 'followback', 'followdm', 'followers', 'followup', 'fong', 'food', 'foodallergies', 'foodallergy', 'foodnetwork', 'fool', 'foolish', 'foot', 'footage', 'footrest', 'force', 'forcedovernight', 'forecast', 'foreign', 'forelock', 'foresight', 'forever', 'foreveranyone', 'forevercold', 'foreverrrrrr', 'forfeit', 'forget', 'forgive', 'form', 'formal', 'formality', 'formally', 'format', 'former', 'formsmaddening', 'formula', 'forsythfactor', 'fort', 'forth', 'fortunately', 'fortunemagazine', 'forty', 'foru', 'forum', 'forward', 'foster', 'four', 'fourhour', 'fourth', 'fouryrold', 'fouty', 'foxnews', 'fpmy', 'fr', 'fra', 'fracat', 'fraction', 'fraif', 'frame', 'fran', 'france', 'franchise', 'francisco', 'frank', 'frankfurt', 'frankly', 'fransico', 'fransisco', 'fraud', 'frauds', 'freak', 'freakin', 'freaky', 'freberg', 'fred', 'freddie', 'freddieawards', 'free', 'freecomedyshow', 'freeconcert', 'freedrinkcoupons', 'freeflight', 'freejust', 'freeneversucks', 'freeze', 'french', 'freq', 'frequency', 'frequent', 'frequentflyer', 'frequentflyerappreciates', 'frequentflyers', 'frequently', 'fresh', 'fresno', 'freyabevanfund', 'freyasfund', 'fri', 'fricken', 'friday', 'fridgethat', 'friend', 'friendliest', 'friendly', 'friendlyfriday', 'friendlyskies', 'friendlysky', 'friendlyteam', 'friends', 'frighten', 'frigid', 'frigidfriday', 'fritz', 'frm', 'fro', 'fromthefrontseat', 'fron', 'front', 'frontend', 'frontier', 'frontrunner', 'froschtravel', 'froward', 'frown', 'frowny', 'frozentoilet', 'frozenwater', 'fruit', 'frustrate', 'frustratingly', 'frustration', 'frustrations', 'frzz', 'fsd', 'fsqthg', 'fsve', 'fszyo', 'ft', 'ftl', 'ftlauderdale', 'ftlauderdalesun', 'ftmyers', 'ftw', 'fu', 'fuccc', 'fuck', 'fucken', 'fuckin', 'fuckinf', 'fuckinlame', 'fuckoff', 'fudgers', 'fudgin', 'fuel', 'fuk', 'fuking', 'fulfil', 'fulfill', 'full', 'fulldo', 'fullfa', 'fullfare', 'fullprice', 'fully', 'fullyear', 'fun', 'func', 'function', 'functional', 'functionality', 'functionally', 'fund', 'funeral', 'funerals', 'funflightattendants', 'funited', 'funny', 'funnycaptain', 'furious', 'furnish', 'furrow', 'furryfiesta', 'fuselage', 'fustrated', 'fusturated', 'future', 'fuyukaidesuyo', 'fvfyw', 'fwa', 'fwd', 'fwhei', 'fwiw', 'fwwef', 'fyi', 'fyvrfn', 'ga', 'gabriela', 'gaga', 'gagent', 'gah', 'gain', 'gaincustomers', 'gainesville', 'gal', 'gala', 'galaxy', 'galley', 'game', 'gameboy', 'gang', 'gangway', 'gap', 'garage', 'garbage', 'garcia', 'garciachicago', 'garden', 'gary', 'garywerk', 'gas', 'gastoncounty', 'gate', 'gather', 'gatwick', 'gay', 'gb', 'gc', 'gcvwj', 'gd', 'gear', 'gee', 'geeeeezzzzz', 'geekandahalf', 'geeks', 'geekstiel', 'geez', 'geg', 'geiger', 'gem', 'gems', 'general', 'generally', 'generate', 'generic', 'geneva', 'genious', 'genius', 'gent', 'gentleman', 'gently', 'gents', 'genuine', 'genuinely', 'geography', 'george', 'georgia', 'geraghty', 'geraldine', 'german', 'germany', 'germs', 'gerne', 'gerrielliott', 'gesture', 'get', 'getaway', 'getconnected', 'gether', 'getittogether', 'getmartyhome', 'getmehome', 'getmeoffrhisfuckinplane', 'getmeoffthisbird', 'getmeoffthisplane', 'getmeontop', 'getmeoutofhere', 'getmeouttahere', 'getmorehands', 'getphilz', 'gettin', 'gettingbetter', 'gettingimpatient', 'gettingoffplane', 'gettingthirsty', 'getyouracttogether', 'getyourlife', 'gf', 'gfc', 'gg', 'ggqzqd', 'ggreenwald', 'ghettofab', 'gi', 'giannilee', 'giant', 'giants', 'gif', 'gift', 'gig', 'giggle', 'gills', 'gin', 'girl', 'girlfriend', 'girls', 'girlsweekend', 'gist', 'give', 'givethemraises', 'givethoseladiesraise', 'gj', 'gjqxj', 'gjt', 'glad', 'gladly', 'gladys', 'glamco', 'glance', 'glasgow', 'glass', 'glassdoor', 'glassslipperchallenge', 'glenn', 'glitch', 'glitches', 'glitchy', 'global', 'globalfc', 'globe', 'gloves', 'glow', 'gluten', 'gma', 'gmail', 'gmailcom', 'gng', 'gnight', 'gnv', 'go', 'goal', 'gobankrupt', 'god', 'goddamn', 'godelta', 'gofundme', 'gogh', 'gogo', 'gohelp', 'goin', 'goingforgreat', 'goingforgreatnessfail', 'goingtovegas', 'gold', 'golden', 'goldentickets', 'golds', 'goldsapphire', 'golf', 'golfbags', 'golfunited', 'golfwithwoody', 'gonenow', 'gong', 'gonnabealongnight', 'good', 'goodbye', 'goodcustomerservice', 'goodday', 'goodenoughmother', 'goodenufmother', 'goodflight', 'goodgenes', 'goodgriefpeople', 'goodhumored', 'goodluckamericanair', 'goodness', 'goodnight', 'goods', 'goodthingscome', 'goodwill', 'google', 'goose', 'goosebayairport', 'gooutofbusiness', 'gopatriots', 'gopro', 'gopuregrenada', 'gorgeous', 'gosh', 'gotcha', 'goto', 'gottogetbetter', 'gov', 'government', 'governor', 'govt', 'gpu', 'gr', 'grab', 'grace', 'gracias', 'gracious', 'grade', 'grader', 'graduate', 'graduation', 'gramp', 'grand', 'grandbabies', 'grandcanyon', 'grandcayman', 'grandfather', 'grandkids', 'grandma', 'grandmother', 'grandmothers', 'grandpa', 'grandparents', 'grant', 'graphic', 'graphics', 'gras', 'grasshopper', 'grassy', 'grateful', 'gratitude', 'gray', 'great', 'greatcustomerservice', 'greater', 'greatest', 'greatgranny', 'greatjob', 'greatly', 'greatservice', 'greed', 'greedy', 'greeeaat', 'green', 'greenfield', 'greensboro', 'greenville', 'greet', 'greetingz', 'greg', 'gregm', 'gregwallace', 'grey', 'greyhoundbus', 'grief', 'grievance', 'grind', 'gripeo', 'grk', 'grkm', 'grnd', 'groan', 'gross', 'grossedout', 'grossthe', 'grouchy', 'ground', 'groundoutside', 'group', 'groupa', 'grow', 'grp', 'grr', 'grrrr', 'grrrrrr', 'grrrrrrrr', 'grt', 'gru', 'gruber', 'grumpy', 'grumpykim', 'gs', 'gsa', 'gso', 'gsp', 'gt', 'gth', 'gtsvyb', 'guacamole', 'guam', 'guarantee', 'guardia', 'guatemala', 'guc', 'guess', 'guesstimate', 'guessweflyingdelta', 'guest', 'guests', 'guidance', 'guide', 'guidelines', 'guilty', 'guiltypleasures', 'guinea', 'guitar', 'guitars', 'gum', 'gun', 'gunna', 'guru', 'gusty', 'guy', 'guyana', 'guysi', 'guyssee', 'guyyyys', 'gvn', 'ha', 'haa', 'habitrails', 'habitually', 'hack', 'hah', 'haha', 'hahah', 'hahaha', 'hahahah', 'hahahaha', 'hahahahaha', 'hahnot', 'hail', 'hair', 'haiti', 'half', 'halfthought', 'halfway', 'hall', 'ham', 'hammer', 'hamsters', 'hand', 'handbag', 'handedly', 'handicap', 'handily', 'handle', 'handler', 'handlers', 'handoff', 'handshake', 'handy', 'hang', 'hangar', 'hanger', 'hangup', 'haning', 'hannah', 'hanneslohmann', 'happen', 'happend', 'happenedwhat', 'happier', 'happily', 'happiness', 'happy', 'happybirthday', 'happycamper', 'happycustomer', 'happyflier', 'happyflight', 'happyfriday', 'happythem', 'happytohelp', 'happytweet', 'harass', 'harbor', 'hard', 'hardcase', 'hardearned', 'harder', 'hardest', 'hardly', 'hardtodo', 'hardworking', 'harf', 'harris', 'harsh', 'hartford', 'hashtag', 'hassle', 'hasty', 'hat', 'hatch', 'hate', 'hateful', 'haul', 'havana', 'havin', 'havoc', 'hawaii', 'hawaiian', 'hawaiianair', 'hay', 'haydensteamboat', 'hayleymad', 'hazard', 'hd', 'hdn', 'hdndl', 'hdsportsguy', 'head', 'headache', 'headaches', 'headerelevateusernumofpointsavailable', 'headline', 'headphone', 'headphones', 'heal', 'health', 'healthbenefitsofplants', 'hear', 'heart', 'heartbroken', 'heartlanta', 'heartless', 'hearts', 'heat', 'heathrow', 'heathrowairport', 'heathrownewark', 'heattrap', 'heaven', 'heavenlychc', 'heavily', 'heavy', 'heck', 'hectic', 'heel', 'hegshmeg', 'heh', 'heidimacey', 'height', 'heinekenusacorp', 'helacohlc', 'helene', 'hell', 'hella', 'heller', 'hello', 'helloare', 'hellobrittney', 'help', 'helpaa', 'helpcomplaint', 'helper', 'helpful', 'helpfuli', 'helpfulness', 'helpimstuck', 'helpinfo', 'helpless', 'helplindsey', 'helpline', 'helpmeplease', 'helppls', 'helpthanks', 'helpva', 'helsinkiairport', 'hemisphere', 'hemispheres', 'hemispheresmag', 'hemophilia', 'hence', 'henrikwagner', 'hep', 'hepl', 'herb', 'herba', 'herbal', 'herd', 'herman', 'herndon', 'hero', 'heroes', 'hesitant', 'hey', 'heymynameissean', 'heyo', 'heyyyy', 'hfjkto', 'hgeronemus', 'hhagerty', 'hhp', 'hi', 'hiccup', 'hide', 'higgs', 'high', 'highbuddyyy', 'higher', 'higherandhigher', 'highest', 'highhopes', 'highlight', 'highly', 'highway', 'hii', 'hike', 'hilarious', 'hill', 'hillaconlin', 'hilo', 'hilton', 'hiltonworldwide', 'hime', 'himy', 'hinder', 'hint', 'hip', 'hipster', 'hipunis', 'hirasmusbidragi', 'hire', 'hiremorepeople', 'hiremorepoeple', 'historical', 'historically', 'history', 'hit', 'hitawall', 'hitch', 'hizouse', 'hkg', 'hlp', 'hm', 'hmm', 'hmmm', 'hn', 'hnl', 'ho', 'hoagy', 'hockey', 'hof', 'hog', 'hold', 'holder', 'holders', 'holdon', 'holdtime', 'holdup', 'hole', 'holiday', 'holla', 'holler', 'hollow', 'hollymais', 'hollywood', 'holton', 'holy', 'holz', 'home', 'homeandreadyfornexttrip', 'homefamily', 'homegirl', 'homeintentional', 'homeless', 'homeschool', 'hometown', 'homeward', 'homewardbound', 'homosexual', 'hon', 'honalulu', 'honest', 'honestly', 'honesty', 'honey', 'honeymoon', 'honolulu', 'honor', 'honorable', 'honour', 'honululu', 'hoo', 'hood', 'hoodlums', 'hook', 'hoom', 'hooooo', 'hoop', 'hooray', 'hoot', 'hop', 'hope', 'hopeful', 'hopefully', 'hopeidonotgetsick', 'hopeless', 'hopethegearmakesitintact', 'hopetogetanswersoon', 'hopin', 'hopingpraying', 'hopkins', 'horizon', 'hormonal', 'hormones', 'horrendous', 'horrible', 'horribleattitudes', 'horriblecustomerservice', 'horribleservice', 'horriblewent', 'horribly', 'horrid', 'horrific', 'horror', 'horse', 'hosp', 'hospice', 'hospitality', 'hospitals', 'host', 'hostage', 'hostel', 'hostile', 'hot', 'hotel', 'hotelhow', 'hotelliving', 'hotels', 'hotelstonight', 'hotl', 'hotlanta', 'hotline', 'hotmailcom', 'hotspot', 'hotter', 'hotterandlongerthanhell', 'hou', 'hour', 'hourandtenminutedelay', 'hourdelay', 'hourflight', 'hourflights', 'hournever', 'hours', 'hourslove', 'hourwait', 'hourwaitsucks', 'house', 'houston', 'houstonbogota', 'houstonbush', 'hover', 'however', 'howhardcanthatreallybe', 'howisthatpossible', 'howwhy', 'hp', 'hpn', 'hr', 'hrdelay', 'hrl', 'hrmin', 'hrs', 'hrsminonhold', 'hs', 'hstg', 'hsv', 'html', 'hts', 'http', 'https', 'hub', 'hubby', 'hubbys', 'hubs', 'huffpostbiz', 'hug', 'huge', 'hugeeeee', 'hugely', 'hughes', 'huh', 'human', 'humanity', 'humans', 'humiliate', 'humor', 'humour', 'humphrey', 'hundred', 'hundreds', 'hungary', 'hungry', 'hungupnohelp', 'hunkydory', 'hunt', 'huntsville', 'hurricane', 'hurry', 'hurt', 'hury', 'husain', 'husainhaqqani', 'husband', 'huston', 'hutchinsjim', 'huxleyesque', 'hv', 'hve', 'hyperlinked', 'hypocrisy', 'iad', 'iadore', 'iadsat', 'iah', 'iahdfw', 'iahhnl', 'iahmnl', 'iamtedking', 'iata', 'iatanbul', 'iberia', 'ice', 'icecream', 'iceday', 'iceland', 'icelandair', 'ichangedyourdiaper', 'icloud', 'iconography', 'icu', 'icy', 'icyflight', 'id', 'idaho', 'idea', 'ideal', 'ideas', 'identical', 'ideologias', 'ideserveareward', 'idiot', 'idiotic', 'idiots', 'idk', 'idlovetoask', 'idnumber', 'idols', 'idonotcare', 'idontwannalivewithoutyourlove', 'idontwanttocallback', 'ids', 'iep', 'ifc', 'ife', 'ifeeldumb', 'iflyalot', 'iflyoakland', 'iflyswa', 'ifthesneverstopped', 'igiveup', 'ignorant', 'ignore', 'igotmonte', 'iha', 'ihatemergers', 'ihop', 'iiiii', 'ijustwanttobeinboston', 'ijustwanttosleep', 'il', 'ilchp', 'ill', 'illegal', 'illiterate', 'illness', 'illogical', 'ilm', 'ilookyoung', 'ilovejetblue', 'ils', 'image', 'imagine', 'imaginedragons', 'imateacher', 'imdetermined', 'imessage', 'imjustsaying', 'imma', 'immediate', 'immediately', 'immensely', 'imo', 'impact', 'impair', 'impatience', 'impatient', 'impediment', 'impend', 'impersonal', 'impersonator', 'implement', 'impolite', 'important', 'importantflight', 'impossible', 'impossibly', 'impress', 'impression', 'impressions', 'impressive', 'improper', 'improve', 'improvement', 'improvements', 'improvetheprocess', 'imranr', 'imtired', 'inability', 'inaccessibility', 'inaccurate', 'inaccuratemisleading', 'inactivity', 'inadequate', 'inappropriate', 'inappropriately', 'inbaggage', 'inbound', 'inbox', 'inbrowser', 'inc', 'incapable', 'incase', 'incedentals', 'incentive', 'inch', 'inchecking', 'incident', 'incidentally', 'incidentals', 'incidents', 'incl', 'inclement', 'inclemental', 'incls', 'include', 'inclusion', 'income', 'incoming', 'incompetence', 'incompetenceunderstaffing', 'incompetency', 'incompetent', 'incompetentmanagers', 'incompetentrude', 'incomprehensible', 'inconceivable', 'inconsiderate', 'inconsistent', 'inconvenience', 'inconvenient', 'inconveniently', 'inconvience', 'incorrect', 'incorrectly', 'increase', 'incredible', 'incredibly', 'increments', 'incubator', 'incur', 'ind', 'indeed', 'indenial', 'independence', 'india', 'indian', 'indianapolis', 'indicate', 'indication', 'indignation', 'individual', 'indm', 'induce', 'industry', 'indy', 'inebriate', 'inedible', 'ineedabeer', 'ineedcoffee', 'inefficiency', 'inefficient', 'ineligible', 'inept', 'inevitable', 'inexcusable', 'inexpensive', 'inexperienced', 'infant', 'infants', 'infanttoddler', 'inferior', 'infinite', 'infinity', 'inflatable', 'inflate', 'inflation', 'inflexible', 'inflght', 'inflight', 'influx', 'info', 'infobag', 'infographic', 'inform', 'information', 'informative', 'infrastructure', 'infringement', 'infuriate', 'ing', 'ingredients', 'inhumane', 'initial', 'initiate', 'initiative', 'injure', 'injuries', 'injury', 'inlaws', 'inline', 'inner', 'innovacion', 'innovation', 'inop', 'inoperable', 'inout', 'inperson', 'inpolite', 'input', 'inputted', 'inquire', 'inquiries', 'inquiry', 'ins', 'insane', 'insanely', 'insanity', 'insensitive', 'insert', 'inside', 'insider', 'insight', 'insist', 'inspect', 'inspiration', 'inspire', 'inst', 'insta', 'instagram', 'instal', 'installation', 'instance', 'instant', 'instantly', 'instead', 'institutional', 'instruct', 'instructions', 'instrument', 'insubstantial', 'insufficient', 'insulin', 'insult', 'insurance', 'insure', 'int', 'intact', 'integrate', 'integration', 'integrity', 'intel', 'intelligence', 'intelligent', 'intend', 'intent', 'intention', 'intentionally', 'interaction', 'interchangeably', 'intercom', 'intercontinental', 'interest', 'interestingagent', 'interfere', 'interim', 'interior', 'interiors', 'intern', 'internal', 'internally', 'international', 'internationally', 'internet', 'internjohnradio', 'internship', 'internships', 'interpret', 'interrogate', 'interrupt', 'interupt', 'interview', 'intimate', 'intl', 'intlcheckin', 'intraeu', 'intro', 'intrusive', 'intuit', 'intuitlife', 'inv', 'invalid', 'inventory', 'invest', 'investigate', 'investigatedmy', 'investigation', 'investment', 'investor', 'investors', 'invitation', 'invitational', 'invite', 'invoice', 'involuntarily', 'involve', 'iny', 'iol', 'ionlyflyblue', 'ios', 'iove', 'iowa', 'ipad', 'ipaddo', 'iphone', 'ipodtouch', 'iraiq', 'irate', 'ireland', 'irene', 'irina', 'irmafromdallas', 'iron', 'irony', 'irregularity', 'irreplaceable', 'irresponsible', 'irritate', 'irrlcd', 'irrops', 'isabelle', 'isdelayed', 'ish', 'ishouldhavedriven', 'isis', 'isit', 'isitsummeryet', 'isitthegarykellyway', 'isjx', 'island', 'islandexpert', 'islands', 'isle', 'isolate', 'isp', 'israel', 'issue', 'issuenot', 'issuesmy', 'issuesshe', 'istanbul', 'istead', 'isthisreal', 'isthisyourfirsttry', 'italian', 'italy', 'item', 'items', 'itenary', 'itfits', 'ithaca', 'ithelpsabit', 'ithica', 'itin', 'itineraries', 'itinerary', 'itineraryconfirmation', 'itis', 'ito', 'itover', 'itproblems', 'itravelalot', 'itsaaronchriz', 'itscold', 'itscostingmeincome', 'itslaloca', 'itsthelittlethings', 'itthis', 'itunesmusic', 'itwasminttobe', 'iusair', 'iusedtoloveu', 'iv', 'ivebeen', 'ivr', 'iwantcoffee', 'iwantmymoneyback', 'iwas', 'iwoulddoanythingforlove', 'iy', 'jabevan', 'jac', 'jack', 'jackass', 'jacket', 'jackkairys', 'jackpot', 'jackson', 'jacksonville', 'jaclax', 'jacqueline', 'jacquelyn', 'jacquie', 'jail', 'jailbreak', 'jaipur', 'jal', 'jam', 'jamaica', 'jamesasworth', 'jameskraw', 'jameswester', 'jamie', 'jan', 'jana', 'jane', 'janet', 'janna', 'jannasaurusrex', 'january', 'japan', 'jaramillo', 'jason', 'jasonwhitely', 'javascript', 'jax', 'jaxbna', 'jayfranceschi', 'jaynegelman', 'jayvig', 'jb', 'jbeatz', 'jbi', 'jblu', 'jburg', 'jcolenc', 'jdbwaffles', 'jdhadp', 'jealous', 'jeanette', 'jeanine', 'jeans', 'jedediah', 'jedediahbila', 'jeff', 'jeffhofmann', 'jeffsmisek', 'jennifercascino', 'jenniferdawnpro', 'jenniferwalshpr', 'jennings', 'jeokoo', 'jeopardy', 'jerk', 'jersey', 'jessicajaymes', 'jesus', 'jet', 'jetbae', 'jetblue', 'jetblueanyone', 'jetblueblues', 'jetbluebos', 'jetbluebruins', 'jetbluecheeps', 'jetbluefail', 'jetbluefame', 'jetblueforever', 'jetbluehatesbtv', 'jetbluejfk', 'jetbluemember', 'jetbluemess', 'jetbluerocks', 'jetblues', 'jetbluesofly', 'jetbluesucks', 'jetbridge', 'jetgreen', 'jetred', 'jetscrew', 'jetsetter', 'jetway', 'jetways', 'jetwaywhy', 'jewel', 'jezziegoldz', 'jfk', 'jfklas', 'jfklax', 'jfklhr', 'jfkman', 'jfksea', 'jfksfo', 'jh', 'jhamilton', 'jhughes', 'jilt', 'jim', 'jimcramer', 'jimdaytv', 'jimmy', 'jimtrotternfl', 'jindalcmc', 'jj', 'jk', 'jkf', 'jlhalldc', 'jlittle', 'jln', 'jmercadomma', 'jms', 'joanna', 'joanne', 'job', 'jobfail', 'jobslose', 'jockey', 'joe', 'john', 'johnnosta', 'johnwayneair', 'join', 'joke', 'jokeboston', 'jokers', 'jokerunning', 'jokesonus', 'jon', 'joni', 'joplin', 'jordnnicole', 'jorge', 'jose', 'josephtreis', 'journal', 'journalist', 'journey', 'joy', 'joyadventuremom', 'jp', 'jparkermastin', 'jperhi', 'js', 'jsom', 'jsumiyasu', 'jt', 'jtrexsocial', 'jua', 'juan', 'judas', 'judeo', 'juice', 'jul', 'julesdameron', 'julgood', 'julian', 'juliasinton', 'julie', 'july', 'jump', 'jun', 'junction', 'june', 'junkspam', 'junsep', 'jurassic', 'justdippin', 'justdoit', 'justgetmehome', 'justifiable', 'justify', 'justifythissupport', 'justsayin', 'justsaying', 'justwantmybed', 'justwrong', 'justynmoro', 'jvmchat', 'jvstatus', 'jwa', 'jxst', 'kaha', 'kailua', 'kaneshow', 'kangaroos', 'kanne', 'kansas', 'kaps', 'karaax', 'karabuxthomps', 'karajusto', 'karen', 'karinslee', 'karma', 'kat', 'kate', 'kathryn', 'kathrynsotelo', 'katie', 'kats', 'kauai', 'kax', 'kay', 'kc', 'kci', 'kciairport', 'kconti', 'kdepetro', 'keambleam', 'keep', 'keepem', 'keeper', 'keepingit', 'keepingtraditionsalive', 'keepit', 'keepitclassy', 'keepitmovin', 'keepitup', 'keepmy', 'keepusguessing', 'keithlaw', 'kelly', 'kelsey', 'kentuckymbb', 'ker', 'kerry', 'ketr', 'kevin', 'kevinswan', 'kevolt', 'kewl', 'key', 'kgonzales', 'kick', 'kickin', 'kid', 'kidnap', 'kieranmahan', 'kill', 'killeen', 'killin', 'kim', 'kin', 'kind', 'kinda', 'kinder', 'kindle', 'kindly', 'kindness', 'king', 'kingscollegelondon', 'kiosk', 'kiosks', 'kiosksbag', 'kirkwoodtiger', 'kiss', 'kit', 'kitchen', 'kitties', 'kitty', 'kj', 'kkwhb', 'kleankanteen', 'kleinerin', 'kmdw', 'kmm', 'kmmvlkm', 'kms', 'kn', 'knack', 'knees', 'knock', 'know', 'knowexpect', 'knowledge', 'knowledgeprovide', 'knoxville', 'koalax', 'koalaxphlord', 'koalaxphxord', 'kooples', 'korea', 'kosher', 'kp', 'kphl', 'kravitz', 'krescate', 'kristicapel', 'kristie', 'kristy', 'ksml', 'kta', 'kthxbai', 'ktm', 'ktn', 'kuala', 'kudos', 'kul', 'kung', 'kurt', 'ky', 'kybilc', 'kylecomer', 'kylejudah', 'kys', 'la', 'label', 'labor', 'labrador', 'labyrinth', 'lack', 'lacma', 'ladan', 'ladies', 'lady', 'ladygaga', 'laflying', 'lag', 'lagos', 'laguardia', 'laguardiaair', 'laguardiadal', 'laish', 'laissez', 'lake', 'lala', 'lame', 'lamp', 'lan', 'land', 'landedyou', 'landonschott', 'lane', 'lanes', 'language', 'languages', 'lap', 'lapse', 'laptop', 'laptoplarge', 'large', 'larger', 'largesize', 'largest', 'larry', 'las', 'lasairport', 'lasalle', 'lasbuf', 'lasden', 'lasfllsju', 'lassfo', 'last', 'lastella', 'lastflightofthenight', 'lastflightwithyouever', 'lastly', 'lastnight', 'lasttweetaboutthis', 'late', 'latimes', 'latinamerican', 'latrice', 'latte', 'latter', 'lauderdale', 'lauderdalebogota', 'laugh', 'laughter', 'launch', 'launder', 'laundry', 'laura', 'laurasbrown', 'lauren', 'laurieameacham', 'lav', 'lavatory', 'lavoratories', 'law', 'laws', 'lawsuit', 'lawyer', 'lawyerup', 'lax', 'laxdub', 'laxewr', 'laxiad', 'laxjfk', 'laxlas', 'laxm', 'laxmad', 'laxnyc', 'laxogglax', 'laxsna', 'laxsyd', 'laxwhen', 'lay', 'layout', 'layover', 'layovers', 'lazy', 'lb', 'lbairport', 'lbb', 'lbc', 'lbs', 'lburley', 'ld', 'lea', 'lead', 'leader', 'leadership', 'league', 'leah', 'leak', 'leanin', 'learn', 'learncustomerservice', 'lease', 'least', 'leastthebeverageswillbecold', 'leather', 'leatherseats', 'leathery', 'leave', 'leavingtomm', 'leeannhealey', 'leeds', 'leeway', 'leg', 'legacy', 'legal', 'legalize', 'legally', 'legit', 'legitimate', 'legitimately', 'legroom', 'legs', 'leighemery', 'leinenkugels', 'leisure', 'lekvhg', 'lem', 'lend', 'length', 'lengthy', 'lenses', 'leopoldsic', 'lesliewolfson', 'less', 'lesscustomer', 'lessen', 'lesson', 'let', 'letdown', 'letitgo', 'letsgo', 'letsgoalready', 'letsgohome', 'letsworktogether', 'letter', 'levd', 'level', 'leverage', 'levi', 'lex', 'lexington', 'lft', 'lfw', 'lga', 'lgabwi', 'lgacleden', 'lgafllpoor', 'lgaiah', 'lgaord', 'lgasat', 'lgb', 'lgbtcan', 'lgjwb', 'lh', 'lhr', 'lhrdfw', 'lhriah', 'lhrord', 'lhrt', 'liable', 'liar', 'liars', 'liberty', 'library', 'license', 'lick', 'lie', 'lieflat', 'life', 'lifeisgood', 'lifeline', 'lifeneedsfrosting', 'lifesaver', 'lifestop', 'lifethreatening', 'lifetime', 'lifevests', 'lift', 'liftin', 'light', 'lightbulb', 'lightly', 'lightning', 'lightyears', 'like', 'likeagirl', 'likelihood', 'likely', 'likingyoulessandless', 'lil', 'lile', 'lilly', 'lima', 'limbo', 'limit', 'lin', 'lindaswc', 'lindsay', 'lindsey', 'line', 'linesforever', 'lineup', 'lingo', 'link', 'linkemail', 'lip', 'lipstick', 'lisa', 'lisapal', 'list', 'listen', 'lister', 'listsomeone', 'lite', 'literally', 'litter', 'little', 'littlebirds', 'live', 'liveatfirefly', 'lively', 'liveonfox', 'livepersonplease', 'livery', 'livethelegend', 'livewelltraveled', 'livid', 'livvyports', 'liza', 'lizaapproved', 'lizautter', 'lloyd', 'lly', 'lmao', 'lmaooo', 'lmaoooo', 'lmfao', 'lmfaooo', 'lmfaooooo', 'lmk', 'lmuschel', 'lnded', 'lo', 'load', 'loan', 'loaner', 'loanr', 'lobstermac', 'loc', 'local', 'localize', 'locally', 'locals', 'locate', 'location', 'locations', 'locator', 'lock', 'lodge', 'lodgingfood', 'loft', 'lofty', 'log', 'logan', 'loganairports', 'loganex', 'logic', 'logical', 'logically', 'login', 'logistically', 'logistics', 'logo', 'logout', 'lol', 'lolol', 'lololololol', 'lolz', 'lon', 'london', 'londonfashionweek', 'lone', 'loner', 'long', 'longbeachairport', 'longbeachcity', 'longday', 'longer', 'longstanding', 'longterm', 'look', 'lookforwardtoflywithaa', 'lookin', 'looong', 'loooooong', 'loop', 'loose', 'lopezlaymari', 'lord', 'los', 'lose', 'loser', 'losers', 'loss', 'lostacustomer', 'lostandforgotten', 'lostbags', 'lostfound', 'lostinlove', 'lostluggage', 'lostmybusiness', 'lostrevenue', 'loststolen', 'lostsuitcase', 'lot', 'lotttttttt', 'lou', 'loud', 'louder', 'loudly', 'loudspeaker', 'louis', 'louisville', 'lounge', 'louprice', 'lousy', 'love', 'lovedflyingwiththem', 'lovedoll', 'lovedragonss', 'loveeee', 'lovegratitudempower', 'loveisintheair', 'lovejetblue', 'loveloughneagh', 'loveluv', 'lovely', 'lovesongfriday', 'lovesouthwest', 'lovesouthwestair', 'lovetotravel', 'low', 'lowdown', 'lower', 'lowercase', 'loweredexpectations', 'lowest', 'lowstandards', 'loyal', 'loyalmosaicmember', 'loyalrrmember', 'loyalty', 'lpalumbo', 'lpdstock', 'lr', 'lrunscupcakes', 'lsuquinlanduhon', 'lsusoftball', 'ltaljx', 'ltr', 'lubbock', 'lucas', 'lucia', 'luck', 'luckily', 'lucky', 'lucycat', 'lucymay', 'lufthansa', 'lug', 'luggage', 'luggagecancelled', 'luggagegate', 'luggages', 'lukemcintosh', 'lukewyckoff', 'lumpur', 'lunch', 'lunchtime', 'lung', 'lungs', 'lusaka', 'luv', 'luvagent', 'luved', 'luvforsw', 'luvin', 'luvintheair', 'luvisbetter', 'luvsw', 'luvswa', 'luvthem', 'luxclark', 'luxuries', 'luxuriesaesthetics', 'luxurious', 'luxury', 'luz', 'lvdfw', 'lve', 'lx', 'lxa', 'lynchburg', 'lynn', 'maarten', 'maatkare', 'mac', 'macario', 'machine', 'mad', 'madam', 'madbee', 'madden', 'maddieflood', 'madhouse', 'madness', 'madnyc', 'madrid', 'maf', 'mag', 'magazine', 'magic', 'magical', 'magically', 'maiden', 'mail', 'mailbox', 'maimi', 'main', 'maine', 'mainline', 'maint', 'maintain', 'maintenance', 'maintenece', 'mait', 'major', 'majority', 'make', 'makechange', 'makeitright', 'makeovertime', 'makers', 'makessense', 'makestoomuchsense', 'makeup', 'makingloveoutofnothingatall', 'makingthingseasy', 'malaysia', 'malcome', 'male', 'malfunction', 'malhoit', 'malik', 'mall', 'mallowfairy', 'malpensa', 'maltese', 'mammoth', 'man', 'manage', 'management', 'manager', 'managers', 'manana', 'manch', 'manchester', 'manchesterbwi', 'mandarinjourney', 'mandatory', 'maneuver', 'manifest', 'manilla', 'manner', 'manners', 'manually', 'manuel', 'manuelc', 'manufacture', 'many', 'map', 'mar', 'marathon', 'marccopely', 'march', 'marciaveronicaa', 'marcos', 'marcus', 'mardi', 'mardigras', 'margo', 'maria', 'marie', 'marieharf', 'marinadomine', 'mario', 'marisol', 'mark', 'market', 'marketwatch', 'markie', 'markiepost', 'maro', 'marriage', 'marriott', 'marriottrewards', 'marry', 'marsh', 'marsha', 'marshal', 'marshall', 'martha', 'martin', 'marty', 'martysg', 'marvinatorsb', 'marxsterbcow', 'mary', 'maryellagreen', 'maryjo', 'mash', 'mask', 'mason', 'mass', 'massage', 'massive', 'massivefail', 'master', 'mastercard', 'mat', 'match', 'matchgot', 'math', 'matteboss', 'matter', 'matthewebel', 'mattthomasnews', 'mauererpower', 'maui', 'maverick', 'max', 'maxabrahms', 'maxfitgirl', 'maximization', 'may', 'maybe', 'maybeijustlost', 'maybemange', 'maysep', 'maysvillenyc', 'mayweather', 'mayweatherpacquiao', 'mbas', 'mbj', 'mbps', 'mbr', 'mc', 'mccaren', 'mccarran', 'mcdonnell', 'mce', 'mcgraw', 'mci', 'mckinnie', 'mclarren', 'mcmullen', 'mco', 'mcokeep', 'md', 'mdbeei', 'mddc', 'mde', 'mdtmy', 'mdw', 'mdwfll', 'mdwmci', 'mdwsan', 'meagan', 'meal', 'meals', 'mean', 'meaningful', 'meanit', 'meantime', 'meanwhile', 'measles', 'measly', 'measure', 'measurements', 'meat', 'mech', 'mechanic', 'mechanical', 'mechanicalissue', 'mechanics', 'med', 'medal', 'medallion', 'media', 'medical', 'medicalissue', 'medically', 'medication', 'medicine', 'mediocre', 'medium', 'meds', 'medusafridays', 'meelan', 'meerikangas', 'meet', 'meetingsinterviews', 'meetthefleet', 'mega', 'megelizabeth', 'megentripodi', 'meggersrocks', 'megzezzo', 'meh', 'mejia', 'mel', 'melaniespring', 'melbourne', 'melinda', 'melissa', 'melissaafrancis', 'mellani', 'mellie', 'melt', 'mem', 'memake', 'member', 'members', 'membership', 'memgrizz', 'memo', 'memorial', 'memories', 'memorize', 'memory', 'memphis', 'men', 'menow', 'ment', 'mental', 'mentality', 'mention', 'menu', 'menus', 'mercy', 'mere', 'merge', 'merger', 'mergerdisaster', 'mergers', 'meright', 'meseems', 'mesit', 'mess', 'message', 'messcng', 'metal', 'metars', 'method', 'methods', 'metro', 'mex', 'mexico', 'mfps', 'mga', 'mgmt', 'mgood', 'mgr', 'mht', 'mhtforlife', 'mhtt', 'mi', 'mia', 'miacur', 'miaewr', 'mialga', 'miami', 'miamiphl', 'miamore', 'miasfo', 'miatoiah', 'miboston', 'michael', 'michaelbcoleman', 'michele', 'michelle', 'microsecond', 'mid', 'midb', 'middle', 'middleeast', 'mideast', 'midght', 'midland', 'midnight', 'midnite', 'midoexhibition', 'midterm', 'midtravel', 'midway', 'midwaychicago', 'might', 'mightmismybrosgraduation', 'mighty', 'miguel', 'mike', 'mikeabramson', 'mikehertz', 'mikes', 'milage', 'milageplus', 'milan', 'mild', 'mile', 'mileage', 'mileageplus', 'mileagerun', 'milehighselfieclub', 'miler', 'miles', 'milesaaver', 'milesstatus', 'milesthank', 'milesthe', 'milestone', 'military', 'million', 'millions', 'milwaukee', 'mimosa', 'min', 'mind', 'mindset', 'mine', 'minefits', 'minenow', 'minflight', 'minhour', 'mini', 'minimal', 'minimum', 'minneapolis', 'minor', 'minors', 'mins', 'minsit', 'minssss', 'mint', 'mintalicious', 'mintyfresh', 'minute', 'minutes', 'miracle', 'miracles', 'miraculously', 'miranda', 'miriam', 'mis', 'misbehavior', 'miscalculation', 'miscnx', 'miscommunicated', 'misconnected', 'miscount', 'miserable', 'miserablemorning', 'miserably', 'misery', 'misfortune', 'misguide', 'mishaps', 'misinformation', 'misjudge', 'mislead', 'mismanagement', 'misplace', 'mispurchase', 'misread', 'miss', 'missedconnection', 'missedflight', 'missedupgrades', 'missedwork', 'missin', 'missingstollen', 'missingtheoscars', 'mission', 'missmykids', 'misspell', 'mistake', 'mistakefurious', 'mistreat', 'mistreatment', 'misunderstand', 'mitchell', 'mitchellairport', 'mitchsunderland', 'mite', 'mites', 'mix', 'mixtape', 'mk', 'mke', 'mkt', 'mktg', 'mkwlkr', 'ml', 'mli', 'mllovelace', 'mltple', 'mmm', 'mn', 'mnth', 'moar', 'mobay', 'mobil', 'mobile', 'mobileboarding', 'mobility', 'mod', 'model', 'modelodenegocio', 'moderate', 'modifications', 'modify', 'moines', 'mojave', 'mold', 'mom', 'moment', 'moments', 'momma', 'mommy', 'moms', 'momsgoodeats', 'mon', 'monday', 'monetary', 'money', 'moneyelsewhere', 'moneynotspentonunited', 'monfr', 'monica', 'monika', 'monitor', 'monkey', 'monopoly', 'mons', 'monsoon', 'mont', 'montana', 'montego', 'monterey', 'montereyregionalairport', 'month', 'monthly', 'monthold', 'months', 'montreal', 'montrose', 'mood', 'moodlight', 'moodlighting', 'moodlitmonday', 'mooks', 'moon', 'moose', 'mor', 'morn', 'morning', 'morons', 'morrow', 'morrw', 'mortify', 'mos', 'mosaic', 'mosaicmecrazy', 'mosiac', 'mosiacfail', 'mostbut', 'mostly', 'mot', 'motel', 'mother', 'motherinlaw', 'motherpollock', 'motion', 'motor', 'motto', 'motvida', 'mountains', 'mouse', 'mouth', 'move', 'moveaboutthecountry', 'movement', 'movements', 'moveup', 'movie', 'movies', 'mp', 'mpagent', 'mph', 'mphx', 'mpls', 'mpwnc', 'mqxc', 'mr', 'mrandyep', 'mrerickv', 'mrjustyn', 'mrn', 'mrobinson', 'mrrenevendez', 'ms', 'msbgu', 'msg', 'msgs', 'msn', 'msnbc', 'msp', 'msscottwg', 'msy', 'msydca', 'mt', 'mtg', 'mtgs', 'mths', 'mtn', 'mty', 'muc', 'much', 'muchas', 'muchneeded', 'mug', 'muh', 'multi', 'multibillion', 'multicity', 'multimedia', 'multimillion', 'multinational', 'multiple', 'multipledooropeningandclosing', 'multiplier', 'multix', 'mumbai', 'mumble', 'mundane', 'munich', 'murder', 'murdock', 'murphyjulie', 'murraysawchuck', 'muscle', 'music', 'musical', 'musician', 'musicians', 'must', 'muzak', 'mv', 'mvmt', 'mvp', 'mwa', 'mwangbickler', 'mx', 'mxo', 'mxpjfk', 'mybday', 'myers', 'mypompanobeach', 'myrcltord', 'myrtle', 'myselfothers', 'mysterious', 'mysteriously', 'mystery', 'mytimeismoney', 'myvxexperience', 'myyb', 'na', 'nabisco', 'nada', 'nade', 'nader', 'naelah', 'nah', 'naiamiaa', 'nail', 'nakedmeetings', 'name', 'nan', 'nanceebing', 'nancy', 'nanosmattering', 'nantucket', 'naomicooper', 'nap', 'napkins', 'naples', 'narayanan', 'narita', 'narrow', 'narrower', 'narrowly', 'nas', 'nasbwi', 'nascar', 'nasdaq', 'nashinmypants', 'nashville', 'nashvilledenver', 'nashvilleshould', 'nassau', 'nastiest', 'nasty', 'natca', 'nathankillam', 'nation', 'national', 'nationalairpor', 'nationalize', 'nationwide', 'natl', 'natprodexpo', 'natt', 'natural', 'nature', 'naval', 'navigate', 'navimumbai', 'navy', 'nawww', 'nba', 'nbc', 'nbd', 'nbr', 'nbsnewsr', 'nburnside', 'nc', 'nd', 'ndary', 'ne', 'near', 'nearby', 'nearly', 'necessary', 'necessities', 'necessity', 'need', 'needcoffee', 'neededwhy', 'needknow', 'needlessly', 'needtobehonest', 'needtocatchmynextflight', 'needtogethome', 'negative', 'negativedegrees', 'negatively', 'neglect', 'negligence', 'negligent', 'negotiate', 'negroni', 'neighbor', 'neither', 'nelsjeff', 'nelson', 'nephew', 'neptune', 'nerd', 'nerdbird', 'nerds', 'nerve', 'nervous', 'net', 'netherlands', 'netneutrality', 'network', 'neuer', 'neurosurgery', 'nev', 'neveind', 'never', 'neveragain', 'neverchange', 'neverfails', 'neverflyaaagain', 'neverflyunited', 'neverflyusairways', 'neverflyvirgin', 'neverflyvirginforbusiness', 'nevergettinghome', 'neverontime', 'nevertakeno', 'nevertoldus', 'neveryamind', 'new', 'newairplanes', 'newamerican', 'newamericanairline', 'newamericanstinks', 'newark', 'newarkbrussels', 'newarkliberty', 'newarklondon', 'newborns', 'newburg', 'newburgh', 'newest', 'newflight', 'newlifetimecustomer', 'newly', 'neworleans', 'newplanesmell', 'news', 'newsbusiness', 'newsflt', 'newspaper', 'newsvp', 'newyork', 'next', 'nexttime', 'nexttimeiwillflysouthwest', 'nexus', 'nftyconvention', 'nght', 'nh', 'nhl', 'nhlbruins', 'nhlonnbcsports', 'nice', 'nicedismissive', 'nicely', 'nicer', 'nicest', 'nick', 'nickcunningham', 'nickel', 'nicole', 'niece', 'nigeria', 'nigga', 'niggaz', 'night', 'nightdeplaned', 'nightlife', 'nightmare', 'nightmarish', 'nights', 'nikon', 'ninadavuluri', 'nine', 'nines', 'nippon', 'nit', 'nite', 'nitenot', 'nitrogen', 'nix', 'nixchangefees', 'nj', 'njb', 'njvbp', 'nl', 'nlrphoto', 'nm', 'nma', 'nmagoodlife', 'nmaryland', 'nny', 'noaccountability', 'noah', 'noair', 'noairport', 'noanswer', 'noapology', 'nobackup', 'nobaggagefees', 'nobody', 'noc', 'nocareforcustomers', 'nocharge', 'nochill', 'noclothesnoinfo', 'nocoatcloset', 'nocommunication', 'nocompensation', 'nocrew', 'nocustomerservice', 'nodrinks', 'noenertainmenton', 'noexcuses', 'noexcusesaccepted', 'nofee', 'nofilterneeded', 'nofood', 'nofun', 'nofunatall', 'nogate', 'nogearnotraining', 'nogood', 'nohelp', 'nohelponboard', 'nohotel', 'noise', 'nojetblue', 'nokidhungry', 'nola', 'nolaorlando', 'nolo', 'nolove', 'noloveforsurfers', 'noltnancy', 'noluv', 'nominate', 'nomoaa', 'nomoreaggravation', 'nomorecheckedbags', 'nomorevirgin', 'non', 'nondelayed', 'none', 'nonempty', 'nonenglish', 'noneother', 'nonetheless', 'nonewplanes', 'nonexistent', 'nonperformance', 'nonprofit', 'nonprofitcan', 'nonprofits', 'nonrefundable', 'nonsense', 'nonservice', 'nonstop', 'nonstops', 'nonumber', 'nonupgrade', 'nonvegan', 'nonweather', 'noob', 'noodles', 'noon', 'noone', 'noooo', 'nooooo', 'noooooooooooooooooo', 'noooooooooooooooooooooope', 'nooption', 'nope', 'noplacelikehome', 'norahm', 'noreimbursement', 'noreply', 'norfolk', 'norm', 'norma', 'normal', 'normally', 'norris', 'north', 'northeast', 'northern', 'norush', 'norway', 'nose', 'nosecuritylines', 'nosedive', 'noservice', 'noshadetothedmv', 'noshow', 'nostalgic', 'nosupport', 'not', 'notafanofyourmerger', 'notahappycustomer', 'notahappytraveler', 'notanymore', 'notbabysitters', 'notbut', 'notch', 'notcomingback', 'notcool', 'note', 'notevenjv', 'notfair', 'notfriendly', 'notgoodenough', 'nothanks', 'nothappy', 'nothelpful', 'nothin', 'nothing', 'nothingand', 'nothinghoping', 'nothings', 'nothini', 'notice', 'notification', 'notifications', 'notify', 'notimpressed', 'notion', 'notmadeofmoney', 'notmyfault', 'notnice', 'notokay', 'notourfaultyoudontuseyourgatesright', 'notpghtimothy', 'notsatisfied', 'notsurprising', 'nottrue', 'notwheelsup', 'nov', 'novel', 'november', 'novemberdecember', 'nowarmclothes', 'nowfrustrated', 'nowhere', 'nowhereland', 'noworse', 'noworstairline', 'noxtralegroom', 'nozzle', 'npbhd', 'nrhodes', 'nrosenb', 'nrt', 'nsw', 'nt', 'nthin', 'ntrustopen', 'nudgenudge', 'nullify', 'num', 'number', 'numberphone', 'numerical', 'numerous', 'nut', 'nutella', 'nutsaboutsouthwest', 'nuw', 'nvm', 'nvr', 'nw', 'nwk', 'nwn', 'nws', 'nxt', 'ny', 'nyc', 'nycas', 'nycbuenos', 'nycjfk', 'nyers', 'nyfw', 'nyjets', 'nynjairports', 'nyt', 'nytimes', 'nzherald', 'oaaret', 'oahu', 'oak', 'oakland', 'oatmeal', 'obama', 'obey', 'obj', 'obnoxious', 'obscene', 'observation', 'observe', 'observer', 'obsess', 'obsolete', 'obtain', 'obvious', 'obviously', 'oc', 'occasion', 'occupy', 'occur', 'ocean', 'oct', 'octavia', 'octaviannightmare', 'october', 'odd', 'odds', 'ods', 'offcalls', 'offend', 'offenders', 'offensive', 'offensively', 'offer', 'offeringat', 'office', 'officer', 'offices', 'official', 'officially', 'offline', 'offload', 'ofi', 'often', 'ogg', 'oh', 'ohare', 'ohboy', 'ohead', 'ohing', 'ohio', 'ohioprobz', 'ohk', 'ohno', 'oil', 'ok', 'okaaaaay', 'okay', 'okayyyy', 'okc', 'okcdirects', 'okcprofessionals', 'okcthunder', 'okee', 'okie', 'olavarria', 'old', 'older', 'oldplanes', 'oldpolicieswaybetter', 'olds', 'oldseatnocushion', 'olive', 'olives', 'olympic', 'oma', 'omaha', 'omg', 'omgee', 'onboad', 'onboard', 'onboardalerted', 'onbrd', 'oncall', 'ondemand', 'one', 'oneasy', 'onechildfourbags', 'onehouronhold', 'onelove', 'ones', 'onestop', 'oneway', 'oneworld', 'onfleek', 'ongoing', 'onhold', 'onholdfordays', 'onholdforever', 'onholdwith', 'onion', 'online', 'onlineapp', 'onlineuseless', 'onlinewas', 'onlyblue', 'onlyinamerica', 'onlywaytofly', 'onmultiple', 'onplane', 'ons', 'ont', 'ontario', 'ontarmac', 'ontime', 'onto', 'ooh', 'ooookay', 'oops', 'op', 'opal', 'opaque', 'open', 'openskies', 'operate', 'operation', 'operational', 'operations', 'operator', 'operators', 'opinion', 'opinions', 'opportunities', 'opportunity', 'oppose', 'opposite', 'oprah', 'ops', 'opsec', 'opt', 'optimistic', 'optin', 'option', 'options', 'optout', 'orange', 'orangecounty', 'orbitz', 'ord', 'orddca', 'ordeal', 'order', 'ordewr', 'ordlga', 'ordlhr', 'ordnoise', 'ordnrt', 'ordpvg', 'ordseriously', 'ordsfo', 'ordwe', 'ordywg', 'oregon', 'oreos', 'orf', 'org', 'organization', 'organizational', 'organizations', 'organize', 'orig', 'origami', 'origin', 'original', 'originally', 'originate', 'origindestinationdates', 'orl', 'orlando', 'orlandosentinel', 'orleans', 'orphan', 'orphanage', 'orthodoc', 'os', 'oscar', 'oscarnight', 'oscars', 'oscarscountdown', 'oscarworthy', 'others', 'otherwise', 'othr', 'otis', 'ots', 'ottawa', 'ou', 'ouch', 'ought', 'oui', 'ourguest', 'ourprincess', 'oust', 'outage', 'outbound', 'outbreak', 'outcome', 'outdated', 'outdoor', 'outfit', 'outin', 'outlets', 'outline', 'outlook', 'outofbusiness', 'outofdate', 'outoftouchwithreality', 'outpost', 'outrage', 'outrageous', 'outright', 'outside', 'outsource', 'outstanding', 'outta', 'outtage', 'outward', 'overall', 'overbk', 'overbook', 'overbooked', 'overbookedgng', 'overcarry', 'overcharge', 'overchging', 'overfill', 'overflight', 'overflow', 'overhaul', 'overhead', 'overheads', 'overhear', 'overheat', 'overkill', 'overload', 'overlook', 'overnight', 'overprice', 'overreact', 'overseas', 'overselling', 'oversize', 'oversized', 'oversleep', 'oversold', 'overtime', 'overweight', 'overwhelm', 'overzealous', 'oveur', 'ow', 'owe', 'owen', 'own', 'owner', 'ownership', 'oxgen', 'oy', 'oyu', 'oz', 'ozs', 'pa', 'pac', 'pace', 'pacific', 'pacificbiznews', 'pacify', 'pack', 'package', 'packermama', 'packingayak', 'pacquiao', 'pact', 'pad', 'padresst', 'pafe', 'page', 'paigeworthy', 'pain', 'painandsuffering', 'painful', 'painfully', 'painless', 'paint', 'pair', 'pal', 'palm', 'pamgrout', 'pamper', 'panam', 'panamerican', 'panchojoe', 'pandora', 'pandu', 'panic', 'pant', 'panynj', 'paper', 'paperwork', 'par', 'parachuteguy', 'paradise', 'parameters', 'paranoid', 'parent', 'parentsonboard', 'parhetic', 'paris', 'parizad', 'park', 'parker', 'parody', 'parryaftab', 'part', 'partial', 'participate', 'particular', 'particularly', 'particulars', 'partly', 'partner', 'partnerrewards', 'partnership', 'partnerships', 'party', 'pascucci', 'paseengers', 'pasengers', 'paso', 'pass', 'passbook', 'passenegers', 'passenger', 'passengerbillofrights', 'passengers', 'passengersarepeople', 'passengerslose', 'passion', 'passive', 'passngr', 'passport', 'password', 'past', 'pasta', 'paste', 'pastmypatienceexpirationdate', 'pastor', 'pat', 'patch', 'path', 'pathetic', 'patheticcx', 'patience', 'patienceiswearingthin', 'patiencerunningout', 'patient', 'patiently', 'patriarc', 'patrichruben', 'patricia', 'patrick', 'patron', 'patronize', 'pattern', 'pattonoswalt', 'paul', 'paulbev', 'paulgordonbrown', 'paulo', 'paw', 'pax', 'paxex', 'pay', 'paycheck', 'payment', 'payments', 'paymytab', 'paypal', 'payton', 'paytontaylor', 'pb', 'pbi', 'pbiboston', 'pbijfk', 'pbpinftworth', 'pdquigley', 'pdw', 'pdx', 'pe', 'peace', 'peach', 'peak', 'peanut', 'peanuts', 'peanutsandtoons', 'peanutsnuts', 'peanutsonaplatter', 'peanuttreenut', 'pearl', 'peas', 'peculiar', 'pedophile', 'pedro', 'peel', 'peep', 'peer', 'peeve', 'peggy', 'pek', 'pen', 'penalize', 'penalty', 'pending', 'penguin', 'pennies', 'pennypincher', 'pensacola', 'people', 'peopleon', 'pepper', 'pepperidge', 'per', 'percentage', 'pereira', 'perfect', 'perfectly', 'perfectomobile', 'perform', 'performance', 'perhaps', 'perhr', 'period', 'periods', 'periolodicly', 'perk', 'permanent', 'permanently', 'permission', 'permissions', 'persist', 'persistence', 'person', 'personable', 'personal', 'personality', 'personalize', 'personally', 'personnel', 'perspective', 'perth', 'pesky', 'pet', 'peter', 'peterpiatetsky', 'peterstraubmma', 'petition', 'petty', 'pgashow', 'pgatour', 'pgfryz', 'pgh', 'ph', 'phantom', 'phdmama', 'phenomenal', 'phew', 'phf', 'phi', 'phil', 'philacarservice', 'philadelphia', 'philippines', 'phillip', 'philly', 'philpete', 'phishing', 'phl', 'phlairport', 'phlbos', 'phlcrw', 'phldfw', 'phlmco', 'phlmia', 'phlord', 'phlsfo', 'phltolas', 'phltoslc', 'phn', 'pho', 'phoenix', 'phomia', 'phone', 'phonedied', 'phoneeeee', 'phoneinperson', 'phonenot', 'phoneonline', 'phoneonly', 'photo', 'photography', 'photos', 'phrase', 'phrps', 'phx', 'phxphl', 'phxskyharbor', 'physical', 'physically', 'pia', 'pic', 'pick', 'pickng', 'pics', 'picture', 'pid', 'pie', 'piece', 'piela', 'pig', 'pigeon', 'piggy', 'pile', 'pillow', 'pilot', 'pilyoc', 'pimentel', 'pin', 'ping', 'pink', 'pip', 'pir', 'piss', 'pissedvery', 'pisspoor', 'pistol', 'pit', 'pita', 'pitiad', 'pitt', 'pitts', 'pittsburg', 'pittsburgh', 'pity', 'pivotalcf', 'pizza', 'pj', 'pjs', 'pkg', 'place', 'placedranked', 'plague', 'plain', 'plainly', 'plan', 'planb', 'plane', 'planebroken', 'planehow', 'planeno', 'planeso', 'planestrainsandautomobiles', 'planet', 'planewide', 'planner', 'plant', 'plastic', 'plat', 'plate', 'platinum', 'platinummember', 'platinums', 'platitudes', 'platter', 'play', 'playa', 'player', 'players', 'playlist', 'playsoon', 'plead', 'pleasant', 'pleasantly', 'please', 'pleasecomeback', 'pleaseeee', 'pleaseeeeee', 'pleasegod', 'pleasehelp', 'pleasehurryup', 'pleasemy', 'pleasent', 'pleasure', 'pleasurerelief', 'plebes', 'pleeeease', 'pleeeeease', 'pleeeeeeeease', 'plenty', 'plitt', 'pln', 'plot', 'plough', 'plow', 'pls', 'plse', 'plt', 'plug', 'plumber', 'plunder', 'plus', 'plz', 'pm', 'pmcan', 'pmwe', 'pn', 'pnr', 'pns', 'pnut', 'poc', 'pocket', 'podium', 'point', 'pointer', 'pointless', 'pointsme', 'pointsmileage', 'pointy', 'poison', 'poisonpill', 'poker', 'pole', 'police', 'policies', 'policiescost', 'policy', 'policyfees', 'polite', 'politely', 'pooch', 'pool', 'poop', 'poor', 'poorcommunication', 'poorcustomerservice', 'poorcustumerservice', 'poorest', 'poorform', 'poorly', 'poorlyhandled', 'poornoncommunication', 'poorplanning', 'poorservice', 'pop', 'popular', 'populate', 'pordes', 'porn', 'port', 'portable', 'portal', 'portauprince', 'portcolumbuscmh', 'portfolio', 'portion', 'portland', 'portlandjetport', 'portray', 'portsmouth', 'pos', 'position', 'positive', 'posmia', 'possession', 'possessions', 'possiable', 'possibilities', 'possibility', 'possible', 'possibly', 'post', 'postcode', 'postmasters', 'postpone', 'postsecretcom', 'potable', 'potatoes', 'poteettj', 'potential', 'potentially', 'potus', 'poughkeepsie', 'pound', 'pout', 'powder', 'power', 'pp', 'ppl', 'pple', 'pqd', 'pqds', 'pqm', 'pqms', 'pr', 'practical', 'practice', 'praise', 'prank', 'pray', 'prayer', 'praywinn', 'prbound', 'prchase', 'prds', 'pre', 'preboard', 'preboarding', 'preboards', 'prebook', 'prebooked', 'precheck', 'prechk', 'preciate', 'preciation', 'precious', 'precioustime', 'precipitation', 'preclude', 'predawn', 'predict', 'predictable', 'predictive', 'preemptive', 'preexist', 'pref', 'prefer', 'preferably', 'preference', 'preferences', 'prefference', 'preflight', 'prefundia', 'pregame', 'preggo', 'pregnant', 'pregnantwithtwins', 'prem', 'premgold', 'premier', 'premiere', 'premierk', 'premium', 'preoccupy', 'preparation', 'preparations', 'prepare', 'preparedness', 'prepay', 'prepurchase', 'prerecord', 'preregistration', 'prerookie', 'pres', 'presceo', 'prescreen', 'preselect', 'present', 'presentation', 'president', 'presidential', 'press', 'pressure', 'pressurecooker', 'pressurization', 'presumably', 'pretend', 'pretsa', 'pretty', 'prettyplease', 'pretzels', 'prev', 'prevent', 'preventable', 'preventative', 'previous', 'previously', 'prfriendly', 'pri', 'price', 'pricediscrimination', 'priceless', 'priceline', 'pricewise', 'pricey', 'pricy', 'pride', 'prime', 'prince', 'princess', 'princesses', 'princesshalf', 'principle', 'print', 'printer', 'printers', 'prior', 'priorities', 'prioritize', 'priority', 'prison', 'priv', 'private', 'privilege', 'prize', 'prn', 'pro', 'proactive', 'proactively', 'prob', 'probability', 'probably', 'probablynot', 'problem', 'problematic', 'problems', 'problemsbtw', 'problemsolvers', 'problemss', 'probls', 'probs', 'procedure', 'procedures', 'proceed', 'process', 'produce', 'product', 'productivity', 'prof', 'professional', 'professionalism', 'professionalnice', 'professionals', 'professor', 'professorpaul', 'professors', 'proficient', 'profile', 'profit', 'profitability', 'profitable', 'profitbeforepeople', 'profsolutions', 'program', 'programhorrible', 'programmers', 'progress', 'prohibit', 'project', 'prolly', 'prolong', 'prom', 'promise', 'promo', 'promofly', 'promos', 'promote', 'promotethatgirl', 'promotion', 'promotions', 'promotionscodes', 'prompt', 'promptly', 'pronounce', 'proof', 'prop', 'proper', 'properly', 'property', 'proportion', 'proposal', 'proposition', 'pros', 'prospective', 'protect', 'protection', 'protest', 'protocol', 'protocols', 'proud', 'prove', 'provide', 'providence', 'providenciales', 'provider', 'provo', 'ps', 'pseudovoucher', 'psgrs', 'psngrs', 'psp', 'pssgrs', 'pssngrs', 'pst', 'psych', 'psychological', 'pt', 'ptfo', 'pto', 'pts', 'pty', 'pu', 'public', 'publicity', 'publicly', 'publish', 'puerto', 'puj', 'pull', 'pulldown', 'pullin', 'pulse', 'pummel', 'pump', 'punish', 'punishedforflying', 'punta', 'puppy', 'pura', 'purchase', 'purchaseerrorinvalidloyaltymemberaccountstatus', 'pure', 'purely', 'purifier', 'purpose', 'purse', 'push', 'pushback', 'pushy', 'put', 'pv', 'pvd', 'pvdiad', 'pvr', 'pwm', 'qantas', 'qlyss', 'qmfd', 'qqbmug', 'qro', 'qs', 'qsvgru', 'quadruple', 'qualification', 'qualify', 'quality', 'quantas', 'quarter', 'que', 'query', 'question', 'queue', 'quiche', 'quick', 'quicker', 'quickest', 'quickie', 'quickly', 'quiet', 'quietly', 'quintana', 'quirkiness', 'quirky', 'quit', 'quite', 'quito', 'quotations', 'quote', 'qvnmb', 'rabbit', 'race', 'rachel', 'rachelle', 'racist', 'rack', 'rad', 'radio', 'radish', 'raeann', 'raft', 'rag', 'ragandisney', 'rage', 'rail', 'rain', 'rainsleet', 'rainy', 'raise', 'rajuchinthala', 'raleigh', 'ralph', 'ram', 'ramada', 'ramp', 'rampers', 'random', 'randomactsofcorporategreed', 'randomly', 'range', 'rank', 'rant', 'rap', 'rapid', 'rapidly', 'rapidrewards', 'rapids', 'rare', 'rarely', 'rat', 'ratchet', 'rate', 'ratepolicy', 'rather', 'rave', 'ravioli', 'ray', 'rayja', 'razor', 'rcd', 'rcmoficial', 'rcvd', 'rd', 'rdtimethishashappened', 'rdu', 'reaccommodation', 'reach', 'reachable', 'reachingnewlows', 'react', 'reactions', 'reactivate', 'reactive', 'read', 'readded', 'reader', 'readers', 'readily', 'ready', 'reagan', 'reaganairport', 'real', 'realise', 'realistic', 'realistically', 'reality', 'realize', 'really', 'reallytallchris', 'realtime', 'reappear', 'rear', 'rearrange', 'reason', 'reasonable', 'reasonably', 'reassess', 'reassign', 'reativation', 'rebecca', 'reboard', 'reboarded', 'reboarding', 'rebook', 'rebooked', 'rebookplease', 'rebooks', 'reboot', 'rebuild', 'rec', 'recap', 'reccewife', 'receipt', 'receive', 'recent', 'recently', 'recharge', 'recheck', 'rechecked', 'recheduled', 'recieved', 'reciprocate', 'reckless', 'reclaim', 'reclameaqui', 'recline', 'recognition', 'recognize', 'recommend', 'recommendation', 'reconsider', 'record', 'recoup', 'recourse', 'recover', 'recovery', 'recruit', 'recruiter', 'rectify', 'recvd', 'recycle', 'red', 'redcarpet', 'reddit', 'redeem', 'redeempoints', 'redemption', 'redesign', 'redeye', 'redheaded', 'redirect', 'redo', 'redreserve', 'redsox', 'reduce', 'reduction', 'redwineisbetter', 'reebok', 'reebooked', 'reek', 'reevaluate', 'ref', 'refer', 'reference', 'referral', 'reflect', 'reflection', 'reflight', 'reform', 'refrain', 'refresh', 'refresher', 'refreshments', 'refsd', 'refuel', 'refund', 'refundable', 'refundplease', 'refundprocedurenottoopainful', 'refurbish', 'refuse', 'regain', 'regard', 'regardless', 'regina', 'regional', 'register', 'registration', 'regrading', 'regret', 'regular', 'regularly', 'regulation', 'regulations', 'rehman', 'reign', 'reimburse', 'reimbursement', 'reinforcements', 'reinstate', 'reinterview', 'reinvest', 'reissue', 'reiterate', 'reject', 'relate', 'relations', 'relationship', 'relationships', 'relative', 'relatives', 'relax', 'relay', 'release', 'relevant', 'reliability', 'reliable', 'reliablefriendly', 'relief', 'relieve', 'reload', 'reluctant', 'rely', 'rem', 'remain', 'remark', 'remedy', 'remember', 'remind', 'reminder', 'remorse', 'remote', 'remotely', 'removal', 'remove', 'renew', 'renhotels', 'reno', 'renoairport', 'rent', 'rental', 'rentals', 'renttherunway', 'reopen', 'rep', 'repaint', 'repair', 'repartee', 'repay', 'repeat', 'repeatably', 'repeatedly', 'repexper', 'replace', 'replacement', 'replicate', 'reply', 'replyingi', 'report', 'reporter', 'reposted', 'reposting', 'repping', 'reprehensible', 'represent', 'representative', 'representatives', 'reproach', 'reps', 'republic', 'republican', 'repurchase', 'reputation', 'reqing', 'reqs', 'request', 'require', 'requirement', 'requirements', 'requiresshe', 'reread', 'reroute', 'rerouted', 'rerouting', 'res', 'resch', 'resched', 'reschedule', 'reschedulemyflight', 'reschedulereplane', 'rescue', 'research', 'reseat', 'resell', 'resend', 'resending', 'resent', 'reserv', 'reservation', 'reservationchange', 'reservations', 'reserve', 'reset', 'reside', 'resole', 'resolution', 'resolutions', 'resolve', 'resort', 'resource', 'resources', 'resourcesratings', 'respect', 'respectful', 'respond', 'response', 'responseplease', 'responses', 'responseservice', 'responsetough', 'responsibility', 'responsibilitytoo', 'responsible', 'responsive', 'responsiveness', 'responsivethoughts', 'ressie', 'rest', 'restaff', 'restate', 'restless', 'restore', 'restr', 'restriction', 'restrictions', 'restrm', 'restroom', 'restrooms', 'restructure', 'result', 'resume', 'retailbagholder', 'retailer', 'retain', 'retake', 'retard', 'rethink', 'reticketed', 'retire', 'retract', 'retrain', 'retribution', 'retrieve', 'retrn', 'retroactively', 'rett', 'return', 'retweet', 'retweeted', 'retweets', 'reunion', 'reunite', 'reupgrade', 'reuse', 'reuters', 'rev', 'reveal', 'revenue', 'revers', 'reverse', 'revert', 'revieving', 'review', 'revision', 'revisit', 'revive', 'revue', 'reward', 'rez', 'rhonda', 'ri', 'ric', 'rica', 'ricardo', 'ricdfw', 'rich', 'richard', 'rick', 'ricky', 'rico', 'ricoh', 'rid', 'ride', 'ridic', 'ridicule', 'ridiculous', 'ridiculously', 'ridiculousness', 'ridiculousor', 'riedel', 'rifle', 'right', 'rigorous', 'rikrik', 'rim', 'ring', 'ringling', 'rio', 'riot', 'rip', 'ripme', 'ripoff', 'ripoffs', 'ripskymall', 'rise', 'risk', 'rita', 'ritacomo', 'ritz', 'rival', 'rivet', 'rizzilient', 'rjs', 'rldelahunty', 'rly', 'rmoug', 'rn', 'rncahill', 'rnd', 'rndtrp', 'rno', 'rnodfw', 'rnp', 'road', 'roadmap', 'roads', 'roadtrip', 'roadwarrior', 'roanoke', 'roast', 'rob', 'robbedexplain', 'robbogart', 'robcnyc', 'robert', 'robertdwyer', 'robertfor', 'roberto', 'roberts', 'robin', 'robinreda', 'robocalls', 'robot', 'robotic', 'robotweeting', 'robprice', 'robthecameraman', 'robyn', 'roc', 'rocif', 'rock', 'rockers', 'rockies', 'rockingthetweets', 'rockinwellness', 'rockstar', 'rockstars', 'rocky', 'rodeo', 'roger', 'rolemodel', 'roll', 'rollaboard', 'rollerboards', 'rollercoaster', 'rollers', 'roo', 'rookie', 'room', 'rosetta', 'rotary', 'rotten', 'rough', 'round', 'roundtrip', 'roundtrips', 'rout', 'route', 'router', 'routine', 'routinely', 'row', 'roxydigital', 'royal', 'royally', 'rozana', 'rqstd', 'rr', 'rs', 'rscheduling', 'rsrv', 'rsw', 'rt', 'rtb', 'rtn', 'rtrn', 'rtw', 'ru', 'rub', 'rubber', 'rubbish', 'rude', 'rudely', 'rudelyreturning', 'rudeness', 'rudeservice', 'rudest', 'rudestaff', 'ruin', 'ruiningmy', 'rule', 'rulesshouldbend', 'rum', 'rumor', 'run', 'runaround', 'rundisney', 'runners', 'runnin', 'runningonthreehoursofsleep', 'runway', 'runways', 'rush', 'russ', 'russell', 'russellswriting', 'russelneiss', 'russia', 'ruth', 'ruthslobodin', 'rwg', 'rwrd', 'rx', 'ryand', 'rylietolbert', 'sa', 'sabe', 'sabotage', 'sabre', 'sac', 'sacintlairport', 'sacraig', 'sacramento', 'sad', 'sadden', 'sadie', 'sadly', 'safari', 'safe', 'safely', 'safer', 'safety', 'safetyconcerns', 'safetyfirst', 'saga', 'sagerooski', 'saharasams', 'saianel', 'saidi', 'sail', 'sailor', 'saipan', 'salad', 'sale', 'sales', 'salisbury', 'sally', 'salt', 'salvage', 'sam', 'samantha', 'samartzis', 'samchampion', 'sameday', 'sammijons', 'samoore', 'sample', 'samsonite', 'san', 'sand', 'sandiego', 'sandra', 'sandwich', 'sanfrancisco', 'sanitize', 'sanitizer', 'sanity', 'sanm', 'sansfo', 'santa', 'santo', 'sao', 'sap', 'sapphire', 'sarah', 'sarahpompei', 'sarahzou', 'sarcasm', 'sarcastic', 'sarcastically', 'sardine', 'sarita', 'sass', 'satellite', 'satesq', 'satisfaction', 'satisfactorily', 'satisfactory', 'satisfy', 'sato', 'saturday', 'saturdays', 'sauce', 'sauna', 'sauvignon', 'sav', 'savannah', 'save', 'saveface', 'saver', 'savethediagonals', 'savethoseseats', 'saveus', 'saviour', 'savr', 'saw', 'saxonandparole', 'say', 'sayin', 'saysorrychris', 'sb', 'sba', 'sbn', 'sby', 'sc', 'scale', 'scalpel', 'scam', 'scan', 'scandal', 'scar', 'scare', 'scareair', 'scareways', 'scarf', 'scary', 'scatter', 'scavenger', 'scenario', 'scenarios', 'scene', 'scenes', 'scent', 'sch', 'schd', 'sche', 'sched', 'schedule', 'schedulecontact', 'scheme', 'schiphol', 'school', 'schooler', 'schoolgirl', 'science', 'sciencebehindtheexperience', 'scl', 'scm', 'scold', 'scooby', 'scoop', 'scoot', 'scope', 'scotch', 'scott', 'scotthroth', 'scramble', 'scratch', 'screakjmf', 'scream', 'screen', 'screencap', 'screensand', 'screenshot', 'screw', 'scroll', 'scrum', 'scumbag', 'scvpools', 'sd', 'sdf', 'sdfairport', 'sdq', 'se', 'sea', 'seabos', 'seahou', 'seam', 'sean', 'seanmfmadden', 'seanvrose', 'search', 'season', 'seasonal', 'seat', 'seatac', 'seatarmrest', 'seatback', 'seatbelt', 'seatmate', 'seatstray', 'seattle', 'seattlebound', 'seau', 'sec', 'second', 'secondary', 'secondly', 'secret', 'secrets', 'secs', 'section', 'sector', 'secure', 'security', 'sedholm', 'seductive', 'see', 'seek', 'seem', 'seemless', 'seet', 'seetonight', 'seevery', 'seg', 'segment', 'segs', 'seguinej', 'segway', 'select', 'selection', 'selectionchange', 'selections', 'self', 'selfcheck', 'selfie', 'selfies', 'selfinterest', 'selfservice', 'selfupgraded', 'sell', 'sellmypointssoon', 'sellout', 'selves', 'semantics', 'semester', 'send', 'sendambien', 'sendingposting', 'senior', 'sense', 'senseless', 'sensitive', 'sentierimelinda', 'sentiment', 'sentimental', 'sentinel', 'sep', 'separate', 'separately', 'sept', 'september', 'ser', 'serenitynow', 'series', 'serious', 'seriously', 'seriousness', 'serv', 'serve', 'servers', 'service', 'servicecare', 'servicedog', 'servicefail', 'servicelooks', 'serviceopen', 'session', 'sests', 'set', 'setorii', 'settle', 'setup', 'sev', 'seven', 'several', 'severally', 'severe', 'severely', 'sex', 'sexual', 'sexually', 'sexy', 'sf', 'sfo', 'sfodfw', 'sfoewr', 'sfofll', 'sfojfk', 'sfolax', 'sfolaxsalclo', 'sfoord', 'sfopdx', 'sfosea', 'sfotobos', 'sfoyyj', 'sgf', 'sh', 'shade', 'shadier', 'shady', 'shaft', 'shake', 'shaker', 'shaky', 'shall', 'sham', 'shamble', 'shame', 'shameful', 'shameonyou', 'shampoo', 'shanese', 'shanghai', 'shannon', 'shannonbloom', 'shannonwoodward', 'shaquille', 'share', 'sharktank', 'sharon', 'sharp', 'shatter', 'shavon', 'shawn', 'sheer', 'sheesh', 'sheila', 'shelf', 'shelleyandmarcrock', 'shenanigans', 'sherocks', 'shesaidrun', 'shhhh', 'shift', 'shin', 'ship', 'shirt', 'shit', 'shitshow', 'shitty', 'shittydeal', 'shivadelrahim', 'shiver', 'shiz', 'shld', 'shock', 'shocker', 'shoddy', 'shoe', 'shoot', 'shop', 'short', 'shortage', 'shortcomings', 'shortcuts', 'shortly', 'shortshorts', 'shortstaffed', 'shots', 'shotwest', 'shoulda', 'shoulder', 'shouldhavedriven', 'shouldhaveflowndelta', 'shouldhaveflownjetblue', 'shouldigetoutandpush', 'shouldwearmasks', 'shout', 'shoutout', 'show', 'showentered', 'shower', 'showexpert', 'showsomerespect', 'showup', 'shrimp', 'shrinerack', 'shrug', 'sht', 'shuck', 'shuffle', 'shulemstern', 'shut', 'shuttle', 'shv', 'siberia', 'sibling', 'siblings', 'sick', 'sickcrew', 'side', 'sidewhy', 'sigh', 'sight', 'sign', 'signage', 'signal', 'significant', 'significantly', 'signin', 'signon', 'signup', 'sil', 'silence', 'silicon', 'sill', 'silly', 'silver', 'silverairways', 'silverairwsys', 'silverstatus', 'sime', 'similar', 'simonroesner', 'simple', 'simplify', 'simply', 'simultaneously', 'since', 'sincere', 'sincerely', 'sine', 'sing', 'singapore', 'singer', 'single', 'sink', 'sinuses', 'siouxfalls', 'sir', 'sirius', 'sis', 'sister', 'sisters', 'sit', 'site', 'siteapp', 'sitecomplicated', 'siteit', 'sitters', 'sittin', 'sittingontheplane', 'sittingonthetarmac', 'situation', 'situations', 'situationsyour', 'sivi', 'six', 'size', 'sizer', 'sj', 'sjc', 'sjo', 'sjoiad', 'sju', 'skateboard', 'sked', 'ski', 'skibootbag', 'skift', 'skilled', 'skillful', 'skills', 'skin', 'skip', 'skiplagged', 'skipper', 'sky', 'skycap', 'skycaps', 'skymall', 'skypewell', 'skyscanner', 'skyteam', 'skytrax', 'skyw', 'skywest', 'slacksoftuk', 'slam', 'slapintheface', 'slash', 'slaycancerwithdragons', 'slc', 'slcairport', 'sld', 'sledge', 'sleekmoney', 'sleep', 'sleepbut', 'sleepless', 'sleepy', 'sleet', 'slew', 'slice', 'slide', 'slight', 'slightly', 'slime', 'slip', 'sliver', 'slog', 'slogan', 'sloooooow', 'sloooowresponses', 'slop', 'sloppy', 'slot', 'slow', 'slowdown', 'slower', 'slowest', 'slowfi', 'slowly', 'slowness', 'sm', 'sma', 'small', 'smaller', 'smallerthinner', 'smallest', 'smalls', 'smart', 'smarter', 'smash', 'smell', 'smelly', 'smf', 'smfh', 'smh', 'smile', 'smisek', 'smite', 'smith', 'smm', 'smoke', 'smoooothest', 'smooth', 'smoothest', 'smoothflight', 'smoothie', 'smoothly', 'smoothoperation', 'smoothtransition', 'sms', 'smth', 'smugsmirk', 'smusportmgt', 'smyc', 'sna', 'snack', 'snacksthank', 'snafu', 'snag', 'snaord', 'snap', 'snapchat', 'sneak', 'sneaky', 'snit', 'snobby', 'snoop', 'snow', 'snowball', 'snowbama', 'snowboard', 'snowbound', 'snowfall', 'snowforce', 'snowice', 'snowstorm', 'snowstorms', 'snowwillnevermelt', 'snowy', 'soak', 'sob', 'sobewff', 'soc', 'social', 'socialtantrum', 'society', 'sock', 'socketyou', 'soda', 'sodone', 'sofly', 'soft', 'software', 'sohappy', 'sol', 'solar', 'solate', 'sole', 'solid', 'solo', 'solution', 'solutions', 'solve', 'sombrons', 'somebody', 'somehow', 'someone', 'someoneawesome', 'someones', 'something', 'sometime', 'sometimes', 'somewhat', 'somewhere', 'somthing', 'son', 'song', 'songs', 'sons', 'sonyasloanmd', 'soon', 'sooner', 'sooo', 'soooo', 'sooooo', 'soooooo', 'sooooooo', 'sop', 'soreback', 'sorry', 'sorrynotsorry', 'sort', 'sorta', 'sorude', 'sosmart', 'sotelo', 'soul', 'soulandinspiration', 'souljacoy', 'sound', 'soundofmusic', 'sour', 'sourhwest', 'sous', 'south', 'southbendinwhere', 'southern', 'southwest', 'southwestair', 'southwestairlines', 'southwestairwasthere', 'southwestfail', 'southwestluv', 'southwestluvsweeps', 'southwestoliver', 'southwestrally', 'southwestrocks', 'southwestsmoothie', 'southwestsucks', 'southwestverity', 'southworst', 'sox', 'sozldj', 'sp', 'space', 'spade', 'spaghetti', 'spagnuolo', 'spain', 'spam', 'spamjunk', 'span', 'spanish', 'spare', 'sparkle', 'speak', 'spec', 'special', 'specialist', 'specially', 'specialolympics', 'specials', 'specific', 'specifically', 'specifics', 'specify', 'speciifc', 'spectacular', 'spectacularfed', 'speechless', 'speed', 'speedy', 'spell', 'spend', 'spf', 'spice', 'spill', 'spin', 'spirit', 'spiritairlines', 'spiritairpr', 'spite', 'spk', 'split', 'spoil', 'sponsor', 'sponsorship', 'spontaneously', 'spook', 'spooky', 'sporadically', 'sport', 'sportsbiz', 'spot', 'spotify', 'spotty', 'spousaldiscriminationangry', 'sprawl', 'spread', 'spreadtheword', 'spring', 'sprinkle', 'sprint', 'spruce', 'spur', 'spvsr', 'square', 'squarely', 'squash', 'squawk', 'squeak', 'squish', 'sr', 'sre', 'srq', 'srsly', 'srv', 'srvc', 'ssal', 'st', 'stable', 'stacey', 'stacy', 'stacycrossb', 'staduim', 'staff', 'staffcust', 'staffer', 'staffers', 'stafford', 'stage', 'stagnant', 'stahhppp', 'stahp', 'stain', 'stairs', 'stall', 'stamp', 'stand', 'standard', 'standards', 'standby', 'standbye', 'standbys', 'star', 'staralliance', 'starboard', 'starbucks', 'stare', 'starryeyesdev', 'start', 'startingbloc', 'startle', 'startups', 'starve', 'stat', 'state', 'statement', 'static', 'staticy', 'station', 'stationary', 'stats', 'status', 'statusawaiting', 'statusdelays', 'statusmatch', 'statusmatchpaidoff', 'stay', 'stbernard', 'stclass', 'stdby', 'steal', 'steam', 'steamboat', 'steel', 'steep', 'steer', 'stellar', 'stellarservice', 'step', 'stephenrodrick', 'stepitup', 'stepup', 'steve', 'stevelord', 'stevie', 'steward', 'stewardess', 'stewardesses', 'stewart', 'sti', 'stick', 'sticker', 'stickingtodelta', 'stiiiil', 'still', 'stillbagless', 'stillmakingmepoorthough', 'stillnobags', 'stillnotonmyflight', 'stillwaiting', 'stingiest', 'stingy', 'stink', 'stl', 'stlatl', 'stlaus', 'stlbos', 'stlouis', 'stmt', 'stndby', 'stock', 'stocker', 'stockhouse', 'stoke', 'stone', 'stonewall', 'stop', 'stopover', 'storage', 'store', 'stories', 'storm', 'story', 'stow', 'stowaway', 'stpatricksfoundation', 'straight', 'straighten', 'straightend', 'strand', 'strandedattheairport', 'strandedinnashville', 'strandednyc', 'strandusindenver', 'strange', 'stranger', 'strangers', 'strategy', 'stray', 'stream', 'streamline', 'street', 'streets', 'streetwise', 'strength', 'stress', 'stressful', 'stressors', 'stretch', 'strict', 'strike', 'string', 'strip', 'strive', 'stroller', 'strollers', 'strong', 'strongly', 'strtd', 'structure', 'struggle', 'strut', 'stt', 'sttimeflyer', 'stubborn', 'stubbornly', 'stucked', 'stuckinmemphis', 'stuckintampa', 'stuckintheloop', 'stuckon', 'stuckonaplane', 'student', 'students', 'study', 'stuff', 'stuffy', 'stun', 'stupid', 'stupidity', 'stupidly', 'style', 'stylesheets', 'sub', 'submit', 'suboptimal', 'suboption', 'subpar', 'subscribe', 'subscription', 'subsequent', 'subsequently', 'substandard', 'substantial', 'substitute', 'subterfuge', 'subtlety', 'success', 'successful', 'suck', 'sucksi', 'sudden', 'suddenly', 'sue', 'suffer', 'sufficiently', 'sugafly', 'sugar', 'suggest', 'suggestion', 'suggestions', 'suicide', 'suit', 'suitcase', 'suitcases', 'suite', 'suitshirts', 'sukhdeep', 'sum', 'summer', 'summit', 'sun', 'sunburn', 'sunday', 'sundayfunday', 'sundays', 'sundown', 'sunglasses', 'sunkist', 'sunny', 'sunrise', 'sunrises', 'sunscreen', 'sunset', 'sunshine', 'suntimes', 'suntoshi', 'super', 'superb', 'superben', 'superfast', 'superhero', 'superior', 'superiors', 'superstars', 'supertzar', 'supervisor', 'supervisors', 'superyan', 'supp', 'supply', 'support', 'supporter', 'suppose', 'supposedly', 'suprise', 'supv', 'supvrs', 'supvsr', 'surat', 'surcharge', 'sure', 'suree', 'surely', 'surf', 'surfboard', 'surfboardbag', 'surfer', 'surgeries', 'surgery', 'surgeryhelp', 'surliness', 'surly', 'surname', 'surprise', 'surprisingly', 'surreal', 'surround', 'survey', 'surveyemail', 'survive', 'susan', 'suspect', 'suspend', 'suuperg', 'suuuuper', 'sux', 'svc', 'svcs', 'svllindia', 'svu', 'sw', 'swa', 'swaculture', 'swadiversity', 'swag', 'swagglikebean', 'swair', 'swallow', 'swamistake', 'swamp', 'swanky', 'swap', 'swapic', 'sway', 'swear', 'sweat', 'sweatshirt', 'sweaty', 'sweep', 'sweepstakes', 'sweet', 'sweetheart', 'sweethearts', 'sweetingr', 'sweetmel', 'swell', 'sweresomuchfun', 'swfan', 'swift', 'swimsuits', 'swindle', 'swing', 'swipe', 'swiss', 'switch', 'switchingboth', 'switchsbux', 'swivel', 'swoop', 'swrr', 'swu', 'swvyilxklrogfsja', 'sxm', 'sxmclt', 'sxsw', 'sxu', 'syastem', 'sydney', 'sydneyairport', 'sylvie', 'sympathetic', 'sympathize', 'sympathy', 'sync', 'synch', 'synergy', 'synonymous', 'syr', 'syracuse', 'sys', 'syscon', 'system', 'systemic', 'systems', 'systemwide', 'sytycd', 'ta', 'tab', 'tabitha', 'table', 'tablet', 'tablets', 'tabs', 'tacky', 'tactic', 'tactics', 'tad', 'tag', 'tahiti', 'tail', 'tailfin', 'tailfinthursday', 'tailwind', 'tailwinds', 'taiwan', 'take', 'takemeback', 'takemehome', 'takeoff', 'takeresponsibility', 'takerswe', 'takingthistothetop', 'takr', 'talent', 'talents', 'talk', 'talktoahuman', 'tallahassee', 'taller', 'tamara', 'tammy', 'tampa', 'tan', 'tandoori', 'tank', 'tanpa', 'tap', 'tara', 'target', 'tarmac', 'tarmack', 'tarmat', 'tasha', 'taste', 'tasty', 'tatiana', 'tatianaking', 'tattoo', 'tax', 'taxi', 'taxis', 'taxiway', 'taylor', 'taylorlumsden', 'taylormdowns', 'tb', 'tbd', 'tbt', 'tbuccherifrnce', 'tcf', 'tckt', 'tcmparty', 'tcoaaumkazy', 'tcoaavvoreph', 'tcoaayavgb', 'tcoaceboelpa', 'tcoachoxkpjp', 'tcoaczwmuoon', 'tcoadfulmh', 'tcoagpbvwt', 'tcoagrkncpf', 'tcoahlxhhkiyn', 'tcoaitzlnd', 'tcoaiycwvoq', 'tcoaiyzwtza', 'tcoajmbhjvaa', 'tcoambsig', 'tcoamcuiewo', 'tcoaneqxzrbp', 'tcoanohokl', 'tcoanvbjipx', 'tcoaoeaeszdlx', 'tcoaprqan', 'tcoaprzspxige', 'tcoaptzpurop', 'tcoapyzlsquu', 'tcoaqjnhwnac', 'tcoaqzwecokk', 'tcoarvaylmfc', 'tcoasuwxkv', 'tcoaswqwufz', 'tcoasyqetdjp', 'tcoatdsmhf', 'tcoateafncr', 'tcoatfrkpgoy', 'tcoatwyifhzy', 'tcoaucsykfuhd', 'tcoaufmxdaj', 'tcoaugjscmolu', 'tcoaurnpwd', 'tcoavbdstjujs', 'tcoavrffhmcv', 'tcoavrtowtyzk', 'tcoavyqdmpiy', 'tcoawgjkjiiac', 'tcoaxpnxiqb', 'tcoaxryeiwzh', 'tcoaycflalxv', 'tcoaygaoebuu', 'tcoaygidcfa', 'tcoayosjhzmc', 'tcoaypyaduya', 'tcoazltjhflv', 'tcoaztdaer', 'tcobagfdc', 'tcobaperumne', 'tcobayepzkmiz', 'tcobbaonxtxd', 'tcobbdtldx', 'tcobbhtlzghc', 'tcobbjkmtyul', 'tcobbmpabort', 'tcobbzijwfdl', 'tcobcwckwtnle', 'tcobdtvrgcy', 'tcobduauzfhw', 'tcobebkxbt', 'tcobeqotlnugc', 'tcobfpfweyku', 'tcobgtjfmneot', 'tcobhooiytzq', 'tcobjnzeix', 'tcobkmfeyqol', 'tcobmokxj', 'tcobmunraoni', 'tcobnflhpxtmw', 'tcobngplijt', 'tcobohmhcb', 'tcobrcsjbxgs', 'tcobrtathau', 'tcobrtqcxk', 'tcobswrpmq', 'tcobtbawqtln', 'tcobtkyrbyj', 'tcobttgmyna', 'tcobttnoxu', 'tcobtvpxtzju', 'tcobuwjtvuwkm', 'tcobvfaxdubaq', 'tcobxhirugzv', 'tcobxiygt', 'tcobyvdiosua', 'tcobzqzqxdc', 'tcobzwgpadve', 'tcocafcxgfi', 'tcocbvfkbkx', 'tcoccefapl', 'tcocdxroae', 'tcocdzhtydak', 'tcocehroeurc', 'tcocevypb', 'tcocexrk', 'tcocfhtkr', 'tcocfiekxa', 'tcocfzdjmnui', 'tcocgfvgzb', 'tcochgyyrvka', 'tcochnmjymgh', 'tcocicfrlqbe', 'tcocihqnllcm', 'tcocjuxpk', 'tcockzbvfh', 'tcoclobqwmxr', 'tcoclupdprhp', 'tcoclvlhfguzw', 'tcocmjriwopo', 'tcocmqezxvdh', 'tcocmroiypc', 'tcocnctlgef', 'tcocpiosphm', 'tcocpypgfnd', 'tcocpzbo', 'tcocqmmnuem', 'tcocrfrwpcsx', 'tcocsddccmvbd', 'tcocshrqq', 'tcocsnrpvyb', 'tcoctpdkqulm', 'tcocvbaolcbl', 'tcocwhyfoow', 'tcocxrzhcdtvz', 'tcocxttxvlmp', 'tcocyoonzftdc', 'tcocyprhegok', 'tcoczornyhn', 'tcodaaarqbxw', 'tcodajwzhlvyu', 'tcodbcvepnqc', 'tcodbesbnzg', 'tcodcoboknee', 'tcodcwerzkr', 'tcoddqqgqni', 'tcodergpdwsj', 'tcodewithpew', 'tcodfmvmibhx', 'tcodhhomgkix', 'tcodhrfuijyp', 'tcodiufepnq', 'tcodjhxvjt', 'tcodjjjnslht', 'tcodkzlupqi', 'tcodlhhbg', 'tcodmjhm', 'tcodndoepqukz', 'tcodnifcgwe', 'tcodnmsblzumr', 'tcodnstitrzwy', 'tcodocmvotwti', 'tcodoruxbqla', 'tcodphqrgkdoa', 'tcodplqmhqgd', 'tcodpqouatdf', 'tcodpxyogtej', 'tcodqjlvzh', 'tcodqnnrfv', 'tcodqnyaktg', 'tcodqzlrjop', 'tcodroctpdy', 'tcodrwdjhai', 'tcodsceeenj', 'tcodsdebodmel', 'tcodtheyofxrb', 'tcodtlguqkak', 'tcoduhbjjhx', 'tcodvsltqzkmq', 'tcodwesexidr', 'tcodwnfibtr', 'tcodwvdvqxbb', 'tcodxicoyioxf', 'tcodxnrxdks', 'tcodxuxdbfd', 'tcodzegapfqw', 'tcodzgjfiik', 'tcodzkcauzu', 'tcoeaxlqzwvh', 'tcoebxckfjd', 'tcoebxwgt', 'tcoecbicf', 'tcoeczhcmmvi', 'tcoedgctbls', 'tcoeeofthgaj', 'tcoeeqwvammiy', 'tcoeerekdffq', 'tcoefphishb', 'tcoegaejtrglb', 'tcoegkvfokogj', 'tcoeigajyzcw', 'tcoeishcnpro', 'tcoeiwsybfu', 'tcoekejbv', 'tcoelatntcir', 'tcoelhxuvuj', 'tcoeltboljul', 'tcoemextq', 'tcoemrubuwzd', 'tcoenaxbues', 'tcoenhkeuutd', 'tcoeniqgbuzj', 'tcoenxvrkbu', 'tcoepqqonhoh', 'tcoeqepkkpsxm', 'tcoeqqinfszh', 'tcoerntotr', 'tcoerzhtkqz', 'tcoesdxdvr', 'tcoesmmnizek', 'tcoessfoowt', 'tcoesuuhiajm', 'tcoetfjqiwuvt', 'tcoeueyxawcv', 'tcoeulsdurbu', 'tcoewjoklji', 'tcoewwgigdx', 'tcoewxwxidtfx', 'tcofanygnux', 'tcofbtemfwrsp', 'tcofcopxfvj', 'tcofdsnvkiem', 'tcofdtnyctrb', 'tcofecivwq', 'tcofefhpmfple', 'tcoffanixjhwh', 'tcoffczygjs', 'tcofgjbexd', 'tcofgrbpazsix', 'tcofheslpmu', 'tcofinqfhue', 'tcofixywxyb', 'tcofjkvqmbmas', 'tcoflbgzzkd', 'tcoflcnnnusd', 'tcoflfulcbq', 'tcoflwmgdahxu', 'tcofmipwdhi', 'tcofmrmn', 'tcofmzzoltv', 'tcofnqxybtk', 'tcofornpfky', 'tcofqxelbon', 'tcofraqdpkyga', 'tcofrdcayda', 'tcofrghglmkqf', 'tcofrhuxibii', 'tcofrrfxccwz', 'tcoftlzwtvo', 'tcoftpdawbd', 'tcofttfyfmvco', 'tcoftvnwwqf', 'tcofuchzrzjg', 'tcofupfuayir', 'tcofvlxirhf', 'tcofvudmhpf', 'tcofvyzjldton', 'tcofwcyhgdj', 'tcofwkjble', 'tcofwzclbvug', 'tcofxbijlxat', 'tcofxnvba', 'tcofyfrzbk', 'tcofyvaioul', 'tcogapbamuc', 'tcogbdrolsi', 'tcogbeasz', 'tcogbhgwt', 'tcogbiwugfnm', 'tcogcwvfuopl', 'tcogdkaedhf', 'tcogdzadxzbya', 'tcogegnghmie', 'tcogguaajvdf', 'tcogguigtz', 'tcoghabyep', 'tcoghjbpgg', 'tcogialyl', 'tcogiennyqn', 'tcogkgkzlawpr', 'tcogkyufqh', 'tcogkzrei', 'tcoglxfwpnqh', 'tcogmlotimh', 'tcognpkqb', 'tcogodfaknb', 'tcogonmrwemi', 'tcogouzrdtzf', 'tcogoyxtmj', 'tcogqpgzgw', 'tcogrkbjbxlk', 'tcogrnmyuqe', 'tcogrsdl', 'tcogsaozgtv', 'tcogsbjcgm', 'tcogsnqsqz', 'tcogtumhbh', 'tcoguywqh', 'tcogvgkhbxrb', 'tcogwwrvbrq', 'tcogxdqortss', 'tcogxmmmubb', 'tcogxqbtckbr', 'tcogxvfumniz', 'tcogzgqdtjj', 'tcohajlkqjw', 'tcohapgbostu', 'tcohaqcgdgc', 'tcohbccot', 'tcohbsjsfh', 'tcohcemwcqj', 'tcohcnnwxqqr', 'tcohdoximnz', 'tcohepknpuzwu', 'tcohezjkzsk', 'tcohfajzffl', 'tcohfjynvtvj', 'tcohfofiyhi', 'tcohgveqhghy', 'tcohhctie', 'tcohhnjjje', 'tcohhoxqpsuba', 'tcohhtoz', 'tcohiboavxy', 'tcohiflaxe', 'tcohiscndmgz', 'tcohjglwl', 'tcohjkqchn', 'tcohjucpl', 'tcohkowohd', 'tcohlmoksxl', 'tcohlngbtx', 'tcohlzahxkdsn', 'tcohmmqczkcf', 'tcohovuaisg', 'tcohpgxyzrwo', 'tcohprppcvhx', 'tcohpsieaokwh', 'tcohpsqvrjk', 'tcohqdbiruvg', 'tcohqdtkatue', 'tcohqhdadfvk', 'tcohrdktqy', 'tcohrvuktpvn', 'tcohsmpbsfuf', 'tcohuclxluvh', 'tcohuezhcv', 'tcohujcjg', 'tcohxlnvzknp', 'tcohxsdpha', 'tcohxsnvfbbh', 'tcohxvvisvww', 'tcohyraoauu', 'tcohyvrfhjht', 'tcoialicehft', 'tcoibkyjbcjm', 'tcoibvvtzlse', 'tcoidrakenoh', 'tcoiegobcepp', 'tcoifespcbztm', 'tcoigdgcttm', 'tcoigkogywksr', 'tcoigsvzvrbbn', 'tcoihwnfkz', 'tcoiidrblnoox', 'tcoiimtjxcvlg', 'tcoiitojhuikh', 'tcoijxltkx', 'tcoikbpgxwi', 'tcoikcgaxxfa', 'tcoikqbdzatn', 'tcoilqzmmjiyq', 'tcoimdckodfx', 'tcoimrhivyr', 'tcoimrlauih', 'tcoimvmpnqxai', 'tcoinbpbdw', 'tcoincncavn', 'tcoinnpkkyby', 'tcoipaamztz', 'tcoipgeicsm', 'tcoiqnvyfpgp', 'tcoiquppvqs', 'tcoirixaifjjx', 'tcoirtih', 'tcoirynmbdu', 'tcoisfmizat', 'tcoiskihge', 'tcoiutzvhco', 'tcoiuxrgc', 'tcoivdiwqsf', 'tcoivgpzsjtkw', 'tcoivwfbtue', 'tcoiwoigrlhxb', 'tcoixmtmizc', 'tcoiyuzmpuvs', 'tcoizfofgjzui', 'tcojaskyplwt', 'tcojbdkxdefz', 'tcojbmvvhaa', 'tcojbyvmsod', 'tcojcedikyu', 'tcojcjlrfd', 'tcojdvktcqx', 'tcojehw', 'tcojeuodeyj', 'tcojgduusdz', 'tcojgorvdis', 'tcojhaukyv', 'tcojhbjdver', 'tcojhxwmutxg', 'tcojiclvdts', 'tcojieycatek', 'tcojipggom', 'tcojixksjkk', 'tcojjdosfyibm', 'tcojjtxyxg', 'tcojknwugj', 'tcojkqmdfqgf', 'tcojlhmxukb', 'tcojloiblnair', 'tcojmgeyxby', 'tcojmgqkgrf', 'tcojmhmkdivl', 'tcojmnkjbmc', 'tcojnqnbkhut', 'tcojnvkqgv', 'tcojorescfbx', 'tcojpdnsgrt', 'tcojqhgjtmw', 'tcojrbzlhrwy', 'tcojtxyhqhfjj', 'tcojurhzrqc', 'tcojutcdrljl', 'tcojvjzzaa', 'tcojwlglrw', 'tcokacyawdbw', 'tcokaejgchd', 'tcokbbbfxmk', 'tcokbhymgkap', 'tcokbtzvjub', 'tcokcddoduff', 'tcokcqebeejs', 'tcokcqnwixucm', 'tcokcvubuyexc', 'tcokdhrufsw', 'tcokdmqjps', 'tcokdzqczlpyr', 'tcokekpdmgif', 'tcokeyrpflhil', 'tcokfdwqrklw', 'tcokfkjfztgi', 'tcokfuyyokufv', 'tcokhgjofgpx', 'tcokhmkotz', 'tcokhzrccypa', 'tcokigfkvxxdq', 'tcokixrnk', 'tcokjiljaebv', 'tcokjkuvjcmo', 'tcokkayxaps', 'tcokkedjnrtwo', 'tcokkeixifp', 'tcokkwiwia', 'tcoklbaimes', 'tcoklfywwmq', 'tcoklxivnbcyh', 'tcokmanldqbh', 'tcokmhzrjfe', 'tcokmqulyge', 'tcokneqe', 'tcokngeep', 'tcoknpjelzl', 'tcoknuvuovhub', 'tcokpmrf', 'tcokpyhckal', 'tcokqlhvapg', 'tcokqnrrpa', 'tcokshtueq', 'tcoksrfnw', 'tcoktawbiuuro', 'tcoktkhsmgy', 'tcoktsskj', 'tcokubotmrr', 'tcokumtbger', 'tcokvfwajvvid', 'tcokvkdyrxa', 'tcokvxslcqlp', 'tcokwuekukbc', 'tcolaiggefkj', 'tcolarkcvcs', 'tcolazaoay', 'tcolchvjolidg', 'tcoldxnqqq', 'tcolednocdqee', 'tcolehgtzxz', 'tcolenaowfyvu', 'tcolfgrnifut', 'tcolfspefey', 'tcolftqdsy', 'tcolfwafad', 'tcolhsnlgie', 'tcolhwfbkfyni', 'tcolifnzku', 'tcolioocpteq', 'tcoliqwoblfbt', 'tcoliwecasoe', 'tcoljlarive', 'tcoljydkorq', 'tcoljzdthdbv', 'tcoljzxznkg', 'tcolkfhhyhw', 'tcollwioxvo', 'tcollwjazioa', 'tcolmopxkxch', 'tcolneghdgn', 'tcoloecogmvd', 'tcololghpcdu', 'tcololuwfci', 'tcolpvfhkyf', 'tcolqjtjvoys', 'tcolscwphph', 'tcolsxjiouvr', 'tcolsybglfj', 'tcoltfqudxc', 'tcoltpykfvrq', 'tcoltwhmoldr', 'tcoltxjkbo', 'tcolugmfvwsa', 'tcolulgnweffh', 'tcolvhwqdka', 'tcolvirtdtqly', 'tcolwotkiekgu', 'tcolwwdackhx', 'tcolxwbsfxfj', 'tcolycarltfhl', 'tcolyoocxmsh', 'tcolyqrbhcyu', 'tcolzfgutxiyn', 'tcomaqwnlniu', 'tcomarcnocwzn', 'tcomavigetbbw', 'tcombbjwgoap', 'tcombcehcszx', 'tcombhvfqbt', 'tcombipgszq', 'tcombkmdnw', 'tcombltalrbs', 'tcombvjflpbm', 'tcomcsidzpnz', 'tcomdbdyomrs', 'tcomdnedze', 'tcomeoalcipdd', 'tcomeozboxl', 'tcomfmnkmvotr', 'tcomfrabgna', 'tcomfsshuhue', 'tcomhaxxaed', 'tcomhhsruplv', 'tcomjkpgvxmpc', 'tcomjtksfuhg', 'tcomkpognntyc', 'tcomljacpmch', 'tcommcwkqpgy', 'tcommmqffa', 'tcomntptr', 'tcomnywrkbs', 'tcomphoavrxc', 'tcompiyuojr', 'tcompliodygn', 'tcomqfmxebxt', 'tcomrawqdwd', 'tcomrfbjtepef', 'tcomrvblxs', 'tcomthmwaobu', 'tcomtsplmv', 'tcomuwcpxtxj', 'tcomvyoizrpde', 'tcomwbkka', 'tcomwitrikf', 'tcomwnbglxq', 'tcomwpggrezp', 'tcomwsgolgo', 'tcomwsogucp', 'tcomydnvbzaz', 'tcomynzitcovn', 'tcomyywafkfi', 'tcomzzfgqfhu', 'tconageakpa', 'tconbpcjcpew', 'tconbvztyzi', 'tconbzjcdr', 'tconbzkhizfv', 'tconcboncsi', 'tconceself', 'tconcguzdgdaq', 'tconcrmqibiwo', 'tcondtljzpu', 'tconehnsdckty', 'tconexdbcrhg', 'tconfaqhhrj', 'tconfjauwvz', 'tconfvelcygz', 'tconggnwiar', 'tcongxaloml', 'tconhizlzmk', 'tconhmcrjchb', 'tconivwftzw', 'tconjgagds', 'tconkafbjyari', 'tconkdcsxu', 'tconklozcntto', 'tconklwssvrq', 'tconlrfouay', 'tconlzsehnee', 'tconmbhngnmki', 'tconmvnnfkb', 'tconofgtqhyn', 'tconopqxisbs', 'tconosjza', 'tconosvli', 'tconpsuejdc', 'tconpxbobmr', 'tconrpwmgyve', 'tconsacfqcdq', 'tconsjwvttjgo', 'tconsuiipvw', 'tconsusfsbpv', 'tcontglwnqvm', 'tcontuixdbyr', 'tconuhplnxriq', 'tconustgpelsf', 'tconuvclmada', 'tconvgenpib', 'tconvkirgkp', 'tconvlnglnmgn', 'tconwffkafy', 'tconwinfuc', 'tconwvxdgmf', 'tconxqijcojnj', 'tconxzhbbmt', 'tconycsjruv', 'tconytuxfqf', 'tconyvvxd', 'tconzdxrvszwv', 'tconzhqoazo', 'tcooadrfaoq', 'tcooaflfrwxb', 'tcooajmnucha', 'tcooapiau', 'tcooardjjgrrd', 'tcoobfjbpca', 'tcoobqirobuj', 'tcoocjsvssqf', 'tcoocqkjfxua', 'tcoodlalledh', 'tcoofpfvqpoy', 'tcoofwabws', 'tcoohcfvdhr', 'tcooilncfweyg', 'tcooiuqttz', 'tcoojeptw', 'tcoojrsdwpkk', 'tcooktukjyo', 'tcoomviega', 'tcoonhxhcobk', 'tcoonklzvmt', 'tcoooejdjop', 'tcooqtohjl', 'tcooquksoso', 'tcooqzwclla', 'tcooryeegek', 'tcooscoflol', 'tcooscrefw', 'tcoosifhprt', 'tcoosoxhfwy', 'tcoosrlhfho', 'tcootfzcyguq', 'tcootlzakd', 'tcoottyrymzd', 'tcooumclrxdn', 'tcoouxcbo', 'tcoowlainimy', 'tcoowmaxoyehz', 'tcooxmcwgab', 'tcooxsabtvtb', 'tcooxwktsgi', 'tcooxyjnpjm', 'tcooylgeaoy', 'tcooyllrzqum', 'tcoozrqpcr', 'tcopadcjxlzl', 'tcopdnbaakxh', 'tcopdntgbxc', 'tcopdrllre', 'tcopeefzwzc', 'tcopeqpqmpp', 'tcopeucbmij', 'tcopfsenjkpw', 'tcopfsluxegw', 'tcopgoeuxnspi', 'tcopgwukrpmox', 'tcopgysasw', 'tcophiifnjit', 'tcophqjzapkx', 'tcophumlxur', 'tcopivxeanjy', 'tcopkaxunyfn', 'tcopkfibttzf', 'tcopkiqhi', 'tcopkyzhnnrh', 'tcoplsopihu', 'tcopnbajfkmhg', 'tcopnwjfps', 'tcopofsxojsy', 'tcoponjjide', 'tcoppvarchf', 'tcoprgysvurm', 'tcoproebcn', 'tcoprrtow', 'tcopskxzvea', 'tcopsqrpsil', 'tcoptsbkacdj', 'tcopucbvlve', 'tcopujvcelng', 'tcopulpiw', 'tcopvczxthm', 'tcopvghjxkp', 'tcopvkchnr', 'tcopweudlczg', 'tcopxdelnql', 'tcopxexilsjbs', 'tcopxfhqkps', 'tcopxhqoksr', 'tcopyalebgkjt', 'tcopyjaoaynx', 'tcopzalwtrez', 'tcopzgcjchn', 'tcoqajtkik', 'tcoqamiwfsw', 'tcoqavvlaxlkl', 'tcoqbynpctf', 'tcoqdebyahqfm', 'tcoqdljhsloi', 'tcoqdlyuxazg', 'tcoqdxftqqt', 'tcoqeadamw', 'tcoqefkfwzod', 'tcoqfochqez', 'tcoqgmfcbyt', 'tcoqgtcaoju', 'tcoqgwkdewv', 'tcoqjbcvjzq', 'tcoqjklabprg', 'tcoqjlzrywfj', 'tcoqkkjdfobos', 'tcoqkquraggoo', 'tcoqllrep', 'tcoqmdqbaig', 'tcoqnnzyspk', 'tcoqnodugfqk', 'tcoqpawnlip', 'tcoqpownuv', 'tcoqqlzkjkzr', 'tcoqranzimhtr', 'tcoqrxvzfrdz', 'tcoqrxzbgbtq', 'tcoqsbdavuy', 'tcoqsqmmkf', 'tcoquzvmkrtr', 'tcoqvsffrdu', 'tcoqwebeemvg', 'tcoqwfmoqdql', 'tcoqwtilya', 'tcoqxedzvhh', 'tcoqxnoaqtyn', 'tcoqxteqzmyz', 'tcoqxvmvug', 'tcoqxvwgl', 'tcoqxwwpa', 'tcoqyezhjgsb', 'tcoqygxgmdsn', 'tcoragncwbk', 'tcorbnstuij', 'tcorcdhqj', 'tcordjmwflg', 'tcoreddvc', 'tcorfxlvkgdh', 'tcorgywjbbhm', 'tcorhkamxvf', 'tcorhwktqfo', 'tcoribqrcyd', 'tcorinzyskki', 'tcorklqxxawhc', 'tcorkorhvrz', 'tcorkprxtgvfl', 'tcorkvczbpdce', 'tcorkwugmanm', 'tcorlpjchb', 'tcorlwbjma', 'tcorlzebkx', 'tcormpkogwu', 'tcormznivgmg', 'tcoromzqavi', 'tcoroqaveoi', 'tcorpdbpxwnd', 'tcorpzyfe', 'tcorqbpmwettq', 'tcortqyjcvtq', 'tcorvcdannme', 'tcorxhomm', 'tcorxjxqrxz', 'tcorxmjwooqi', 'tcorxzmyy', 'tcoryxbplgmnk', 'tcorzsvzurlw', 'tcosbaaricyq', 'tcosbehibmk', 'tcosbgbnouxy', 'tcoscqujbvsta', 'tcosctomh', 'tcosdlynmss', 'tcosdmwvrzr', 'tcosdylukrpt', 'tcosdyttzd', 'tcosedmjhiw', 'tcoseswagum', 'tcoseulpvfn', 'tcosfjduahxz', 'tcosfpcbyym', 'tcosgckbopata', 'tcosgiqqfvso', 'tcoshhtvioti', 'tcosiczxoez', 'tcosjqemdtqma', 'tcosjveelween', 'tcoskebqktxvx', 'tcoskkewqhssg', 'tcoskrlyrzo', 'tcoskwxqaqb', 'tcoslbdrxfn', 'tcosllyibevq', 'tcosoiqrnaj', 'tcosotlxqsrp', 'tcosrmqbrzd', 'tcossbaujtouw', 'tcossuvwwkyhh', 'tcostktjxan', 'tcostqyv', 'tcosuprlfoit', 'tcoswbgrcc', 'tcoswwhyhen', 'tcoswzmfxnu', 'tcosxvagbrtli', 'tcosywlmtzek', 'tcoszrpioa', 'tcotbsjquw', 'tcotefhpuwmdj', 'tcotejrntfw', 'tcoteshxng', 'tcotfanxbhcf', 'tcotfhvaz', 'tcotfjfmshak', 'tcotfpcgrej', 'tcotfyybhjhl', 'tcotgcksbh', 'tcotgnknld', 'tcotgsbdfps', 'tcotgsljjng', 'tcothcrkurt', 'tcothsldya', 'tcotjbnwztq', 'tcotjdzamhpew', 'tcotjuumdd', 'tcotkabtwf', 'tcotkaopdtsq', 'tcotkauygcpms', 'tcotkvcmhbpim', 'tcotkvmhbkec', 'tcotlgoihqkvs', 'tcotlpbaupik', 'tcotmccexyaaq', 'tcotmrjywi', 'tcotmthvfdc', 'tcotncxcldm', 'tcotnkixxrxhb', 'tcotnyuipha', 'tcotopqmvqnjp', 'tcotpzhjxhbt', 'tcotqbgamfpc', 'tcotqctkci', 'tcotrdrcre', 'tcotrgemtebz', 'tcotrqlpeinzw', 'tcotrvfncedl', 'tcotrypzebc', 'tcotskorsn', 'tcotsvgbrlf', 'tcotsvibtvth', 'tcottbtyilo', 'tcottlwzgiyag', 'tcottxrsynlxr', 'tcottzejvhy', 'tcotujxjazn', 'tcotutglid', 'tcotvbzbzvhg', 'tcotvkpyxqv', 'tcotwetpxuppn', 'tcotxhyjllg', 'tcotxutsfkj', 'tcotycgaeo', 'tcotynchoelac', 'tcotyxaztmqu', 'tcotzimqzlg', 'tcotzzjhuibch', 'tcotzzvbmbs', 'tcouadoual', 'tcouaicfjrms', 'tcouaywrras', 'tcoubcoasyws', 'tcoucfbbqr', 'tcoucveuhurz', 'tcoucvnilmbx', 'tcouczplhl', 'tcouczzpyphk', 'tcoudpqfliqo', 'tcouduwmde', 'tcoueggknza', 'tcoufafqhsf', 'tcoufbdraxeo', 'tcoufyxxkisa', 'tcougfckermrw', 'tcouhumaskldv', 'tcouhuwuosc', 'tcouhxricrx', 'tcouiesrghho', 'tcouimypzh', 'tcoujfszikd', 'tcoujtvtcpa', 'tcoukdjjijrow', 'tcoukmedz', 'tcouldhwfkfo', 'tcounxqotzik', 'tcouoaryqpu', 'tcoupazefdl', 'tcoupocmmulun', 'tcouppabxrq', 'tcouqgwqsffu', 'tcouqoopjpwg', 'tcourcyfcplx', 'tcourungy', 'tcourzvbpjko', 'tcoutdfqfwpa', 'tcoutfdhxapu', 'tcoutgrrwaaa', 'tcouvieuidf', 'tcouxwpadugs', 'tcouyduegx', 'tcouygewnosr', 'tcovahdekvoke', 'tcovbfieoqjc', 'tcovbuxfpckfa', 'tcovckeulgj', 'tcovdfdodqvgx', 'tcovdtlomtwu', 'tcoveemacm', 'tcovftuyjhx', 'tcovglxykwqg', 'tcovgnxckg', 'tcovgqoihtrkh', 'tcovhfjgneozo', 'tcovhgkitzsaw', 'tcovhpgtdwpk', 'tcovjfvksgcq', 'tcovkjsjrm', 'tcovlcikvip', 'tcovmquurzupw', 'tcovnckgzxl', 'tcovnjjiao', 'tcovoeqsepqh', 'tcovolmeja', 'tcovosizhsl', 'tcovouufrnjs', 'tcovoxcghciji', 'tcovpdrplxja', 'tcovpkdsi', 'tcovpqemxuq', 'tcovpvphmtzc', 'tcovpymmv', 'tcovqmdmzafuj', 'tcovqnpdoi', 'tcovqtyzamzu', 'tcovqwkyxsw', 'tcovradykep', 'tcovrklai', 'tcovrqdpqepfw', 'tcovsbrbicx', 'tcovskxyamnom', 'tcovtfmknad', 'tcovtmusjvu', 'tcovtqemli', 'tcovudwjmlyb', 'tcovulbzxtrx', 'tcovuxfrunu', 'tcovuxswjkiy', 'tcovvcfyhkvb', 'tcovvzksmfkvw', 'tcovwpttlh', 'tcovwvgvngq', 'tcovxnjmv', 'tcovxvbctdlf', 'tcovyuanhiqr', 'tcovzvugmkjw', 'tcowaakjumxa', 'tcowajkeyt', 'tcowbhbljjks', 'tcowbjawxxd', 'tcowbmhrlbvl', 'tcowbqiwaou', 'tcowbzorrnc', 'tcowcsazzqpae', 'tcowdaktmrmj', 'tcowdyekvbze', 'tcowepflly', 'tcowezumdimyf', 'tcowgyztnjcxm', 'tcowhagpknnlf', 'tcowhoaewhws', 'tcowhufmiytd', 'tcowjiigztiwg', 'tcowjocfsu', 'tcowjyasdn', 'tcowmotkqhxp', 'tcowmtmspry', 'tcowmxfzc', 'tcowndceoqlk', 'tcownlaybl', 'tcownytzsrn', 'tcowowxhpuqv', 'tcowqzztiemx', 'tcowrwqrublps', 'tcowsgyckciio', 'tcowtapxa', 'tcowulbcncr', 'tcowvgppymz', 'tcowxowzhpgfl', 'tcowxstvpzg', 'tcowznpqmh', 'tcoxaizwisml', 'tcoxaspqdsqhe', 'tcoxatoxbnsfa', 'tcoxbkvcraokn', 'tcoxblwgwa', 'tcoxbodakak', 'tcoxbqqqbrgvf', 'tcoxcjqrb', 'tcoxcvqxykg', 'tcoxdjzkcgb', 'tcoxdlbibclp', 'tcoxedeckgmw', 'tcoxeqyahfvz', 'tcoxfmpnaaje', 'tcoxfwxsrwkha', 'tcoxgfstjtmo', 'tcoxggcntcom', 'tcoxgnyhgafz', 'tcoxgpaayfdwt', 'tcoxhcacjax', 'tcoxhlcmtff', 'tcoxhsuupheze', 'tcoxijifymvqp', 'tcoxijyrpslzk', 'tcoxilzqdwe', 'tcoxjenanye', 'tcoxjvunzz', 'tcoxkiykqj', 'tcoxltvzst', 'tcoxmaqcucwzl', 'tcoxmavgw', 'tcoxmrvrlgeg', 'tcoxmztfix', 'tcoxnruovts', 'tcoxpmigqjn', 'tcoxrdtovnl', 'tcoxrsvagijn', 'tcoxsywmdvu', 'tcoxtdydbh', 'tcoxusbjfv', 'tcoxvbjczlmda', 'tcoxvnnmltiw', 'tcoxwjolflh', 'tcoxxmjxqep', 'tcoxxppzoj', 'tcoxxqscjll', 'tcoxxsaombdgs', 'tcoxxydimnp', 'tcoxzbajmiekx', 'tcoxzqegnef', 'tcoxzqssjtrb', 'tcoxzrkwvq', 'tcoxzyphkfgr', 'tcoyaormfkac', 'tcoybmbgsdhn', 'tcoybvxaowkv', 'tcoybyackc', 'tcoyccitaeps', 'tcoycodikpt', 'tcoycvsiod', 'tcoyfnhmwyff', 'tcoyhkzkyzrr', 'tcoyiwguktr', 'tcoyiwlhqhzgp', 'tcoylngxqx', 'tcoymftwuyhr', 'tcoymmhkcbr', 'tcoynczutzz', 'tcoyokkhhqcmp', 'tcoyounxtqp', 'tcoypbkcirbxu', 'tcoyponyprzl', 'tcoypvpvdltys', 'tcoyqehcqzt', 'tcoyqhkljabn', 'tcoysahvxzk', 'tcoysqbvqmgb', 'tcoywxrfngr', 'tcoyxdqjnnl', 'tcoyxnpnoav', 'tcoyxswfqtgp', 'tcoyyzdpbvu', 'tcoyzhzrqmi', 'tcoyzxfeau', 'tcozaqltf', 'tcozaxbh', 'tcozcbjyolsn', 'tcozdkxnktou', 'tcozfqmpgxvs', 'tcozfroinpszi', 'tcozfwjgtxzt', 'tcozgoqoxjbqy', 'tcozgqebfk', 'tcozhgqprsg', 'tcozhmfdiw', 'tcozhxokaqa', 'tcozikuoxgnw', 'tcozirazudc', 'tcozjlztua', 'tcozjvilw', 'tcozkoeclgiu', 'tcozksxitdn', 'tcozlbvexmcj', 'tcozmjkalzl', 'tcoznmwxdiu', 'tcoznsujpbv', 'tcozofwldqxbe', 'tcozoicegli', 'tcozouowgvq', 'tcozpjrkwbk', 'tcozpzpoeon', 'tcozqutusepw', 'tcozsdgzydnde', 'tcozstyuqj', 'tcozsuztnaijq', 'tcoztkeeup', 'tcoztrdwvnl', 'tcozvcfpohl', 'tcozvfmxnuelj', 'tcozvpttrk', 'tcozzkqwwbjz', 'tcozznfwkkwp', 'tcozzpsywve', 'tcunningham', 'tea', 'teach', 'team', 'teamnkh', 'teamspirit', 'teamtreehouse', 'teamusa', 'tear', 'tech', 'technical', 'technically', 'technology', 'teco', 'ted', 'tedious', 'teem', 'teen', 'teenager', 'teens', 'teeth', 'tel', 'telaviv', 'telephone', 'teleportation', 'television', 'tell', 'telleveryone', 'tellpurchase', 'tellyourstory', 'temorris', 'temp', 'temper', 'temperature', 'template', 'temporary', 'temps', 'tempt', 'ten', 'tennetexan', 'tennis', 'tense', 'tent', 'tequila', 'term', 'terminal', 'terminals', 'terminology', 'terra', 'terri', 'terrible', 'terriblebeen', 'terriblecommunication', 'terriblecustomerservice', 'terribleno', 'terribleservice', 'terribly', 'terrific', 'terrifyingly', 'terror', 'terry', 'terrybrokebad', 'test', 'texarkana', 'texas', 'texasisclosed', 'text', 'texted', 'texting', 'texts', 'teyana', 'tf', 'tfgreenairport', 'tfw', 'tgcyalate', 'tgif', 'th', 'thai', 'thaiairways', 'thailand', 'thank', 'thankful', 'thankfully', 'thankgoodness', 'thankjesus', 'thankme', 'thanksamericanairlines', 'thanksare', 'thanksdave', 'thanksdc', 'thanksjetblue', 'thanksm', 'thanksunited', 'thanku', 'thankyou', 'thankyouforeverything', 'thansk', 'thanx', 'thapril', 'thatisall', 'thatlol', 'thatthis', 'thaw', 'theacademy', 'theairhelper', 'thebachelor', 'thecandacesmith', 'thee', 'theellenshow', 'theend', 'thefaaonline', 'theflight', 'theft', 'thefutureisweird', 'thehaileytate', 'thehipmunk', 'thehours', 'thelodge', 'themagicalstranger', 'theme', 'themenofbusiness', 'themestimated', 'themhence', 'thenatek', 'thenationaluae', 'thenewaa', 'thenewamerican', 'thepoopqueen', 'therealaviation', 'therefore', 'thereisafirstforeverything', 'therofo', 'thestarter', 'thetakeover', 'thete', 'thetroubadour', 'theuso', 'thevdt', 'theverge', 'thewayoftheid', 'theworst', 'theworstairline', 'theworstairlineever', 'theyareallbetter', 'theycouldatleastofferfreebooze', 'theydontanswer', 'thick', 'thicken', 'thier', 'thieve', 'thin', 'thing', 'thingafteranother', 'things', 'thingsishouldknow', 'thingsyoucantmakeup', 'thingwill', 'think', 'thinkbus', 'thinkdo', 'third', 'thirty', 'thirtylives', 'thisgreen', 'thisiscoach', 'thislinehasntmovedforanhour', 'thismosaicnothappy', 'thks', 'thman', 'thng', 'thnk', 'thnkx', 'thnx', 'tho', 'thomas', 'thor', 'though', 'thoughtful', 'thoughts', 'thousand', 'thousands', 'thousandth', 'thparty', 'thre', 'thread', 'threat', 'threaten', 'three', 'threehourslate', 'thrill', 'thrombosis', 'throne', 'throug', 'throughout', 'throw', 'throwback', 'thrower', 'thru', 'tht', 'thth', 'thtimemonthsold', 'thu', 'thur', 'thurs', 'thursday', 'thus', 'thx', 'thxu', 'thy', 'ti', 'tia', 'tic', 'tick', 'ticket', 'tickethotel', 'ticketsforjax', 'tickt', 'tiday', 'tide', 'tie', 'tier', 'tiffany', 'tiffanyandco', 'tifffyhuang', 'tight', 'tightconnection', 'tighter', 'tiks', 'til', 'till', 'tilleymonsta', 'tim', 'timbennettg', 'timbit', 'timco', 'time', 'timedout', 'timehave', 'timei', 'timeliness', 'timely', 'timemoney', 'timenot', 'timerest', 'timesenough', 'timeshand', 'timesomeone', 'timeswitch', 'timethat', 'timezones', 'timieyancey', 'tinaisback', 'tinder', 'tinderchamp', 'tindertips', 'tinmanironman', 'tiny', 'tip', 'tire', 'tiredandwanttogohome', 'tiredcustomer', 'tiredofthis', 'tiredofwaiting', 'tisk', 'tissue', 'title', 'tix', 'tixs', 'tjycqh', 'tk', 'tke', 'tks', 'tkt', 'tkts', 'tlc', 'tld', 'tlh', 'tmadcle', 'tminus', 'tmm', 'tmobile', 'tmr', 'tmrw', 'tmw', 'tn', 'tnx', 'toby', 'tock', 'today', 'todayrather', 'todays', 'todaytomorrow', 'toddler', 'toddlers', 'toe', 'tofrom', 'together', 'toilet', 'toiletries', 'toilets', 'tok', 'token', 'tokyo', 'tokyomarathon', 'tokyonarita', 'toledo', 'tolerable', 'toll', 'tollfree', 'tom', 'tomo', 'tomoro', 'tomorro', 'tomorrow', 'tomorrowplane', 'tomorrows', 'tomorrowwould', 'tomrw', 'tomvh', 'ton', 'tone', 'tongueincheek', 'tonic', 'tonight', 'tonite', 'tonnes', 'tons', 'tonysimsmma', 'tool', 'toolittletoolate', 'toolong', 'tooooo', 'toothpaste', 'top', 'topdown', 'topflight', 'toplay', 'topnews', 'torileggieri', 'toronto', 'torture', 'tory', 'tos', 'toss', 'tot', 'total', 'totalfail', 'totally', 'totallyconfused', 'touch', 'touchdown', 'tough', 'toughtomakeplans', 'tour', 'tourist', 'tourists', 'tout', 'tovery', 'tow', 'toward', 'towards', 'tower', 'town', 'towns', 'toyingwithouremotions', 'tpa', 'tpadfwaus', 'tpadfwlax', 'tpallini', 'trace', 'track', 'tracker', 'trade', 'traditionally', 'traditions', 'traffic', 'trafficfuel', 'train', 'transaction', 'transactional', 'transactions', 'transatlantic', 'transcontinental', 'transf', 'transfer', 'transferable', 'transformative', 'transit', 'transition', 'translation', 'transpacific', 'transparency', 'transparent', 'transpire', 'transport', 'transportation', 'trap', 'trappedhouston', 'trash', 'trashy', 'travel', 'travelbank', 'traveler', 'travelers', 'travelfail', 'travelhelp', 'travelingwithsmallkids', 'traveller', 'travellers', 'travelocity', 'traveloneworld', 'travelpoints', 'travelportland', 'travelproblems', 'travelpulse', 'travelpurchased', 'travelzoo', 'travis', 'travisamex', 'tray', 'trbl', 'treacherous', 'treasure', 'treat', 'treatment', 'tree', 'tremendous', 'tremendously', 'trend', 'triage', 'trial', 'trials', 'tribute', 'tricities', 'trick', 'trickle', 'triflight', 'trip', 'tripadvisor', 'tripitpro', 'triple', 'tripnever', 'tripofalifetime', 'trite', 'trivia', 'trivialize', 'tropic', 'troubadour', 'trouble', 'troubleshoot', 'troubleshot', 'troy', 'tru', 'trublue', 'truck', 'true', 'trueblue', 'truebluecolors', 'truebluelove', 'truebluememberlife', 'truebluepoints', 'truly', 'trump', 'trust', 'truth', 'truthful', 'truthh', 'truutall', 'trvl', 'trvlove', 'try', 'tryagain', 'tryin', 'tryn', 'tryna', 'tryng', 'tsa', 'tsanightmare', 'tsapre', 'tsaprecheck', 'tshirt', 'tsk', 'tsparrow', 'tt', 'ttinac', 'tu', 'tuck', 'tucson', 'tue', 'tues', 'tuesday', 'tuftsenergyconf', 'tug', 'tul', 'tuldal', 'tulsa', 'tulsanot', 'tumitravel', 'tummy', 'tune', 'turbulence', 'turkish', 'turn', 'turnaround', 'turquoise', 'turrible', 'tus', 'tusdfw', 'tux', 'tv', 'tvmovie', 'tvs', 'tvsmusic', 'tvu', 'twa', 'tweak', 'tweet', 'tweeter', 'tweetin', 'twelve', 'twenty', 'twice', 'twicegot', 'twiiter', 'twin', 'twist', 'twitter', 'twitterdm', 'twitteremailweb', 'twitterhug', 'twitterliterate', 'twitterz', 'two', 'twtr', 'tx', 'txfd', 'txt', 'txtemail', 'txting', 'ty', 'type', 'typical', 'typically', 'typo', 'tyr', 'tys', 'tyspent', 'tysvm', 'tyvm', 'tywinter', 'ua', 'ual', 'ubergizmo', 'ubetter', 'uctraveladvisor', 'ud', 'udub', 'uggh', 'ugh', 'uh', 'uhmmm', 'uhuhgroup', 'uk', 'ultimately', 'um', 'umm', 'ummmm', 'umosaicmecrazy', 'ump', 'umpteen', 'un', 'unable', 'unacceptable', 'unacceptablei', 'unaccomidating', 'unaccommodating', 'unaccompanied', 'unaccounted', 'unaccpetable', 'unamerican', 'unamericanairlines', 'unannounced', 'unanswered', 'unansweredquestions', 'unanticipated', 'unapologetic', 'unavailable', 'unavoidable', 'unaware', 'unbalance', 'unbelieavle', 'unbelievable', 'unbelievably', 'uncalled', 'uncaring', 'uncertainty', 'uncharacteristic', 'uncle', 'unclear', 'uncomfortable', 'uncompromising', 'unconscionable', 'uncontrollable', 'uncontrollably', 'uncool', 'uncourteous', 'uncvsduke', 'und', 'undefined', 'undelay', 'undelayed', 'undergo', 'undermine', 'underserved', 'understaffed', 'understaffing', 'understand', 'understandable', 'understandably', 'understatement', 'underway', 'underweight', 'undetermined', 'undies', 'undignified', 'undo', 'undrstnd', 'undue', 'uneducated', 'unempathetic', 'unemployment', 'uneventful', 'unexpactable', 'unexpected', 'unexplained', 'unfair', 'unfamiliar', 'unfold', 'unfollow', 'unfollowing', 'unforeseeable', 'unfortunate', 'unfortunately', 'unfriendly', 'unfriendlyskies', 'unhappy', 'unhappycustomer', 'unhappyspend', 'unhappytraveler', 'unheard', 'unhelpful', 'unhelpfulness', 'uniform', 'unimpressed', 'uninformed', 'unite', 'unitedagainstunited', 'unitedairline', 'unitedairlines', 'unitedairlinessuck', 'unitedairlinessucks', 'unitedairlinessux', 'unitedappeals', 'unitedbreaksguitars', 'unitedcom', 'unitedfail', 'unitedfails', 'unitedfirst', 'unitedflyerhd', 'unitedhatesusall', 'unitedk', 'unitedlies', 'unitedrebooked', 'unitedsucks', 'unitedsucksdick', 'unitedunimpressed', 'unitedvusa', 'unitedwithivy', 'unitedworstever', 'universally', 'universalorl', 'university', 'unknowledgeable', 'unknown', 'unless', 'unlike', 'unlikely', 'unload', 'unlucky', 'unman', 'unmet', 'unmissable', 'unmonitored', 'unmoving', 'unnecessarily', 'unnecessary', 'unnerve', 'unnoticed', 'unobaseball', 'unorganized', 'unplanned', 'unpleasant', 'unpleased', 'unprecedented', 'unpredictable', 'unprepared', 'unproductive', 'unprofessional', 'unprofessionalism', 'unprofessionally', 'unreachable', 'unreal', 'unrealistic', 'unreasonable', 'unrelate', 'unreliable', 'unresolved', 'unrivalled', 'unsafe', 'unsat', 'unscheduled', 'unsecured', 'unserved', 'unserviceable', 'unsettle', 'unsmiling', 'unsolicited', 'unspecified', 'unsuccessful', 'unsuitable', 'unsure', 'unsympathetic', 'unt', 'untd', 'untrained', 'untrue', 'untruthful', 'untz', 'unusable', 'unused', 'unusual', 'unveil', 'unwilling', 'unwind', 'unwise', 'up', 'upc', 'upcoming', 'update', 'updateyourwebsite', 'upfare', 'upgd', 'upgrade', 'upgrademe', 'upgrd', 'uphold', 'upinairclaire', 'uplink', 'upload', 'upon', 'uppp', 'upsellladen', 'upset', 'upstate', 'upwherewebelong', 'ur', 'urge', 'urgency', 'urgent', 'urgently', 'us', 'usa', 'usaa', 'usable', 'usage', 'usair', 'usaireays', 'usairheads', 'usairsucks', 'usairway', 'usairways', 'usairwayscenter', 'usairwayscom', 'usairwaysfail', 'usairwaysfailscustomers', 'usairwaysfflyer', 'usairwaysmobilecom', 'usairwaysssuck', 'usairwayssuck', 'usairwayssucks', 'usairwis', 'usaiways', 'usatoday', 'usatodaytravel', 'usaw', 'usb', 'uschamber', 'usd', 'usdelayways', 'use', 'useable', 'useful', 'useles', 'useless', 'useopen', 'user', 'username', 'userperceived', 'users', 'usexpresspsa', 'usingthisword', 'usnavy', 'usual', 'usually', 'usuck', 'usurious', 'ususdo', 'usvi', 'usxlon', 'utah', 'utdallas', 'ute', 'utevgw', 'utilize', 'utmost', 'utterly', 'uvf', 'uwo', 'ux', 'uxzj', 'va', 'vabeatsjblue', 'vaca', 'vacancies', 'vacate', 'vacatime', 'vacatinn', 'vacation', 'vacationfail', 'vacay', 'vague', 'vaileagle', 'vainglorygame', 'valentine', 'valentines', 'valentinesday', 'valet', 'valid', 'validity', 'vallarta', 'valley', 'valleys', 'valuable', 'valuables', 'value', 'van', 'vancouver', 'vanessaannz', 'vanish', 'vanity', 'vape', 'various', 'vary', 'vastly', 'vcp', 'vday', 'veer', 'veg', 'vegan', 'vegas', 'vegaschicago', 'vegecomgirl', 'vegetarian', 'vegetarianproblems', 'veggies', 'vein', 'velcro', 'velour', 'velourlive', 'vendor', 'venetia', 'venezuela', 'vent', 'ventilation', 'venture', 'verbal', 'verbally', 'verbiage', 'verification', 'verify', 'verizonwireless', 'vermont', 'versa', 'versace', 'version', 'versions', 'versus', 'veryimportantproject', 'veryloyalcustomer', 'vet', 'veterans', 'vetr', 'via', 'viable', 'vibe', 'vibrant', 'vice', 'vicky', 'victim', 'victoria', 'vida', 'video', 'videos', 'vieques', 'view', 'vile', 'village', 'villages', 'vincenzolandino', 'vincesviews', 'vindictivetk', 'vineyard', 'vino', 'vinyl', 'vinylvegas', 'violation', 'vip', 'vipliveinthevieyard', 'vipswagbags', 'viracopos', 'viraltech', 'virgin', 'virginamerica', 'virginamericacom', 'virginatlantic', 'virginia', 'virginmedia', 'virtual', 'virtually', 'virus', 'visa', 'visible', 'visibly', 'vision', 'visit', 'visors', 'visualclubconceptscom', 'vital', 'vitaminwater', 'vm', 'vmail', 'vmsg', 'vocab', 'vodkatonics', 'voice', 'voicemail', 'void', 'volkswagen', 'volleyball', 'volt', 'volume', 'volumes', 'voluntarily', 'volunteer', 'vomit', 'vote', 'voucher', 'vouchercompensation', 'voucherconfirmation', 'vouchermiles', 'vouchers', 'vouchersany', 'voucherwhatajoke', 'vow', 'vp', 'vrm', 'vs', 'vt', 'vueloes', 'vueloses', 'vulnerable', 'vusaaustralia', 'vx', 'vxsafetydance', 'wa', 'waa', 'waaaaaaiting', 'wack', 'wag', 'wager', 'wah', 'wail', 'wait', 'waitabout', 'waitin', 'waitingagain', 'waitingcan', 'waitingforbags', 'waitinginphilly', 'waitingonapilot', 'waitingsince', 'waitingso', 'waitlisted', 'waive', 'waiver', 'waivers', 'waivethefee', 'wake', 'wakinginmemphis', 'waldorf', 'walk', 'walkaround', 'walkway', 'wall', 'wallet', 'wallstreet', 'wallstslumlord', 'walmart', 'waltdisneyworld', 'walton', 'wamo', 'wander', 'wannaa', 'wannagohome', 'want', 'wantcharge', 'wantmymoneyback', 'ward', 'warehouse', 'warm', 'warmer', 'warmest', 'warmth', 'warmweather', 'warn', 'warrant', 'warriors', 'wasappreciated', 'washington', 'washingtondc', 'waspaid', 'waste', 'wastedeffort', 'wastedtime', 'wasteoftime', 'wat', 'watch', 'water', 'waterbury', 'wating', 'watson', 'wave', 'way', 'waybig', 'wayi', 'wayne', 'ways', 'wayway', 'wbroken', 'wbuses', 'wc', 'wcancelled', 'wclass', 'wcomm', 'wcompanies', 'wcomputer', 'wconnection', 'wcustomer', 'wcx', 'wd', 'wdeicingthree', 'wdelays', 'wdw', 'weak', 'weakservice', 'weaktea', 'weappreciateyou', 'wear', 'weary', 'weasel', 'weather', 'weatherbackup', 'weathercall', 'weatherflight', 'weatherless', 'weatherrelate', 'weave', 'web', 'webbernaturals', 'weblink', 'webpage', 'website', 'websites', 'wed', 'wednesday', 'wedontcarebecauseyoupaidalready', 'wee', 'week', 'weekday', 'weekend', 'weekly', 'weeklycommuteonaa', 'weeks', 'weepysweetmonty', 'weigh', 'weight', 'weird', 'welcome', 'welfare', 'well', 'wellbeing', 'welldone', 'wellen', 'welllllll', 'wellplayed', 'wellpriced', 'welp', 'wemosaictogether', 'wendell', 'wendi', 'wens', 'wentook', 'werenot', 'werenotincalianymore', 'wererunning', 'werin', 'wernicke', 'wervirgin', 'west', 'westagard', 'westchester', 'western', 'westjet', 'westpalmbeach', 'westpalmbeachbound', 'wet', 'wether', 'wewantcomps', 'wewanttoknow', 'wewillsee', 'weyburn', 'wfares', 'wflights', 'whack', 'whammie', 'whatacluster', 'whatajoke', 'whatcustomerservice', 'whatever', 'whatfrozenpipes', 'whatgives', 'whathappend', 'whatsoever', 'whatstatus', 'whatstheholdup', 'whch', 'wheel', 'wheelchair', 'wheelchairs', 'wheelsup', 'wheeze', 'whenever', 'whenitsnowsitpours', 'whereabouts', 'whereas', 'whereby', 'whereismybag', 'whereisthelove', 'wheresmybag', 'wheresmyrefund', 'wheresthecustomerserviceat', 'wheresthepilot', 'whether', 'whichever', 'whichisworsedenordfw', 'whilst', 'whine', 'whiny', 'whip', 'whiplash', 'whiskey', 'whisper', 'white', 'whitterbug', 'whoa', 'whoever', 'whole', 'wholly', 'whoooo', 'whoot', 'whose', 'whrsthecoach', 'wht', 'whyabcwhy', 'whyairtravelsucks', 'whyareyouyelling', 'whybeaaff', 'whydidntiflysouthwest', 'whyfly', 'whyisusairalwaysdelayed', 'whyjeff', 'whyyounoloveme', 'whyyy', 'wichita', 'wide', 'wiedersehen', 'wife', 'wifes', 'wifey', 'wifi', 'wifiless', 'wifimissed', 'wiggle', 'wigs', 'wiil', 'wikipearl', 'wilco', 'will', 'williams', 'willie', 'willl', 'willmake', 'willneverflywithyou', 'wilmington', 'wilson', 'win', 'winclement', 'wind', 'windchill', 'window', 'windows', 'windy', 'wine', 'wing', 'wink', 'winkwink', 'winner', 'winners', 'winnipeg', 'winston', 'winstonsalem', 'winter', 'winterops', 'winterstorm', 'winterweather', 'winwin', 'wipe', 'wire', 'wireless', 'wise', 'wiser', 'wish', 'wishmyflightwaslonger', 'wit', 'withhold', 'within', 'without', 'witness', 'witty', 'wiyh', 'wjere', 'wk', 'wkids', 'wknd', 'wkrb', 'wks', 'wlcm', 'wld', 'wlil', 'wmass', 'wmcactionnews', 'wmiles', 'wmnlife', 'wmom', 'wmy', 'wn', 'wno', 'wnonworking', 'wnothing', 'wo', 'woase', 'woaw', 'woeful', 'woman', 'women', 'wonder', 'wonderful', 'wonderfully', 'wong', 'wonked', 'wontflyagainwithyou', 'woo', 'woodland', 'woody', 'woof', 'woohoo', 'wopen', 'word', 'work', 'workaround', 'worker', 'workers', 'workforce', 'workforces', 'workhard', 'workin', 'workingfamily', 'workng', 'workout', 'worksnicely', 'world', 'worldhungry', 'worlds', 'worldwide', 'worm', 'worrisome', 'worry', 'worse', 'worst', 'worstairline', 'worstairlineever', 'worstairlineinamerica', 'worstcustomerservice', 'worstcustomerserviceever', 'worstcustservice', 'worstever', 'worstflight', 'worstflightever', 'worstflightexperienceever', 'worstservice', 'worstthingever', 'worsttraveldayever', 'worsttripofmylife', 'worstunitedflightsever', 'worth', 'worthless', 'worthy', 'wother', 'wothers', 'would', 'wouldbe', 'wouldt', 'wound', 'wour', 'wout', 'wow', 'wowjust', 'wowthx', 'wpg', 'wproj', 'wrap', 'wrath', 'wreck', 'wrench', 'wreservations', 'wreso', 'wrestle', 'wretched', 'write', 'writers', 'wrong', 'wronganswer', 'wrongfully', 'wrongiswrong', 'ws', 'wsj', 'wsjplus', 'wsmall', 'wsomeone', 'wsupervisor', 'wtf', 'wtfodds', 'wth', 'wthat', 'wthe', 'wthem', 'wthis', 'wtop', 'wtw', 'wudda', 'wupgrade', 'wut', 'wway', 'wx', 'wylie', 'wyoming', 'wyou', 'xd', 'xdaily', 'xday', 'xfinity', 'xjared', 'xld', 'xm', 'xmas', 'xna', 'xox', 'xoxo', 'xt', 'xtra', 'xw', 'xweekly', 'xx', 'xxvm', 'xxx', 'xzmscw', 'ya', 'yaayy', 'yaffasolin', 'yards', 'yasss', 'yasssss', 'yay', 'yayayay', 'yday', 'yea', 'yeah', 'year', 'yearly', 'yearold', 'yearround', 'years', 'yearslate', 'yeehaw', 'yeg', 'yell', 'yellow', 'yeniettelswood', 'yep', 'yepused', 'yer', 'yes', 'yeseniahernandez', 'yesnot', 'yessir', 'yest', 'yesterday', 'yesterdayrubber', 'yet', 'yhzewr', 'yield', 'yikes', 'yo', 'yoga', 'yogurt', 'york', 'yorkshire', 'youareonyourown', 'youcandobetter', 'youcouldntmakethis', 'youdidit', 'youi', 'youk', 'youknowyouwantto', 'young', 'younger', 'youragentshavenoclue', 'yourairlinesucks', 'youredoingitwrong', 'youretheworst', 'yourlocalnyer', 'yourock', 'yourphonesystemsucks', 'yourstoryhere', 'yous', 'yousuck', 'yout', 'youth', 'yow', 'yponthebeat', 'ypu', 'yr', 'yrold', 'yroldtwins', 'yrs', 'ystday', 'ystrdy', 'yuck', 'yucki', 'yulord', 'yuma', 'yummy', 'yup', 'yvonne', 'yvonneokaka', 'yvr', 'yxe', 'yxu', 'yyc', 'yyj', 'yyz', 'yyzua', 'zabsonre', 'zackscom', 'zakkohane', 'zambia', 'zccu', 'zero', 'zfv', 'zigzag', 'zip', 'zipper', 'zj', 'zkatcher', 'zombie', 'zone', 'zoom', 'zrh', 'zrhairport', 'zukes', 'zurich', 'zurichnew']\n"
     ]
    },
    {
     "data": {
      "text/plain": [
       "(14640, 12052)"
      ]
     },
     "execution_count": 63,
     "metadata": {
      "tags": []
     },
     "output_type": "execute_result"
    }
   ],
   "source": [
    "vectorizer = TfidfVectorizer(max_features=15000, ngram_range=(1, 1))\n",
    "X_features = vectorizer.fit_transform(X['text'])\n",
    "\n",
    "print(vectorizer.get_feature_names())\n",
    "\n",
    "X_features = X_features.toarray()\n",
    "  \n",
    "X_features.shape"
   ]
  },
  {
   "cell_type": "code",
   "execution_count": null,
   "metadata": {
    "colab": {
     "base_uri": "https://localhost:8080/"
    },
    "id": "aCaaWHzTQvv1",
    "outputId": "87ca1e3f-225d-4306-d864-42b8a70af9fc"
   },
   "outputs": [
    {
     "data": {
      "text/plain": [
       "array([[0., 0., 0., 0., 0., 0., 0., 0., 0., 0.],\n",
       "       [0., 0., 0., 0., 0., 0., 0., 0., 0., 0.],\n",
       "       [0., 0., 0., 0., 0., 0., 0., 0., 0., 0.],\n",
       "       [0., 0., 0., 0., 0., 0., 0., 0., 0., 0.],\n",
       "       [0., 0., 0., 0., 0., 0., 0., 0., 0., 0.],\n",
       "       [0., 0., 0., 0., 0., 0., 0., 0., 0., 0.],\n",
       "       [0., 0., 0., 0., 0., 0., 0., 0., 0., 0.],\n",
       "       [0., 0., 0., 0., 0., 0., 0., 0., 0., 0.],\n",
       "       [0., 0., 0., 0., 0., 0., 0., 0., 0., 0.],\n",
       "       [0., 0., 0., 0., 0., 0., 0., 0., 0., 0.]])"
      ]
     },
     "execution_count": 64,
     "metadata": {
      "tags": []
     },
     "output_type": "execute_result"
    }
   ],
   "source": [
    "#  Command was used to look at different rows and column values\n",
    "X_features[20:30,80:90]"
   ]
  },
  {
   "cell_type": "markdown",
   "metadata": {
    "id": "PBVlbgGqPCBk"
   },
   "source": [
    "### 5b. Fit and evaluate models using TfidfVectorizer."
   ]
  },
  {
   "cell_type": "code",
   "execution_count": null,
   "metadata": {
    "id": "aMMQONMiQHKj"
   },
   "outputs": [],
   "source": [
    "algo= []\n",
    "tr = []\n",
    "te = []\n",
    "recall = []\n",
    "precision = []\n",
    "elapsed = []"
   ]
  },
  {
   "cell_type": "markdown",
   "metadata": {
    "id": "tG-euvx3Xn52"
   },
   "source": [
    "### Using Logistic Regression to build model for the classification of reviews."
   ]
  },
  {
   "cell_type": "code",
   "execution_count": null,
   "metadata": {
    "colab": {
     "base_uri": "https://localhost:8080/",
     "height": 687
    },
    "id": "pPDBaSiPVwik",
    "outputId": "8685e80a-ec4c-446b-c6f4-7249c8a3c889"
   },
   "outputs": [
    {
     "name": "stdout",
     "output_type": "stream",
     "text": [
      "Train Score:  0.8783177205308352\n",
      "Test Score:  0.7859744990892532\n",
      "Elapsed Time: 76.71662994899998\n",
      "              precision    recall  f1-score      support\n",
      "negative       0.815995  0.938218  0.872849  2784.000000\n",
      "neutral        0.646199  0.475269  0.547708   930.000000\n",
      "positive       0.785010  0.587021  0.671730   678.000000\n",
      "accuracy       0.785974  0.785974  0.785974     0.785974\n",
      "macro avg      0.749068  0.666836  0.697429  4392.000000\n",
      "weighted avg   0.775258  0.785974  0.772954  4392.000000\n",
      "[[2612  132   40]\n",
      " [ 419  442   69]\n",
      " [ 170  110  398]]\n"
     ]
    },
    {
     "data": {
      "text/plain": [
       "<matplotlib.axes._subplots.AxesSubplot at 0x7f9527b21da0>"
      ]
     },
     "execution_count": 66,
     "metadata": {
      "tags": []
     },
     "output_type": "execute_result"
    },
    {
     "data": {
      "image/png": "[encoded data removed]",
      "text/plain": [
       "<Figure size 720x504 with 2 Axes>"
      ]
     },
     "metadata": {
      "needs_background": "light",
      "tags": []
     },
     "output_type": "display_data"
    }
   ],
   "source": [
    "t = time.process_time()\n",
    "from sklearn.linear_model import LogisticRegression\n",
    "from sklearn.metrics import recall_score, precision_score, roc_auc_score, accuracy_score\n",
    "X_train, X_test, y_train, y_test = train_test_split(X_features, integer_encoded_labels, test_size=0.3, random_state=7)\n",
    "\n",
    "lrc = LogisticRegression(random_state=7, max_iter=1000, solver='saga', n_jobs=4, multi_class='auto')\n",
    "lrc.fit(X_train, np.ravel(y_train,order='C'))\n",
    "\n",
    "print('Train Score: ', lrc.score(X_train, y_train))\n",
    "print('Test Score: ', lrc.score(X_test, y_test)) \n",
    "elapsed_time = time.process_time() - t\n",
    "print('Elapsed Time:', elapsed_time)\n",
    "\n",
    "result_lrc = lrc.predict(X_test)\n",
    "algo = ['Logistic Regression']\n",
    "elapsed = [elapsed_time]\n",
    "tr = [lrc.score(X_train, y_train)]\n",
    "te = [lrc.score(X_test, y_test)]\n",
    "recall = [recall_score(y_test, result_lrc, average='micro')]\n",
    "precision = [precision_score(y_test, result_lrc, average='micro')]\n",
    "\n",
    "# Confusion Matrix, Classification report, \n",
    "from sklearn.metrics import classification_report\n",
    "results_log = classification_report(y_test, result_lrc, target_names=target_names, output_dict=True)\n",
    "results_df_log = pd.DataFrame(results_log).transpose()\n",
    "print(results_df_log)\n",
    "\n",
    "conf_mat = confusion_matrix(y_test, result_lrc)\n",
    "print(conf_mat)\n",
    "\n",
    "df_cm = pd.DataFrame(conf_mat, index = [i for i in target_names],\n",
    "                  columns = [i for i in target_names])\n",
    "plt.figure(figsize = (10,7))\n",
    "sns.heatmap(df_cm, annot=True, fmt='g')"
   ]
  },
  {
   "cell_type": "markdown",
   "metadata": {
    "id": "jW4BfOTNWEX8"
   },
   "source": [
    "### Using Random Forest to build model for the classification of reviews."
   ]
  },
  {
   "cell_type": "code",
   "execution_count": null,
   "metadata": {
    "colab": {
     "base_uri": "https://localhost:8080/",
     "height": 687
    },
    "id": "8gUjqAqXbQ8P",
    "outputId": "f16903b3-ddf3-464f-c3ac-d4214fc90a76"
   },
   "outputs": [
    {
     "name": "stdout",
     "output_type": "stream",
     "text": [
      "Train Score:  0.9966822794691648\n",
      "Test Score:  0.7716302367941712\n",
      "Elapsed Time: 379.84662866599956\n",
      "              precision    recall  f1-score     support\n",
      "negative       0.783593  0.957256  0.861762  2784.00000\n",
      "neutral        0.692586  0.411828  0.516521   930.00000\n",
      "positive       0.778539  0.502950  0.611111   678.00000\n",
      "accuracy       0.771630  0.771630  0.771630     0.77163\n",
      "macro avg      0.751573  0.624011  0.663131  4392.00000\n",
      "weighted avg   0.763542  0.771630  0.749964  4392.00000\n",
      "[[2665   84   35]\n",
      " [ 485  383   62]\n",
      " [ 251   86  341]]\n"
     ]
    },
    {
     "data": {
      "text/plain": [
       "<matplotlib.axes._subplots.AxesSubplot at 0x7f9527184940>"
      ]
     },
     "execution_count": 67,
     "metadata": {
      "tags": []
     },
     "output_type": "execute_result"
    },
    {
     "data": {
      "image/png": "[encoded data removed]",
      "text/plain": [
       "<Figure size 720x504 with 2 Axes>"
      ]
     },
     "metadata": {
      "needs_background": "light",
      "tags": []
     },
     "output_type": "display_data"
    }
   ],
   "source": [
    "t = time.process_time()\n",
    "from sklearn.ensemble import RandomForestClassifier\n",
    "from sklearn.metrics import recall_score, precision_score, roc_auc_score, accuracy_score\n",
    "X_train, X_test, y_train, y_test = train_test_split(X_features, integer_encoded_labels, test_size=0.3, random_state=7)\n",
    "\n",
    "forest = RandomForestClassifier(n_estimators=250, n_jobs=4)\n",
    "forest = forest.fit(X_train, np.ravel(y_train,order='C'))\n",
    "\n",
    "print('Train Score: ', forest.score(X_train, y_train))\n",
    "print('Test Score: ', forest.score(X_test, y_test)) \n",
    "elapsed_time = time.process_time() - t\n",
    "print('Elapsed Time:', elapsed_time)\n",
    "\n",
    "result_forest = forest.predict(X_test)\n",
    "algo.append('RandomForest')\n",
    "elapsed.append(elapsed_time)\n",
    "tr.append(forest.score(X_train, y_train))\n",
    "te.append(forest.score(X_test, y_test))\n",
    "recall.append(recall_score(y_test, result_forest, average='micro'))\n",
    "precision.append(precision_score(y_test, result_forest, average='micro'))\n",
    "\n",
    "# Print and plot Confusion matirx to get an idea of how the distribution of the prediction is, among all the classes.\n",
    "results_log = classification_report(y_test, result_forest, target_names=target_names, output_dict=True)\n",
    "results_df_log = pd.DataFrame(results_log).transpose()\n",
    "print(results_df_log)\n",
    "\n",
    "# Confusion Matrix\n",
    "conf_mat_forest = confusion_matrix(y_test, result_forest)\n",
    "print(conf_mat_forest)\n",
    "\n",
    "df_cm = pd.DataFrame(conf_mat_forest, index = [i for i in target_names],\n",
    "                  columns = [i for i in target_names])\n",
    "plt.figure(figsize = (10,7)) \n",
    "sns.heatmap(df_cm, annot=True, fmt='g')"
   ]
  },
  {
   "cell_type": "markdown",
   "metadata": {
    "id": "iO99EJTzWUTK"
   },
   "source": [
    "### Using AdaBoost to build model for the classification of reviews.\n"
   ]
  },
  {
   "cell_type": "code",
   "execution_count": null,
   "metadata": {
    "colab": {
     "base_uri": "https://localhost:8080/",
     "height": 687
    },
    "id": "Q7t5eQ_wd-jU",
    "outputId": "b806f068-0d18-4e31-e33f-f2952972a94e"
   },
   "outputs": [
    {
     "name": "stdout",
     "output_type": "stream",
     "text": [
      "Train Score:  0.8250390320062451\n",
      "Test Score:  0.7509107468123861\n",
      "Elapsed Time: 1983.0546993819999\n",
      "              precision    recall  f1-score      support\n",
      "negative       0.793407  0.907687  0.846708  2784.000000\n",
      "neutral        0.577381  0.417204  0.484395   930.000000\n",
      "positive       0.715888  0.564897  0.631492   678.000000\n",
      "accuracy       0.750911  0.750911  0.750911     0.750911\n",
      "macro avg      0.695558  0.629929  0.654198  4392.000000\n",
      "weighted avg   0.735697  0.750911  0.736765  4392.000000\n",
      "[[2527  184   73]\n",
      " [ 463  388   79]\n",
      " [ 195  100  383]]\n"
     ]
    },
    {
     "data": {
      "text/plain": [
       "<matplotlib.axes._subplots.AxesSubplot at 0x7f9526f47128>"
      ]
     },
     "execution_count": 68,
     "metadata": {
      "tags": []
     },
     "output_type": "execute_result"
    },
    {
     "data": {
      "image/png": "[encoded data removed]",
      "text/plain": [
       "<Figure size 720x504 with 2 Axes>"
      ]
     },
     "metadata": {
      "needs_background": "light",
      "tags": []
     },
     "output_type": "display_data"
    }
   ],
   "source": [
    "t = time.process_time()\n",
    "X_train, X_test, y_train, y_test = train_test_split(X_features, integer_encoded_labels, test_size=0.3, random_state=7)\n",
    "\n",
    "abc = AdaBoostClassifier(DecisionTreeClassifier(max_depth=3), random_state=7, n_estimators= 250, learning_rate=0.1)\n",
    "abc.fit(X_train, np.ravel(y_train,order='C'))\n",
    "\n",
    "print('Train Score: ', abc.score(X_train, y_train))\n",
    "print('Test Score: ', abc.score(X_test, y_test))\n",
    "elapsed_time = time.process_time() - t\n",
    "print('Elapsed Time:', elapsed_time)\n",
    "\n",
    "result_abc = abc.predict(X_test)\n",
    "algo.append('AdaBoost')\n",
    "elapsed.append(elapsed_time)\n",
    "tr.append(abc.score(X_train, y_train))\n",
    "te.append(abc.score(X_test, y_test))\n",
    "recall.append(recall_score(y_test,result_abc, average='micro'))\n",
    "precision.append(precision_score(y_test, result_abc, average='micro'))\n",
    "\n",
    "# Confusion Matrix, Classification report, \n",
    "results_log = classification_report(y_test, result_abc, target_names=target_names, output_dict=True)\n",
    "results_df_log = pd.DataFrame(results_log).transpose()\n",
    "print(results_df_log)\n",
    "\n",
    "conf_mat_abc = confusion_matrix(y_test, result_abc)\n",
    "print(conf_mat_abc)\n",
    "\n",
    "df_cm = pd.DataFrame(conf_mat_abc, index = [i for i in target_names],\n",
    "                  columns = [i for i in target_names])\n",
    "plt.figure(figsize = (10,7))\n",
    "sns.heatmap(df_cm, annot=True, fmt='g')"
   ]
  },
  {
   "cell_type": "markdown",
   "metadata": {
    "id": "ZBx1Ym3EWcVL"
   },
   "source": [
    "### Using Gradient Boosting to build model for the classification of reviews."
   ]
  },
  {
   "cell_type": "code",
   "execution_count": null,
   "metadata": {
    "colab": {
     "base_uri": "https://localhost:8080/",
     "height": 687
    },
    "id": "pwSTa376hiRJ",
    "outputId": "32dcab70-2145-46b5-f5c4-940f4ca8cb0b"
   },
   "outputs": [
    {
     "name": "stdout",
     "output_type": "stream",
     "text": [
      "Train Score:  0.8703161592505855\n",
      "Test Score:  0.7725409836065574\n",
      "Elapsed Time: 8466.150434571\n",
      "              precision    recall  f1-score      support\n",
      "negative       0.799569  0.932830  0.861074  2784.000000\n",
      "neutral        0.658662  0.412903  0.507601   930.000000\n",
      "positive       0.734403  0.607670  0.665052   678.000000\n",
      "accuracy       0.772541  0.772541  0.772541     0.772541\n",
      "macro avg      0.730878  0.651134  0.677909  4392.000000\n",
      "weighted avg   0.759672  0.772541  0.755967  4392.000000\n",
      "[[2597  114   73]\n",
      " [ 470  384   76]\n",
      " [ 181   85  412]]\n"
     ]
    },
    {
     "data": {
      "text/plain": [
       "<matplotlib.axes._subplots.AxesSubplot at 0x7f9526e12668>"
      ]
     },
     "execution_count": 69,
     "metadata": {
      "tags": []
     },
     "output_type": "execute_result"
    },
    {
     "data": {
      "image/png": "[encoded data removed]",
      "text/plain": [
       "<Figure size 720x504 with 2 Axes>"
      ]
     },
     "metadata": {
      "needs_background": "light",
      "tags": []
     },
     "output_type": "display_data"
    }
   ],
   "source": [
    "t = time.process_time()\n",
    "X_train, X_test, y_train, y_test = train_test_split(X_features, integer_encoded_labels, test_size=0.3, random_state=7)\n",
    "\n",
    "gbc = GradientBoostingClassifier(random_state=7, n_estimators=250, max_depth=5, min_samples_leaf=3)\n",
    "gbc.fit(X_train, np.ravel(y_train,order='C'))\n",
    "\n",
    "print('Train Score: ', gbc.score(X_train, y_train))\n",
    "print('Test Score: ', gbc.score(X_test, y_test))\n",
    "elapsed_time = time.process_time() - t\n",
    "print('Elapsed Time:', elapsed_time)\n",
    "\n",
    "result_gbc = gbc.predict(X_test)\n",
    "algo.append('Gradient Boosting')\n",
    "elapsed.append(elapsed_time)\n",
    "tr.append(gbc.score(X_train, y_train))\n",
    "te.append(gbc.score(X_test, y_test))\n",
    "recall.append(recall_score(y_test, result_gbc, average='micro'))\n",
    "precision.append(precision_score(y_test, result_gbc, average='micro'))\n",
    "\n",
    "# Confusion Matrix\n",
    "results_log = classification_report(y_test, result_gbc, target_names=target_names, output_dict=True)\n",
    "results_df_log = pd.DataFrame(results_log).transpose()\n",
    "print(results_df_log)\n",
    "\n",
    "conf_mat_gbc = confusion_matrix(y_test, result_gbc)\n",
    "print(conf_mat_gbc)\n",
    "\n",
    "df_cm = pd.DataFrame(conf_mat_gbc, index = [i for i in target_names],\n",
    "                  columns = [i for i in target_names])\n",
    "plt.figure(figsize = (10,7))\n",
    "sns.heatmap(df_cm, annot=True, fmt='g')"
   ]
  },
  {
   "cell_type": "markdown",
   "metadata": {
    "id": "xBqyAoXSmkD5"
   },
   "source": [
    "### 6. Summarize your understanding of the application of Various Pre-processing and Vectorization and performance of your model on this dataset."
   ]
  },
  {
   "cell_type": "code",
   "execution_count": null,
   "metadata": {
    "colab": {
     "base_uri": "https://localhost:8080/"
    },
    "id": "33OEKWJBm4Hg",
    "outputId": "5581d8b2-6c1e-47ac-ac0b-7c38a41328c8"
   },
   "outputs": [
    {
     "name": "stdout",
     "output_type": "stream",
     "text": [
      "\n",
      " CountVectorizer Comparsion Classification Results \n",
      "\n",
      "                     TrainScore  TestScore    Recall  Precision  ElapsedTime\n",
      "Model                                                                       \n",
      "Logistic Regression    0.935402   0.787568  0.787568   0.787568   299.762083\n",
      "RandomForest           0.996682   0.778005  0.778005   0.778005   118.232659\n",
      "AdaBoost               0.818794   0.751138  0.751138   0.751138  1598.508077\n",
      "Gradient Boosting      0.847678   0.769126  0.769126   0.769126  5322.985972\n"
     ]
    }
   ],
   "source": [
    "# DataFrame to compare results for CountVectorizer.\n",
    "print('\\n CountVectorizer Comparsion Classification Results \\n')\n",
    "print(results_vec)"
   ]
  },
  {
   "cell_type": "code",
   "execution_count": null,
   "metadata": {
    "colab": {
     "base_uri": "https://localhost:8080/"
    },
    "id": "qCf-jF8om2Pq",
    "outputId": "ff58a539-8bf6-4d57-efea-392da0fd6573"
   },
   "outputs": [
    {
     "name": "stdout",
     "output_type": "stream",
     "text": [
      "\n",
      " TfidfVectorizer Comparsion Classification Results \n",
      "\n",
      "                     TrainScore  TestScore    Recall  Precision  ElapsedTime\n",
      "Model                                                                       \n",
      "Logistic Regression    0.878318   0.785974  0.785974   0.785974    76.716630\n",
      "RandomForest           0.996682   0.771630  0.771630   0.771630   379.846629\n",
      "AdaBoost               0.825039   0.750911  0.750911   0.750911  1983.054699\n",
      "Gradient Boosting      0.870316   0.772541  0.772541   0.772541  8466.150435\n"
     ]
    }
   ],
   "source": [
    "# DataFrame to compare results for TfidfVectorizer.\n",
    "print('\\n TfidfVectorizer Comparsion Classification Results \\n')\n",
    "results_Tfid = pd.DataFrame()\n",
    "results_Tfid['Model'] = algo\n",
    "results_Tfid['TrainScore'] = tr\n",
    "results_Tfid['TestScore'] = te\n",
    "results_Tfid['Recall'] = recall\n",
    "results_Tfid['Precision'] = precision\n",
    "results_Tfid['ElapsedTime'] = elapsed\n",
    "results_Tfid = results_Tfid.set_index('Model')\n",
    "print(results_Tfid)"
   ]
  },
  {
   "cell_type": "markdown",
   "metadata": {
    "id": "pFLfM_juOAHh"
   },
   "source": [
    "\n",
    "I used the tweeter.cvs dataset and numeric sentiment score on the scale of 1 to 3 (3: positive, 2: neutral, and 1: negative).\n",
    "\n",
    "The goal was to build a model for text-classification using four different methods: Logistic Regression, RandomForest, AdaBoost, and Gradient Boosting. \n",
    "\n",
    "I pre-processed the data using variuos techniques and libraries. The pre-processed data is converted to numbers, so that we can feed the data in the model.  From a review of the feature names, underscores were detected and were then removed.  \n",
    "\n",
    "After building the classification model, predicted result for the test data.\n",
    "\n",
    "Note that the full set of features names (12,052) were used.\n",
    "\n",
    "Best results were obtained with Logistic Regression with a test score of .788251.  Logistic Regression also had the lowest elapsed time of 2.61558. Logistic Regress is a good choice since the Y variable has only three possibilities (positive, neutral, and negative). \n",
    "\n",
    "It appears that the Random Forest suffers from overfitting with a training score of .996682.  Minimum tuning was perperformed, therefore it is reasonable to expect that better performance is possible.\n",
    "\n",
    "The two above results tables clearly present the comparative results from the eight combinations of models and vectorizers.\n",
    "\n",
    "While slightly different results were obtained from CountVectorizer and TfidfVectorizer, I was expecting something more significant. \n",
    "\n",
    "Warren Camp\n",
    "\n",
    "\n",
    "\n",
    "\n"
   ]
  }
 ],
 "metadata": {
  "colab": {
   "collapsed_sections": [],
   "name": "Project_Twitter_US_Airline_Sentiment_v7_Warren_Camp.ipynb",
   "provenance": []
  },
  "kernelspec": {
   "display_name": "twilio",
   "language": "python",
   "name": "twilio"
  },
  "language_info": {
   "codemirror_mode": {
    "name": "ipython",
    "version": 3
   },
   "file_extension": ".py",
   "mimetype": "text/x-python",
   "name": "python",
   "nbconvert_exporter": "python",
   "pygments_lexer": "ipython3",
   "version": "3.6.12"
  }
 },
 "nbformat": 4,
 "nbformat_minor": 1
}
